{
 "cells": [
  {
   "cell_type": "code",
   "execution_count": 25,
   "source": [
    "input_vector = [1.72, 1.23]\r\n",
    "weights_1 = [1.26, 0]\r\n",
    "weights_2 = [2.17, 0.32]\r\n",
    "\r\n",
    "first_indexes_mult = input_vector[0] * weights_1[0]\r\n",
    "second_indexes_mult = input_vector[1] * weights_1[1]\r\n",
    "dot_product_1 = first_indexes_mult + second_indexes_mult\r\n",
    "\r\n",
    "print(f'The dot product is: {dot_product_1}')"
   ],
   "outputs": [
    {
     "output_type": "stream",
     "name": "stdout",
     "text": [
      "The dot product is: 2.1672\n"
     ]
    }
   ],
   "metadata": {}
  },
  {
   "cell_type": "code",
   "execution_count": 26,
   "source": [
    "import numpy as np"
   ],
   "outputs": [],
   "metadata": {}
  },
  {
   "cell_type": "code",
   "execution_count": 27,
   "source": [
    "dot_product_1 = np.dot(input_vector, weights_1)\r\n",
    "\r\n",
    "print(f'The dot product is: {dot_product_1}')"
   ],
   "outputs": [
    {
     "output_type": "stream",
     "name": "stdout",
     "text": [
      "The dot product is: 2.1672\n"
     ]
    }
   ],
   "metadata": {}
  },
  {
   "cell_type": "code",
   "execution_count": 28,
   "source": [
    "dot_product_2 = np.dot(input_vector, weights_2)\r\n",
    "\r\n",
    "print(f'The dot product is: {dot_product_2}')"
   ],
   "outputs": [
    {
     "output_type": "stream",
     "name": "stdout",
     "text": [
      "The dot product is: 4.1259999999999994\n"
     ]
    }
   ],
   "metadata": {}
  },
  {
   "cell_type": "code",
   "execution_count": 29,
   "source": [
    "input_vector = np.array([1.66, 1.56])\r\n",
    "weights_1 = np.array([1.45, -0.66])\r\n",
    "bias = np.array([0.0])\r\n",
    "\r\n",
    "def sigmoid(x):\r\n",
    "    return 1 / (1 + np.exp(-x))\r\n",
    "\r\n",
    "def make_prediction(input_vector, weights, bias):\r\n",
    "    layer_1 = np.dot(input_vector, weights) + bias\r\n",
    "    layer_2 = sigmoid(layer_1)\r\n",
    "    return layer_2\r\n",
    "\r\n",
    "prediction = make_prediction(input_vector, weights_1, bias)\r\n",
    "\r\n",
    "print(f'The prediction result is: {prediction}')"
   ],
   "outputs": [
    {
     "output_type": "stream",
     "name": "stdout",
     "text": [
      "The prediction result is: [0.7985731]\n"
     ]
    }
   ],
   "metadata": {}
  },
  {
   "cell_type": "code",
   "execution_count": 30,
   "source": [
    "input_vector = np.array([2, 1.5])\r\n",
    "\r\n",
    "prediction = make_prediction(input_vector, weights_1, bias)\r\n",
    "\r\n",
    "print(f'The prediction result is: {prediction}')"
   ],
   "outputs": [
    {
     "output_type": "stream",
     "name": "stdout",
     "text": [
      "The prediction result is: [0.87101915]\n"
     ]
    }
   ],
   "metadata": {}
  },
  {
   "cell_type": "code",
   "execution_count": 31,
   "source": [
    "target = 0\r\n",
    "\r\n",
    "mse = np.square(prediction - target)\r\n",
    "\r\n",
    "print(f'Prediction: {prediction}; Error: {mse}')"
   ],
   "outputs": [
    {
     "output_type": "stream",
     "name": "stdout",
     "text": [
      "Prediction: [0.87101915]; Error: [0.75867436]\n"
     ]
    }
   ],
   "metadata": {}
  },
  {
   "cell_type": "code",
   "execution_count": 32,
   "source": [
    "derivative = 2 * (prediction - target)\r\n",
    "\r\n",
    "print(f'The derivative is: {derivative}')"
   ],
   "outputs": [
    {
     "output_type": "stream",
     "name": "stdout",
     "text": [
      "The derivative is: [1.7420383]\n"
     ]
    }
   ],
   "metadata": {}
  },
  {
   "cell_type": "code",
   "execution_count": 33,
   "source": [
    "weights_1 = weights_1 - derivative\r\n",
    "\r\n",
    "prediction = make_prediction(input_vector, weights_1, bias)\r\n",
    "\r\n",
    "error = np.square(prediction - target)\r\n",
    "\r\n",
    "print(f'Prediction: {prediction}; Error: {error}')"
   ],
   "outputs": [
    {
     "output_type": "stream",
     "name": "stdout",
     "text": [
      "Prediction: [0.01496248]; Error: [0.00022388]\n"
     ]
    }
   ],
   "metadata": {}
  },
  {
   "cell_type": "code",
   "execution_count": 34,
   "source": [
    "input_vector = np.array([1.66, 1.56])\r\n",
    "\r\n",
    "prediction = make_prediction(input_vector, weights_1, bias)\r\n",
    "\r\n",
    "error = np.square(prediction - target)\r\n",
    "\r\n",
    "print(f'Prediction: {prediction}; Error: {error}')"
   ],
   "outputs": [
    {
     "output_type": "stream",
     "name": "stdout",
     "text": [
      "Prediction: [0.01431593]; Error: [0.00020495]\n"
     ]
    }
   ],
   "metadata": {}
  },
  {
   "cell_type": "code",
   "execution_count": 40,
   "source": [
    "class NeuralNetwork:\r\n",
    "    def __init__(self, learning_rate):\r\n",
    "        self.weights = np.array([np.random.randn(), np.random.randn()])\r\n",
    "        self.bias = np.random.randn()\r\n",
    "        self.learning_rate = learning_rate\r\n",
    "\r\n",
    "    def _sigmoid(self, x):\r\n",
    "        return 1 / (1 + np.exp(-x))\r\n",
    "\r\n",
    "    def _sigmoid_deriv(self, x):\r\n",
    "        return self._sigmoid(x) * (1 - self._sigmoid(x))\r\n",
    "\r\n",
    "    def predict(self, input_vector):\r\n",
    "        layer_1 = np.dot(input_vector, self.weights) + self.bias\r\n",
    "        layer_2 = self._sigmoid(layer_1)\r\n",
    "        prediction = layer_2\r\n",
    "        return prediction\r\n",
    "\r\n",
    "    def _compute_gradients(self, input_vector, target):\r\n",
    "        layer_1 = np.dot(input_vector, self.weights) + self.bias\r\n",
    "        layer_2 = self._sigmoid(layer_1)\r\n",
    "        prediction = layer_2\r\n",
    "\r\n",
    "        derror_dprediction = 2 * (prediction - target)\r\n",
    "        dprediction_dlayer1 = self._sigmoid_deriv(layer_1)\r\n",
    "        dlayer1_dbias = 1\r\n",
    "        dlayer1_dweights = (0 * self.weights) + (1 * input_vector)\r\n",
    "\r\n",
    "        derror_dbias = (\r\n",
    "            derror_dprediction * dprediction_dlayer1 * dlayer1_dbias\r\n",
    "        )\r\n",
    "        derror_dweights = (\r\n",
    "            derror_dprediction * dprediction_dlayer1 * dlayer1_dweights\r\n",
    "        )\r\n",
    "\r\n",
    "        return derror_dbias, derror_dweights\r\n",
    "\r\n",
    "    def _update_parameters(self, derror_dbias, derror_dweights):\r\n",
    "        self.bias = self.bias - (derror_dbias * self.learning_rate)\r\n",
    "        self.weights = self.weights - (\r\n",
    "            derror_dweights * self.learning_rate\r\n",
    "        )\r\n",
    "\r\n",
    "    def train(self, input_vectors, targets, iterations):\r\n",
    "        cumulative_errors = []\r\n",
    "        for current_iteration in range(iterations):\r\n",
    "            random_data_index = np.random.randint(len(input_vectors))\r\n",
    "\r\n",
    "            input_vector = input_vectors[random_data_index]\r\n",
    "            target = targets[random_data_index]\r\n",
    "\r\n",
    "            derror_dbias, derror_dweights = self._compute_gradients(input_vector, target)\r\n",
    "\r\n",
    "            self._update_parameters(derror_dbias, derror_dweights)\r\n",
    "\r\n",
    "            if current_iteration % 100 == 0:\r\n",
    "                cumulative_error = 0\r\n",
    "                for data_instance_index in range(len(input_vectors)):\r\n",
    "                    data_point = input_vectors[data_instance_index]\r\n",
    "                    target = targets[data_instance_index]\r\n",
    "\r\n",
    "                    prediction = self.predict(data_point)\r\n",
    "                    error = np.square(prediction - target)\r\n",
    "\r\n",
    "                    cumulative_error = cumulative_error + error\r\n",
    "                cumulative_errors.append(cumulative_error)\r\n",
    "\r\n",
    "        return cumulative_errors"
   ],
   "outputs": [],
   "metadata": {}
  },
  {
   "cell_type": "code",
   "execution_count": 36,
   "source": [
    "input_vector = np.array([2, 1.5])\r\n",
    "learning_rate = 0.1\r\n",
    "\r\n",
    "neural_network = NeuralNetwork(learning_rate)\r\n",
    "\r\n",
    "neural_network.predict(input_vector)"
   ],
   "outputs": [
    {
     "output_type": "execute_result",
     "data": {
      "text/plain": [
       "0.47074512292204085"
      ]
     },
     "metadata": {},
     "execution_count": 36
    }
   ],
   "metadata": {}
  },
  {
   "cell_type": "code",
   "execution_count": 59,
   "source": [
    "import matplotlib.pyplot as plt\r\n",
    "\r\n",
    "input_vectors = np.array([[3, 1.5], [2, 1], [4, 1.5], [3, 4], [3.5, 0.5], [2, 0.5], [5.5, 1], [1, 1]])\r\n",
    "\r\n",
    "targets = np.array([0, 1, 0, 1, 0, 1, 1, 0])\r\n",
    "\r\n",
    "learning_rate = 0.1\r\n",
    "\r\n",
    "neural_network = NeuralNetwork(learning_rate)\r\n",
    "\r\n",
    "training_error = neural_network.train(input_vectors, targets, 10000)"
   ],
   "outputs": [],
   "metadata": {}
  },
  {
   "cell_type": "code",
   "execution_count": 60,
   "source": [
    "plt.plot(training_error)\r\n",
    "plt.xlabel('Iterations')\r\n",
    "plt.ylabel('Error for all training instances')"
   ],
   "outputs": [
    {
     "output_type": "execute_result",
     "data": {
      "text/plain": [
       "Text(0, 0.5, 'Error for all training instances')"
      ]
     },
     "metadata": {},
     "execution_count": 60
    },
    {
     "output_type": "display_data",
     "data": {
      "image/png": "[encoded data removed]",
      "text/plain": [
       "<Figure size 432x288 with 1 Axes>"
      ]
     },
     "metadata": {
      "needs_background": "light"
     }
    }
   ],
   "metadata": {}
  }
 ],
 "metadata": {
  "orig_nbformat": 4,
  "language_info": {
   "name": "python",
   "version": "3.9.7",
   "mimetype": "text/x-python",
   "codemirror_mode": {
    "name": "ipython",
    "version": 3
   },
   "pygments_lexer": "ipython3",
   "nbconvert_exporter": "python",
   "file_extension": ".py"
  },
  "kernelspec": {
   "name": "python3",
   "display_name": "Python 3.9.7 64-bit ('venv': venv)"
  },
  "interpreter": {
   "hash": "b0b20aa7db23860bed6802261fa8c5534a8ae464f98bc37d81586fecf4162733"
  }
 },
 "nbformat": 4,
 "nbformat_minor": 2
}