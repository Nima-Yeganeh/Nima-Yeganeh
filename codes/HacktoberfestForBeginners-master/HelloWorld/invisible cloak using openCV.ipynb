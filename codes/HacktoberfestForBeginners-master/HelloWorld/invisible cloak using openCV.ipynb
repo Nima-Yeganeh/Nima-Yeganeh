{
 "cells": [
  {
   "cell_type": "markdown",
   "metadata": {},
   "source": [
    "\n",
    "#                                                 Introduction to cv2\n"
   ]
  },
  {
   "cell_type": "markdown",
   "metadata": {},
   "source": [
    "# import libraries"
   ]
  },
  {
   "cell_type": "markdown",
   "metadata": {},
   "source": [
    "copy these statements to below cell :-\n",
    "#################################\n",
    "import cv2\n",
    "import numpy as np\n",
    "import matplotlib.pyplot as plt\n",
    "#################################"
   ]
  },
  {
   "cell_type": "code",
   "execution_count": 2,
   "metadata": {},
   "outputs": [],
   "source": [
    "####  paste here  #######\n"
   ]
  },
  {
   "cell_type": "markdown",
   "metadata": {},
   "source": [
    "# how to create list\n"
   ]
  },
  {
   "cell_type": "raw",
   "metadata": {},
   "source": [
    "############ list ###############\n",
    "list is a dynamic array\n",
    "syntax :\n",
    "mylist = [] # empty list, we can add any element in this list\n",
    "\n",
    "\n",
    "\n",
    "copy these statements to below cell :-\n",
    "#################################\n",
    "mylist = [0,1,2,3,4,5,6,7,8,9]\n",
    "mylist\n",
    "#################################"
   ]
  },
  {
   "cell_type": "code",
   "execution_count": 4,
   "metadata": {},
   "outputs": [],
   "source": [
    "# paste here   ###########\n"
   ]
  },
  {
   "cell_type": "markdown",
   "metadata": {},
   "source": [
    "# how to create arrray in python"
   ]
  },
  {
   "cell_type": "raw",
   "metadata": {},
   "source": [
    "######### numpy array  ##########\n",
    "array provide numpy library\n",
    "\n",
    "syntax :- \n",
    "myArray = np.array([insert element here])\n",
    "\n",
    "#################################\n",
    "myArray = np.array(mylist)\n",
    "myArray\n",
    "#################################"
   ]
  },
  {
   "cell_type": "code",
   "execution_count": 5,
   "metadata": {},
   "outputs": [],
   "source": [
    "####### paste here #######\n",
    "#converting list into array\n"
   ]
  },
  {
   "cell_type": "raw",
   "metadata": {},
   "source": [
    "copy :-\n",
    "############################\n",
    "myArray.shape\n",
    "###########################"
   ]
  },
  {
   "cell_type": "code",
   "execution_count": 7,
   "metadata": {},
   "outputs": [],
   "source": [
    "#array_shape\n"
   ]
  },
  {
   "cell_type": "raw",
   "metadata": {},
   "source": []
  },
  {
   "cell_type": "raw",
   "metadata": {},
   "source": [
    "###########################\n",
    "myArray = myArray.reshape(myArray.shape[0],1)\n",
    "myArray.shape\n",
    "myArray\n",
    "##############################"
   ]
  },
  {
   "cell_type": "code",
   "execution_count": 8,
   "metadata": {},
   "outputs": [],
   "source": [
    "#array_reshape\n"
   ]
  },
  {
   "cell_type": "raw",
   "metadata": {},
   "source": [
    "#creating array of 0 of 5X5 dimension \n",
    "##############################\n",
    "zeros = np.zeros(shape = (5,5))\n",
    "zeros\n",
    "#############################"
   ]
  },
  {
   "cell_type": "code",
   "execution_count": 9,
   "metadata": {},
   "outputs": [],
   "source": [
    "### creating array of zeros\n"
   ]
  },
  {
   "cell_type": "raw",
   "metadata": {},
   "source": [
    "#creating array of 1 of 5X5 dimension\n",
    "##############################\n",
    "ones = np.ones(shape = (3,7))\n",
    "ones\n",
    "##############################"
   ]
  },
  {
   "cell_type": "code",
   "execution_count": 10,
   "metadata": {},
   "outputs": [],
   "source": [
    "######### paste here ###############\n"
   ]
  },
  {
   "cell_type": "raw",
   "metadata": {},
   "source": [
    "#creating array of 5X5 of random numbers\n",
    "#######################################\n",
    "np.random.seed(10)\n",
    "ranNo = np.random.randint(0,100,(5,5))\n",
    "ranNo\n",
    "#######################################"
   ]
  },
  {
   "cell_type": "code",
   "execution_count": 11,
   "metadata": {},
   "outputs": [],
   "source": [
    "############# paste here #############\n"
   ]
  },
  {
   "cell_type": "raw",
   "metadata": {},
   "source": [
    "how to read images from memory\n",
    "###############################\n",
    "doraemon = cv2.imread('doraemon.jpg')#   b g r\n",
    "\n",
    "#######################################"
   ]
  },
  {
   "cell_type": "code",
   "execution_count": 12,
   "metadata": {},
   "outputs": [],
   "source": [
    "######## paste here ################\n",
    "\n"
   ]
  },
  {
   "cell_type": "raw",
   "metadata": {},
   "source": [
    "how to convert image color from bgr to rgb\n",
    "##############################################\n",
    "doraemon = cv2.cvtColor(doraemon, cv2.COLOR_BGR2RGB)    # b g r -> r g b\n",
    "################################################"
   ]
  },
  {
   "cell_type": "code",
   "execution_count": 14,
   "metadata": {},
   "outputs": [],
   "source": [
    "######### paste here ################\n",
    "\n"
   ]
  },
  {
   "cell_type": "raw",
   "metadata": {},
   "source": [
    "how to show image in matplotlib\n",
    "\n",
    "############################\n",
    "plt.imshow(doraemon)\n",
    "############################"
   ]
  },
  {
   "cell_type": "code",
   "execution_count": 15,
   "metadata": {},
   "outputs": [],
   "source": [
    "########### paste here ############\n",
    "\n"
   ]
  },
  {
   "cell_type": "code",
   "execution_count": null,
   "metadata": {},
   "outputs": [],
   "source": [
    "how to show image using openCV\n",
    "\n",
    "##################################\n",
    "cv2.imshow('doraemon', doraemon)\n",
    "##################################"
   ]
  },
  {
   "cell_type": "code",
   "execution_count": null,
   "metadata": {},
   "outputs": [],
   "source": [
    "####### paste in place of None ####################\n",
    "while True:\n",
    "    None\n",
    "    if cv2.waitKey(1) & 0xFF == 27:\n",
    "        break\n",
    "cv2.destroyAllWindows()"
   ]
  },
  {
   "cell_type": "code",
   "execution_count": null,
   "metadata": {},
   "outputs": [],
   "source": [
    "print(doraemon)      # b g r"
   ]
  },
  {
   "cell_type": "code",
   "execution_count": 18,
   "metadata": {},
   "outputs": [],
   "source": [
    "####### print the of the doraemon ############\n"
   ]
  },
  {
   "cell_type": "raw",
   "metadata": {},
   "source": [
    "how to resize image\n",
    "\n",
    "############################\n",
    "new_dora = cv2.resize(doraemon, (512,512))\n",
    "############################"
   ]
  },
  {
   "cell_type": "code",
   "execution_count": 19,
   "metadata": {},
   "outputs": [],
   "source": [
    "## resize image #####\n",
    "\n",
    "## show image using matplotlib\n"
   ]
  },
  {
   "cell_type": "code",
   "execution_count": 60,
   "metadata": {},
   "outputs": [],
   "source": [
    "## show image using cv2\n",
    "while True:\n",
    "    None\n",
    "    if cv2.waitKey(1) & 0xFF == 27:\n",
    "        break\n",
    "cv2.destroyAllWindows()"
   ]
  },
  {
   "cell_type": "raw",
   "metadata": {},
   "source": [
    "##### fllip left to right\n",
    "###################\n",
    "flip_1 = cv2.flip(new_dora, 1)\n",
    "########################\n",
    "\n",
    "#flip up to down\n",
    "##################################\n",
    "flip_2 = cv2.flip(new_dora, -1)\n",
    "###########################"
   ]
  },
  {
   "cell_type": "code",
   "execution_count": null,
   "metadata": {},
   "outputs": [],
   "source": [
    "## flip images\n",
    "\n",
    "## show images\n"
   ]
  },
  {
   "cell_type": "raw",
   "metadata": {},
   "source": [
    "#converting into gray color\n",
    "#################################\n",
    "grey = cv2.cvtColor(new_dora, cv2.COLOR_BGR2GRAY)\n",
    "#################################\n",
    "\n",
    "how to show gray scale image\n",
    "#############################\n",
    "plt.imshow(grey,cmap='gray')   #heat map convert into gray\n",
    "#############################"
   ]
  },
  {
   "cell_type": "code",
   "execution_count": 20,
   "metadata": {},
   "outputs": [],
   "source": [
    "# gray scale image\n",
    "\n",
    "\n",
    "# show gray scale image\n",
    "\n",
    "\n",
    "# show shape of the gray scale image\n"
   ]
  },
  {
   "cell_type": "raw",
   "metadata": {},
   "source": [
    "how to draw rectangle on the image\n",
    "\n",
    "######################\n",
    "rect = cv2.rectangle(new_dora, pt1 = (120,20), pt2 = (410,410),color = (255,0,255), thickness = 10)\n",
    "#####################"
   ]
  },
  {
   "cell_type": "code",
   "execution_count": null,
   "metadata": {},
   "outputs": [],
   "source": [
    "# draw rectangle on image and show image\n",
    "\n"
   ]
  },
  {
   "cell_type": "raw",
   "metadata": {},
   "source": [
    "how to draw circle on image\n",
    "\n",
    "######################################\n",
    "circle = cv2.circle(new_dora, center=(250,200), radius = 200 ,color = (255,0,0), thickness = 10)\n",
    "######################################"
   ]
  },
  {
   "cell_type": "code",
   "execution_count": 21,
   "metadata": {},
   "outputs": [],
   "source": [
    "# draw circle on image and show image\n",
    "\n"
   ]
  },
  {
   "cell_type": "raw",
   "metadata": {},
   "source": [
    "how to draw line on an image\n",
    "\n",
    "###########################\n",
    "line = cv2.line(new_dora, pt1=(100,100), pt2 = (500,500), color = (0,0,255), thickness = 10)\n",
    "###########################"
   ]
  },
  {
   "cell_type": "code",
   "execution_count": 22,
   "metadata": {},
   "outputs": [],
   "source": [
    "# draw line on image and show image\n",
    "\n"
   ]
  },
  {
   "cell_type": "code",
   "execution_count": null,
   "metadata": {},
   "outputs": [],
   "source": []
  },
  {
   "cell_type": "code",
   "execution_count": 23,
   "metadata": {},
   "outputs": [],
   "source": []
  },
  {
   "cell_type": "code",
   "execution_count": 24,
   "metadata": {},
   "outputs": [],
   "source": [
    "new_dora = cv2.resize(doraemon, (512,512))\n",
    "\n",
    "#drawing rectangle using mouse\n",
    "xi = -1\n",
    "yi = -1\n",
    "\n",
    "def draw_rectangle(event, x, y, flags, params):\n",
    "    global drawing, xi, yi\n",
    "    \n",
    "    if event == cv2.EVENT_LBUTTONDOWN:\n",
    "        xi, yi = x, y\n",
    "\n",
    "    elif event == cv2.EVENT_LBUTTONUP:\n",
    "        cv2.rectangle(new_dora, (xi, yi), (x, y), (0,0,255), 10)\n",
    "        \n",
    "cv2.namedWindow(winname = 'My_dora')\n",
    "cv2.setMouseCallback('My_dora', draw_rectangle)\n",
    "\n",
    "while True:\n",
    "    \n",
    "    cv2.imshow('My_dora', new_dora)\n",
    "    if cv2.waitKey(1) & 0xFF == 27:\n",
    "        break\n",
    "\n",
    "cv2.destroyAllWindows()"
   ]
  },
  {
   "cell_type": "code",
   "execution_count": 25,
   "metadata": {},
   "outputs": [],
   "source": [
    "new_dora = cv2.resize(doraemon, (512,512))"
   ]
  },
  {
   "cell_type": "code",
   "execution_count": null,
   "metadata": {},
   "outputs": [],
   "source": [
    "########### Exercise :- draw circle on an image using mouse  #####################"
   ]
  },
  {
   "cell_type": "raw",
   "metadata": {},
   "source": [
    "#Color Mapping\n",
    "\n",
    "#######################################\n",
    "hls = cv2.cvtColor(new_dora, cv2.COLOR_RGB2HLS)\n",
    "hsv = cv2.cvtColor(new_dora, cv2.COLOR_BGR2HSV)\n",
    "#######################################"
   ]
  },
  {
   "cell_type": "code",
   "execution_count": 24,
   "metadata": {},
   "outputs": [],
   "source": [
    "# color mapping\n",
    "\n",
    "\n",
    "# show image for both color mapping\n",
    "\n"
   ]
  },
  {
   "cell_type": "raw",
   "metadata": {},
   "source": [
    "#Blending\n",
    "\n",
    "###############################\n",
    "blended = cv2.addWeighted(src1 = new_dora, alpha = 0.5, src2 = img2, beta = 0.5, gamma = 0)\n",
    "###############################"
   ]
  },
  {
   "cell_type": "code",
   "execution_count": null,
   "metadata": {},
   "outputs": [],
   "source": [
    "# blend images and show in plt\n",
    "\n"
   ]
  },
  {
   "cell_type": "markdown",
   "metadata": {},
   "source": [
    "Connecting to camera"
   ]
  },
  {
   "cell_type": "code",
   "execution_count": null,
   "metadata": {},
   "outputs": [],
   "source": [
    "cap = cv2.VideoCapture(0)\n",
    "width = int(cap.get(cv2.CAP_PROP_FRAME_WIDTH))\n",
    "height = int(cap.get(cv2.CAP_PROP_FRAME_HEIGHT))\n",
    "#writer = cv2.VideoWriter('myvideo.mp4', cv2.VideoWriter_fourcc(*'DIVX'), 20, (width, height))\n",
    "\n",
    "while True:\n",
    "    ret, frame = cap.read()\n",
    "    writer.write(frame)\n",
    "    cv2.imshow('frame', frame)\n",
    "    if cv2.waitKey(1) & 0xff == ord('q'):\n",
    "        break\n",
    "\n",
    "cap.release()\n",
    "writer.write()\n",
    "cv2.distroyAllWindows()"
   ]
  },
  {
   "cell_type": "code",
   "execution_count": null,
   "metadata": {},
   "outputs": [],
   "source": [
    "import time\n",
    "cap = cv2.VideoCapture('myVideo.mp4')\n",
    "\n",
    "if cap.isopened() == False:\n",
    "    print('Error file not found or wrong Codex used')\n",
    "while cap.isopened():\n",
    "    \n",
    "    ret, frame = cap.read()\n",
    "    if ret == True:\n",
    "        #writer 20 FPS\n",
    "        time.sleep(1/20)\n",
    "        cv2.imshow('frame', frame)\n",
    "        if cv2.waitKey(1) & 0xff == ord('q'):\n",
    "            break\n",
    "    else:\n",
    "        break\n",
    "        \n",
    "cap.release()\n",
    "cap.destroyAllWindows()\n"
   ]
  },
  {
   "cell_type": "code",
   "execution_count": null,
   "metadata": {},
   "outputs": [],
   "source": []
  },
  {
   "cell_type": "markdown",
   "metadata": {},
   "source": [
    "Exercise answer :-"
   ]
  },
  {
   "cell_type": "code",
   "execution_count": null,
   "metadata": {},
   "outputs": [],
   "source": [
    "def draw_circle(event, x, y, flags, params):\n",
    "    \n",
    "    if event == cv2.EVENT_LBUTTONDOWN:\n",
    "        cv2.circle(new_dora, (x,y), 100, (0,0,255), 10)\n",
    "\n",
    "cv2.namedWindow(winname='dora')\n",
    "cv2.setMouseCallback('dora', draw_circle)\n",
    "\n",
    "while True:\n",
    "    \n",
    "    cv2.imshow('dora', new_dora)\n",
    "    \n",
    "    if cv2.waitKey(1) & 0xFF == 27:\n",
    "        break\n",
    "        \n",
    "cv2.destroyAllWindows()"
   ]
  }
 ],
 "metadata": {
  "kernelspec": {
   "display_name": "Python 3",
   "language": "python",
   "name": "python3"
  },
  "language_info": {
   "codemirror_mode": {
    "name": "ipython",
    "version": 3
   },
   "file_extension": ".py",
   "mimetype": "text/x-python",
   "name": "python",
   "nbconvert_exporter": "python",
   "pygments_lexer": "ipython3",
   "version": "3.7.0b5"
  }
 },
 "nbformat": 4,
 "nbformat_minor": 2
}
