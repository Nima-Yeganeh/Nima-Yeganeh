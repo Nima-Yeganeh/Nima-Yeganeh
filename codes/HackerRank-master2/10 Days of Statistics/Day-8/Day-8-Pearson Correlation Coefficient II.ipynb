{
 "cells": [
  {
   "cell_type": "markdown",
   "metadata": {},
   "source": [
    "#### The regression line of y on x is 3x+4y+8=0, and the regression line of x on y is 4x+3y+7=0. What is the value of the Pearson correlation coefficient?\n",
    "\n",
    "#### Note: If you haven't seen it already, you may find our Pearson Correlation Coefficient Tutorial helpful in answering this question."
   ]
  },
  {
   "cell_type": "raw",
   "metadata": {},
   "source": [
    "y = (-3/4) * x - 2 \n",
    "x = (-3/4) * y - 7/4 \n",
    "\n",
    "b1 = -3/4\n",
    "b2 = -3/4\n",
    "\n",
    "p = b1 (x_std / y_std)\n",
    "p = b2 (y_std / x_std)\n",
    "\n",
    "p * p = b1 * b2\n",
    "so, p = sqrt(9/16)\n",
    "=> p = +/- 3/4\n",
    "here, both slope are negative so that, p = -3/4"
   ]
  },
  {
   "cell_type": "markdown",
   "metadata": {},
   "source": [
    "##### Ans: -3/4"
   ]
  }
 ],
 "metadata": {
  "kernelspec": {
   "display_name": "Python 3",
   "language": "python",
   "name": "python3"
  },
  "language_info": {
   "codemirror_mode": {
    "name": "ipython",
    "version": 3
   },
   "file_extension": ".py",
   "mimetype": "text/x-python",
   "name": "python",
   "nbconvert_exporter": "python",
   "pygments_lexer": "ipython3",
   "version": "3.6.4"
  }
 },
 "nbformat": 4,
 "nbformat_minor": 2
}
