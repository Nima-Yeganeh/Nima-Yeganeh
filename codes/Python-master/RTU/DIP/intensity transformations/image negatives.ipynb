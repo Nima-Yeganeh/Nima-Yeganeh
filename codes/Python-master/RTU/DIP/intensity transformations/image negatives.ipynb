{
 "cells": [
  {
   "cell_type": "code",
   "execution_count": 9,
   "metadata": {},
   "outputs": [],
   "source": [
    "import cv2"
   ]
  },
  {
   "cell_type": "markdown",
   "metadata": {},
   "source": [
    "# methods\n",
    "- ***bitwise_not***"
   ]
  },
  {
   "cell_type": "code",
   "execution_count": 16,
   "metadata": {},
   "outputs": [],
   "source": [
    "cv2.namedWindow('Original',cv2.WINDOW_NORMAL)\n",
    "cv2.namedWindow('Negative of original',cv2.WINDOW_NORMAL)\n",
    "\n",
    "img=cv2.imread('kgv.jpg')\n",
    "cv2.imshow('Original',img)\n",
    "cv2.resizeWindow('Original',400,400)\n",
    "\n",
    "img_not=cv2.bitwise_not(img) #bitwise_not\n",
    "cv2.imshow('Negative of original',img_not)\n",
    "cv2.resizeWindow('Negative of original',400,400)\n",
    "cv2.moveWindow('Negative of original',400,0)\n",
    "\n",
    "cv2.waitKey(0)\n",
    "cv2.destroyAllWindows()"
   ]
  },
  {
   "cell_type": "markdown",
   "metadata": {},
   "source": [
    "- ***tilde(~)***"
   ]
  },
  {
   "cell_type": "code",
   "execution_count": 20,
   "metadata": {},
   "outputs": [],
   "source": [
    "cv2.namedWindow('Original',cv2.WINDOW_NORMAL)\n",
    "cv2.namedWindow('Negative of original',cv2.WINDOW_NORMAL)\n",
    "\n",
    "img=cv2.imread('kgv.jpg')\n",
    "cv2.imshow('Original',img)\n",
    "cv2.resizeWindow('Original',400,400)\n",
    "\n",
    "img_no=~img #tilde operator\n",
    "cv2.imshow('Negative of original',img_no)\n",
    "cv2.resizeWindow('Negative of original',400,400)\n",
    "cv2.moveWindow('Negative of original',400,0)\n",
    "\n",
    "cv2.waitKey(0)\n",
    "cv2.destroyAllWindows()"
   ]
  },
  {
   "cell_type": "markdown",
   "metadata": {},
   "source": [
    "- ***255-img***"
   ]
  },
  {
   "cell_type": "code",
   "execution_count": 21,
   "metadata": {},
   "outputs": [],
   "source": [
    "cv2.namedWindow('Original',cv2.WINDOW_NORMAL)\n",
    "cv2.namedWindow('Negative of original',cv2.WINDOW_NORMAL)\n",
    "\n",
    "img=cv2.imread('kgv.jpg')\n",
    "cv2.imshow('Original',img)\n",
    "cv2.resizeWindow('Original',400,400)\n",
    "\n",
    "img_n=255-img #255-img\n",
    "cv2.imshow('Negative of original',img_n)\n",
    "cv2.resizeWindow('Negative of original',400,400)\n",
    "cv2.moveWindow('Negative of original',400,0)\n",
    "\n",
    "cv2.waitKey(0)\n",
    "cv2.destroyAllWindows()"
   ]
  }
 ],
 "metadata": {
  "kernelspec": {
   "display_name": "Python 3",
   "language": "python",
   "name": "python3"
  },
  "language_info": {
   "codemirror_mode": {
    "name": "ipython",
    "version": 3
   },
   "file_extension": ".py",
   "mimetype": "text/x-python",
   "name": "python",
   "nbconvert_exporter": "python",
   "pygments_lexer": "ipython3",
   "version": "3.7.5"
  }
 },
 "nbformat": 4,
 "nbformat_minor": 2
}
