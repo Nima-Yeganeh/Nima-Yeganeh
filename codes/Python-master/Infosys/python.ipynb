{
 "cells": [
  {
   "cell_type": "code",
   "execution_count": null,
   "metadata": {},
   "outputs": [],
   "source": [
    "3\n",
    "12\n",
    "1 1 2 2 3 2 3 6 6 6 7"
   ]
  },
  {
   "cell_type": "code",
   "execution_count": 86,
   "metadata": {},
   "outputs": [
    {
     "name": "stdout",
     "output_type": "stream",
     "text": [
      "3\n",
      "12\n",
      "1 1 2 2 3 2 3 6 6 6 7\n",
      "3\n"
     ]
    }
   ],
   "source": [
    "from collections import Counter\n",
    "k=int(input())\n",
    "n=int(input())\n",
    "a=list(map(int,input().split()))\n",
    "\n",
    "result = [item for items, c in Counter(a).most_common() \n",
    "                                      for item in [items] * c]\n",
    "\n",
    "c=0\n",
    "b=result.copy()\n",
    "while len(b)>=k:\n",
    "    m=b[0]\n",
    "    while any(m==i for i in b) and len(b)>=k:\n",
    "        b.remove(m)\n",
    "    c+=1\n",
    "if any(i in a for i in b):\n",
    "    c-=1\n",
    "print(c)"
   ]
  },
  {
   "cell_type": "code",
   "execution_count": 82,
   "metadata": {},
   "outputs": [
    {
     "name": "stdout",
     "output_type": "stream",
     "text": [
      "3\n",
      "12\n",
      "1 1 2 2 3 2 3 6 6 6 7\n"
     ]
    }
   ],
   "source": [
    "k=int(input())\n",
    "n=int(input())\n",
    "a=list(map(int,input().split()))"
   ]
  },
  {
   "cell_type": "code",
   "execution_count": 83,
   "metadata": {},
   "outputs": [
    {
     "name": "stdout",
     "output_type": "stream",
     "text": [
      "[2, 2, 2, 6, 6, 6, 1, 1, 3, 3, 7]\n"
     ]
    },
    {
     "data": {
      "text/plain": [
       "[1, 1, 2, 2, 3, 2, 3, 6, 6, 6, 7]"
      ]
     },
     "execution_count": 83,
     "metadata": {},
     "output_type": "execute_result"
    }
   ],
   "source": [
    "from collections import Counter\n",
    "result = [item for items, c in Counter(a).most_common() \n",
    "                                      for item in [items] * c]\n",
    "print(str(result))\n",
    "a"
   ]
  },
  {
   "cell_type": "code",
   "execution_count": 84,
   "metadata": {},
   "outputs": [
    {
     "data": {
      "text/plain": [
       "4"
      ]
     },
     "execution_count": 84,
     "metadata": {},
     "output_type": "execute_result"
    }
   ],
   "source": [
    "c=0\n",
    "b=result.copy()\n",
    "while len(b)>=k:\n",
    "    m=b[0]\n",
    "    while any(m==i for i in b) and len(b)>=k:\n",
    "        b.remove(m)\n",
    "    c+=1\n",
    "c"
   ]
  },
  {
   "cell_type": "code",
   "execution_count": 85,
   "metadata": {},
   "outputs": [
    {
     "data": {
      "text/plain": [
       "3"
      ]
     },
     "execution_count": 85,
     "metadata": {},
     "output_type": "execute_result"
    }
   ],
   "source": [
    "if any(i in a for i in b):\n",
    "    c-=1\n",
    "c"
   ]
  },
  {
   "cell_type": "code",
   "execution_count": 78,
   "metadata": {},
   "outputs": [
    {
     "data": {
      "text/plain": [
       "[3, 7]"
      ]
     },
     "execution_count": 78,
     "metadata": {},
     "output_type": "execute_result"
    }
   ],
   "source": [
    "b"
   ]
  },
  {
   "cell_type": "code",
   "execution_count": 73,
   "metadata": {},
   "outputs": [
    {
     "data": {
      "text/plain": [
       "[2, 2, 2, 6, 6, 6, 1, 1, 3, 3, 7]"
      ]
     },
     "execution_count": 73,
     "metadata": {},
     "output_type": "execute_result"
    }
   ],
   "source": [
    "result"
   ]
  },
  {
   "cell_type": "code",
   "execution_count": 50,
   "metadata": {},
   "outputs": [
    {
     "data": {
      "text/plain": [
       "[1, 1, 7]"
      ]
     },
     "execution_count": 50,
     "metadata": {},
     "output_type": "execute_result"
    }
   ],
   "source": [
    "while any(6==i for i in a ):\n",
    "    a.remove(6)\n",
    "a"
   ]
  },
  {
   "cell_type": "code",
   "execution_count": 46,
   "metadata": {},
   "outputs": [
    {
     "data": {
      "text/plain": [
       "[1, 1, 2, 3, 2, 3, 6, 6, 6, 7]"
      ]
     },
     "execution_count": 46,
     "metadata": {},
     "output_type": "execute_result"
    }
   ],
   "source": [
    "a"
   ]
  },
  {
   "cell_type": "code",
   "execution_count": 23,
   "metadata": {},
   "outputs": [
    {
     "data": {
      "text/plain": [
       "2"
      ]
     },
     "execution_count": 23,
     "metadata": {},
     "output_type": "execute_result"
    }
   ],
   "source": [
    "a.count(1)"
   ]
  },
  {
   "cell_type": "code",
   "execution_count": 29,
   "metadata": {},
   "outputs": [
    {
     "data": {
      "text/plain": [
       "[1, 2, 3, 6, 7]"
      ]
     },
     "execution_count": 29,
     "metadata": {},
     "output_type": "execute_result"
    }
   ],
   "source": [
    "s=list(set(a))\n",
    "s"
   ]
  },
  {
   "cell_type": "code",
   "execution_count": 31,
   "metadata": {},
   "outputs": [
    {
     "data": {
      "text/plain": [
       "[2, 3, 2, 3, 1]"
      ]
     },
     "execution_count": 31,
     "metadata": {},
     "output_type": "execute_result"
    }
   ],
   "source": [
    "l=[a.count(i) for i in s]\n",
    "l"
   ]
  },
  {
   "cell_type": "code",
   "execution_count": 34,
   "metadata": {},
   "outputs": [
    {
     "data": {
      "text/plain": [
       "3"
      ]
     },
     "execution_count": 34,
     "metadata": {},
     "output_type": "execute_result"
    }
   ],
   "source": [
    "max(l)"
   ]
  },
  {
   "cell_type": "code",
   "execution_count": 42,
   "metadata": {},
   "outputs": [
    {
     "ename": "ValueError",
     "evalue": "1 is not in list",
     "output_type": "error",
     "traceback": [
      "\u001b[0;31m---------------------------------------------------------------------------\u001b[0m",
      "\u001b[0;31mValueError\u001b[0m                                Traceback (most recent call last)",
      "\u001b[0;32m<ipython-input-42-f2298d8f1808>\u001b[0m in \u001b[0;36m<module>\u001b[0;34m()\u001b[0m\n\u001b[0;32m----> 1\u001b[0;31m \u001b[0ms\u001b[0m\u001b[0;34m[\u001b[0m\u001b[0ml\u001b[0m\u001b[0;34m.\u001b[0m\u001b[0mindex\u001b[0m\u001b[0;34m(\u001b[0m\u001b[0ml\u001b[0m\u001b[0;34m.\u001b[0m\u001b[0mpop\u001b[0m\u001b[0;34m(\u001b[0m\u001b[0mmax\u001b[0m\u001b[0;34m(\u001b[0m\u001b[0ml\u001b[0m\u001b[0;34m)\u001b[0m\u001b[0;34m)\u001b[0m\u001b[0;34m)\u001b[0m\u001b[0;34m]\u001b[0m\u001b[0;34m\u001b[0m\u001b[0;34m\u001b[0m\u001b[0m\n\u001b[0m",
      "\u001b[0;31mValueError\u001b[0m: 1 is not in list"
     ]
    }
   ],
   "source": [
    "s[l.index(l.pop(max(l)))]"
   ]
  },
  {
   "cell_type": "code",
   "execution_count": 43,
   "metadata": {},
   "outputs": [
    {
     "data": {
      "text/plain": [
       "[2, 3, 2]"
      ]
     },
     "execution_count": 43,
     "metadata": {},
     "output_type": "execute_result"
    }
   ],
   "source": [
    "l"
   ]
  },
  {
   "cell_type": "code",
   "execution_count": 39,
   "metadata": {},
   "outputs": [
    {
     "ename": "KeyboardInterrupt",
     "evalue": "",
     "output_type": "error",
     "traceback": [
      "\u001b[0;31m---------------------------------------------------------------------------\u001b[0m",
      "\u001b[0;31mKeyboardInterrupt\u001b[0m                         Traceback (most recent call last)",
      "\u001b[0;32m<ipython-input-39-a9b270d81697>\u001b[0m in \u001b[0;36m<module>\u001b[0;34m()\u001b[0m\n\u001b[1;32m      2\u001b[0m \u001b[0;32mwhile\u001b[0m \u001b[0mlen\u001b[0m\u001b[0;34m(\u001b[0m\u001b[0ma\u001b[0m\u001b[0;34m)\u001b[0m\u001b[0;34m>=\u001b[0m\u001b[0mk\u001b[0m\u001b[0;34m:\u001b[0m\u001b[0;34m\u001b[0m\u001b[0;34m\u001b[0m\u001b[0m\n\u001b[1;32m      3\u001b[0m     \u001b[0mm\u001b[0m\u001b[0;34m=\u001b[0m\u001b[0ms\u001b[0m\u001b[0;34m[\u001b[0m\u001b[0ml\u001b[0m\u001b[0;34m.\u001b[0m\u001b[0mindex\u001b[0m\u001b[0;34m(\u001b[0m\u001b[0mmax\u001b[0m\u001b[0;34m(\u001b[0m\u001b[0ml\u001b[0m\u001b[0;34m)\u001b[0m\u001b[0;34m)\u001b[0m\u001b[0;34m]\u001b[0m\u001b[0;34m\u001b[0m\u001b[0;34m\u001b[0m\u001b[0m\n\u001b[0;32m----> 4\u001b[0;31m     \u001b[0;32mwhile\u001b[0m \u001b[0many\u001b[0m\u001b[0;34m(\u001b[0m\u001b[0mm\u001b[0m\u001b[0;34m==\u001b[0m\u001b[0mi\u001b[0m \u001b[0;32mfor\u001b[0m \u001b[0mi\u001b[0m \u001b[0;32min\u001b[0m \u001b[0ma\u001b[0m \u001b[0;34m)\u001b[0m\u001b[0;34m:\u001b[0m\u001b[0;34m\u001b[0m\u001b[0;34m\u001b[0m\u001b[0m\n\u001b[0m\u001b[1;32m      5\u001b[0m         \u001b[0ma\u001b[0m\u001b[0;34m.\u001b[0m\u001b[0mremove\u001b[0m\u001b[0;34m(\u001b[0m\u001b[0mm\u001b[0m\u001b[0;34m)\u001b[0m\u001b[0;34m\u001b[0m\u001b[0;34m\u001b[0m\u001b[0m\n\u001b[1;32m      6\u001b[0m     \u001b[0mc\u001b[0m\u001b[0;34m+=\u001b[0m\u001b[0;36m1\u001b[0m\u001b[0;34m\u001b[0m\u001b[0;34m\u001b[0m\u001b[0m\n",
      "\u001b[0;31mKeyboardInterrupt\u001b[0m: "
     ]
    }
   ],
   "source": [
    "c=0\n",
    "while len(a)>=k:\n",
    "    m=s[l.index(max(l))]\n",
    "    while any(m==i for i in a ):\n",
    "        a.remove(m)\n",
    "    c+=1\n",
    "print(c)"
   ]
  },
  {
   "cell_type": "code",
   "execution_count": 40,
   "metadata": {},
   "outputs": [
    {
     "data": {
      "text/plain": [
       "[1, 1, 3, 3, 6, 6, 6, 7]"
      ]
     },
     "execution_count": 40,
     "metadata": {},
     "output_type": "execute_result"
    }
   ],
   "source": [
    "import sys\n",
    "sys.setrecursionlimit(100000)\n",
    "k=input()\n",
    "n=input()\n",
    "l=[]\n",
    "#a=map(int,raw_input().split())\n",
    "if n==1:\n",
    "    print 0\n",
    "elif k==1:\n",
    "    a=map(int,raw_input().split())\n",
    "    print n    \n",
    "else:\n",
    " a=map(int,raw_input().split())    \n",
    " G={ i:[] for i in xrange(1,n+1)}\n",
    " mark=[-1]*(n+1)\n",
    " for i in xrange(2,len(a)+2):\n",
    "    G[a[i-2]].append(i)\n",
    "    G[i].append(a[i-2])\n",
    " res=0\n",
    " def dfs(x):\n",
    "     global res\n",
    "     s=1\n",
    "     mark[x]=0\n",
    "     for i in G[x]:\n",
    "         if mark[i]==-1:\n",
    "           s+=dfs(i)\n",
    "           mark[i]=0\n",
    "     if s>=k:\n",
    "          res+=1\n",
    "          s=0\n",
    "     return s\n",
    " dfs(1)\n",
    " print res"
   ]
  },
  {
   "cell_type": "code",
   "execution_count": null,
   "metadata": {},
   "outputs": [],
   "source": [
    "import sys\n",
    "sys.setrecursionlimit(100000)\n",
    "k=input()\n",
    "n=input()\n",
    "l=[]\n",
    "\n",
    "if n==1:\n",
    "    print 0\n",
    "elif k==1:\n",
    "    a=map(int,raw_input().split())\n",
    "    print n    \n",
    "else:\n",
    "    a=map(int,raw_input().split())    \n",
    "    G={ i:[] for i in xrange(1,n+1)}\n",
    "    mark=[-1]*(n+1)\n",
    "    for i in xrange(2,len(a)+2):\n",
    "        G[a[i-2]].append(i)\n",
    "        G[i].append(a[i-2])\n",
    "    res=0\n",
    "    def dfs(x):\n",
    "        global res\n",
    "        s=1\n",
    "        mark[x]=0\n",
    "        for i in G[x]:\n",
    "            if mark[i]==-1:\n",
    "                s+=dfs(i)\n",
    "                mark[i]=0\n",
    "        if s>=k:\n",
    "            res+=1\n",
    "            s=0\n",
    "        return s\n",
    "dfs(1)\n",
    "print(res)"
   ]
  },
  {
   "cell_type": "markdown",
   "metadata": {},
   "source": [
    "# pass by"
   ]
  },
  {
   "cell_type": "markdown",
   "metadata": {},
   "source": [
    "###\n",
    "- mutable    --> ***pass by refrance*** ( List, Dictionary)\n",
    "- immutable  --> ***pass by value*** ( Primitive Data types,int,float,string,tuple,boolean)"
   ]
  },
  {
   "cell_type": "code",
   "execution_count": 24,
   "metadata": {},
   "outputs": [
    {
     "name": "stdout",
     "output_type": "stream",
     "text": [
      "[1, 2, 3, 4, 5, 6, 7, 8]\n",
      "[1, 2, 3, 4, 5, 6, 7, 8, 10]\n",
      "[1, 2, 3, 4, 5, 6, 7, 8, 10]\n"
     ]
    }
   ],
   "source": [
    "# refrence\n",
    "def li(l):\n",
    "#     l*=2\n",
    "#     l=l*2\n",
    "    l.append(10)\n",
    "    print(l)\n",
    "l=[1,2,3,4,5,6,7,8]\n",
    "print(l)\n",
    "li(l)\n",
    "print(l)"
   ]
  },
  {
   "cell_type": "code",
   "execution_count": 9,
   "metadata": {},
   "outputs": [],
   "source": [
    "t=1,2,3,4"
   ]
  },
  {
   "cell_type": "code",
   "execution_count": 23,
   "metadata": {},
   "outputs": [
    {
     "name": "stdout",
     "output_type": "stream",
     "text": [
      "[1, 2, 3, 4]\n",
      "[1, 2, 3, 4, 1, 2, 3, 4]\n",
      "[1, 2, 3, 4, 1, 2, 3, 4]\n"
     ]
    }
   ],
   "source": [
    "def tup(t):\n",
    "    t*=2\n",
    "    print(t)\n",
    "t=[1,2,3,4]\n",
    "print(t)\n",
    "tup(t)\n",
    "print(t)\n"
   ]
  },
  {
   "cell_type": "code",
   "execution_count": 19,
   "metadata": {},
   "outputs": [
    {
     "data": {
      "text/plain": [
       "[1, 2, 3, 4, 5, 6, 7, 8, 10, 1, 2, 3, 4, 5, 6, 7, 8, 10]"
      ]
     },
     "execution_count": 19,
     "metadata": {},
     "output_type": "execute_result"
    }
   ],
   "source": [
    "l*2"
   ]
  },
  {
   "cell_type": "code",
   "execution_count": 26,
   "metadata": {},
   "outputs": [],
   "source": [
    "l1=[1,2,3,4]"
   ]
  },
  {
   "cell_type": "markdown",
   "metadata": {},
   "source": [
    "# Exceptional handling"
   ]
  },
  {
   "cell_type": "code",
   "execution_count": 42,
   "metadata": {},
   "outputs": [
    {
     "name": "stdout",
     "output_type": "stream",
     "text": [
      "not specific error\n"
     ]
    }
   ],
   "source": [
    "try:\n",
    "#     l1[4]//0\n",
    "#     l1[2]//0\n",
    "    print(l1[4])\n",
    "except ZeroDivisionError:\n",
    "    print('zero division error')\n",
    "# except IndexError:\n",
    "#     print('Index error')\n",
    "except:#default except should be in last\n",
    "    print('not specific error')"
   ]
  },
  {
   "cell_type": "code",
   "execution_count": 52,
   "metadata": {},
   "outputs": [
    {
     "name": "stdout",
     "output_type": "stream",
     "text": [
      "0.71875\n",
      "if there is no exception then this excuted\n",
      "it always be placed after all except block not before and after try,finally block\n",
      "it always excuted\n"
     ]
    }
   ],
   "source": [
    "try:\n",
    "    print(23/32)\n",
    "except Exception as e:\n",
    "    print(e)\n",
    "except:\n",
    "    print('kesh')\n",
    "else:\n",
    "    print('if there is no exception then this excuted')\n",
    "    print('it always be placed after all except block not before and after try,finally block')\n",
    "finally:\n",
    "    print('it always excuted')"
   ]
  },
  {
   "cell_type": "markdown",
   "metadata": {},
   "source": [
    "# Regular Expression"
   ]
  },
  {
   "cell_type": "code",
   "execution_count": 1,
   "metadata": {},
   "outputs": [
    {
     "data": {
      "text/plain": [
       "<re.Match object; span=(27, 33), match='python'>"
      ]
     },
     "execution_count": 1,
     "metadata": {},
     "output_type": "execute_result"
    }
   ],
   "source": [
    "import re\n",
    "l='i am keshav singh and i am python developer'\n",
    "re.search('python',l)"
   ]
  },
  {
   "cell_type": "code",
   "execution_count": 60,
   "metadata": {},
   "outputs": [
    {
     "data": {
      "text/plain": [
       "6"
      ]
     },
     "execution_count": 60,
     "metadata": {},
     "output_type": "execute_result"
    }
   ],
   "source": [
    "k=re.search('python',l).span()\n",
    "k[1]-k[0]"
   ]
  },
  {
   "cell_type": "code",
   "execution_count": 65,
   "metadata": {},
   "outputs": [
    {
     "name": "stdout",
     "output_type": "stream",
     "text": [
      "pattern matched\n"
     ]
    }
   ],
   "source": [
    "if re.search('python',l):\n",
    "    print('pattern matched')\n",
    "else:\n",
    "    print('pattern not matched')"
   ]
  },
  {
   "cell_type": "code",
   "execution_count": 14,
   "metadata": {},
   "outputs": [
    {
     "name": "stdout",
     "output_type": "stream",
     "text": [
      "pattern matched\n"
     ]
    }
   ],
   "source": [
    "if re.search('^i.*developer',l):\n",
    "    print('pattern matched')\n",
    "else:\n",
    "    print('pattern not matched')"
   ]
  },
  {
   "cell_type": "code",
   "execution_count": 15,
   "metadata": {},
   "outputs": [
    {
     "name": "stdout",
     "output_type": "stream",
     "text": [
      "pattern matched\n"
     ]
    }
   ],
   "source": [
    "if re.search('developer$',l):\n",
    "    print('pattern matched')\n",
    "else:\n",
    "    print('pattern not matched')"
   ]
  },
  {
   "cell_type": "code",
   "execution_count": 19,
   "metadata": {},
   "outputs": [
    {
     "data": {
      "text/plain": [
       "'i am keshav singh and i am python lover'"
      ]
     },
     "execution_count": 19,
     "metadata": {},
     "output_type": "execute_result"
    }
   ],
   "source": [
    "re.sub('developer','lover',l)"
   ]
  },
  {
   "cell_type": "markdown",
   "metadata": {},
   "source": [
    "# class"
   ]
  },
  {
   "cell_type": "markdown",
   "metadata": {},
   "source": [
    "### Static\n",
    "- share data among different object of my class\n",
    "#### Static variable"
   ]
  },
  {
   "cell_type": "code",
   "execution_count": 31,
   "metadata": {},
   "outputs": [],
   "source": [
    "class a:\n",
    "    x=23\n",
    "    def pass1(self):\n",
    "        a.x=28"
   ]
  },
  {
   "cell_type": "code",
   "execution_count": 32,
   "metadata": {},
   "outputs": [
    {
     "data": {
      "text/plain": [
       "23"
      ]
     },
     "execution_count": 32,
     "metadata": {},
     "output_type": "execute_result"
    }
   ],
   "source": [
    "a.x"
   ]
  },
  {
   "cell_type": "code",
   "execution_count": 33,
   "metadata": {},
   "outputs": [],
   "source": [
    "a().pass1()"
   ]
  },
  {
   "cell_type": "code",
   "execution_count": 34,
   "metadata": {},
   "outputs": [
    {
     "data": {
      "text/plain": [
       "28"
      ]
     },
     "execution_count": 34,
     "metadata": {},
     "output_type": "execute_result"
    }
   ],
   "source": [
    "a.x"
   ]
  },
  {
   "cell_type": "code",
   "execution_count": 58,
   "metadata": {},
   "outputs": [
    {
     "name": "stdout",
     "output_type": "stream",
     "text": [
      "Apple  mobile with price  2000  is availabe after discount is :  1000.0\n",
      "Samsung  mobile with price  4000  is availabe after discount is :  4000.0\n",
      "Nokia  mobile with price  5000  is availabe after discount is :  2500.0\n"
     ]
    }
   ],
   "source": [
    "class mobile:\n",
    "    discount=50\n",
    "    def __init__(self,price,brand):\n",
    "        self.price=price\n",
    "        self.brand=brand\n",
    "    def purchase(self):\n",
    "        print(self.brand,' mobile with price ',self.price,' is availabe after discount is : ',round((100-mobile.discount)*self.price/100,2))\n",
    "def enable_discount():\n",
    "    mobile.discount=50\n",
    "def disable_discount():\n",
    "    mobile.discount=0\n",
    "mob1=mobile(2000,'Apple')\n",
    "mob2=mobile(4000,'Samsung')\n",
    "mob3=mobile(5000,'Nokia')\n",
    "\n",
    "mob1.purchase()\n",
    "disable_discount()\n",
    "mob2.purchase()\n",
    "enable_discount()\n",
    "mob3.purchase()"
   ]
  },
  {
   "cell_type": "markdown",
   "metadata": {},
   "source": [
    "####  Static method"
   ]
  },
  {
   "cell_type": "code",
   "execution_count": 56,
   "metadata": {},
   "outputs": [
    {
     "name": "stdout",
     "output_type": "stream",
     "text": [
      "50\n",
      "48\n"
     ]
    }
   ],
   "source": [
    "class mobile:\n",
    "    __discount=50\n",
    "    def __init__(self,price,brand):\n",
    "        self.price=price\n",
    "        self.brand=brand\n",
    "    def purchase(self):\n",
    "        print(self.brand,' mobile with price ',self.price,' is availabe after discount is : ',round((100-mobile.discount)*self.price/100,2))\n",
    "\n",
    "    @staticmethod\n",
    "    def get_discount():\n",
    "        return mobile.__discount\n",
    "    @staticmethod\n",
    "    def set_discount(discount):\n",
    "        mobile.__discount=discount\n",
    "\n",
    "\n",
    "print(mobile.get_discount())\n",
    "mobile.set_discount(48)\n",
    "print(mobile.get_discount())"
   ]
  },
  {
   "cell_type": "markdown",
   "metadata": {},
   "source": [
    "# Relationship\n",
    "- Inheritence => IS-A\n",
    "- Aggretation => HAS-A\n",
    "- Association => USES-A \\\n",
    "***AGGRETATION***"
   ]
  },
  {
   "cell_type": "code",
   "execution_count": 59,
   "metadata": {},
   "outputs": [
    {
     "name": "stdout",
     "output_type": "stream",
     "text": [
      "Jack 24 1234\n",
      "123 5th Lane 56001\n",
      "Jack 24 1234\n",
      "567 6th Lane 82006\n"
     ]
    }
   ],
   "source": [
    "class Customer:\n",
    "    def __init__(self, name, age, phone_no, address):\n",
    "        self.name = name\n",
    "        self.age = age\n",
    "        self.phone_no = phone_no\n",
    "        self.address = address\n",
    "\n",
    "    def view_details(self):\n",
    "        print (self.name, self.age, self.phone_no)\n",
    "        print (self.address.door_no, self.address.street, self.address.pincode)\n",
    "\n",
    "    def update_details(self,add):\n",
    "        self.address = add\n",
    "\n",
    "class Address:\n",
    "    def __init__(self, door_no, street, pincode):\n",
    "        self.door_no = door_no\n",
    "        self.street = street\n",
    "        self.pincode = pincode\n",
    "\n",
    "    def update_address(self):\n",
    "        pass\n",
    "\n",
    "add1=Address(123, \"5th Lane\", 56001)\n",
    "add2=Address(567, \"6th Lane\", 82006)\n",
    "cus1=Customer(\"Jack\", 24, 1234, add1)\n",
    "\n",
    "cus1.view_details()\n",
    "\n",
    "cus1.update_details(add2)\n",
    "\n",
    "cus1.view_details()"
   ]
  },
  {
   "cell_type": "markdown",
   "metadata": {},
   "source": [
    "##### weaker relationship"
   ]
  },
  {
   "cell_type": "code",
   "execution_count": 60,
   "metadata": {},
   "outputs": [
    {
     "name": "stdout",
     "output_type": "stream",
     "text": [
      "Paying by card\n"
     ]
    }
   ],
   "source": [
    "class Customer:\n",
    "    def __init__(self, name, age, phone_no):\n",
    "        self.name = name\n",
    "        self.age = age\n",
    "        self.phone_no = phone_no\n",
    "\n",
    "    def purchase(self, payment):\n",
    "        if payment.type == \"card\":\n",
    "            print (\"Paying by card\")\n",
    "        elif payment.type == \"e-wallet\":\n",
    "            print (\"Paying by wallet\")\n",
    "        else:\n",
    "            print (\"Paying by cash\")\n",
    "\n",
    "class Payment:\n",
    "    def __init__(self, type):\n",
    "        self.type = type\n",
    "\n",
    "payment1=Payment(\"card\")\n",
    "c=Customer(\"Jack\",23,1234)\n",
    "\n",
    "c.purchase(payment1)\n"
   ]
  },
  {
   "cell_type": "markdown",
   "metadata": {},
   "source": [
    "# Inheritence"
   ]
  },
  {
   "cell_type": "markdown",
   "metadata": {},
   "source": [
    "***ex1***"
   ]
  },
  {
   "cell_type": "code",
   "execution_count": 71,
   "metadata": {},
   "outputs": [],
   "source": [
    "class A:\n",
    "    def __init__(self):\n",
    "        print('A')\n",
    "class B(A):\n",
    "    def __init__(self):\n",
    "        print('B',type(self))\n",
    "        super().__init__()\n",
    "        print(type(self))"
   ]
  },
  {
   "cell_type": "code",
   "execution_count": 72,
   "metadata": {},
   "outputs": [
    {
     "name": "stdout",
     "output_type": "stream",
     "text": [
      "B <class '__main__.B'>\n",
      "A\n",
      "<class '__main__.B'>\n"
     ]
    },
    {
     "data": {
      "text/plain": [
       "<__main__.B at 0x7fdf2847f490>"
      ]
     },
     "execution_count": 72,
     "metadata": {},
     "output_type": "execute_result"
    }
   ],
   "source": [
    "B()"
   ]
  },
  {
   "cell_type": "markdown",
   "metadata": {},
   "source": [
    "***ex - 2***"
   ]
  },
  {
   "cell_type": "code",
   "execution_count": 2,
   "metadata": {},
   "outputs": [
    {
     "name": "stdout",
     "output_type": "stream",
     "text": [
      "B\n",
      "A\n",
      "<class '__main__.B'>\n",
      "<class '__main__.B'>\n"
     ]
    },
    {
     "data": {
      "text/plain": [
       "<__main__.B at 0x7fbb70641590>"
      ]
     },
     "execution_count": 2,
     "metadata": {},
     "output_type": "execute_result"
    }
   ],
   "source": [
    "class A:\n",
    "    def __init__(self):\n",
    "        print('A')\n",
    "        print(type(self))\n",
    "class B(A):\n",
    "    def __init__(self):\n",
    "        print('B')\n",
    "        super().__init__()\n",
    "        print(type(self))\n",
    "B()"
   ]
  },
  {
   "cell_type": "code",
   "execution_count": 3,
   "metadata": {},
   "outputs": [
    {
     "name": "stdout",
     "output_type": "stream",
     "text": [
      "A\n",
      "<class '__main__.A'>\n"
     ]
    },
    {
     "data": {
      "text/plain": [
       "<__main__.A at 0x7fbb70641f90>"
      ]
     },
     "execution_count": 3,
     "metadata": {},
     "output_type": "execute_result"
    }
   ],
   "source": [
    "A()"
   ]
  },
  {
   "cell_type": "code",
   "execution_count": 9,
   "metadata": {},
   "outputs": [
    {
     "data": {
      "text/plain": [
       "9"
      ]
     },
     "execution_count": 9,
     "metadata": {},
     "output_type": "execute_result"
    }
   ],
   "source": [
    "class c:\n",
    "    __x=9\n",
    "    @staticmethod\n",
    "    def x1():\n",
    "        return c.__x\n",
    "c.x1()"
   ]
  },
  {
   "cell_type": "markdown",
   "metadata": {},
   "source": [
    "***ex-3***"
   ]
  },
  {
   "cell_type": "code",
   "execution_count": 16,
   "metadata": {},
   "outputs": [
    {
     "name": "stdout",
     "output_type": "stream",
     "text": [
      "H\n",
      "F\n",
      "G\n",
      "E\n",
      "D\n",
      "B\n",
      "C\n",
      "A\n"
     ]
    },
    {
     "data": {
      "text/plain": [
       "<__main__.H at 0x7fbb7057dfd0>"
      ]
     },
     "execution_count": 16,
     "metadata": {},
     "output_type": "execute_result"
    }
   ],
   "source": [
    "class A:\n",
    "    def __init__(self):\n",
    "        print('A')\n",
    "        super().__init__()\n",
    "class B(A):\n",
    "    def __init__(self):\n",
    "        print('B')\n",
    "        super().__init__()\n",
    "class C(A):\n",
    "    def __init__(self):\n",
    "        print('C')\n",
    "        super().__init__()\n",
    "class D(B):\n",
    "    def __init__(self):\n",
    "        print('D')\n",
    "        super().__init__()\n",
    "class E(B,C):\n",
    "    def __init__(self):\n",
    "        print('E')\n",
    "        super().__init__()\n",
    "class F(E,D):\n",
    "    def __init__(self):\n",
    "        print('F')\n",
    "        super().__init__()\n",
    "class G(E):\n",
    "    def __init__(self):\n",
    "        print('G')\n",
    "        super().__init__()\n",
    "class H(F,G):\n",
    "    def __init__(self):\n",
    "        print('H')\n",
    "        super().__init__()\n",
    "H()"
   ]
  },
  {
   "cell_type": "markdown",
   "metadata": {},
   "source": [
    "### Method overiding in python\n",
    "- In Python method overriding occurs simply defining in the child class a method with the same name of a method in the parent class."
   ]
  },
  {
   "cell_type": "code",
   "execution_count": 18,
   "metadata": {},
   "outputs": [
    {
     "data": {
      "text/plain": [
       "6"
      ]
     },
     "execution_count": 18,
     "metadata": {},
     "output_type": "execute_result"
    }
   ],
   "source": [
    "class Parent(object):\n",
    "    def __init__(self):\n",
    "        self.value = 5\n",
    "\n",
    "    def get_value(self):\n",
    "        return self.value\n",
    "\n",
    "class Child(Parent):\n",
    "    def get_value(self):\n",
    "        return self.value + 1\n",
    "c = Child()\n",
    "c.get_value()"
   ]
  },
  {
   "cell_type": "markdown",
   "metadata": {},
   "source": [
    "### Abstract method\n",
    "- An abstract class should not be instantiated.\n",
    "- An abstract class may contain 0 or many abstract methods"
   ]
  },
  {
   "cell_type": "code",
   "execution_count": 29,
   "metadata": {},
   "outputs": [],
   "source": [
    "from abc import ABCMeta,abstractmethod"
   ]
  },
  {
   "cell_type": "markdown",
   "metadata": {},
   "source": [
    "***ex-1***\n",
    "- Even if one method is abstract, then we will get an error if we try to instantiate the class."
   ]
  },
  {
   "cell_type": "code",
   "execution_count": 56,
   "metadata": {},
   "outputs": [],
   "source": [
    "class a(metaclass=ABCMeta):\n",
    "    @abstractmethod\n",
    "    def return_policy(self):\n",
    "        pass\n",
    "class b(a):\n",
    "    pass"
   ]
  },
  {
   "cell_type": "code",
   "execution_count": 57,
   "metadata": {},
   "outputs": [
    {
     "ename": "TypeError",
     "evalue": "Can't instantiate abstract class b with abstract methods return_policy",
     "output_type": "error",
     "traceback": [
      "\u001b[0;31m---------------------------------------------------------------------------\u001b[0m",
      "\u001b[0;31mTypeError\u001b[0m                                 Traceback (most recent call last)",
      "\u001b[0;32m<ipython-input-57-3bf86fc5afda>\u001b[0m in \u001b[0;36m<module>\u001b[0;34m()\u001b[0m\n\u001b[0;32m----> 1\u001b[0;31m \u001b[0mb\u001b[0m\u001b[0;34m(\u001b[0m\u001b[0;34m)\u001b[0m\u001b[0;34m\u001b[0m\u001b[0;34m\u001b[0m\u001b[0m\n\u001b[0m",
      "\u001b[0;31mTypeError\u001b[0m: Can't instantiate abstract class b with abstract methods return_policy"
     ]
    }
   ],
   "source": [
    "b()"
   ]
  },
  {
   "cell_type": "markdown",
   "metadata": {},
   "source": [
    "***ex-2*** \n",
    "- If a method is abstract, then the Subclass must override the abstract method. Else we cannot instantiate the subclass also."
   ]
  },
  {
   "cell_type": "code",
   "execution_count": 58,
   "metadata": {},
   "outputs": [],
   "source": [
    "class a(metaclass=ABCMeta):\n",
    "    @abstractmethod\n",
    "    def return_policy(self):\n",
    "        pass\n",
    "class b(a):\n",
    "    def return_policy(self):\n",
    "        print('Keshav')"
   ]
  },
  {
   "cell_type": "code",
   "execution_count": 60,
   "metadata": {},
   "outputs": [
    {
     "name": "stdout",
     "output_type": "stream",
     "text": [
      "Keshav\n"
     ]
    }
   ],
   "source": [
    "b().return_policy()"
   ]
  },
  {
   "cell_type": "markdown",
   "metadata": {},
   "source": [
    "***ex-3***\n",
    "- If a child class overrides the abstract method, then its own child classes need not override the abstract method"
   ]
  },
  {
   "cell_type": "code",
   "execution_count": 63,
   "metadata": {},
   "outputs": [],
   "source": [
    "class a(metaclass=ABCMeta):\n",
    "    @abstractmethod\n",
    "    def return_policy(self):\n",
    "        pass\n",
    "class b(a):\n",
    "    def return_policy(self):\n",
    "        print('Keshav')\n",
    "class c(b):\n",
    "    pass"
   ]
  },
  {
   "cell_type": "code",
   "execution_count": 66,
   "metadata": {},
   "outputs": [
    {
     "data": {
      "text/plain": [
       "<__main__.c at 0x7fbb7057d6d0>"
      ]
     },
     "execution_count": 66,
     "metadata": {},
     "output_type": "execute_result"
    }
   ],
   "source": [
    "c()"
   ]
  },
  {
   "cell_type": "markdown",
   "metadata": {},
   "source": [
    "#### most important\n",
    "***ex-4***"
   ]
  },
  {
   "cell_type": "code",
   "execution_count": 73,
   "metadata": {},
   "outputs": [],
   "source": [
    "class a(metaclass=ABCMeta):\n",
    "    @abstractmethod\n",
    "    def return_policy(self):\n",
    "        pass\n",
    "class b(a):\n",
    "    pass\n",
    "class c(b):\n",
    "    pass\n",
    "class d(c):\n",
    "    def return_policy(self):\n",
    "        print('Keshav')"
   ]
  },
  {
   "cell_type": "code",
   "execution_count": 74,
   "metadata": {},
   "outputs": [
    {
     "ename": "TypeError",
     "evalue": "Can't instantiate abstract class c with abstract methods return_policy",
     "output_type": "error",
     "traceback": [
      "\u001b[0;31m---------------------------------------------------------------------------\u001b[0m",
      "\u001b[0;31mTypeError\u001b[0m                                 Traceback (most recent call last)",
      "\u001b[0;32m<ipython-input-74-cd4a6ef0eda0>\u001b[0m in \u001b[0;36m<module>\u001b[0;34m()\u001b[0m\n\u001b[0;32m----> 1\u001b[0;31m \u001b[0mc\u001b[0m\u001b[0;34m(\u001b[0m\u001b[0;34m)\u001b[0m\u001b[0;34m\u001b[0m\u001b[0;34m\u001b[0m\u001b[0m\n\u001b[0m",
      "\u001b[0;31mTypeError\u001b[0m: Can't instantiate abstract class c with abstract methods return_policy"
     ]
    }
   ],
   "source": [
    "c()"
   ]
  },
  {
   "cell_type": "markdown",
   "metadata": {},
   "source": [
    "***quick summary***\n",
    "- Usually the parent class is an abstract class.\n",
    "- Abstract classes should not be instantiated.\n",
    "- If a class has an abstract method, then the class cannot be instantiated.\n",
    "- Abstract classes are meant to be inherited.\n",
    "- The child class must implement/override all the abstract methods of the parent class. Else the child class cannot be instantiated."
   ]
  },
  {
   "cell_type": "markdown",
   "metadata": {},
   "source": [
    "***ex-4***"
   ]
  },
  {
   "cell_type": "code",
   "execution_count": 77,
   "metadata": {},
   "outputs": [
    {
     "data": {
      "text/plain": [
       "5"
      ]
     },
     "execution_count": 77,
     "metadata": {},
     "output_type": "execute_result"
    }
   ],
   "source": [
    "import math\n",
    "math.ceil(4.6)"
   ]
  },
  {
   "cell_type": "code",
   "execution_count": 78,
   "metadata": {},
   "outputs": [
    {
     "data": {
      "text/plain": [
       "4"
      ]
     },
     "execution_count": 78,
     "metadata": {},
     "output_type": "execute_result"
    }
   ],
   "source": [
    "math.floor(4.6)"
   ]
  },
  {
   "cell_type": "code",
   "execution_count": 79,
   "metadata": {},
   "outputs": [
    {
     "data": {
      "text/plain": [
       "0.67"
      ]
     },
     "execution_count": 79,
     "metadata": {},
     "output_type": "execute_result"
    }
   ],
   "source": [
    "round(2/3,2)"
   ]
  },
  {
   "cell_type": "code",
   "execution_count": null,
   "metadata": {},
   "outputs": [],
   "source": []
  }
 ],
 "metadata": {
  "kernelspec": {
   "display_name": "Python 3",
   "language": "python",
   "name": "python3"
  },
  "language_info": {
   "codemirror_mode": {
    "name": "ipython",
    "version": 3
   },
   "file_extension": ".py",
   "mimetype": "text/x-python",
   "name": "python",
   "nbconvert_exporter": "python",
   "pygments_lexer": "ipython3",
   "version": "3.7.5"
  }
 },
 "nbformat": 4,
 "nbformat_minor": 2
}
