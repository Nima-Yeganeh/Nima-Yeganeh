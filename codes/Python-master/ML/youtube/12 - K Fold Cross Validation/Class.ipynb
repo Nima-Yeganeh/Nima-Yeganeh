{
 "cells": [
  {
   "cell_type": "markdown",
   "metadata": {},
   "source": [
    "###  class and instance"
   ]
  },
  {
   "cell_type": "code",
   "execution_count": 57,
   "metadata": {},
   "outputs": [],
   "source": [
    "class a:\n",
    "    pass"
   ]
  },
  {
   "cell_type": "code",
   "execution_count": 58,
   "metadata": {},
   "outputs": [
    {
     "name": "stdout",
     "output_type": "stream",
     "text": [
      "<__main__.a object at 0x7f9efc1854d0>\n",
      "<__main__.a object at 0x7f9eed83cb10>\n"
     ]
    }
   ],
   "source": [
    "a1=a()\n",
    "a2=a()\n",
    "print(a1,a2,sep='\\n')"
   ]
  },
  {
   "cell_type": "code",
   "execution_count": 59,
   "metadata": {},
   "outputs": [],
   "source": [
    "a1.name='Keshav Singh'\n",
    "a1.email='keshavsingh4522@gmail.com'\n",
    "a1.phone=9982761929"
   ]
  },
  {
   "cell_type": "code",
   "execution_count": 60,
   "metadata": {},
   "outputs": [],
   "source": [
    "a2.name='Dev Singh'\n",
    "a2.email='keshavsingh3197@gmail.com'\n",
    "a2.phone=6350222472"
   ]
  },
  {
   "cell_type": "code",
   "execution_count": 61,
   "metadata": {},
   "outputs": [
    {
     "name": "stdout",
     "output_type": "stream",
     "text": [
      "a1.name: Keshav Singh\n",
      "a2.name: Dev Singh\n"
     ]
    }
   ],
   "source": [
    "print('a1.name: {0}\\na2.name: {1}'.format(a1.name,a2.name))"
   ]
  },
  {
   "cell_type": "code",
   "execution_count": 64,
   "metadata": {},
   "outputs": [],
   "source": [
    "class emp:\n",
    "    def __init__(self,first,last,pay):\n",
    "        self.fname=first\n",
    "        self.lname=last\n",
    "        self.pay=pay\n",
    "        self.email=first+'.'+last+'@company.com'\n",
    "    def fullname(self):\n",
    "        return self.fname+' '+self.lname"
   ]
  },
  {
   "cell_type": "code",
   "execution_count": 66,
   "metadata": {},
   "outputs": [
    {
     "name": "stdout",
     "output_type": "stream",
     "text": [
      "e1.email: keshav.singh@company.com\n",
      "e2.email: dev.singh@company.com\n"
     ]
    }
   ],
   "source": [
    "e1=emp('keshav','singh',2345)\n",
    "e2=emp('dev','singh',3455)\n",
    "print('e1.email: {0}\\ne2.email: {1}'.format(e1.email,e2.email))"
   ]
  },
  {
   "cell_type": "code",
   "execution_count": 70,
   "metadata": {},
   "outputs": [
    {
     "name": "stdout",
     "output_type": "stream",
     "text": [
      "e1.fullname(): keshav singh \n",
      "emp.fullname(e1): keshav singh\n"
     ]
    }
   ],
   "source": [
    "print('e1.fullname(): {0} \\nemp.fullname(e1): {1}'.format(e1.fullname(),emp.fullname(e1)))"
   ]
  },
  {
   "cell_type": "markdown",
   "metadata": {},
   "source": [
    "### class variable"
   ]
  },
  {
   "cell_type": "code",
   "execution_count": 115,
   "metadata": {},
   "outputs": [],
   "source": [
    "class emp:\n",
    "    no_of_emp=0\n",
    "    raise_amount=1.04\n",
    "    def __init__(self,first,last,pay):\n",
    "        self.fname=first\n",
    "        self.lname=last\n",
    "        self.pay=pay\n",
    "        self.email=first+'.'+last+'@company.com'\n",
    "        emp.no_of_emp+=1\n",
    "    def fullname(self):\n",
    "        return self.fname+' '+self.lname\n",
    "    def raise_(self):\n",
    "        return self.pay*self.raise_amount#self.raise_amount==emp.raise_amount"
   ]
  },
  {
   "cell_type": "code",
   "execution_count": 116,
   "metadata": {},
   "outputs": [
    {
     "data": {
      "text/plain": [
       "0"
      ]
     },
     "execution_count": 116,
     "metadata": {},
     "output_type": "execute_result"
    }
   ],
   "source": [
    "emp.no_of_emp"
   ]
  },
  {
   "cell_type": "code",
   "execution_count": 117,
   "metadata": {},
   "outputs": [],
   "source": [
    "e1=emp('keshav','singh',2345)\n",
    "e2=emp('dev','singh',3455)"
   ]
  },
  {
   "cell_type": "code",
   "execution_count": 118,
   "metadata": {},
   "outputs": [
    {
     "data": {
      "text/plain": [
       "2"
      ]
     },
     "execution_count": 118,
     "metadata": {},
     "output_type": "execute_result"
    }
   ],
   "source": [
    "emp.no_of_emp"
   ]
  },
  {
   "cell_type": "code",
   "execution_count": 105,
   "metadata": {},
   "outputs": [
    {
     "data": {
      "text/plain": [
       "2438.8"
      ]
     },
     "execution_count": 105,
     "metadata": {},
     "output_type": "execute_result"
    }
   ],
   "source": [
    "e1.raise_()"
   ]
  },
  {
   "cell_type": "code",
   "execution_count": 106,
   "metadata": {},
   "outputs": [
    {
     "name": "stdout",
     "output_type": "stream",
     "text": [
      "{'fname': 'keshav', 'lname': 'singh', 'pay': 2345, 'email': 'keshav.singh@company.com'}\n"
     ]
    }
   ],
   "source": [
    "print(e1.__dict__)"
   ]
  },
  {
   "cell_type": "code",
   "execution_count": 107,
   "metadata": {},
   "outputs": [
    {
     "name": "stdout",
     "output_type": "stream",
     "text": [
      "{'__module__': '__main__', 'raise_amount': 1.04, '__init__': <function emp.__init__ at 0x7f9eed7e34d0>, 'fullname': <function emp.fullname at 0x7f9eed7e3050>, 'raise_': <function emp.raise_ at 0x7f9eed79a710>, '__dict__': <attribute '__dict__' of 'emp' objects>, '__weakref__': <attribute '__weakref__' of 'emp' objects>, '__doc__': None}\n"
     ]
    }
   ],
   "source": [
    "print(emp.__dict__)"
   ]
  },
  {
   "cell_type": "code",
   "execution_count": 108,
   "metadata": {},
   "outputs": [
    {
     "name": "stdout",
     "output_type": "stream",
     "text": [
      "e1.raise_amount:  1.04\n",
      "emp.raise_amount:  1.04\n",
      "e2.raise_amount:  1.04\n",
      "e1.raise_amount:  1.06\n",
      "\n",
      "emp.raise_amount:  1.09\n",
      "e1.raise_amount:  1.06\n",
      "e2.raise_amount:  1.09\n"
     ]
    }
   ],
   "source": [
    "print('e1.raise_amount: ',e1.raise_amount)\n",
    "\n",
    "e1.raise_amount=1.06\n",
    "print('emp.raise_amount: ',emp.raise_amount)\n",
    "print('e2.raise_amount: ',e2.raise_amount)\n",
    "print('e1.raise_amount: ',e1.raise_amount,end='\\n\\n')\n",
    "\n",
    "emp.raise_amount=1.09\n",
    "print('emp.raise_amount: ',emp.raise_amount)\n",
    "print('e1.raise_amount: ',e1.raise_amount)\n",
    "print('e2.raise_amount: ',e2.raise_amount)"
   ]
  },
  {
   "cell_type": "code",
   "execution_count": 109,
   "metadata": {},
   "outputs": [
    {
     "name": "stdout",
     "output_type": "stream",
     "text": [
      "{'fname': 'keshav', 'lname': 'singh', 'pay': 2345, 'email': 'keshav.singh@company.com', 'raise_amount': 1.06}\n"
     ]
    }
   ],
   "source": [
    "print(e1.__dict__)"
   ]
  },
  {
   "cell_type": "code",
   "execution_count": 110,
   "metadata": {},
   "outputs": [
    {
     "name": "stdout",
     "output_type": "stream",
     "text": [
      "{'__module__': '__main__', 'raise_amount': 1.09, '__init__': <function emp.__init__ at 0x7f9eed7e34d0>, 'fullname': <function emp.fullname at 0x7f9eed7e3050>, 'raise_': <function emp.raise_ at 0x7f9eed79a710>, '__dict__': <attribute '__dict__' of 'emp' objects>, '__weakref__': <attribute '__weakref__' of 'emp' objects>, '__doc__': None}\n"
     ]
    }
   ],
   "source": [
    "print(emp.__dict__)"
   ]
  },
  {
   "cell_type": "markdown",
   "metadata": {},
   "source": [
    "### classmethod and staticmethod"
   ]
  },
  {
   "cell_type": "code",
   "execution_count": null,
   "metadata": {},
   "outputs": [],
   "source": []
  }
 ],
 "metadata": {
  "kernelspec": {
   "display_name": "Python 3",
   "language": "python",
   "name": "python3"
  },
  "language_info": {
   "codemirror_mode": {
    "name": "ipython",
    "version": 3
   },
   "file_extension": ".py",
   "mimetype": "text/x-python",
   "name": "python",
   "nbconvert_exporter": "python",
   "pygments_lexer": "ipython3",
   "version": "3.7.5"
  }
 },
 "nbformat": 4,
 "nbformat_minor": 2
}
