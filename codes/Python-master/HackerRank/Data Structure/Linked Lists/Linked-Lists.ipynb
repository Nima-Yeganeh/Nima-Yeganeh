{
 "cells": [
  {
   "cell_type": "code",
   "execution_count": null,
   "metadata": {},
   "outputs": [],
   "source": [
    "n=b"
   ]
  },
  {
   "cell_type": "code",
   "execution_count": 5,
   "metadata": {},
   "outputs": [
    {
     "name": "stdin",
     "output_type": "stream",
     "text": [
      " 3\n",
      " 16\n",
      " 13\n",
      " 7\n",
      " 1\n",
      " 2\n"
     ]
    },
    {
     "name": "stdout",
     "output_type": "stream",
     "text": [
      "16 13 1 7\n"
     ]
    }
   ],
   "source": [
    "a=[]\n",
    "for i in range(int(input())):\n",
    "    a.append(int(input()))\n",
    "n1=int(input())\n",
    "n2=int(input())\n",
    "a.insert(n2,n1)\n",
    "print(*(a))"
   ]
  },
  {
   "cell_type": "markdown",
   "metadata": {},
   "source": [
    "# Read, delete-node-at-position"
   ]
  },
  {
   "cell_type": "code",
   "execution_count": 82,
   "metadata": {},
   "outputs": [],
   "source": [
    "# %load delete-node-at-position.py\n",
    "class node:\n",
    "    def __init__(self,data):\n",
    "        self.data=data\n",
    "        self.next=None\n",
    "class LinkedList:\n",
    "    def __init__(self):\n",
    "        self.start=None\n",
    "    def display(self):\n",
    "        if self.start==None:\n",
    "            print('list is empty')\n",
    "        else:\n",
    "            temp=self.start\n",
    "            while temp:\n",
    "                print(temp.data)\n",
    "                temp=temp.next\n",
    "    def deleteNode(self, position):\n",
    "        # if linked ist is empty\n",
    "        temp=self.start\n",
    "        if temp==None:\n",
    "            return\n",
    "        \n",
    "        # if heads to be removed\n",
    "        if position==0:\n",
    "            self.start=temp.next\n",
    "            temp=None\n",
    "            return\n",
    "        \n",
    "        #iterate nodes for deletion\n",
    "        for  i in range(position-1):\n",
    "            temp=temp.next\n",
    "            if temp is None:\n",
    "                break\n",
    "        \n",
    "        #if position>length of linked list\n",
    "        if temp is None:\n",
    "            return\n",
    "        if temp.next is None:\n",
    "            return\n",
    "        \n",
    "        next=temp.next.next\n",
    "        temp.next=None\n",
    "        temp.next=next\n",
    "        \n",
    "l=LinkedList()\n",
    "for i in range(int(input())):\n",
    "    n=int(input())\n",
    "    if i==0:\n",
    "        l.start=node(n)\n",
    "        ptr=l.start\n",
    "    else:\n",
    "        ptr.next=node(n)\n",
    "        ptr=ptr.next"
   ]
  },
  {
   "cell_type": "code",
   "execution_count": 71,
   "metadata": {},
   "outputs": [],
   "source": [
    "def deleteNodeAtPosition(head, position):\n",
    "        # if linked ist is empty\n",
    "        temp=head\n",
    "        if temp==None:\n",
    "            return\n",
    "        \n",
    "        # if heads to be removed\n",
    "        if position==0:\n",
    "            head=temp.next\n",
    "            temp=None\n",
    "            return\n",
    "        \n",
    "        #iterate nodes for deletion\n",
    "        for  i in range(position-1):\n",
    "            temp=temp.next\n",
    "            if temp is None:\n",
    "                break\n",
    "        \n",
    "        #if position>length of linked list\n",
    "        if temp is None:\n",
    "            return\n",
    "        if temp.next is None:\n",
    "            return\n",
    "        \n",
    "        next=temp.next.next\n",
    "        temp.next=None\n",
    "        temp.next=next"
   ]
  },
  {
   "cell_type": "markdown",
   "metadata": {},
   "source": [
    "# insert at beginning"
   ]
  },
  {
   "cell_type": "code",
   "execution_count": 1,
   "metadata": {},
   "outputs": [],
   "source": [
    "# %load insert-at-beginning.py\n",
    "class node:\n",
    "    def __init__(self,data):\n",
    "        self.data=data\n",
    "        self.next=None\n",
    "class LinkedList:\n",
    "    def __init__(self):\n",
    "        self.start=None\n",
    "    def display(self):\n",
    "        if self.start==None:\n",
    "            print('list is empty')\n",
    "        else:\n",
    "            temp=self.start\n",
    "            while temp:\n",
    "                print(temp.data)\n",
    "                temp=temp.next\n",
    "    def InsertAtHead(self,n):\n",
    "        if self.start is None:\n",
    "            self.start=node(n)\n",
    "        else:\n",
    "            temp=self.start\n",
    "            self.start=node(n)\n",
    "            self.start.next=temp\n",
    "l=LinkedList()\n",
    "for i in range(int(input())):\n",
    "    n=int(input())\n",
    "    if i==0:\n",
    "        l.start=node(n)\n",
    "        ptr=l.start\n",
    "    else:\n",
    "        ptr.next=node(n)\n",
    "        ptr=ptr.next"
   ]
  },
  {
   "cell_type": "code",
   "execution_count": 77,
   "metadata": {},
   "outputs": [
    {
     "name": "stdout",
     "output_type": "stream",
     "text": [
      "12\n"
     ]
    }
   ],
   "source": [
    "l.display()"
   ]
  },
  {
   "cell_type": "code",
   "execution_count": 78,
   "metadata": {},
   "outputs": [],
   "source": [
    "l.deleteNode(1)"
   ]
  },
  {
   "cell_type": "code",
   "execution_count": 75,
   "metadata": {},
   "outputs": [],
   "source": [
    "deleteNodeAtPosition(l.start,1)"
   ]
  },
  {
   "cell_type": "code",
   "execution_count": 80,
   "metadata": {},
   "outputs": [
    {
     "data": {
      "text/plain": [
       "__main__.LinkedList"
      ]
     },
     "execution_count": 80,
     "metadata": {},
     "output_type": "execute_result"
    }
   ],
   "source": [
    "type(l)"
   ]
  },
  {
   "cell_type": "markdown",
   "metadata": {},
   "source": [
    "# Print in Reverse"
   ]
  },
  {
   "cell_type": "code",
   "execution_count": 29,
   "metadata": {},
   "outputs": [
    {
     "name": "stdin",
     "output_type": "stream",
     "text": [
      " 5\n",
      " 1\n",
      " 6\n",
      " 3\n",
      " 8\n",
      " 2\n"
     ]
    },
    {
     "name": "stdout",
     "output_type": "stream",
     "text": [
      "2\n",
      "8\n",
      "3\n",
      "6\n",
      "1\n"
     ]
    }
   ],
   "source": [
    "# %load print-in-reverse.py\n",
    "class node:\n",
    "    def __init__(self,data):\n",
    "        self.data=data\n",
    "        self.next=None\n",
    "class LinkedList:\n",
    "    def __init__(self):\n",
    "        self.start=None\n",
    "    def display(self):\n",
    "        if self.start==None:\n",
    "            print('list is empty')\n",
    "        else:\n",
    "            temp=self.start\n",
    "            while temp:\n",
    "                print(temp.data)\n",
    "                temp=temp.next\n",
    "    def display_reverse(self,head):\n",
    "        if head:\n",
    "            self.display_reverse(head.next)\n",
    "            print(head.data)\n",
    "    def InsertAtHead(self,n):\n",
    "        if self.start is None:\n",
    "            self.start=node(n)\n",
    "        else:\n",
    "            temp=self.start\n",
    "            self.start=node(n)\n",
    "            self.start.next=temp\n",
    "l=LinkedList()\n",
    "for _ in range(int(input())):\n",
    "    n=int(input())\n",
    "    if l .start==None:\n",
    "        l.start=node(n)\n",
    "        ptr=l.start\n",
    "    else:\n",
    "        ptr.next=node(n)\n",
    "        ptr=ptr.next\n",
    "l.display_reverse(l.start)"
   ]
  },
  {
   "cell_type": "markdown",
   "metadata": {},
   "source": [
    "# Reverse a linked list"
   ]
  },
  {
   "cell_type": "code",
   "execution_count": null,
   "metadata": {},
   "outputs": [],
   "source": [
    "n=b"
   ]
  },
  {
   "cell_type": "code",
   "execution_count": 35,
   "metadata": {},
   "outputs": [
    {
     "name": "stdin",
     "output_type": "stream",
     "text": [
      " 4\n",
      " 12\n",
      " 434\n",
      " 66\n",
      " 22\n"
     ]
    },
    {
     "name": "stdout",
     "output_type": "stream",
     "text": [
      "Linked Lists\n",
      "12\n",
      "434\n",
      "66\n",
      "22\n",
      "Linked Lists After Reversing\n",
      "22\n",
      "66\n",
      "434\n",
      "12\n"
     ]
    }
   ],
   "source": [
    "# %load Reverse-linked-list.py\n",
    "class node:\n",
    "    def __init__(self,data):\n",
    "        self.data=data\n",
    "        self.next=None\n",
    "class LinkedList:\n",
    "    def __init__(self):\n",
    "        self.start=None\n",
    "    def display(self):\n",
    "        if self.start==None:\n",
    "            print('list is empty')\n",
    "        else:\n",
    "            temp=self.start\n",
    "            while temp:\n",
    "                print(temp.data)\n",
    "                temp=temp.next\n",
    "    def reversing_linked_list(self):\n",
    "        current=self.start\n",
    "        previous=None\n",
    "        while current:\n",
    "            temp=current.next\n",
    "            current.next=previous\n",
    "            previous=current\n",
    "            current=temp\n",
    "        self.start=previous\n",
    "                \n",
    "l=LinkedList()\n",
    "for _ in range(int(input())):\n",
    "    n=int(input())\n",
    "    if l .start==None:\n",
    "        l.start=node(n)\n",
    "        ptr=l.start\n",
    "    else:\n",
    "        ptr.next=node(n)\n",
    "        ptr=ptr.next\n",
    "print('Linked Lists')\n",
    "l.display()\n",
    "print('Linked Lists After Reversing')\n",
    "l.reversing_linked_list()\n",
    "l.display()"
   ]
  },
  {
   "cell_type": "markdown",
   "metadata": {},
   "source": [
    "# Compare two linked lists"
   ]
  },
  {
   "cell_type": "code",
   "execution_count": 40,
   "metadata": {},
   "outputs": [
    {
     "name": "stdin",
     "output_type": "stream",
     "text": [
      " 1\n",
      " 2\n",
      " 1\n",
      " 2\n",
      " 2\n",
      " 1\n",
      " 1\n"
     ]
    },
    {
     "name": "stdout",
     "output_type": "stream",
     "text": [
      "0\n"
     ]
    }
   ],
   "source": [
    "# %load compare-linked-list.py\n",
    "class node:\n",
    "    def __init__(self,data):\n",
    "        self.data=data\n",
    "        self.next=None\n",
    "class LinkedList:\n",
    "    def __init__(self):\n",
    "        self.start=None\n",
    "    def display(self):\n",
    "        if self.start==None:\n",
    "            print('list is empty')\n",
    "        else:\n",
    "            temp=self.start\n",
    "            while temp:\n",
    "                print(temp.data)\n",
    "                temp=temp.next\n",
    "def compare(l1,l2):\n",
    "    ptr1=l1.start\n",
    "    ptr2=l2.start\n",
    "    while ptr1 and ptr2:\n",
    "        if ptr1.data!=ptr2.data:\n",
    "            return 0\n",
    "        ptr1=ptr1.next\n",
    "        ptr2=ptr2.next\n",
    "    if ptr1 is None and ptr2 is None:\n",
    "        return 1\n",
    "    else:\n",
    "        return 0\n",
    "def addElemntInLinkedList():\n",
    "    l=LinkedList()\n",
    "    for i in range(int(input())):\n",
    "        n=int(input())\n",
    "        if l .start==None:\n",
    "            l.start=node(n)\n",
    "            ptr=l.start\n",
    "        else:\n",
    "            ptr.next=node(n)\n",
    "            ptr=ptr.next\n",
    "    return l\n",
    "for _ in range(int(input())):\n",
    "    l1=addElemntInLinkedList()\n",
    "    l2=addElemntInLinkedList()\n",
    "    print(compare(l1,l2))"
   ]
  },
  {
   "cell_type": "markdown",
   "metadata": {},
   "source": [
    "# Merge two sorted linked lists\n"
   ]
  },
  {
   "cell_type": "code",
   "execution_count": 18,
   "metadata": {},
   "outputs": [
    {
     "name": "stdin",
     "output_type": "stream",
     "text": [
      " 1\n",
      " 3\n",
      " 1\n",
      " 2\n",
      " 3\n",
      " 2\n",
      " 3\n",
      " 4\n"
     ]
    },
    {
     "name": "stdout",
     "output_type": "stream",
     "text": [
      "1\n",
      "2\n",
      "3\n",
      "3\n",
      "4\n"
     ]
    }
   ],
   "source": [
    "# %load Merge-two-sorted-linked-lists.py\n",
    "class node:\n",
    "    def __init__(self,data):\n",
    "        self.data=data\n",
    "        self.next=None\n",
    "class LinkedList:\n",
    "    def __init__(self):\n",
    "        self.start=None\n",
    "def display(head):\n",
    "    if head==None:\n",
    "        print('list is empty')\n",
    "    else:\n",
    "        temp=head\n",
    "        while temp:\n",
    "            print(temp.data)\n",
    "            temp=temp.next\n",
    "\n",
    "def merge(l1,l2):\n",
    "    l=LinkedList()\n",
    "    ptr=l\n",
    "    while l1 or l2:\n",
    "        if l1 is None:\n",
    "            ptr.next=l2\n",
    "            break\n",
    "        elif l2 is None:\n",
    "            ptr.next=l1\n",
    "            break\n",
    "        else:\n",
    "            if l1.data>l2.data:\n",
    "                ptr.next=l2\n",
    "                l2=l2.next\n",
    "            else:\n",
    "                ptr.next=l1\n",
    "                l1=l1.next\n",
    "            ptr=ptr.next\n",
    "    return l.next\n",
    "#     if l1 is None and l2 is None:\n",
    "#         return None\n",
    "#     if l1 is None:\n",
    "#         return l2\n",
    "#     if l2 is None:\n",
    "#         return l1\n",
    "#     if l1.data>l2.data:\n",
    "#         l=l2\n",
    "#         l.next=merge(l1,l2.next)\n",
    "#     else:\n",
    "#         l=l1\n",
    "#         l.next=merge(l1.next,l2)\n",
    "#     return l\n",
    "def addElemntInLinkedList():\n",
    "    l=LinkedList()\n",
    "    for i in range(int(input())):\n",
    "        n=int(input())\n",
    "        if l .start==None:\n",
    "            l.start=node(n)\n",
    "            ptr=l.start\n",
    "        else:\n",
    "            ptr.next=node(n)\n",
    "            ptr=ptr.next\n",
    "    return l.start\n",
    "for _ in range(int(input())):\n",
    "    l1=addElemntInLinkedList()\n",
    "    l2=addElemntInLinkedList()\n",
    "    display(merge(l1,l2))"
   ]
  },
  {
   "cell_type": "markdown",
   "metadata": {},
   "source": [
    "# remove duplicate"
   ]
  },
  {
   "cell_type": "code",
   "execution_count": 8,
   "metadata": {},
   "outputs": [],
   "source": [
    "class node:\n",
    "    def __init__(self,data):\n",
    "        self.data=data\n",
    "        self.next=None\n",
    "class LinkedList:\n",
    "    def __init__(self):\n",
    "        self.start=None\n",
    "def display(head):\n",
    "    if head==None:\n",
    "        print('list is empty')\n",
    "    else:\n",
    "        temp=head\n",
    "        while temp:\n",
    "            print(temp.data)\n",
    "            temp=temp.next\n",
    "def addElemntInLinkedList():\n",
    "    l=LinkedList()\n",
    "    for i in range(int(input())):\n",
    "        n=int(input())\n",
    "        if l .start==None:\n",
    "            l.start=node(n)\n",
    "            ptr=l.start\n",
    "        else:\n",
    "            ptr.next=node(n)\n",
    "            ptr=ptr.next\n",
    "    return l.start"
   ]
  },
  {
   "cell_type": "code",
   "execution_count": 49,
   "metadata": {},
   "outputs": [
    {
     "name": "stdin",
     "output_type": "stream",
     "text": [
      " 5\n",
      " 2\n",
      " 2\n",
      " 4\n",
      " 4\n",
      " 6\n"
     ]
    }
   ],
   "source": [
    "head=addElemntInLinkedList()"
   ]
  },
  {
   "cell_type": "code",
   "execution_count": 50,
   "metadata": {},
   "outputs": [
    {
     "name": "stdout",
     "output_type": "stream",
     "text": [
      "2\n",
      "2\n",
      "4\n",
      "4\n",
      "6\n"
     ]
    }
   ],
   "source": [
    "display(head)"
   ]
  },
  {
   "cell_type": "code",
   "execution_count": 51,
   "metadata": {},
   "outputs": [],
   "source": [
    "def remove_duplicate(head):\n",
    "    if head is None:\n",
    "        return\n",
    "    else:\n",
    "        ptr=head\n",
    "        temp=head.data\n",
    "        head_d=node(head.data)\n",
    "        ptr_d=head_d\n",
    "        while ptr:\n",
    "            if temp!=ptr.data:\n",
    "                temp=ptr.data\n",
    "                ptr_d.next=node(ptr.data)\n",
    "                ptr_d=ptr_d.next\n",
    "            ptr=ptr.next\n",
    "        return head_d"
   ]
  },
  {
   "cell_type": "code",
   "execution_count": 52,
   "metadata": {},
   "outputs": [
    {
     "data": {
      "text/plain": [
       "<__main__.node at 0x7f1a7e573f70>"
      ]
     },
     "execution_count": 52,
     "metadata": {},
     "output_type": "execute_result"
    }
   ],
   "source": [
    "remove_duplicate(head)"
   ]
  },
  {
   "cell_type": "code",
   "execution_count": 53,
   "metadata": {},
   "outputs": [
    {
     "name": "stdout",
     "output_type": "stream",
     "text": [
      "2\n",
      "4\n",
      "6\n"
     ]
    }
   ],
   "source": [
    "display(remove_duplicate(head))"
   ]
  },
  {
   "cell_type": "markdown",
   "metadata": {},
   "source": [
    "### [Get Node Value](https://www.hackerrank.com/challenges/get-the-value-of-the-node-at-a-specific-position-from-the-tail/problem)\n",
    "- method 1"
   ]
  },
  {
   "cell_type": "code",
   "execution_count": 1,
   "metadata": {},
   "outputs": [],
   "source": [
    "def getNode(head, p):\n",
    "    l=[]\n",
    "    while head:\n",
    "        l.append(head.data)\n",
    "        head=head.next\n",
    "    return l[-p-1]"
   ]
  },
  {
   "cell_type": "markdown",
   "metadata": {},
   "source": [
    "- method 2"
   ]
  },
  {
   "cell_type": "code",
   "execution_count": 2,
   "metadata": {},
   "outputs": [],
   "source": [
    "def getNode(head, p):\n",
    "    tracked=head\n",
    "    while head:\n",
    "        if p>-1:\n",
    "            p-=1\n",
    "        else:\n",
    "            tracked=tracked.next\n",
    "        head=head.next\n",
    "    return tracked.data"
   ]
  },
  {
   "cell_type": "markdown",
   "metadata": {},
   "source": [
    "### [Cycle Detection](https://www.hackerrank.com/challenges/detect-whether-a-linked-list-contains-a-cycle/problem?h_r=next-challenge&h_v=zen&h_r=next-challenge&h_v=zen)\n"
   ]
  },
  {
   "cell_type": "markdown",
   "metadata": {},
   "source": [
    "- **method 1 (hashing)**\n",
    "- Time Complexity O(n)\n",
    "- Auxiliary Space O(n)"
   ]
  },
  {
   "cell_type": "code",
   "execution_count": 3,
   "metadata": {},
   "outputs": [],
   "source": [
    "def has_cycle(head):\n",
    "    l=set()\n",
    "    while head:\n",
    "        if head in l:\n",
    "            return True\n",
    "        else:\n",
    "            l.add(head)\n",
    "        head=head.next\n",
    "    return False"
   ]
  },
  {
   "cell_type": "markdown",
   "metadata": {},
   "source": [
    "- **method 2 (Floyd’s Cycle-Finding Algorithm)**\n",
    "- Time Complexity O(n)\n",
    "- Auxiliary Space O(1)"
   ]
  },
  {
   "cell_type": "code",
   "execution_count": null,
   "metadata": {},
   "outputs": [],
   "source": [
    "def has_cycle(head):\n",
    "    l1=head\n",
    "    l2=head\n",
    "    while l1 and l2 and l2.next:\n",
    "        l1=l1.next\n",
    "        l2=l2.next.next\n",
    "        if l1==l2:\n",
    "            return True\n",
    "    return False"
   ]
  },
  {
   "cell_type": "markdown",
   "metadata": {},
   "source": [
    "### [Find Merge Point of Two Lists](https://www.hackerrank.com/challenges/find-the-merge-point-of-two-joined-linked-lists/problem?h_r=next-challenge&h_v=zen)"
   ]
  },
  {
   "cell_type": "code",
   "execution_count": 11,
   "metadata": {},
   "outputs": [],
   "source": [
    "def findMergeNode(head1, head2):\n",
    "    A, B = head1, head2\n",
    "    while A != B:\n",
    "        A, B = A.next or head1, B.next or head2\n",
    "    return A.data"
   ]
  },
  {
   "cell_type": "markdown",
   "metadata": {},
   "source": [
    "[https://youtu.be/gE0GopCq378](https://youtu.be/gE0GopCq378)"
   ]
  },
  {
   "cell_type": "code",
   "execution_count": 14,
   "metadata": {},
   "outputs": [],
   "source": [
    "def head_length(head):\n",
    "    l=0\n",
    "    while head:\n",
    "        l+=1\n",
    "        head=head.next\n",
    "    return l\n",
    "def merge_point(head1,head2):\n",
    "    m=head_length(head1)\n",
    "    n=head_length(head2)\n",
    "    d=m-n\n",
    "    if m<n:\n",
    "        temp=head1\n",
    "        head1=head2\n",
    "        head2=temp\n",
    "        d=n-m\n",
    "    while d:\n",
    "        head1=head1.next\n",
    "        d-=1\n",
    "    while head1 and head2:\n",
    "        if head1==head2:\n",
    "            return head1.data\n",
    "        head1=head1.next\n",
    "        head2=head2.next\n",
    "    return None"
   ]
  },
  {
   "cell_type": "code",
   "execution_count": 1,
   "metadata": {},
   "outputs": [
    {
     "data": {
      "text/plain": [
       "80550"
      ]
     },
     "execution_count": 1,
     "metadata": {},
     "output_type": "execute_result"
    }
   ],
   "source": [
    "9250+16800+22400+10500+21600"
   ]
  },
  {
   "cell_type": "code",
   "execution_count": 2,
   "metadata": {},
   "outputs": [
    {
     "data": {
      "text/plain": [
       "140000"
      ]
     },
     "execution_count": 2,
     "metadata": {},
     "output_type": "execute_result"
    }
   ],
   "source": [
    "50000+10000+25000+5000+50000"
   ]
  },
  {
   "cell_type": "code",
   "execution_count": 3,
   "metadata": {},
   "outputs": [
    {
     "data": {
      "text/plain": [
       "220550"
      ]
     },
     "execution_count": 3,
     "metadata": {},
     "output_type": "execute_result"
    }
   ],
   "source": [
    "80550+140000"
   ]
  },
  {
   "cell_type": "code",
   "execution_count": 5,
   "metadata": {},
   "outputs": [
    {
     "data": {
      "text/plain": [
       "{2}"
      ]
     },
     "execution_count": 5,
     "metadata": {},
     "output_type": "execute_result"
    }
   ],
   "source": [
    "s=set()\n",
    "s.add(2)\n",
    "s"
   ]
  },
  {
   "cell_type": "code",
   "execution_count": 10,
   "metadata": {},
   "outputs": [
    {
     "data": {
      "text/plain": [
       "2"
      ]
     },
     "execution_count": 10,
     "metadata": {},
     "output_type": "execute_result"
    }
   ],
   "source": [
    "list({2,3,4} &{2,7,8})[0]"
   ]
  },
  {
   "cell_type": "code",
   "execution_count": null,
   "metadata": {},
   "outputs": [],
   "source": []
  }
 ],
 "metadata": {
  "kernelspec": {
   "display_name": "Python 3",
   "language": "python",
   "name": "python3"
  },
  "language_info": {
   "codemirror_mode": {
    "name": "ipython",
    "version": 3
   },
   "file_extension": ".py",
   "mimetype": "text/x-python",
   "name": "python",
   "nbconvert_exporter": "python",
   "pygments_lexer": "ipython3",
   "version": "3.8.2"
  }
 },
 "nbformat": 4,
 "nbformat_minor": 4
}
