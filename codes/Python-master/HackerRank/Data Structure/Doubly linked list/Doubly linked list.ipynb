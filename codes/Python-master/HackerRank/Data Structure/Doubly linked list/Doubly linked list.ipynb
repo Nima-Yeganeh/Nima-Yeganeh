{
 "cells": [
  {
   "cell_type": "code",
   "execution_count": 30,
   "metadata": {},
   "outputs": [],
   "source": [
    "class node:\n",
    "    def __init__(self,data):\n",
    "        self.data=data\n",
    "        self.prev=None\n",
    "        self.next=None\n",
    "class doubly_linked_list:\n",
    "    def __init__(self):\n",
    "        self.start=None\n",
    "def display(head):\n",
    "    while head:\n",
    "        print(head.data,end=' ')\n",
    "        tail=head.prev\n",
    "        head=head.next\n",
    "#     print()\n",
    "#     while tail:\n",
    "#         print(tail.data,end=' ')\n",
    "#         tail=tail.prev"
   ]
  },
  {
   "cell_type": "code",
   "execution_count": 40,
   "metadata": {},
   "outputs": [
    {
     "name": "stdin",
     "output_type": "stream",
     "text": [
      " 12 45 67 48 69\n"
     ]
    }
   ],
   "source": [
    "def insert_at_tail(a):\n",
    "    dl=doubly_linked_list()\n",
    "    for i in a:\n",
    "        if dl.start==None:\n",
    "            dl.start=node(i)\n",
    "            ptr=dl.start\n",
    "        else:\n",
    "            ptr.next=node(i)\n",
    "            ptr.next.prev=ptr\n",
    "            ptr=ptr.next\n",
    "    return dl.start\n",
    "head=insert_at_tail(map(int,input().split()))"
   ]
  },
  {
   "cell_type": "code",
   "execution_count": 32,
   "metadata": {},
   "outputs": [
    {
     "name": "stdout",
     "output_type": "stream",
     "text": [
      "12 23 34 56 67 78 89 "
     ]
    }
   ],
   "source": [
    "display(head)"
   ]
  },
  {
   "cell_type": "code",
   "execution_count": 2,
   "metadata": {},
   "outputs": [
    {
     "name": "stdout",
     "output_type": "stream",
     "text": [
      "34 56 78 90 2 12 "
     ]
    }
   ],
   "source": []
  },
  {
   "cell_type": "code",
   "execution_count": null,
   "metadata": {},
   "outputs": [],
   "source": []
  },
  {
   "cell_type": "code",
   "execution_count": 140,
   "metadata": {},
   "outputs": [
    {
     "name": "stdin",
     "output_type": "stream",
     "text": [
      " 34 67 89 121\n"
     ]
    }
   ],
   "source": [
    "def insert_at_head(a):\n",
    "    dl=doubly_linked_list()\n",
    "    temp=None\n",
    "    for i in a:\n",
    "        if not temp:\n",
    "            temp=node(i)\n",
    "        else:\n",
    "            temp.prev=node(i)\n",
    "            temp.prev.next=temp\n",
    "            temp=temp.prev\n",
    "    dl.start=temp\n",
    "    return dl.start\n",
    "head=insert_at_head(map(int,input().split()))"
   ]
  },
  {
   "cell_type": "code",
   "execution_count": 141,
   "metadata": {},
   "outputs": [
    {
     "name": "stdout",
     "output_type": "stream",
     "text": [
      "121 89 67 34 "
     ]
    }
   ],
   "source": [
    "display(head)"
   ]
  },
  {
   "cell_type": "markdown",
   "metadata": {},
   "source": [
    "### sortedInsert head, data"
   ]
  },
  {
   "cell_type": "markdown",
   "metadata": {},
   "source": [
    "- iteration mthod ---WORKING"
   ]
  },
  {
   "cell_type": "code",
   "execution_count": 90,
   "metadata": {},
   "outputs": [],
   "source": [
    "def sortedInsert(head, data):\n",
    "    temp=node(data)\n",
    "    if head is None:\n",
    "        head=node(data)\n",
    "    else:\n",
    "        cur=head\n",
    "        if head.data>data: ##insert temp to head\n",
    "            temp.next=cur\n",
    "            cur.prev=temp\n",
    "            return temp\n",
    "        else:\n",
    "            while cur.next!=None:\n",
    "                if cur.data<data and cur.next.data>=data: # insert temp to non-head part of list\n",
    "                    temp.next=cur.next\n",
    "                    temp.prev=cur\n",
    "                    cur.next.prev=temp\n",
    "                    cur.next=temp\n",
    "                    return head\n",
    "                cur=cur.next\n",
    "            cur.next=temp # insert temp to end of head\n",
    "            temp.prev=cur\n",
    "    return head"
   ]
  },
  {
   "cell_type": "code",
   "execution_count": 91,
   "metadata": {},
   "outputs": [
    {
     "name": "stdout",
     "output_type": "stream",
     "text": [
      "1 2 7 8 8 9 "
     ]
    }
   ],
   "source": [
    "display(sortedInsert(head,1))"
   ]
  },
  {
   "cell_type": "code",
   "execution_count": 92,
   "metadata": {},
   "outputs": [
    {
     "name": "stdout",
     "output_type": "stream",
     "text": [
      "2 7 8 8 9 "
     ]
    }
   ],
   "source": [
    "display(head)"
   ]
  },
  {
   "cell_type": "markdown",
   "metadata": {},
   "source": [
    "- recursion method ---- LITTLE PROBLEM use iteration method as above dont use below recursion code"
   ]
  },
  {
   "cell_type": "code",
   "execution_count": 109,
   "metadata": {},
   "outputs": [],
   "source": [
    "def sortedInsert_rc(head,data):\n",
    "    temp=node(data)\n",
    "    if head is None:\n",
    "        return temp\n",
    "    else:\n",
    "        if head.data>data:\n",
    "            temp.next=head\n",
    "            head.prev=temp\n",
    "            return temp\n",
    "        else:\n",
    "            sortedInsert_rc(head.next,data)\n",
    "            head.next=temp\n",
    "            temp.prev=head\n",
    "            return head"
   ]
  },
  {
   "cell_type": "code",
   "execution_count": 118,
   "metadata": {},
   "outputs": [
    {
     "name": "stdout",
     "output_type": "stream",
     "text": [
      "2 3 7 8 8 9 24 24 24 24 34 34 "
     ]
    }
   ],
   "source": [
    "display(head)"
   ]
  },
  {
   "cell_type": "code",
   "execution_count": 117,
   "metadata": {},
   "outputs": [
    {
     "name": "stdout",
     "output_type": "stream",
     "text": [
      "2 3 7 8 8 9 24 24 24 24 34 34 "
     ]
    }
   ],
   "source": [
    "display(sortedInsert(head,3))"
   ]
  },
  {
   "cell_type": "markdown",
   "metadata": {},
   "source": [
    "# [Reverse a doubly linked list](https://www.hackerrank.com/challenges/reverse-a-doubly-linked-list/problem?h_r=next-challenge&h_v=zen)"
   ]
  },
  {
   "cell_type": "code",
   "execution_count": 51,
   "metadata": {},
   "outputs": [],
   "source": [
    "def reverse(head):\n",
    "    curr=None\n",
    "    while head:\n",
    "        # head    \n",
    "        curr=head\n",
    "        \n",
    "        #swapping        \n",
    "        temp=head.next\n",
    "        head.next=head.prev\n",
    "        head.prev=temp\n",
    "        #head=head.next\n",
    "        head=temp\n",
    "    return curr"
   ]
  },
  {
   "cell_type": "code",
   "execution_count": 54,
   "metadata": {},
   "outputs": [
    {
     "name": "stdout",
     "output_type": "stream",
     "text": [
      "12 45 67 48 69 "
     ]
    }
   ],
   "source": [
    "display(head)"
   ]
  },
  {
   "cell_type": "code",
   "execution_count": 55,
   "metadata": {},
   "outputs": [
    {
     "name": "stdout",
     "output_type": "stream",
     "text": [
      "69 48 67 45 12 "
     ]
    }
   ],
   "source": [
    "head=reverse(head)\n",
    "display(head)"
   ]
  },
  {
   "cell_type": "code",
   "execution_count": null,
   "metadata": {},
   "outputs": [],
   "source": []
  },
  {
   "cell_type": "code",
   "execution_count": 12,
   "metadata": {},
   "outputs": [],
   "source": [
    "def Reverse(head):\n",
    "\n",
    "    curr = None\n",
    "\n",
    "    while head:\n",
    "\n",
    "        nxt = head.next\n",
    "        curr = head\n",
    "        head.next = head.prev\n",
    "        head.prev = nxt\n",
    "        head = nxt\n",
    "    \n",
    "    return curr"
   ]
  }
 ],
 "metadata": {
  "kernelspec": {
   "display_name": "Python 3",
   "language": "python",
   "name": "python3"
  },
  "language_info": {
   "codemirror_mode": {
    "name": "ipython",
    "version": 3
   },
   "file_extension": ".py",
   "mimetype": "text/x-python",
   "name": "python",
   "nbconvert_exporter": "python",
   "pygments_lexer": "ipython3",
   "version": "3.8.2"
  }
 },
 "nbformat": 4,
 "nbformat_minor": 4
}
