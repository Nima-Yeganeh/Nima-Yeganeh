{
 "cells": [
  {
   "cell_type": "code",
   "execution_count": 40,
   "metadata": {},
   "outputs": [],
   "source": [
    "class node:\n",
    "    def __init__(self,data):\n",
    "        self.data=data\n",
    "        self.right=None\n",
    "        self.left=None"
   ]
  },
  {
   "cell_type": "markdown",
   "metadata": {},
   "source": [
    "### Adding data in tree "
   ]
  },
  {
   "cell_type": "code",
   "execution_count": 41,
   "metadata": {},
   "outputs": [],
   "source": [
    "# %load 'Binary Search Tree'/'adding data'.py\n",
    "def Insert(root,data):\n",
    "    if root is None:\n",
    "        root=node(data)\n",
    "    else:\n",
    "        if root.data < data:\n",
    "            if root.right is None:\n",
    "                root.right=node(data)\n",
    "            else:\n",
    "                Insert(root.right,data)\n",
    "        else:\n",
    "            if root.left is None:\n",
    "                root.left=node(data)\n",
    "            else:\n",
    "                Insert(root.left,data)"
   ]
  },
  {
   "cell_type": "markdown",
   "metadata": {},
   "source": [
    "### Traversal"
   ]
  },
  {
   "cell_type": "markdown",
   "metadata": {},
   "source": [
    "- inorder traversal"
   ]
  },
  {
   "cell_type": "code",
   "execution_count": 42,
   "metadata": {},
   "outputs": [],
   "source": [
    "# %load Traversal/inorder.py\n",
    "def inorder(head):\n",
    "    if head:\n",
    "        inorder(head.left)\n",
    "        print(head.data)\n",
    "        inorder(head.right)"
   ]
  },
  {
   "cell_type": "markdown",
   "metadata": {},
   "source": [
    "- preorder traversal"
   ]
  },
  {
   "cell_type": "code",
   "execution_count": 43,
   "metadata": {},
   "outputs": [],
   "source": [
    "# %load Traversal/preorder.py\n",
    "def preorder(head):\n",
    "    if head:\n",
    "        print(head.data)\n",
    "        preorder(head.left)\n",
    "        preorder(head.right)"
   ]
  },
  {
   "cell_type": "markdown",
   "metadata": {},
   "source": [
    "- postorder traversal"
   ]
  },
  {
   "cell_type": "code",
   "execution_count": 44,
   "metadata": {},
   "outputs": [],
   "source": [
    "# %load Traversal/postorder.py\n",
    "def postorder(head):\n",
    "    if head:\n",
    "        postorder(head.left)\n",
    "        postorder(head.right)\n",
    "        print(head.data)"
   ]
  },
  {
   "cell_type": "code",
   "execution_count": 45,
   "metadata": {},
   "outputs": [
    {
     "name": "stdout",
     "output_type": "stream",
     "text": [
      "enter data of nodes: \n"
     ]
    },
    {
     "name": "stdin",
     "output_type": "stream",
     "text": [
      " 6 3 8 4 7\n"
     ]
    },
    {
     "name": "stdout",
     "output_type": "stream",
     "text": [
      "Inorder Traversal\n",
      "3\n",
      "4\n",
      "6\n",
      "7\n",
      "8\n",
      "Preorder Traversal\n",
      "6\n",
      "3\n",
      "4\n",
      "8\n",
      "7\n",
      "Postorder Traversal\n",
      "4\n",
      "3\n",
      "7\n",
      "8\n",
      "6\n"
     ]
    }
   ],
   "source": [
    "print('enter data of nodes: ')\n",
    "a=list(map(int,input().split()))\n",
    "r=node(a[0])\n",
    "for i in range(1,len(a)):\n",
    "    Insert(r,a[i])\n",
    "print('Inorder Traversal')\n",
    "inorder(r)\n",
    "print('Preorder Traversal')\n",
    "preorder(r)\n",
    "print('Postorder Traversal')\n",
    "postorder(r)"
   ]
  },
  {
   "cell_type": "markdown",
   "metadata": {},
   "source": [
    "- levelorder traversal"
   ]
  },
  {
   "cell_type": "code",
   "execution_count": 46,
   "metadata": {},
   "outputs": [],
   "source": [
    "# %load Traversal/levelorder.py\n",
    "# https://www.hackerrank.com/challenges/tree-level-order-traversal/problem\n",
    "def levelOrder(root):\n",
    "    l=[root]\n",
    "    while l:\n",
    "        print(l[0].data,end=' ')\n",
    "        if l[0].left:\n",
    "            l.append(l[0].left)\n",
    "        if l[0].right:\n",
    "            l.append(l[0].right)\n",
    "        l.pop(0)"
   ]
  },
  {
   "cell_type": "code",
   "execution_count": 47,
   "metadata": {},
   "outputs": [
    {
     "name": "stdout",
     "output_type": "stream",
     "text": [
      "6 3 8 4 7 "
     ]
    }
   ],
   "source": [
    "levelOrder(r)"
   ]
  },
  {
   "cell_type": "markdown",
   "metadata": {},
   "source": [
    "<pre>\n",
    "           1\n",
    "        /    \\ \n",
    "       2      3\n",
    "      / \\   /   \\\n",
    "     4   5  6   7\n",
    "               /  \\ \n",
    "              8   9 \n",
    "</pre>"
   ]
  },
  {
   "cell_type": "code",
   "execution_count": 97,
   "metadata": {},
   "outputs": [
    {
     "name": "stdout",
     "output_type": "stream",
     "text": [
      "Vertical order traversal is\n",
      "4 2 1 5 6 3 8 7 9 "
     ]
    }
   ],
   "source": [
    "class Node: \n",
    "\tdef __init__(self, key): \n",
    "\t\tself.data = key \n",
    "\t\tself.left = None\n",
    "\t\tself.right = None\n",
    "\n",
    "def getVerticalOrder(root, hd, m): \n",
    "\tif root is None: \n",
    "\t\treturn\n",
    "\ttry: \n",
    "\t\tm[hd].append(root.data) \n",
    "\texcept: \n",
    "\t\tm[hd] = [root.data] \n",
    "\tgetVerticalOrder(root.left, hd-1, m) \n",
    "\tgetVerticalOrder(root.right, hd+1, m) \n",
    "\n",
    "def printVerticalOrder(root): \n",
    "\tm = dict() \n",
    "\thd = 0\n",
    "\tgetVerticalOrder(root, hd, m) \n",
    "\tfor index, value in enumerate(sorted(m)): \n",
    "\t\tfor i in m[value]: \n",
    "\t\t\tprint(i,end=' ')\n",
    "\t\tprint\n",
    "\n",
    "root = Node(1) \n",
    "root.left = Node(2) \n",
    "root.right = Node(3) \n",
    "root.left.left = Node(4) \n",
    "root.left.right = Node(5) \n",
    "root.right.left = Node(6) \n",
    "root.right.right = Node(7) \n",
    "root.right.left.right = Node(8) \n",
    "root.right.right.right = Node(9) \n",
    "print(\"Vertical order traversal is\")\n",
    "printVerticalOrder(root) "
   ]
  },
  {
   "cell_type": "code",
   "execution_count": 98,
   "metadata": {},
   "outputs": [
    {
     "name": "stdout",
     "output_type": "stream",
     "text": [
      "4\n",
      "2\n",
      "5\n",
      "1\n",
      "6\n",
      "8\n",
      "3\n",
      "7\n",
      "9\n"
     ]
    }
   ],
   "source": [
    "inorder(root)"
   ]
  },
  {
   "cell_type": "code",
   "execution_count": 55,
   "metadata": {},
   "outputs": [
    {
     "name": "stdout",
     "output_type": "stream",
     "text": [
      "1 2 3 4 5 6 7 8 9 "
     ]
    }
   ],
   "source": [
    "levelOrder(root)"
   ]
  },
  {
   "cell_type": "code",
   "execution_count": 103,
   "metadata": {},
   "outputs": [
    {
     "name": "stdout",
     "output_type": "stream",
     "text": [
      "4\n",
      "2\n",
      "1 5 6\n",
      "3 8\n",
      "7\n",
      "9\n"
     ]
    }
   ],
   "source": [
    "def vertical(head,hd,m):\n",
    "    if head is None:\n",
    "        return\n",
    "    try:\n",
    "        m[hd].append(head.data)\n",
    "    except:\n",
    "        m[hd]=[head.data]\n",
    "    vertical(head.left,hd-1,m)\n",
    "    vertical(head.right,hd+1,m)\n",
    "m=dict()\n",
    "hd=0\n",
    "vertical(root,hd,m)\n",
    "for i in sorted(m):\n",
    "    print(*m[i])"
   ]
  },
  {
   "cell_type": "code",
   "execution_count": 77,
   "metadata": {},
   "outputs": [
    {
     "data": {
      "text/plain": [
       "0"
      ]
     },
     "execution_count": 77,
     "metadata": {},
     "output_type": "execute_result"
    }
   ],
   "source": [
    "hd"
   ]
  },
  {
   "cell_type": "code",
   "execution_count": 78,
   "metadata": {},
   "outputs": [
    {
     "data": {
      "text/plain": [
       "{0: [1, 5, 6], -1: [2], -2: [4], 1: [3, 8], 2: [7], 3: [9]}"
      ]
     },
     "execution_count": 78,
     "metadata": {},
     "output_type": "execute_result"
    }
   ],
   "source": [
    "m"
   ]
  },
  {
   "cell_type": "code",
   "execution_count": 79,
   "metadata": {},
   "outputs": [
    {
     "data": {
      "text/plain": [
       "[-2, -1, 0, 1, 2, 3]"
      ]
     },
     "execution_count": 79,
     "metadata": {},
     "output_type": "execute_result"
    }
   ],
   "source": [
    "sorted(m)"
   ]
  },
  {
   "cell_type": "code",
   "execution_count": 80,
   "metadata": {},
   "outputs": [
    {
     "name": "stdout",
     "output_type": "stream",
     "text": [
      "4\n",
      "2\n",
      "1\n",
      "3\n",
      "7\n",
      "9\n"
     ]
    }
   ],
   "source": []
  },
  {
   "cell_type": "markdown",
   "metadata": {},
   "source": [
    "### [topView](https://www.hackerrank.com/challenges/tree-top-view/problem)"
   ]
  },
  {
   "cell_type": "code",
   "execution_count": 95,
   "metadata": {},
   "outputs": [],
   "source": [
    "# %load Traversal/topView.py\n",
    "# https://www.hackerrank.com/challenges/tree-top-view/problem\n",
    "def topView(root):\n",
    "    def fun(node, depth, pos):\n",
    "        if node is None:\n",
    "            return\n",
    "        fun(node.left, depth+1, pos-1)\n",
    "        fun(node.right, depth+1, pos+1)\n",
    "        if (pos in ans and depth<ans[pos][0]) or pos not in ans:\n",
    "            ans[pos] = (depth,node)\n",
    "\n",
    "    ans = {}\n",
    "    fun(root,0,0)\n",
    "    keys = sorted(ans.keys())\n",
    "    for key in keys:\n",
    "        print(ans[key][1].data, end = ' ')"
   ]
  },
  {
   "cell_type": "code",
   "execution_count": null,
   "metadata": {},
   "outputs": [],
   "source": []
  }
 ],
 "metadata": {
  "kernelspec": {
   "display_name": "Python 3",
   "language": "python",
   "name": "python3"
  },
  "language_info": {
   "codemirror_mode": {
    "name": "ipython",
    "version": 3
   },
   "file_extension": ".py",
   "mimetype": "text/x-python",
   "name": "python",
   "nbconvert_exporter": "python",
   "pygments_lexer": "ipython3",
   "version": "3.8.2"
  }
 },
 "nbformat": 4,
 "nbformat_minor": 4
}
