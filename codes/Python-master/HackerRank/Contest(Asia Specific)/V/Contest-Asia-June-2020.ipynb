{
 "cells": [
  {
   "cell_type": "markdown",
   "metadata": {},
   "source": [
    "# Max Xor"
   ]
  },
  {
   "cell_type": "code",
   "execution_count": 25,
   "metadata": {},
   "outputs": [
    {
     "name": "stdin",
     "output_type": "stream",
     "text": [
      " 1\n",
      " 10010\n",
      " 5\n"
     ]
    },
    {
     "name": "stdout",
     "output_type": "stream",
     "text": [
      "01101\n"
     ]
    }
   ],
   "source": [
    "for _ in range(int(input())):\n",
    "    s=input()\n",
    "    k=int(input())\n",
    "    l=list(s)\n",
    "    for i in range(len(l)):\n",
    "        if l[i] =='1':\n",
    "            l[i]='0'\n",
    "        else:\n",
    "            if k>0:\n",
    "                l[i]='1'\n",
    "                k-=1\n",
    "    print(''.join(l))"
   ]
  },
  {
   "cell_type": "markdown",
   "metadata": {},
   "source": [
    "# Jewel Game"
   ]
  },
  {
   "cell_type": "code",
   "execution_count": 4,
   "metadata": {},
   "outputs": [],
   "source": [
    "class Solution(object):\n",
    "    def removeDuplicates(self, S):\n",
    "        st = []\n",
    "        i = 0\n",
    "        count=0\n",
    "        while i < len(S):\n",
    "            if len(st)!=0 and st[-1]==S[i]:\n",
    "                i+=1\n",
    "                st.pop(-1)\n",
    "                count+=1\n",
    "            else:\n",
    "                st.append(S[i])\n",
    "                i+=1\n",
    "        return count\n",
    "ob1 = Solution()\n",
    "s2=ob1.removeDuplicates(\"abbacaca\")"
   ]
  },
  {
   "cell_type": "code",
   "execution_count": 8,
   "metadata": {},
   "outputs": [
    {
     "name": "stdin",
     "output_type": "stream",
     "text": [
      " 1\n",
      " aaaaaaa\n"
     ]
    },
    {
     "name": "stdout",
     "output_type": "stream",
     "text": [
      "3\n"
     ]
    }
   ],
   "source": [
    "for _ in range(int(input())):\n",
    "    S=list(input())\n",
    "    st = []\n",
    "    i = 0\n",
    "    count=0\n",
    "    while i < len(S):\n",
    "        if len(st)!=0 and st[-1]==S[i]:\n",
    "            i+=1\n",
    "            st.pop(-1)\n",
    "            count+=1\n",
    "        else:\n",
    "            st.append(S[i])\n",
    "            i+=1\n",
    "    print(count)"
   ]
  },
  {
   "cell_type": "code",
   "execution_count": 30,
   "metadata": {},
   "outputs": [
    {
     "name": "stdin",
     "output_type": "stream",
     "text": [
      " 1\n",
      " aaaaaaa\n"
     ]
    },
    {
     "name": "stdout",
     "output_type": "stream",
     "text": [
      "a a\n",
      "a a\n",
      "a a\n",
      "3\n"
     ]
    }
   ],
   "source": [
    "for _ in range(int(input())):\n",
    "    s=list(input())\n",
    "    c=0\n",
    "    k=len(s)\n",
    "    while True:\n",
    "        if k==0:\n",
    "            break\n",
    "        for i in range(len(s)):\n",
    "            k-=1\n",
    "            if (i+1)<len(s) and s[i]==s[i+1]:\n",
    "                c+=1\n",
    "                print(s.pop(i),end=' ')\n",
    "                print(s.pop(i))\n",
    "                break\n",
    "        else:\n",
    "            break\n",
    "    print(c)"
   ]
  },
  {
   "cell_type": "code",
   "execution_count": 5,
   "metadata": {},
   "outputs": [
    {
     "data": {
      "text/plain": [
       "2"
      ]
     },
     "execution_count": 5,
     "metadata": {},
     "output_type": "execute_result"
    }
   ],
   "source": [
    "s2"
   ]
  },
  {
   "cell_type": "markdown",
   "metadata": {},
   "source": [
    "# Rerouting"
   ]
  },
  {
   "cell_type": "code",
   "execution_count": 1,
   "metadata": {},
   "outputs": [
    {
     "name": "stdin",
     "output_type": "stream",
     "text": [
      " 6\n",
      " 2 3 5 1 4 6\n"
     ]
    },
    {
     "name": "stdout",
     "output_type": "stream",
     "text": [
      "1\n"
     ]
    }
   ],
   "source": [
    "n=int(input())\n",
    "a = list(map(int,input().split()))\n",
    "j=1\n",
    "c=0\n",
    "for i in a:\n",
    "    if i==j:\n",
    "        if i!=1:\n",
    "            c+=1\n",
    "        break\n",
    "    else:\n",
    "        j+=1\n",
    "print(n-j+c)"
   ]
  },
  {
   "cell_type": "code",
   "execution_count": 30,
   "metadata": {},
   "outputs": [
    {
     "name": "stdin",
     "output_type": "stream",
     "text": [
      " 5\n",
      " 2 3 4 1 5\n"
     ]
    },
    {
     "name": "stdout",
     "output_type": "stream",
     "text": [
      "[[2]] 2\n",
      "[[2, 3]] 3\n",
      "[[2, 3, 4]] 4\n",
      "[[2, 3, 4, 1]] 1\n",
      "[[2, 3, 4, 1], [5]] 5\n",
      "1\n"
     ]
    }
   ],
   "source": [
    "n=int(input())\n",
    "a = list(map(int,input().split())) \n",
    "l=[[]]\n",
    "c=0\n",
    "for i in range(1,len(a)+1):\n",
    "    if i==a[i-1]:\n",
    "        l.append([a[i-1]])\n",
    "        c+=1\n",
    "    else:\n",
    "        l[c].append(a[i-1])\n",
    "    print(l,a[i-1])\n",
    "if (l[0]):\n",
    "    print(len(l)-1)\n",
    "else:\n",
    "    print(len(l)-2)"
   ]
  },
  {
   "cell_type": "code",
   "execution_count": 29,
   "metadata": {},
   "outputs": [
    {
     "name": "stdout",
     "output_type": "stream",
     "text": [
      "4\n"
     ]
    }
   ],
   "source": []
  },
  {
   "cell_type": "code",
   "execution_count": 28,
   "metadata": {},
   "outputs": [
    {
     "data": {
      "text/plain": [
       "6"
      ]
     },
     "execution_count": 28,
     "metadata": {},
     "output_type": "execute_result"
    }
   ],
   "source": [
    "len(l)"
   ]
  },
  {
   "cell_type": "code",
   "execution_count": 6,
   "metadata": {},
   "outputs": [
    {
     "data": {
      "text/plain": [
       "[[]]"
      ]
     },
     "execution_count": 6,
     "metadata": {},
     "output_type": "execute_result"
    }
   ],
   "source": [
    "l.append([])\n",
    "l"
   ]
  },
  {
   "cell_type": "code",
   "execution_count": 8,
   "metadata": {},
   "outputs": [],
   "source": [
    "c=0"
   ]
  },
  {
   "cell_type": "code",
   "execution_count": 9,
   "metadata": {},
   "outputs": [
    {
     "data": {
      "text/plain": [
       "[[2]]"
      ]
     },
     "execution_count": 9,
     "metadata": {},
     "output_type": "execute_result"
    }
   ],
   "source": [
    "l[c].append(2)\n",
    "l"
   ]
  },
  {
   "cell_type": "markdown",
   "metadata": {},
   "source": [
    "# New Keyboard"
   ]
  },
  {
   "cell_type": "code",
   "execution_count": null,
   "metadata": {},
   "outputs": [],
   "source": [
    "n=b"
   ]
  },
  {
   "cell_type": "code",
   "execution_count": 34,
   "metadata": {},
   "outputs": [
    {
     "name": "stdin",
     "output_type": "stream",
     "text": [
      " HE*<LL>O12#23#45\n"
     ]
    },
    {
     "name": "stdout",
     "output_type": "stream",
     "text": [
      "0\n",
      "['H']\n",
      "1\n",
      "['H', 'E']\n",
      "2\n",
      "3\n",
      "4\n",
      "['L', 'H']\n",
      "5\n",
      "['L', 'L', 'H']\n",
      "6\n",
      "7\n",
      "['L', 'L', 'H', 'O']\n",
      "8\n",
      "['L', 'L', 'H', 'O', '1']\n",
      "9\n",
      "['L', 'L', 'H', 'O', '1', '2']\n",
      "10\n",
      "11\n",
      "12\n",
      "13\n",
      "14\n",
      "['L', 'L', 'H', 'O', '1', '2', '4']\n",
      "15\n",
      "['L', 'L', 'H', 'O', '1', '2', '4', '5']\n",
      "LLHO1245\n"
     ]
    }
   ],
   "source": [
    "s=list(input())\n",
    "l=[]\n",
    "pop_i=0\n",
    "num_key=0\n",
    "for i in range(len(s)):\n",
    "    print(i)\n",
    "    if s[i] in '012345689' and num_key:\n",
    "        continue\n",
    "    if s[i]=='<':\n",
    "        pop_i=0\n",
    "        continue\n",
    "    if s[i]=='>':\n",
    "        pop_i=len(l)\n",
    "        continue\n",
    "    if s[i]=='*' and len(l)>0:\n",
    "        pop_i-=1\n",
    "        l.pop(pop_i)\n",
    "        pop_i-=1\n",
    "        continue\n",
    "    if s[i]=='#':\n",
    "        num_key+=1\n",
    "        num_key%=2\n",
    "        continue\n",
    "    l.insert(pop_i,s[i])\n",
    "    print(l)\n",
    "    pop_i+=1\n",
    "print(''.join(l))"
   ]
  },
  {
   "cell_type": "code",
   "execution_count": 32,
   "metadata": {},
   "outputs": [
    {
     "ename": "IndexError",
     "evalue": "pop from empty list",
     "output_type": "error",
     "traceback": [
      "\u001b[0;31m---------------------------------------------------------------------------\u001b[0m",
      "\u001b[0;31mIndexError\u001b[0m                                Traceback (most recent call last)",
      "\u001b[0;32m<ipython-input-32-293b59a01eeb>\u001b[0m in \u001b[0;36m<module>\u001b[0;34m\u001b[0m\n\u001b[1;32m      1\u001b[0m \u001b[0mm\u001b[0m\u001b[0;34m=\u001b[0m\u001b[0;34m[\u001b[0m\u001b[0;34m]\u001b[0m\u001b[0;34m\u001b[0m\u001b[0;34m\u001b[0m\u001b[0m\n\u001b[0;32m----> 2\u001b[0;31m \u001b[0mm\u001b[0m\u001b[0;34m.\u001b[0m\u001b[0mpop\u001b[0m\u001b[0;34m(\u001b[0m\u001b[0;34m-\u001b[0m\u001b[0;36m1\u001b[0m\u001b[0;34m)\u001b[0m\u001b[0;34m\u001b[0m\u001b[0;34m\u001b[0m\u001b[0m\n\u001b[0m",
      "\u001b[0;31mIndexError\u001b[0m: pop from empty list"
     ]
    }
   ],
   "source": [
    "m=[]\n",
    "m.pop(-1)"
   ]
  },
  {
   "cell_type": "code",
   "execution_count": 37,
   "metadata": {},
   "outputs": [
    {
     "name": "stdin",
     "output_type": "stream",
     "text": [
      " HE*<LL>O\n"
     ]
    },
    {
     "name": "stdout",
     "output_type": "stream",
     "text": [
      "LLHO\n"
     ]
    }
   ],
   "source": [
    "s=input()\n",
    "l=[]\n",
    "index=0\n",
    "num_key=0\n",
    "for i in s:\n",
    "    \n",
    "    if i in '*><#':\n",
    "        if (i=='*') and len(l)!=0:\n",
    "            l.pop(-1)\n",
    "        elif (i=='>'):\n",
    "            index=len(s)\n",
    "        elif (i=='<'):\n",
    "            index=0\n",
    "        else:\n",
    "            num_key^=1\n",
    "    else:\n",
    "        if i in '0123456789/*-+.':\n",
    "            if num_key^1:\n",
    "                l.insert(index,i)\n",
    "                index+=1\n",
    "        else:\n",
    "            l.insert(index,i)\n",
    "            index+=1\n",
    "print(''.join(l))"
   ]
  },
  {
   "cell_type": "code",
   "execution_count": 9,
   "metadata": {},
   "outputs": [],
   "source": [
    "l=[]"
   ]
  },
  {
   "cell_type": "code",
   "execution_count": 10,
   "metadata": {},
   "outputs": [
    {
     "ename": "IndexError",
     "evalue": "pop from empty list",
     "output_type": "error",
     "traceback": [
      "\u001b[0;31m---------------------------------------------------------------------------\u001b[0m",
      "\u001b[0;31mIndexError\u001b[0m                                Traceback (most recent call last)",
      "\u001b[0;32m<ipython-input-10-971cd78094bc>\u001b[0m in \u001b[0;36m<module>\u001b[0;34m\u001b[0m\n\u001b[0;32m----> 1\u001b[0;31m \u001b[0ml\u001b[0m\u001b[0;34m.\u001b[0m\u001b[0mpop\u001b[0m\u001b[0;34m(\u001b[0m\u001b[0;34m-\u001b[0m\u001b[0;36m1\u001b[0m\u001b[0;34m)\u001b[0m\u001b[0;34m\u001b[0m\u001b[0;34m\u001b[0m\u001b[0m\n\u001b[0m",
      "\u001b[0;31mIndexError\u001b[0m: pop from empty list"
     ]
    }
   ],
   "source": [
    "l.pop(-1)"
   ]
  },
  {
   "cell_type": "code",
   "execution_count": 13,
   "metadata": {},
   "outputs": [],
   "source": [
    "l.insert(56,'k')"
   ]
  },
  {
   "cell_type": "markdown",
   "metadata": {},
   "source": [
    "#include <bits/stdc++.h>\n",
    "\n",
    "using namespace std;\n",
    "\n",
    "#define ester() ios_base :: sync_with_stdio(0);cin.tie(0);\n",
    "#define int long long\n",
    "#define endl '\\n'\n",
    "#define all(x) x.begin() , x.end()\n",
    "#define double long double\n",
    "\n",
    "\n",
    "void solve()\n",
    "{\n",
    "    string s;\n",
    "    cin >> s;\n",
    "\n",
    "    int i = 0;\n",
    "\n",
    "    deque <string> d;\n",
    "\n",
    "    string temp , ans;\n",
    "\n",
    "    int fr = 0 , num = true;\n",
    "    while(s[i])\n",
    "    {\n",
    "        if(s[i] == '<')\n",
    "        {\n",
    "            d.push_back(ans);\n",
    "            d.push_front(temp);\n",
    "            temp.clear();\n",
    "            ans.clear();\n",
    "            i++;\n",
    "            fr++;\n",
    "        }\n",
    "        else if(s[i] == '>')\n",
    "        {\n",
    "            d.push_front(temp);\n",
    "            temp.clear();\n",
    "            i++;\n",
    "            fr--;\n",
    "        }\n",
    "        else if(s[i] == '#')\n",
    "        {\n",
    "            num ^= 1;\n",
    "            i++;\n",
    "        }\n",
    "        else if(s[i] == '*')\n",
    "        {\n",
    "            if(fr and !temp.empty())\n",
    "                temp.pop_back();\n",
    "            else if(!fr and !ans.empty())\n",
    "                ans.pop_back();\n",
    "            i++;\n",
    "        }\n",
    "        else if(s[i] >= '1' and s[i] <= '9')\n",
    "        {\n",
    "            if(!num)\n",
    "            {\n",
    "                i++;\n",
    "                continue;\n",
    "            }\n",
    "            if(fr)\n",
    "                temp += s[i];\n",
    "            else\n",
    "                ans += s[i];\n",
    "            i++;\n",
    "        }\n",
    "        else\n",
    "        {\n",
    "            if(fr)\n",
    "                temp += s[i];\n",
    "            else\n",
    "                ans += s[i];\n",
    "                i++;\n",
    "        }\n",
    "    }\n",
    "\n",
    "    d.push_back(ans);\n",
    "    ans.clear();\n",
    "    while(!d.empty())\n",
    "        ans += d.front() , d.pop_front();\n",
    "        cout << ans << endl;\n",
    "}\n",
    "\n",
    "int32_t main()\n",
    "{\n",
    "    ester();\n",
    "    int tests = 1;\n",
    "    //cin >> tests;\n",
    "    while(tests--)\n",
    "    {\n",
    "        solve();\n",
    "    }\n",
    "    return 0;\n",
    "}"
   ]
  },
  {
   "cell_type": "code",
   "execution_count": 1,
   "metadata": {},
   "outputs": [
    {
     "data": {
      "text/plain": [
       "1"
      ]
     },
     "execution_count": 1,
     "metadata": {},
     "output_type": "execute_result"
    }
   ],
   "source": [
    "k=0\n",
    "k^=1\n",
    "k"
   ]
  },
  {
   "cell_type": "code",
   "execution_count": 2,
   "metadata": {},
   "outputs": [
    {
     "data": {
      "text/plain": [
       "0"
      ]
     },
     "execution_count": 2,
     "metadata": {},
     "output_type": "execute_result"
    }
   ],
   "source": [
    "k^=1\n",
    "k"
   ]
  },
  {
   "cell_type": "code",
   "execution_count": 3,
   "metadata": {},
   "outputs": [
    {
     "data": {
      "text/plain": [
       "0"
      ]
     },
     "execution_count": 3,
     "metadata": {},
     "output_type": "execute_result"
    }
   ],
   "source": [
    "1^1"
   ]
  },
  {
   "cell_type": "code",
   "execution_count": 4,
   "metadata": {},
   "outputs": [
    {
     "data": {
      "text/plain": [
       "1"
      ]
     },
     "execution_count": 4,
     "metadata": {},
     "output_type": "execute_result"
    }
   ],
   "source": [
    "0^1"
   ]
  },
  {
   "cell_type": "code",
   "execution_count": null,
   "metadata": {},
   "outputs": [],
   "source": []
  }
 ],
 "metadata": {
  "kernelspec": {
   "display_name": "Python 3",
   "language": "python",
   "name": "python3"
  },
  "language_info": {
   "codemirror_mode": {
    "name": "ipython",
    "version": 3
   },
   "file_extension": ".py",
   "mimetype": "text/x-python",
   "name": "python",
   "nbconvert_exporter": "python",
   "pygments_lexer": "ipython3",
   "version": "3.8.2"
  }
 },
 "nbformat": 4,
 "nbformat_minor": 4
}
