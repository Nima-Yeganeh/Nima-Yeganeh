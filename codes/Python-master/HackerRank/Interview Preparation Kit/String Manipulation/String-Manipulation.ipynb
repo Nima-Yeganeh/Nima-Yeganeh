{
 "cells": [
  {
   "cell_type": "code",
   "execution_count": null,
   "metadata": {},
   "outputs": [],
   "source": [
    "s1=input()\n",
    "s2=input()\n",
    "for i in len(s1):\n",
    "    if s1[i] in s2:\n",
    "        "
   ]
  },
  {
   "cell_type": "markdown",
   "metadata": {},
   "source": [
    "# Alternating-Characters\n",
    "![Alternating-Characters](Alternating-Characters.png)"
   ]
  },
  {
   "cell_type": "code",
   "execution_count": 3,
   "metadata": {},
   "outputs": [
    {
     "name": "stdin",
     "output_type": "stream",
     "text": [
      " 1\n",
      " AACCAAACCC\n"
     ]
    },
    {
     "name": "stdout",
     "output_type": "stream",
     "text": [
      "6\n"
     ]
    }
   ],
   "source": [
    "for _ in range(int(input())):\n",
    "    s=input()\n",
    "    if len(s)==1:\n",
    "        print(0)\n",
    "    else:\n",
    "        c=0\n",
    "        for i in range(1,len(s)):\n",
    "            if s[i]==s[i-1]:\n",
    "                c+=1\n",
    "    print(c)"
   ]
  },
  {
   "cell_type": "markdown",
   "metadata": {},
   "source": [
    "# Sherlock and the Valid String\n",
    "![Sherlock-and-the-Valid-String](Sherlock-and-the-Valid-String.png)"
   ]
  },
  {
   "cell_type": "code",
   "execution_count": 44,
   "metadata": {},
   "outputs": [
    {
     "name": "stdin",
     "output_type": "stream",
     "text": [
      " abcdefghhgfedecba\n"
     ]
    },
    {
     "name": "stdout",
     "output_type": "stream",
     "text": [
      "YES\n"
     ]
    }
   ],
   "source": [
    "s=input()\n",
    "l=list(set(s))\n",
    "c=s.count(l[1])\n",
    "i=1\n",
    "k=0\n",
    "for i in range(1,len(l)): \n",
    "    if s.count(l[i])==c or s.count(l[i])==(c+1) and k!=1:\n",
    "        if  s.count(l[i])==(c+1)and k!=1:\n",
    "            k+=1\n",
    "    else:\n",
    "        print('NO')\n",
    "        break\n",
    "else:\n",
    "    print('YES')"
   ]
  },
  {
   "cell_type": "markdown",
   "metadata": {},
   "source": [
    "# Common Child\n",
    "![Common Child](Common-Child.png)"
   ]
  },
  {
   "cell_type": "code",
   "execution_count": 57,
   "metadata": {},
   "outputs": [
    {
     "name": "stdin",
     "output_type": "stream",
     "text": [
      " \n",
      " \n"
     ]
    },
    {
     "data": {
      "text/plain": [
       "[]"
      ]
     },
     "execution_count": 57,
     "metadata": {},
     "output_type": "execute_result"
    }
   ],
   "source": [
    "s1=input()\n",
    "s2=input()\n",
    "l=[]\n",
    "c=0\n",
    "for i in s1:\n",
    "    if s2.find(i):\n",
    "        l.append(i)\n",
    "l"
   ]
  },
  {
   "cell_type": "code",
   "execution_count": null,
   "metadata": {},
   "outputs": [],
   "source": [
    "4/20 passed test cases "
   ]
  },
  {
   "cell_type": "code",
   "execution_count": 86,
   "metadata": {},
   "outputs": [
    {
     "name": "stdin",
     "output_type": "stream",
     "text": [
      " NOHARAAA\n",
      " SHINCHAN\n"
     ]
    },
    {
     "name": "stdout",
     "output_type": "stream",
     "text": [
      "N S I N H A N \n",
      "H I N H A N \n",
      "A N H A N \n",
      "A H A N \n",
      "A A N \n",
      "A N \n",
      "6\n"
     ]
    }
   ],
   "source": [
    "s1=input()\n",
    "s2=input()\n",
    "l=[]\n",
    "for i in range(len(s1)):\n",
    "    if s2.find(s1[i])!=-1:\n",
    "        c=0\n",
    "        total=0\n",
    "        print(s1[i],end=' ')\n",
    "        for j in range(i,len(s1)): \n",
    "            if s2.find(s1[j],c)!=-1:\n",
    "                c=s2.find(s1[j],c)\n",
    "                total+=1\n",
    "                print(c,s2[j],end=' ')\n",
    "        l.append(total)\n",
    "        print()\n",
    "try:\n",
    "    print(max(l))\n",
    "except:\n",
    "    print(0)"
   ]
  },
  {
   "cell_type": "code",
   "execution_count": null,
   "metadata": {},
   "outputs": [],
   "source": [
    "s1=input()\n",
    "s2=input()\n",
    "l=[]\n",
    "for i in range(len(s1)):\n",
    "    for j in range(i,len(s1)): \n",
    "        if s2.find(s1[j],c)!=-1:\n",
    "            c=s2.find(s1[j],c)\n",
    "            total+=1\n",
    "            print(s2[j],end=' ')\n",
    "    l.append(total)\n",
    "        print()\n",
    "try:\n",
    "    print(max(l))\n",
    "except:\n",
    "    print(0)"
   ]
  },
  {
   "cell_type": "code",
   "execution_count": null,
   "metadata": {},
   "outputs": [],
   "source": [
    "8/14 test cases passed"
   ]
  },
  {
   "cell_type": "code",
   "execution_count": 1,
   "metadata": {},
   "outputs": [
    {
     "name": "stdin",
     "output_type": "stream",
     "text": [
      " NOHARAAA\n",
      " SHINCHAN\n"
     ]
    },
    {
     "data": {
      "text/plain": [
       "[[0, 0, 0, 1, 0, 0, 0, 1],\n",
       " [0, 0, 0, 1, 1, 1, 1, 1],\n",
       " [0, 1, 1, 1, 1, 2, 2, 2],\n",
       " [0, 1, 1, 1, 1, 2, 3, 3],\n",
       " [0, 1, 1, 1, 1, 2, 3, 3],\n",
       " [0, 1, 1, 1, 1, 2, 3, 3],\n",
       " [0, 1, 1, 1, 1, 2, 3, 3],\n",
       " [0, 1, 1, 1, 1, 2, 3, 3]]"
      ]
     },
     "execution_count": 1,
     "metadata": {},
     "output_type": "execute_result"
    }
   ],
   "source": [
    "s1=input()\n",
    "s2=input()\n",
    "l=[[0]*len(s2) for i in range(len(s1))]\n",
    "for i in range(len(s1)):\n",
    "    for j in range(len(s2)):\n",
    "        if i==0 or j==0:\n",
    "            if s1[i]==s2[j]:\n",
    "                l[i][j]=1\n",
    "        else:\n",
    "            if s1[i]==s2[j]:\n",
    "                l[i][j]=l[i-1][j-1]+1\n",
    "            else:\n",
    "                l[i][j]=max(l[i-1][j],l[i][j-1])\n",
    "l"
   ]
  },
  {
   "cell_type": "markdown",
   "metadata": {},
   "source": [
    "# Special String Again\n",
    "![Special String Again](Special-String-Again.png)"
   ]
  },
  {
   "cell_type": "code",
   "execution_count": null,
   "metadata": {},
   "outputs": [],
   "source": [
    "15/15 passed fully"
   ]
  },
  {
   "cell_type": "code",
   "execution_count": 13,
   "metadata": {},
   "outputs": [
    {
     "name": "stdin",
     "output_type": "stream",
     "text": [
      " 5\n",
      " asasd\n"
     ]
    },
    {
     "name": "stdout",
     "output_type": "stream",
     "text": [
      "7\n"
     ]
    }
   ],
   "source": [
    "n=int(input())\n",
    "s=input()\n",
    "count=0\n",
    "count_sequence=0\n",
    "prev=''\n",
    "for i,v in enumerate(s):\n",
    "    #count single char\n",
    "    count_sequence+=1\n",
    "    if i and (prev!=v):\n",
    "        j=1\n",
    "        while (i-j)>=0 and (i+j)<len(s) and j<=count_sequence:\n",
    "            if s[i-j]==prev==s[i+j]:\n",
    "                count+=1\n",
    "                j+=1\n",
    "            else:\n",
    "                break\n",
    "        count_sequence=1\n",
    "    count+=count_sequence\n",
    "    prev=v\n",
    "print(count)"
   ]
  },
  {
   "cell_type": "code",
   "execution_count": null,
   "metadata": {},
   "outputs": [],
   "source": [
    "3/15 passed"
   ]
  },
  {
   "cell_type": "code",
   "execution_count": 27,
   "metadata": {},
   "outputs": [
    {
     "name": "stdin",
     "output_type": "stream",
     "text": [
      " 5\n",
      " asasd\n"
     ]
    },
    {
     "name": "stdout",
     "output_type": "stream",
     "text": [
      "7\n"
     ]
    }
   ],
   "source": [
    "n=int(input())\n",
    "s=input()\n",
    "count=len(s)\n",
    "for i in range(0,len(s)):\n",
    "    for j in range(1,i):\n",
    "        if s[j]!=s[i]:\n",
    "            break\n",
    "    else:\n",
    "        if i!=0 and i!=j:\n",
    "            count+=1\n",
    "            print('k',i,j,count)\n",
    "    for j in range(i,len(s)):\n",
    "        if s[j]!=s[i]:\n",
    "            break\n",
    "    else:\n",
    "        if i!=(len(s)-1):\n",
    "            count+=1\n",
    "            print('keshav',i,j,count)\n",
    "    if i>1:\n",
    "        if s[i-1]!=s[i]:\n",
    "            if s[i-2]==s[i]:\n",
    "                count+=1\n",
    "print(count)"
   ]
  },
  {
   "cell_type": "code",
   "execution_count": null,
   "metadata": {},
   "outputs": [],
   "source": [
    "n="
   ]
  },
  {
   "cell_type": "code",
   "execution_count": null,
   "metadata": {},
   "outputs": [],
   "source": []
  }
 ],
 "metadata": {
  "kernelspec": {
   "display_name": "Python 3",
   "language": "python",
   "name": "python3"
  },
  "language_info": {
   "codemirror_mode": {
    "name": "ipython",
    "version": 3
   },
   "file_extension": ".py",
   "mimetype": "text/x-python",
   "name": "python",
   "nbconvert_exporter": "python",
   "pygments_lexer": "ipython3",
   "version": "3.8.2"
  }
 },
 "nbformat": 4,
 "nbformat_minor": 4
}
