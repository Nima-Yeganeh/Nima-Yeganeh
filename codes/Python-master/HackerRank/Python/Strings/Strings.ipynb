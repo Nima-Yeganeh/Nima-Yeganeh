{
 "cells": [
  {
   "cell_type": "markdown",
   "metadata": {},
   "source": [
    "n="
   ]
  },
  {
   "cell_type": "markdown",
   "metadata": {},
   "source": [
    "# [Caesar Cipher](https://www.hackerrank.com/challenges/caesar-cipher-1/problem)"
   ]
  },
  {
   "cell_type": "code",
   "execution_count": 6,
   "metadata": {},
   "outputs": [
    {
     "name": "stdin",
     "output_type": "stream",
     "text": [
      " 11\n",
      " middle-Outz\n",
      " 2\n"
     ]
    },
    {
     "name": "stdout",
     "output_type": "stream",
     "text": [
      "okffng-Q\n",
      "okffng-Qwvb\n"
     ]
    }
   ],
   "source": [
    "n_s=input()\n",
    "s=input()\n",
    "n=int(input())\n",
    "s1=''\n",
    "for i in s:\n",
    "    if 65<=ord(i)<=90:\n",
    "        s1+=chr((ord(i)-65)+n%26+65)\n",
    "    elif 97<=ord(i)<=122:\n",
    "        s1+=chr((ord(i)-97+n)%26+97)\n",
    "    else:\n",
    "        s1+=i\n",
    "print(s1)"
   ]
  },
  {
   "cell_type": "markdown",
   "metadata": {},
   "source": [
    "# [Mars Exploration](https://www.hackerrank.com/challenges/mars-exploration/problem?h_r=next-challenge&h_v=zen)"
   ]
  },
  {
   "cell_type": "code",
   "execution_count": 26,
   "metadata": {},
   "outputs": [
    {
     "name": "stdin",
     "output_type": "stream",
     "text": [
      " SOSSPSSQSSOR\n"
     ]
    },
    {
     "name": "stdout",
     "output_type": "stream",
     "text": [
      "3\n"
     ]
    }
   ],
   "source": [
    "s=input()\n",
    "s1='SOS'*(len(s)//3)\n",
    "c=0\n",
    "for i in range(len(s1)):\n",
    "    if s[i]!=s1[i]:\n",
    "        c+=1\n",
    "print(c)"
   ]
  },
  {
   "cell_type": "markdown",
   "metadata": {},
   "source": [
    "# [HackerRank in a String!](https://www.hackerrank.com/challenges/hackerrank-in-a-string/problem)"
   ]
  },
  {
   "cell_type": "code",
   "execution_count": 13,
   "metadata": {},
   "outputs": [
    {
     "name": "stdin",
     "output_type": "stream",
     "text": [
      " hereiamstackerrank\n"
     ]
    },
    {
     "name": "stdout",
     "output_type": "stream",
     "text": [
      "YES\n"
     ]
    }
   ],
   "source": [
    "s=input()\n",
    "p=0\n",
    "for i in 'hackerrank':\n",
    "    if i in s[p:]:\n",
    "        p=s.index(i,p)+1\n",
    "    else:\n",
    "        print('NO')\n",
    "        break\n",
    "else:\n",
    "    print('YES')"
   ]
  },
  {
   "cell_type": "code",
   "execution_count": 14,
   "metadata": {},
   "outputs": [
    {
     "name": "stdin",
     "output_type": "stream",
     "text": [
      " hereiamstackerrank\n"
     ]
    },
    {
     "name": "stdout",
     "output_type": "stream",
     "text": [
      "YES\n"
     ]
    }
   ],
   "source": [
    "s=input()\n",
    "l=['h','a','c','k','e','r','r','a','n','k']\n",
    "for i in s:\n",
    "    if i==l[0]:\n",
    "        l.pop(0)\n",
    "    if not l:\n",
    "        break\n",
    "if l:\n",
    "    print('NO')\n",
    "else:\n",
    "    print('YES')"
   ]
  },
  {
   "cell_type": "markdown",
   "metadata": {},
   "source": [
    "# [Pangrams](https://www.hackerrank.com/challenges/pangrams/problem)\n",
    "- it contains every letter of the alphabet"
   ]
  },
  {
   "cell_type": "code",
   "execution_count": 19,
   "metadata": {},
   "outputs": [
    {
     "name": "stdin",
     "output_type": "stream",
     "text": [
      " We promptly judged antique ivory buckles for the prize\n"
     ]
    },
    {
     "data": {
      "text/plain": [
       "'not pangram'"
      ]
     },
     "execution_count": 19,
     "metadata": {},
     "output_type": "execute_result"
    }
   ],
   "source": [
    "def pangrams(s):\n",
    "    s=s.lower()\n",
    "    if ' ' in s:\n",
    "        for i in range(25):\n",
    "            if chr(i+97) not in s:\n",
    "                return('not pangram')\n",
    "        return('pangram')\n",
    "    return('not pangram')\n",
    "pangrams(input())"
   ]
  },
  {
   "cell_type": "markdown",
   "metadata": {},
   "source": [
    "# [Weighted Uniform Strings](https://www.hackerrank.com/challenges/weighted-uniform-string/problem)"
   ]
  },
  {
   "cell_type": "code",
   "execution_count": 4,
   "metadata": {},
   "outputs": [
    {
     "name": "stdin",
     "output_type": "stream",
     "text": [
      " kees\n"
     ]
    },
    {
     "data": {
      "text/plain": [
       "<generator object <lambda> at 0x7fcfb84969e0>"
      ]
     },
     "execution_count": 4,
     "metadata": {},
     "output_type": "execute_result"
    }
   ],
   "source": [
    "s=input()\n",
    "l=[1]\n",
    "for i in range(1,len(s)):\n",
    "    if s[i]==s[i-1]:\n",
    "        l[-1]+=1\n",
    "    else:\n",
    "        l.append(ord[s[i]]-96)"
   ]
  },
  {
   "cell_type": "code",
   "execution_count": null,
   "metadata": {},
   "outputs": [],
   "source": []
  }
 ],
 "metadata": {
  "kernelspec": {
   "display_name": "Python 3",
   "language": "python",
   "name": "python3"
  },
  "language_info": {
   "codemirror_mode": {
    "name": "ipython",
    "version": 3
   },
   "file_extension": ".py",
   "mimetype": "text/x-python",
   "name": "python",
   "nbconvert_exporter": "python",
   "pygments_lexer": "ipython3",
   "version": "3.8.2"
  }
 },
 "nbformat": 4,
 "nbformat_minor": 4
}
