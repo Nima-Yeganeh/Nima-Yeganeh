{
 "cells": [
  {
   "cell_type": "markdown",
   "metadata": {},
   "source": [
    "# [Array Mathematics](https://www.hackerrank.com/challenges/np-array-mathematics/problem?h_r=next-challenge&h_v=zen)\n",
    "<pre>\n",
    "Basic mathematical functions operate element-wise on arrays. They are available both as operator overloads and as functions in the NumPy module.\n",
    "\n",
    "import numpy\n",
    "\n",
    "a = numpy.array([1,2,3,4], float)\n",
    "b = numpy.array([5,6,7,8], float)\n",
    "\n",
    "print a + b                     #[  6.   8.  10.  12.]\n",
    "print numpy.add(a, b)           #[  6.   8.  10.  12.]\n",
    "\n",
    "print a - b                     #[-4. -4. -4. -4.]\n",
    "print numpy.subtract(a, b)      #[-4. -4. -4. -4.]\n",
    "\n",
    "print a * b                     #[  5.  12.  21.  32.]\n",
    "print numpy.multiply(a, b)      #[  5.  12.  21.  32.]\n",
    "\n",
    "print a / b                     #[ 0.2         0.33333333  0.42857143  0.5       ]\n",
    "print numpy.divide(a, b)        #[ 0.2         0.33333333  0.42857143  0.5       ]\n",
    "\n",
    "print a % b                     #[ 1.  2.  3.  4.]\n",
    "print numpy.mod(a, b)           #[ 1.  2.  3.  4.]\n",
    "\n",
    "print a**b                      #[  1.00000000e+00   6.40000000e+01   2.18700000e+03   6.55360000e+04]\n",
    "print numpy.power(a, b)         #[  1.00000000e+00   6.40000000e+01   2.18700000e+03   6.55360000e+04]</pre>"
   ]
  },
  {
   "cell_type": "code",
   "execution_count": 23,
   "metadata": {},
   "outputs": [
    {
     "name": "stdin",
     "output_type": "stream",
     "text": [
      " 1 4\n",
      " 1 2 3 4\n",
      " 5 6 7 8\n"
     ]
    },
    {
     "name": "stdout",
     "output_type": "stream",
     "text": [
      "[[ 6  8 10 12]]\n",
      "[[-4 -4 -4 -4]]\n",
      "[[ 5 12 21 32]]\n",
      "[[0 0 0 0]]\n",
      "[[1 2 3 4]]\n",
      "[[    1    64  2187 65536]]\n",
      "\n"
     ]
    }
   ],
   "source": [
    "import numpy as np\n",
    "n1,n2=map(int,input().split())\n",
    "a1=np.zeros((n1,n2),int)\n",
    "a2=np.zeros((n1,n2),int)\n",
    "\n",
    "for i in range(n1):\n",
    "    a1[i]=np.array(input().split(),int)\n",
    "\n",
    "for i in range(n1):\n",
    "    a2[i]=np.array(input().split(),int)\n",
    "\n",
    "\n",
    "np.set_printoptions(legacy='1.13')\n",
    "    \n",
    "print(f'{(a1+a2).astype(int)}\\n{(a1-a2).astype(int)}\\n{(a1*a2).astype(int)}\\n{(a1//a2).astype(int)}\\n{(a1%a2).astype(int)}\\n{(a1**a2).astype(int)}\\n')"
   ]
  },
  {
   "cell_type": "code",
   "execution_count": 31,
   "metadata": {},
   "outputs": [
    {
     "data": {
      "text/plain": [
       "array([0, 0, 0, 0])"
      ]
     },
     "execution_count": 31,
     "metadata": {},
     "output_type": "execute_result"
    }
   ],
   "source": [
    "a1=np.zeros((n1,n2),int)\n",
    "# a1[0]=np.array(input().split(),int)\n",
    "a1[0]"
   ]
  },
  {
   "cell_type": "code",
   "execution_count": 15,
   "metadata": {},
   "outputs": [
    {
     "data": {
      "text/plain": [
       "array([[0, 0],\n",
       "       [0, 0]])"
      ]
     },
     "execution_count": 15,
     "metadata": {},
     "output_type": "execute_result"
    }
   ],
   "source": [
    "np.zeros((2,2),int)"
   ]
  },
  {
   "cell_type": "markdown",
   "metadata": {},
   "source": [
    "# [Floor, Ceil and Rint](https://www.hackerrank.com/challenges/floor-ceil-and-rint/problem?h_r=next-challenge&h_v=zen)\n",
    "\n",
    "<pre>\n",
    "<b>floor</b>\n",
    "The tool floor returns the floor of the input element-wise.\n",
    "The floor of  is the largest integer  where .\n",
    "\n",
    "import numpy\n",
    "\n",
    "my_array = numpy.array([1.1, 2.2, 3.3, 4.4, 5.5, 6.6, 7.7, 8.8, 9.9])\n",
    "print numpy.floor(my_array)         #[ 1.  2.  3.  4.  5.  6.  7.  8.  9.]\n",
    "\n",
    "<b>ceil</b>\n",
    "The tool ceil returns the ceiling of the input element-wise.\n",
    "The ceiling of  is the smallest integer  where .\n",
    "\n",
    "import numpy\n",
    "\n",
    "my_array = numpy.array([1.1, 2.2, 3.3, 4.4, 5.5, 6.6, 7.7, 8.8, 9.9])\n",
    "print numpy.ceil(my_array)          #[  2.   3.   4.   5.   6.   7.   8.   9.  10.]\n",
    "\n",
    "<b>rint</b>\n",
    "The rint tool rounds to the nearest integer of input element-wise.\n",
    "\n",
    "import numpy\n",
    "\n",
    "my_array = numpy.array([1.1, 2.2, 3.3, 4.4, 5.5, 6.6, 7.7, 8.8, 9.9])\n",
    "print numpy.rint(my_array)          #[  1.   2.   3.   4.   6.   7.   8.   9.  10.]\n",
    "</pre>"
   ]
  },
  {
   "cell_type": "code",
   "execution_count": 1,
   "metadata": {},
   "outputs": [
    {
     "name": "stdin",
     "output_type": "stream",
     "text": [
      " 1.1 2.2 3.3 4.4 5.5 6.6 7.7 8.8 9.9\n"
     ]
    },
    {
     "name": "stdout",
     "output_type": "stream",
     "text": [
      "[ 1.  2.  3.  4.  5.  6.  7.  8.  9.]\n",
      "[  2.   3.   4.   5.   6.   7.   8.   9.  10.]\n",
      "[  1.   2.   3.   4.   6.   7.   8.   9.  10.]\n"
     ]
    }
   ],
   "source": [
    "import numpy as np\n",
    "a=np.array(input().split(),float)\n",
    "np.set_printoptions(legacy='1.13')\n",
    "print(np.floor(a))\n",
    "print(np.ceil(a))\n",
    "print(np.rint(a))"
   ]
  },
  {
   "cell_type": "code",
   "execution_count": null,
   "metadata": {},
   "outputs": [],
   "source": []
  },
  {
   "cell_type": "markdown",
   "metadata": {},
   "source": [
    "# [Sum and Prod](https://www.hackerrank.com/challenges/np-sum-and-prod/problem)\n",
    "**1. sum**\n",
    "\n",
    "The sum tool returns the sum of array elements over a given axis.\n",
    "\n",
    "import numpy\n",
    "\n",
    "my_array = numpy.array([ [1, 2], [3, 4] ])\n",
    "\n",
    "print numpy.sum(my_array, axis = 0)         #Output : [4 6]\\\n",
    "print numpy.sum(my_array, axis = 1)         #Output : [3 7]\\\n",
    "print numpy.sum(my_array, axis = None)      #Output : 10\\\n",
    "print numpy.sum(my_array)                   #Output : 10\\\n",
    "By default, the axis value is ***None***. Therefore, it performs a sum over all the dimensions of the input array\n",
    "\n",
    "\n",
    "**2. prod**\n",
    "\n",
    "The prod tool returns the product of array elements over a given axis.\n",
    "\n",
    "import numpy\n",
    "\n",
    "my_array = numpy.array([ [1, 2], [3, 4] ])\n",
    "\n",
    "print numpy.prod(my_array, axis = 0)            #Output : [3 8]\\\n",
    "print numpy.prod(my_array, axis = 1)            #Output : [ 2 12]\\\n",
    "print numpy.prod(my_array, axis = None)         #Output : 24\\\n",
    "print numpy.prod(my_array)                      #Output : 24\\\n",
    "By default, the axis value is ***None***. Therefore, it performs the product over all the dimensions of the input array."
   ]
  },
  {
   "cell_type": "code",
   "execution_count": null,
   "metadata": {},
   "outputs": [],
   "source": [
    "n="
   ]
  },
  {
   "cell_type": "code",
   "execution_count": 1,
   "metadata": {},
   "outputs": [],
   "source": [
    "import numpy as np"
   ]
  },
  {
   "cell_type": "markdown",
   "metadata": {},
   "source": [
    "#### SUM"
   ]
  },
  {
   "cell_type": "code",
   "execution_count": 3,
   "metadata": {},
   "outputs": [
    {
     "data": {
      "text/plain": [
       "array([[1, 2],\n",
       "       [3, 4]])"
      ]
     },
     "execution_count": 3,
     "metadata": {},
     "output_type": "execute_result"
    }
   ],
   "source": [
    "a1=np.array([[1,2],[3,4]])\n",
    "a1"
   ]
  },
  {
   "cell_type": "code",
   "execution_count": 5,
   "metadata": {},
   "outputs": [
    {
     "data": {
      "text/plain": [
       "array([4, 6])"
      ]
     },
     "execution_count": 5,
     "metadata": {},
     "output_type": "execute_result"
    }
   ],
   "source": [
    "np.sum(a1,axis=0)#column wise addition"
   ]
  },
  {
   "cell_type": "code",
   "execution_count": 6,
   "metadata": {},
   "outputs": [
    {
     "data": {
      "text/plain": [
       "array([3, 7])"
      ]
     },
     "execution_count": 6,
     "metadata": {},
     "output_type": "execute_result"
    }
   ],
   "source": [
    "np.sum(a1,axis=1)#row wise sum"
   ]
  },
  {
   "cell_type": "code",
   "execution_count": 7,
   "metadata": {},
   "outputs": [
    {
     "data": {
      "text/plain": [
       "10"
      ]
     },
     "execution_count": 7,
     "metadata": {},
     "output_type": "execute_result"
    }
   ],
   "source": [
    "np.sum(a1)#all elemnts sum by default"
   ]
  },
  {
   "cell_type": "markdown",
   "metadata": {},
   "source": [
    "#### PROD(MUL)"
   ]
  },
  {
   "cell_type": "code",
   "execution_count": 8,
   "metadata": {},
   "outputs": [
    {
     "data": {
      "text/plain": [
       "array([3, 8])"
      ]
     },
     "execution_count": 8,
     "metadata": {},
     "output_type": "execute_result"
    }
   ],
   "source": [
    "np.prod(a1,axis=0)#column wise addition"
   ]
  },
  {
   "cell_type": "code",
   "execution_count": 9,
   "metadata": {},
   "outputs": [
    {
     "data": {
      "text/plain": [
       "array([ 2, 12])"
      ]
     },
     "execution_count": 9,
     "metadata": {},
     "output_type": "execute_result"
    }
   ],
   "source": [
    "np.prod(a1,axis=1)#row wise sum"
   ]
  },
  {
   "cell_type": "code",
   "execution_count": 10,
   "metadata": {},
   "outputs": [
    {
     "data": {
      "text/plain": [
       "24"
      ]
     },
     "execution_count": 10,
     "metadata": {},
     "output_type": "execute_result"
    }
   ],
   "source": [
    "np.prod(a1)#all elemnts sum by default"
   ]
  },
  {
   "cell_type": "code",
   "execution_count": 11,
   "metadata": {},
   "outputs": [
    {
     "name": "stdin",
     "output_type": "stream",
     "text": [
      " 2 2\n",
      " 1 2\n",
      " 3 4\n"
     ]
    },
    {
     "name": "stdout",
     "output_type": "stream",
     "text": [
      "24\n"
     ]
    }
   ],
   "source": [
    "import numpy as np\n",
    "\n",
    "n1,n2=input().split(' ')\n",
    "a=[]\n",
    "for _ in range(int(n1)):\n",
    "    a.append(list(map(int,input().split())))\n",
    "ar=np.array(a)\n",
    "print(np.prod(np.sum(ar,axis=0)))"
   ]
  },
  {
   "cell_type": "markdown",
   "metadata": {},
   "source": [
    "# [Min and Max](https://www.hackerrank.com/challenges/np-min-and-max/problem)\n",
    "\n",
    "\n",
    "**min**\n",
    "\n",
    "The tool min returns the minimum value along a given axis.\n",
    "\n",
    "import numpy\n",
    "\n",
    "my_array = numpy.array([[2, 5], \\\n",
    "                        [3, 7],\\\n",
    "                        [1, 3],\\\n",
    "                        [4, 0]])\n",
    "\n",
    "print numpy.min(my_array, axis = 0)         #Output : [1 0]\\\n",
    "print numpy.min(my_array, axis = 1)         #Output : [2 3 1 0]\\\n",
    "print numpy.min(my_array, axis = None)      #Output : 0\\\n",
    "print numpy.min(my_array)                   #Output : 0\\\n",
    "By default, the axis value is ***None***. Therefore, it finds the minimum over all the dimensions of the input array.\n",
    "\n",
    "**max**\n",
    "\n",
    "The tool max returns the maximum value along a given axis.\n",
    "\n",
    "import numpy\n",
    "\n",
    "my_array = numpy.array([[2, 5], \\\n",
    "                        [3, 7],\\\n",
    "                        [1, 3],\\\n",
    "                        [4, 0]])\n",
    "\n",
    "print numpy.max(my_array, axis = 0)         #Output : [4 7]\\\n",
    "print numpy.max(my_array, axis = 1)         #Output : [5 7 3 4]\\\n",
    "print numpy.max(my_array, axis = None)      #Output : 7\\\n",
    "print numpy.max(my_array)                   #Output : 7\\\n",
    "By default, the axis value is ***None***. Therefore, it finds the maximum over all the dimensions of the input array."
   ]
  },
  {
   "cell_type": "code",
   "execution_count": 12,
   "metadata": {},
   "outputs": [
    {
     "name": "stdin",
     "output_type": "stream",
     "text": [
      " 4 2\n",
      " 2 5\n",
      " 3 7\n",
      " 1 3\n",
      " 4 0\n"
     ]
    },
    {
     "name": "stdout",
     "output_type": "stream",
     "text": [
      "3\n"
     ]
    }
   ],
   "source": [
    "import numpy as np\n",
    "n1,n2=map(int,input().split())\n",
    "a=[]\n",
    "for _ in range(int(n1)):\n",
    "    a.append(list(map(int,input().split())))\n",
    "ar=np.array(a)\n",
    "print(np.max(np.min(ar,axis=1)))"
   ]
  },
  {
   "cell_type": "markdown",
   "metadata": {},
   "source": [
    "# [Mean, Var, and Std](https://www.hackerrank.com/challenges/np-mean-var-and-std/problem)\n",
    "\n",
    "**mean**\n",
    "\n",
    "The mean tool computes the arithmetic mean along the specified axis.\n",
    "\n",
    "import numpy\n",
    "\n",
    "my_array = numpy.array([ [1, 2], [3, 4] ])\n",
    "\n",
    "print numpy.mean(my_array, axis = 0)        #Output : [ 2.  3.]\\\n",
    "print numpy.mean(my_array, axis = 1)        #Output : [ 1.5  3.5]\\\n",
    "print numpy.mean(my_array, axis = None)     #Output : 2.5\\\n",
    "print numpy.mean(my_array)                  #Output : 2.5\\\n",
    "By default, the axis is ***None***. Therefore, it computes the mean of the flattened array.\n",
    "\n",
    "**var**\n",
    "\n",
    "The var tool computes the arithmetic variance along the specified axis.\n",
    "\n",
    "import numpy\n",
    "\n",
    "my_array = numpy.array([ [1, 2], [3, 4] ])\n",
    "\n",
    "print numpy.var(my_array, axis = 0)         #Output : [ 1.  1.]\\\n",
    "print numpy.var(my_array, axis = 1)         #Output : [ 0.25  0.25]\\\n",
    "print numpy.var(my_array, axis = None)      #Output : 1.25\\\n",
    "print numpy.var(my_array)                   #Output : 1.25\\\n",
    "By default, the axis is ***None***. Therefore, it computes the variance of the flattened array.\n",
    "\n",
    "**std**\n",
    "\n",
    "The std tool computes the arithmetic standard deviation along the specified axis.\n",
    "\n",
    "import numpy\n",
    "\n",
    "my_array = numpy.array([ [1, 2], [3, 4] ])\n",
    "\n",
    "print numpy.std(my_array, axis = 0)         #Output : [ 1.  1.]\\\n",
    "print numpy.std(my_array, axis = 1)         #Output : [ 0.5  0.5]\\\n",
    "print numpy.std(my_array, axis = None)      #Output : 1.11803398875\\\n",
    "print numpy.std(my_array)                   #Output : 1.11803398875\\\n",
    "By default, the axis is ***None***. Therefore, it computes the standard deviation of the flattened array."
   ]
  },
  {
   "cell_type": "code",
   "execution_count": 3,
   "metadata": {},
   "outputs": [
    {
     "name": "stdin",
     "output_type": "stream",
     "text": [
      " 2 2\n",
      " 1 2\n",
      " 3 4\n"
     ]
    },
    {
     "name": "stdout",
     "output_type": "stream",
     "text": [
      "[ 1.5  3.5]\n",
      "[ 1.  1.]\n",
      "1.11803398875\n"
     ]
    }
   ],
   "source": [
    "import numpy as np\n",
    "n1,n2=map(int,input().split())\n",
    "a=[]\n",
    "for _ in range(int(n1)):\n",
    "    a.append(list(map(int,input().split())))\n",
    "ar=np.array(a)\n",
    "np.set_printoptions(legacy='1.13')\n",
    "print(np.mean(ar,axis=1))\n",
    "print(np.var(ar,axis=0))\n",
    "print(np.std(ar))"
   ]
  },
  {
   "cell_type": "markdown",
   "metadata": {},
   "source": [
    "# [Transpose and Flatten](https://www.hackerrank.com/challenges/np-transpose-and-flatten/problem)\n",
    "<pre>\n",
    "<b>Transpose</b>\n",
    "\n",
    "We can generate the transposition of an array using the tool numpy.transpose.\n",
    "It will not affect the original array, but it will create a new array.\n",
    "\n",
    "import numpy\n",
    "\n",
    "my_array = numpy.array([[1,2,3],\n",
    "                        [4,5,6]])\n",
    "print numpy.transpose(my_array)\n",
    "\n",
    "#Output\n",
    "[[1 4]\n",
    " [2 5]\n",
    " [3 6]]\n",
    "\n",
    "<b>Flatten</b>\n",
    "\n",
    "The tool flatten creates a copy of the input array flattened to one dimension.\n",
    "\n",
    "import numpy\n",
    "\n",
    "my_array = numpy.array([[1,2,3],\n",
    "                        [4,5,6]])\n",
    "print my_array.flatten()\n",
    "\n",
    "#Output\n",
    "[1 2 3 4 5 6]</pre>"
   ]
  },
  {
   "cell_type": "code",
   "execution_count": 16,
   "metadata": {},
   "outputs": [
    {
     "name": "stdin",
     "output_type": "stream",
     "text": [
      " 3 2\n",
      " 1 2\n",
      " 3 4\n",
      " 5 6\n"
     ]
    },
    {
     "name": "stdout",
     "output_type": "stream",
     "text": [
      "[[1 3 5]\n",
      " [2 4 6]]\n"
     ]
    }
   ],
   "source": [
    "import numpy as np\n",
    "n1,n2=map(int,input().split())\n",
    "a=[]\n",
    "for _ in range(int(n1)):\n",
    "    a.append(list(map(int,input().split())))\n",
    "ar=np.array(a)\n",
    "np.set_printoptions(legacy='1.13')\n",
    "print(np.transpose(ar))"
   ]
  },
  {
   "cell_type": "code",
   "execution_count": 18,
   "metadata": {},
   "outputs": [
    {
     "name": "stdout",
     "output_type": "stream",
     "text": [
      "[1 2 3 4 5 6]\n"
     ]
    }
   ],
   "source": [
    "print(ar.flatten())"
   ]
  },
  {
   "cell_type": "markdown",
   "metadata": {},
   "source": [
    "# [Eye and Identity](https://www.hackerrank.com/challenges/np-eye-and-identity/problem)\n",
    "\n",
    "<pre>\n",
    "<b>identity</b>\n",
    "\n",
    "The identity tool returns an identity array. An identity array is a square matrix with all the main diagonal elements as  and the rest as . The default type of elements is float.\n",
    "\n",
    "import numpy\n",
    "print numpy.identity(3) #3 is for  dimension 3 X 3\n",
    "\n",
    "#Output\n",
    "[[ 1.  0.  0.]\n",
    " [ 0.  1.  0.]\n",
    " [ 0.  0.  1.]]\n",
    "\n",
    "<b>eye</b>\n",
    "\n",
    "The eye tool returns a 2-D array with 's as the diagonal and 's elsewhere. The diagonal can be main, upper or lower depending on the optional parameter . A positive  is for the upper diagonal, a negative  is for the lower, and a   (default) is for the main diagonal.\n",
    "\n",
    "import numpy\n",
    "print numpy.eye(8, 7, k = 1)    # 8 X 7 Dimensional array with first upper diagonal 1.\n",
    "\n",
    "#Output\n",
    "[[ 0.  1.  0.  0.  0.  0.  0.]\n",
    " [ 0.  0.  1.  0.  0.  0.  0.]\n",
    " [ 0.  0.  0.  1.  0.  0.  0.]\n",
    " [ 0.  0.  0.  0.  1.  0.  0.]\n",
    " [ 0.  0.  0.  0.  0.  1.  0.]\n",
    " [ 0.  0.  0.  0.  0.  0.  1.]\n",
    " [ 0.  0.  0.  0.  0.  0.  0.]\n",
    " [ 0.  0.  0.  0.  0.  0.  0.]]\n",
    "\n",
    "print numpy.eye(8, 7, k = -2)   # 8 X 7 Dimensional array with second lower diagonal 1.\n",
    "\n",
    "</pre>"
   ]
  },
  {
   "cell_type": "code",
   "execution_count": 1,
   "metadata": {},
   "outputs": [
    {
     "name": "stdin",
     "output_type": "stream",
     "text": [
      " 3 3\n"
     ]
    },
    {
     "name": "stdout",
     "output_type": "stream",
     "text": [
      "[[ 1.  0.  0.]\n",
      " [ 0.  1.  0.]\n",
      " [ 0.  0.  1.]]\n"
     ]
    }
   ],
   "source": [
    "import numpy as np\n",
    "n1,n2=map(int,input().split())\n",
    "np.set_printoptions(legacy='1.13')\n",
    "print(np.eye(n1,n2))"
   ]
  },
  {
   "cell_type": "code",
   "execution_count": null,
   "metadata": {},
   "outputs": [],
   "source": []
  },
  {
   "cell_type": "code",
   "execution_count": null,
   "metadata": {},
   "outputs": [],
   "source": []
  },
  {
   "cell_type": "code",
   "execution_count": null,
   "metadata": {},
   "outputs": [],
   "source": []
  },
  {
   "cell_type": "code",
   "execution_count": null,
   "metadata": {},
   "outputs": [],
   "source": []
  },
  {
   "cell_type": "markdown",
   "metadata": {},
   "source": [
    "# [Dot and Cross](https://www.hackerrank.com/challenges/np-dot-and-cross/problem)\n",
    "\n",
    "\n",
    "**dot**\n",
    "\n",
    "The dot tool returns the dot product of two arrays.\n",
    "\n",
    "import numpy\n",
    "\n",
    "A = numpy.array([ 1, 2 ])\\\n",
    "B = numpy.array([ 3, 4 ])\n",
    "\n",
    "print numpy.dot(A, B)       #Output : 11\n",
    "\n",
    "**cross**\n",
    "\n",
    "The cross tool returns the cross product of two arrays.\n",
    "\n",
    "import numpy\n",
    "\n",
    "A = numpy.array([ 1, 2 ])\\\n",
    "B = numpy.array([ 3, 4 ])\n",
    "\n",
    "print numpy.cross(A, B)     #Output : -2"
   ]
  },
  {
   "cell_type": "code",
   "execution_count": 5,
   "metadata": {},
   "outputs": [
    {
     "name": "stdin",
     "output_type": "stream",
     "text": [
      " 2\n",
      " 1 2\n",
      " 3 4\n",
      " 1 2\n",
      " 3 4\n"
     ]
    },
    {
     "name": "stdout",
     "output_type": "stream",
     "text": [
      "[[ 7 10]\n",
      " [15 22]]\n",
      "[0 0]\n"
     ]
    }
   ],
   "source": [
    "import numpy as np\n",
    "n=int(input())\n",
    "a1=[]\n",
    "a2=[]\n",
    "\n",
    "for _ in range(int(n)):\n",
    "    a1.append(list(map(int,input().split())))\n",
    "for _ in range(int(n)):\n",
    "    a2.append(list(map(int,input().split())))\n",
    "ar_a1=np.array(a1)\n",
    "ar_a2=np.array(a2)\n",
    "\n",
    "np.set_printoptions(legacy='1.13')\n",
    "print(np.dot(ar_a1,ar_a2))\n",
    "print(np.cross(ar_a1,ar_a2))"
   ]
  },
  {
   "cell_type": "markdown",
   "metadata": {},
   "source": [
    "![Cross](cross.png)"
   ]
  },
  {
   "cell_type": "markdown",
   "metadata": {},
   "source": [
    "# [Inner and Outer](https://www.hackerrank.com/challenges/np-inner-and-outer/problem)\n",
    "\n",
    "**inner**\n",
    "\n",
    "The inner tool returns the inner product of two arrays.\n",
    "\n",
    "import numpy\n",
    "\n",
    "A = numpy.array([0, 1])\\\n",
    "B = numpy.array([3, 4])\n",
    "\n",
    "print numpy.inner(A, B)     #Output : 4\n",
    "\n",
    "**outer**\n",
    "\n",
    "The outer tool returns the outer product of two arrays.\n",
    "\n",
    "import numpy\n",
    "\n",
    "A = numpy.array([0, 1])\n",
    "B = numpy.array([3, 4])\n",
    "\n",
    "print numpy.outer(A, B)     #Output : [[0 0]\n",
    "                            #          [3 4]]"
   ]
  },
  {
   "cell_type": "code",
   "execution_count": null,
   "metadata": {},
   "outputs": [],
   "source": [
    "import numpy as np\n",
    "a1=list(map(int,input().split()))\n",
    "a2=list(map(int,input().split()))\n",
    "\n",
    "ar_a1=np.array(a1)\n",
    "ar_a2=np.array(a2)\n",
    "\n",
    "print(np.inner(ar_a1,ar_a2))\n",
    "print(np.outer(ar_a1,ar_a2))"
   ]
  },
  {
   "cell_type": "code",
   "execution_count": 2,
   "metadata": {},
   "outputs": [
    {
     "name": "stdin",
     "output_type": "stream",
     "text": [
      " 2\n",
      " 1 2\n",
      " 3 4\n",
      " 11 12\n",
      " 13 14\n"
     ]
    },
    {
     "name": "stdout",
     "output_type": "stream",
     "text": [
      "[[35 41]\n",
      " [81 95]]\n",
      "[[11 12 13 14]\n",
      " [22 24 26 28]\n",
      " [33 36 39 42]\n",
      " [44 48 52 56]]\n"
     ]
    }
   ],
   "source": [
    "import numpy as np\n",
    "n=int(input())\n",
    "a1=[]\n",
    "a2=[]\n",
    "\n",
    "for _ in range(int(n)):\n",
    "    a1.append(list(map(int,input().split())))\n",
    "for _ in range(int(n)):\n",
    "    a2.append(list(map(int,input().split())))\n",
    "ar_a1=np.array(a1)\n",
    "ar_a2=np.array(a2)\n",
    "\n",
    "print(np.inner(ar_a1,ar_a2))\n",
    "print(np.outer(ar_a1,ar_a2))"
   ]
  },
  {
   "cell_type": "code",
   "execution_count": 3,
   "metadata": {},
   "outputs": [
    {
     "data": {
      "text/plain": [
       "'\\n1*11+2*12, 1*13+2*14 \\n3*11+4*12, 3*13+4*14 \\n'"
      ]
     },
     "execution_count": 3,
     "metadata": {},
     "output_type": "execute_result"
    }
   ],
   "source": [
    "'''\n",
    "\n",
    "np.inner:\n",
    "1*11+2*12, 1*13+2*14 \n",
    "3*11+4*12, 3*13+4*14\n",
    "\n",
    "'''"
   ]
  },
  {
   "cell_type": "markdown",
   "metadata": {},
   "source": [
    "# [Polynomials](https://www.hackerrank.com/challenges/np-polynomials/problem)\n",
    "\n",
    "**poly**\n",
    "\n",
    "The poly tool returns the coefficients of a polynomial with the given sequence of roots.\n",
    "\n",
    "print numpy.poly([-1, 1, 1, 10])        #Output : [  1 -11   9  11 -10]\n",
    "\n",
    "**roots**\n",
    "\n",
    "The roots tool returns the roots of a polynomial with the given coefficients.\n",
    "\n",
    "print numpy.roots([1, 0, -1])           #Output : [-1.  1.]\n",
    "\n",
    "**polyint**\n",
    "\n",
    "The polyint tool returns an antiderivative (indefinite integral) of a polynomial.\n",
    "\n",
    "print numpy.polyint([1, 1, 1])          #Output : [ 0.33333333  0.5         1.          0.        ]\n",
    "\n",
    "**polyder**\n",
    "\n",
    "The polyder tool returns the derivative of the specified order of a polynomial.\n",
    "\n",
    "print numpy.polyder([1, 1, 1, 1])       #Output : [3 2 1]\n",
    "\n",
    "**polyval**\n",
    "\n",
    "The polyval tool evaluates the polynomial at specific value.\n",
    "\n",
    "print numpy.polyval([1, -2, 0, 2], 4)   #Output : 34\n",
    "\n",
    "**polyfit**\n",
    "\n",
    "The polyfit tool fits a polynomial of a specified order to a set of data using a least-squares approach.\n",
    "\n",
    "print numpy.polyfit([0,1,-1, 2, -2], [0,1,1, 4, 4], 2)\\\n",
    "#Output :[  1.00000000e+00   0.00000000e+00  -3.97205465e-16]\n",
    "\n",
    "The functions polyadd, polysub, polymul, and polydiv also handle proper addition, subtraction, multiplication, and division of polynomial coefficients, respectively."
   ]
  },
  {
   "cell_type": "code",
   "execution_count": 1,
   "metadata": {},
   "outputs": [],
   "source": [
    "import numpy as np"
   ]
  },
  {
   "cell_type": "code",
   "execution_count": 16,
   "metadata": {},
   "outputs": [
    {
     "data": {
      "text/plain": [
       "array([ 1.,  0., -4.])"
      ]
     },
     "execution_count": 16,
     "metadata": {},
     "output_type": "execute_result"
    }
   ],
   "source": [
    "np.poly((2,-2))#roots of equation is passed to form equation"
   ]
  },
  {
   "cell_type": "markdown",
   "metadata": {},
   "source": [
    " the above code represents\n",
    " $x**2-4$"
   ]
  },
  {
   "cell_type": "code",
   "execution_count": 17,
   "metadata": {},
   "outputs": [
    {
     "data": {
      "text/plain": [
       "array([-2.,  2.])"
      ]
     },
     "execution_count": 17,
     "metadata": {},
     "output_type": "execute_result"
    }
   ],
   "source": [
    "np.roots((1,0,-4))#equation is passed to find roots of equation"
   ]
  },
  {
   "cell_type": "code",
   "execution_count": 18,
   "metadata": {},
   "outputs": [
    {
     "data": {
      "text/plain": [
       "array([ 0.33333333,  0.        , -4.        ,  0.        ])"
      ]
     },
     "execution_count": 18,
     "metadata": {},
     "output_type": "execute_result"
    }
   ],
   "source": [
    "np.polyint((1,0,-4))#indefinite integral of equation"
   ]
  },
  {
   "cell_type": "markdown",
   "metadata": {},
   "source": [
    " the above code represents\n",
    " $x**3/3-x*4+c$ here c is 0"
   ]
  },
  {
   "cell_type": "code",
   "execution_count": 2,
   "metadata": {},
   "outputs": [
    {
     "data": {
      "text/plain": [
       "array([2, 0])"
      ]
     },
     "execution_count": 2,
     "metadata": {},
     "output_type": "execute_result"
    }
   ],
   "source": [
    "np.polyder((1,0,-4))# derivative"
   ]
  },
  {
   "cell_type": "markdown",
   "metadata": {},
   "source": [
    " the above code represents\n",
    " $x*2$"
   ]
  },
  {
   "cell_type": "code",
   "execution_count": 8,
   "metadata": {},
   "outputs": [
    {
     "data": {
      "text/plain": [
       "5"
      ]
     },
     "execution_count": 8,
     "metadata": {},
     "output_type": "execute_result"
    }
   ],
   "source": [
    "#evaluates the polynomial at specific value\n",
    "np.polyval((1,0,-4),3) #at x=3"
   ]
  },
  {
   "cell_type": "code",
   "execution_count": 13,
   "metadata": {},
   "outputs": [
    {
     "name": "stdin",
     "output_type": "stream",
     "text": [
      " 1.1 2 3\n",
      " 0\n"
     ]
    },
    {
     "name": "stdout",
     "output_type": "stream",
     "text": [
      "3.0\n"
     ]
    }
   ],
   "source": [
    "import numpy as np\n",
    "a=list(map(float,input().split()))\n",
    "val=int(input())\n",
    "print(np.polyval(a,val))"
   ]
  },
  {
   "cell_type": "markdown",
   "metadata": {},
   "source": [
    "# [Linear Algebra](https://www.hackerrank.com/challenges/np-linear-algebra/problem)\n",
    "\n",
    "<pre>The NumPy module also comes with a number of built-in routines for linear algebra calculations. These can be found in the sub-module linalg.\n",
    "\n",
    "<b>linalg.det</b>\n",
    "\n",
    "The linalg.det tool computes the determinant of an array.\n",
    "\n",
    "print numpy.linalg.det([[1 , 2], [2, 1]])       #Output : -3.0\n",
    "\n",
    "<b>linalg.eig</b>\n",
    "\n",
    "The linalg.eig computes the eigenvalues and right eigenvectors of a square array.\n",
    "\n",
    "vals, vecs = numpy.linalg.eig([[1 , 2], [2, 1]])\n",
    "print vals                                      #Output : [ 3. -1.]\n",
    "print vecs                                      #Output : [[ 0.70710678 -0.70710678]\n",
    "                                                #          [ 0.70710678  0.70710678]]\n",
    "<b>linalg.inv</b>\n",
    "\n",
    "The linalg.inv tool computes the (multiplicative) inverse of a matrix.\n",
    "\n",
    "print numpy.linalg.inv([[1 , 2], [2, 1]])       #Output : [[-0.33333333  0.66666667]\n",
    "                                                #          [ 0.66666667 -0.33333333]]</pre>"
   ]
  },
  {
   "cell_type": "code",
   "execution_count": 15,
   "metadata": {},
   "outputs": [
    {
     "name": "stdin",
     "output_type": "stream",
     "text": [
      " 2\n",
      " 1 2\n",
      " 2 1\n"
     ]
    },
    {
     "name": "stdout",
     "output_type": "stream",
     "text": [
      "-3.0\n"
     ]
    }
   ],
   "source": [
    "import numpy as np\n",
    "a=[]\n",
    "for _ in range(int(input())):\n",
    "    a.append(list(map(float,input().split())))\n",
    "np.set_printoptions(legacy='1.13')\n",
    "print(np.linalg.det(a))"
   ]
  },
  {
   "cell_type": "code",
   "execution_count": null,
   "metadata": {},
   "outputs": [],
   "source": []
  }
 ],
 "metadata": {
  "kernelspec": {
   "display_name": "Python 3",
   "language": "python",
   "name": "python3"
  },
  "language_info": {
   "codemirror_mode": {
    "name": "ipython",
    "version": 3
   },
   "file_extension": ".py",
   "mimetype": "text/x-python",
   "name": "python",
   "nbconvert_exporter": "python",
   "pygments_lexer": "ipython3",
   "version": "3.8.2"
  }
 },
 "nbformat": 4,
 "nbformat_minor": 4
}
