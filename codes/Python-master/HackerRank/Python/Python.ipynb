{
 "cells": [
  {
   "cell_type": "code",
   "execution_count": null,
   "metadata": {},
   "outputs": [],
   "source": [
    "#include <bits/stdc++.h>\n",
    "\n",
    "using namespace std;\n",
    "\n",
    "typedef int in;\n",
    "#define int long long\n",
    "\n",
    "in main()\n",
    "{\n",
    "    int n;\n",
    "    string s;\n",
    "    cin >> s;\n",
    "    n = s.size();\n",
    "    stack<string> q;\n",
    "    bool b1 = 0,num=0;\n",
    "    string s1 = \"\",ans = \"\";\n",
    "    for(int i = 0 ; i < n ; i ++){\n",
    "        if(s[i] == '>'){\n",
    "            q.push(s1);\n",
    "            s1=\"\";\n",
    "            b1 = 0;\n",
    "            continue;\n",
    "        }\n",
    "        if(s[i] == '<'){\n",
    "            q.push(s1);\n",
    "            b1 = 1;\n",
    "            s1=\"\";\n",
    "            continue;\n",
    "        }\n",
    "        if(s[i]=='*')\n",
    "        {\n",
    "            if(b1){\n",
    "                if(s1.size())\n",
    "                    s1.pop_back();\n",
    "            }\n",
    "            else{\n",
    "                if(ans.size())\n",
    "                    ans.pop_back();\n",
    "            }\n",
    "            continue;\n",
    "        }\n",
    "        if(s[i]=='#')\n",
    "        {\n",
    "            num^=1;\n",
    "            continue;\n",
    "        }\n",
    "        if(b1){\n",
    "            if(isdigit(s[i]) && num)\n",
    "                continue;\n",
    "            s1.push_back(s[i]);\n",
    "        }\n",
    "        else{\n",
    "            if(isdigit(s[i]) && num)\n",
    "                continue;\n",
    "            ans.push_back(s[i]);\n",
    "        }\n",
    "    }\n",
    "    if(s1.size()){\n",
    "        q.push(s1);\n",
    "    }\n",
    "    while(q.size()){\n",
    "        cout << q.top();\n",
    "        q.pop();\n",
    "    }\n",
    "    cout << ans << endl;\n",
    "    return 0;\n",
    "}"
   ]
  },
  {
   "cell_type": "code",
   "execution_count": null,
   "metadata": {},
   "outputs": [],
   "source": [
    "/* ****devACE**** */\n",
    "\n",
    "#include<bits/stdc++.h>\n",
    "#define ll          long long\n",
    "#define pb          push_back\n",
    "#define    endl        '\\n'\n",
    "#define pii         pair<ll int,ll int>\n",
    "#define vi          vector<ll int>\n",
    "#define all(a)      (a).begin(),(a).end()\n",
    "#define F           first\n",
    "#define S           second\n",
    "#define sz(x)       (ll int)x.size()\n",
    "#define hell        1000000007\n",
    "#define rep(i,a,b)    for(ll int i=a;i<b;i++)\n",
    "#define lbnd        lower_bound\n",
    "#define ubnd        upper_bound\n",
    "#define bs          binary_search\n",
    "#define mp          make_pair\n",
    "using namespace std;\n",
    "\n",
    "#define N  100005\n",
    "\n",
    "int main()\n",
    "{\n",
    "    ios_base::sync_with_stdio(false);\n",
    "    cin.tie(0);\n",
    "    cout.tie(0);\n",
    "    int TESTS=1;\n",
    "//    cin>>TESTS;\n",
    "    while(TESTS--)\n",
    "    {\n",
    "        int n,i,j,k;\n",
    "        cin>>n;\n",
    "        int connection[n+1],self_loop=-1;\n",
    "        for(i=1;i<=n;i++){\n",
    "            cin>>connection[i];\n",
    "            if(i==connection[i])self_loop=i; //when a node is connected to itself.\n",
    "        }\n",
    "\n",
    "        int vis[n+1];\n",
    "        memset(vis,0,sizeof vis);\n",
    "        int loops=0;\n",
    "        int col=0;\n",
    "        for(i=1;i<=n;i++){ \n",
    "            if(vis[i]==0){ //start dfs from every unvisited node\n",
    "                j=i,++col;\n",
    "                while(vis[j]==0){\n",
    "                    vis[j]=col; //Every dfs assigns a different color to the nodes.\n",
    "                    j=connection[j];\n",
    "                }\n",
    "                if(vis[j]==col)loops++; //If same color is encountered again, then cycle exists.\n",
    "            }    \n",
    "        }\n",
    "\n",
    "        int ct=loops-1+(self_loop==-1);\n",
    "\n",
    "        cout<<ct<<\"\\n\";\n",
    "\n",
    "\n",
    "        \n",
    "\n",
    "    }\n",
    "    return 0;\n",
    "}"
   ]
  },
  {
   "cell_type": "markdown",
   "metadata": {},
   "source": [
    "# Zipped\n",
    "![zipped](zipped.png)"
   ]
  },
  {
   "cell_type": "code",
   "execution_count": null,
   "metadata": {},
   "outputs": [],
   "source": [
    "n="
   ]
  },
  {
   "cell_type": "code",
   "execution_count": 16,
   "metadata": {},
   "outputs": [
    {
     "name": "stdin",
     "output_type": "stream",
     "text": [
      " 5 3\n",
      " 89 90 78 93 80\n",
      " 90 91 85 88 86\n",
      " 91 92 83 89 90.5\n"
     ]
    },
    {
     "name": "stdout",
     "output_type": "stream",
     "text": [
      "90.0\n",
      "91.0\n",
      "82.0\n",
      "90.0\n",
      "85.5\n"
     ]
    }
   ],
   "source": [
    "# %load zipped.py\n",
    "n1,n2=map(int,input().split())\n",
    "a=[]\n",
    "for i in range(n2):\n",
    "    a.append(list(map(float,input().split())))\n",
    "for i in zip(*a):\n",
    "    print(sum(i)/n2)"
   ]
  },
  {
   "cell_type": "markdown",
   "metadata": {},
   "source": [
    "# Input()"
   ]
  },
  {
   "cell_type": "code",
   "execution_count": 21,
   "metadata": {},
   "outputs": [
    {
     "name": "stdin",
     "output_type": "stream",
     "text": [
      " 1 4\n",
      "   x**3 + x**2 + x + 1\n"
     ]
    },
    {
     "name": "stdout",
     "output_type": "stream",
     "text": [
      "True\n"
     ]
    }
   ],
   "source": [
    "n1,n2=map(int,input().split())\n",
    "a=input().replace('x',str(n1)).split('+')\n",
    "if eval('+'.join(a))==n2:\n",
    "    print('True')\n",
    "else:\n",
    "    print('False')"
   ]
  },
  {
   "cell_type": "markdown",
   "metadata": {},
   "source": [
    "# Any or All"
   ]
  },
  {
   "cell_type": "code",
   "execution_count": 29,
   "metadata": {},
   "outputs": [
    {
     "name": "stdin",
     "output_type": "stream",
     "text": [
      " 2\n",
      " 12 45\n"
     ]
    },
    {
     "name": "stdout",
     "output_type": "stream",
     "text": [
      "False\n"
     ]
    }
   ],
   "source": [
    "n=input()\n",
    "a=list(map(int,input().split()))\n",
    "print(all(i>0 for i in a) and any(str(v)==str(v)[::-1] for v in a))"
   ]
  },
  {
   "cell_type": "code",
   "execution_count": 28,
   "metadata": {},
   "outputs": [
    {
     "data": {
      "text/plain": [
       "True"
      ]
     },
     "execution_count": 28,
     "metadata": {},
     "output_type": "execute_result"
    }
   ],
   "source": [
    "all(i>0 for i in a) "
   ]
  },
  {
   "cell_type": "markdown",
   "metadata": {},
   "source": [
    "# Athlete Sort "
   ]
  },
  {
   "cell_type": "code",
   "execution_count": 30,
   "metadata": {},
   "outputs": [
    {
     "name": "stdin",
     "output_type": "stream",
     "text": [
      " 5 3\n",
      " 10 2 5\n",
      " 7 1 0\n",
      " 9 9 9\n",
      " 1 23 12\n",
      " 6 5 9\n",
      " 1\n"
     ]
    }
   ],
   "source": [
    "if __name__ == '__main__':\n",
    "    nm = input().split()\n",
    "\n",
    "    n = int(nm[0])\n",
    "\n",
    "    m = int(nm[1])\n",
    "\n",
    "    arr = []\n",
    "\n",
    "    for _ in range(n):\n",
    "        arr.append(list(map(int, input().rstrip().split())))\n",
    "\n",
    "    k = int(input())\n",
    "    "
   ]
  },
  {
   "cell_type": "code",
   "execution_count": 38,
   "metadata": {},
   "outputs": [],
   "source": [
    "def t(n):\n",
    "    return n[1]"
   ]
  },
  {
   "cell_type": "code",
   "execution_count": 39,
   "metadata": {},
   "outputs": [],
   "source": [
    "arr.sort(key=t)"
   ]
  },
  {
   "cell_type": "code",
   "execution_count": 40,
   "metadata": {},
   "outputs": [
    {
     "data": {
      "text/plain": [
       "[[7, 1, 0], [10, 2, 5], [6, 5, 9], [9, 9, 9], [1, 23, 12]]"
      ]
     },
     "execution_count": 40,
     "metadata": {},
     "output_type": "execute_result"
    }
   ],
   "source": [
    "l"
   ]
  },
  {
   "cell_type": "code",
   "execution_count": 35,
   "metadata": {},
   "outputs": [],
   "source": [
    "l.sort()"
   ]
  },
  {
   "cell_type": "code",
   "execution_count": 36,
   "metadata": {},
   "outputs": [
    {
     "data": {
      "text/plain": [
       "[[1, 23, 12], [6, 5, 9], [7, 1, 0], [9, 9, 9], [10, 2, 5]]"
      ]
     },
     "execution_count": 36,
     "metadata": {},
     "output_type": "execute_result"
    }
   ],
   "source": [
    "l"
   ]
  },
  {
   "cell_type": "code",
   "execution_count": null,
   "metadata": {},
   "outputs": [],
   "source": []
  }
 ],
 "metadata": {
  "kernelspec": {
   "display_name": "Python 3",
   "language": "python",
   "name": "python3"
  },
  "language_info": {
   "codemirror_mode": {
    "name": "ipython",
    "version": 3
   },
   "file_extension": ".py",
   "mimetype": "text/x-python",
   "name": "python",
   "nbconvert_exporter": "python",
   "pygments_lexer": "ipython3",
   "version": "3.8.2"
  }
 },
 "nbformat": 4,
 "nbformat_minor": 4
}
