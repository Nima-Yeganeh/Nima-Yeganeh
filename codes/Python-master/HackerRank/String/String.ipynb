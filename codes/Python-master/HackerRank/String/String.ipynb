{
 "cells": [
  {
   "cell_type": "markdown",
   "metadata": {},
   "source": [
    "# [Super Reduced String](https://www.hackerrank.com/challenges/reduced-string/problem)"
   ]
  },
  {
   "cell_type": "code",
   "execution_count": 6,
   "metadata": {},
   "outputs": [
    {
     "name": "stdin",
     "output_type": "stream",
     "text": [
      " baab\n"
     ]
    },
    {
     "name": "stdout",
     "output_type": "stream",
     "text": [
      "Empty String\n"
     ]
    }
   ],
   "source": [
    "s=input()\n",
    "for i in s:\n",
    "    if s.count(i+i)>0:\n",
    "        s=s.replace(i+i,'')\n",
    "if len(s)>0:\n",
    "    print(s)\n",
    "else:\n",
    "    print('Empty String')"
   ]
  },
  {
   "cell_type": "markdown",
   "metadata": {},
   "source": [
    "# [Strong Password](https://www.hackerrank.com/challenges/strong-password/problem)"
   ]
  },
  {
   "cell_type": "code",
   "execution_count": 4,
   "metadata": {},
   "outputs": [
    {
     "name": "stdin",
     "output_type": "stream",
     "text": [
      " HackerRank\n"
     ]
    },
    {
     "name": "stdout",
     "output_type": "stream",
     "text": [
      "2\n"
     ]
    }
   ],
   "source": [
    "numbers = \"0123456789\"\n",
    "lower_case = \"abcdefghijklmnopqrstuvwxyz\"\n",
    "upper_case = \"ABCDEFGHIJKLMNOPQRSTUVWXYZ\"\n",
    "special_characters = \"!@#$%^&*()-+\"\n",
    "\n",
    "c_digit=1\n",
    "c_lower=1\n",
    "c_upper=1\n",
    "c_speial=1\n",
    "\n",
    "s=input()\n",
    "for i in s:\n",
    "    if i in numbers:\n",
    "        if c_digit==1:\n",
    "            c_digit-=1\n",
    "    elif i in lower_case:\n",
    "        if c_lower==1:\n",
    "            c_lower-=1\n",
    "    elif i in upper_case:\n",
    "        if c_upper==1:\n",
    "            c_upper-=1\n",
    "    else:\n",
    "        if c_speial==1:\n",
    "            c_speial-=1\n",
    "print(max(c_digit+c_lower+c_speial+c_upper,6-len(s)))"
   ]
  },
  {
   "cell_type": "code",
   "execution_count": null,
   "metadata": {},
   "outputs": [],
   "source": [
    "def minimumNumber(n, password):\n",
    "    count = 0    \n",
    "    if any(i.isdigit() for i in password)==False:\n",
    "        count+=1\n",
    "    if any(i.islower() for i in password)==False:\n",
    "        count+=1\n",
    "    if any(i.isupper() for i in password)==False:\n",
    "        count+=1\n",
    "    if any(i in '!@#$%^&*()-+' for i in password)==False:\n",
    "        count+=1\n",
    "    return max(count,6-n)"
   ]
  }
 ],
 "metadata": {
  "kernelspec": {
   "display_name": "Python 3",
   "language": "python",
   "name": "python3"
  },
  "language_info": {
   "codemirror_mode": {
    "name": "ipython",
    "version": 3
   },
   "file_extension": ".py",
   "mimetype": "text/x-python",
   "name": "python",
   "nbconvert_exporter": "python",
   "pygments_lexer": "ipython3",
   "version": "3.8.2"
  }
 },
 "nbformat": 4,
 "nbformat_minor": 4
}
