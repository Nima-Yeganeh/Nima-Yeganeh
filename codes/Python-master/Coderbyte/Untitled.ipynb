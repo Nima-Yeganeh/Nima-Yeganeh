{
 "cells": [
  {
   "cell_type": "markdown",
   "metadata": {},
   "source": []
  },
  {
   "cell_type": "markdown",
   "metadata": {},
   "source": [
    "# Find Intersection\n",
    "Have the function FindIntersection(strArr) read the array of strings stored in strArr which will contain 2 elements:\\\n",
    "the first element will represent a list of comma-separated numbers sorted in ascending order,\\\n",
    "the second element will represent a second list of comma-separated numbers (also sorted).\\\n",
    "Your goal is to return a comma-separated string containing the numbers that occur in elements of strArr in sorted order.\\\n",
    "If there is no intersection, return the string false.\\\n",
    "***Examples***\\\n",
    "***Input:*** [\"1, 3, 4, 7, 13\", \"1, 2, 4, 13, 15\"]\\\n",
    "***Output:*** 1,4,13\\\n",
    "***Input:*** [\"1, 3, 9, 10, 17, 18\", \"1, 4, 9, 10\"]\\\n",
    "***Output:*** 1,9,10"
   ]
  },
  {
   "cell_type": "code",
   "execution_count": 122,
   "metadata": {},
   "outputs": [
    {
     "name": "stdin",
     "output_type": "stream",
     "text": [
      " [\"1, 3, 4, 7, 13\", \"1, 2, 4, 13, 15\"]\n"
     ]
    },
    {
     "name": "stdout",
     "output_type": "stream",
     "text": [
      "1,4,13"
     ]
    }
   ],
   "source": [
    "data=input()\n",
    "se=data.split('\"|,',data)[1:-1]\n",
    "l1=[]\n",
    "l2=[]\n",
    "c=0\n",
    "for i in se:\n",
    "    try:\n",
    "        if c==0:\n",
    "            l1.append(int(i))\n",
    "        else:\n",
    "            l2.append(int(i))\n",
    "    except:\n",
    "        c+=1\n",
    "c=0\n",
    "for i in l1:\n",
    "    if i in l2:\n",
    "        if c==0:\n",
    "            c+=1\n",
    "            print(i,end='')\n",
    "        else:\n",
    "            print(end=',')           \n",
    "            print(i,end='')"
   ]
  },
  {
   "cell_type": "code",
   "execution_count": 124,
   "metadata": {},
   "outputs": [
    {
     "name": "stdin",
     "output_type": "stream",
     "text": [
      " [\"1, 3, 4, 7, 13\", \"1, 2, 4, 13, 15\"]\n"
     ]
    },
    {
     "name": "stdout",
     "output_type": "stream",
     "text": [
      "1,4,13\n"
     ]
    }
   ],
   "source": [
    "def FindIntersection(data):\n",
    "  import re\n",
    "  se=re.split('\"|,',data)[1:-1]\n",
    "  l1=[]\n",
    "  l2=[]\n",
    "  c=0\n",
    "  for i in se:\n",
    "      try:\n",
    "          if c==0:\n",
    "              l1.append(int(i))\n",
    "          else:\n",
    "              l2.append(int(i))\n",
    "      except:\n",
    "          c+=1\n",
    "  c=0\n",
    "  s=''\n",
    "  for i in l1:\n",
    "    if i in l2:\n",
    "      if c==0:\n",
    "          c+=1\n",
    "          s+=str(i)\n",
    "      else:\n",
    "          s+=','+str(i)\n",
    "  # code goes here\n",
    "  return s\n",
    "\n",
    "# keep this function call here \n",
    "print(FindIntersection(input()))"
   ]
  },
  {
   "cell_type": "code",
   "execution_count": 125,
   "metadata": {},
   "outputs": [
    {
     "data": {
      "text/plain": [
       "'[\"1, 3, 4, 7, 13\", \"1, 2, 4, 13, 15\"]'"
      ]
     },
     "execution_count": 125,
     "metadata": {},
     "output_type": "execute_result"
    }
   ],
   "source": [
    "data"
   ]
  },
  {
   "cell_type": "code",
   "execution_count": 129,
   "metadata": {},
   "outputs": [
    {
     "data": {
      "text/plain": [
       "['[\"1', ' 3', ' 4', ' 7', ' 13\"', ' \"1', ' 2', ' 4', ' 13', ' 15\"]']"
      ]
     },
     "execution_count": 129,
     "metadata": {},
     "output_type": "execute_result"
    }
   ],
   "source": [
    "se=data.split(',')\n",
    "se"
   ]
  },
  {
   "cell_type": "code",
   "execution_count": 128,
   "metadata": {},
   "outputs": [
    {
     "ename": "AttributeError",
     "evalue": "'list' object has no attribute 'split'",
     "output_type": "error",
     "traceback": [
      "\u001b[0;31m---------------------------------------------------------------------------\u001b[0m",
      "\u001b[0;31mAttributeError\u001b[0m                            Traceback (most recent call last)",
      "\u001b[0;32m<ipython-input-128-3e17869c4ffc>\u001b[0m in \u001b[0;36m<module>\u001b[0;34m\u001b[0m\n\u001b[0;32m----> 1\u001b[0;31m \u001b[0mse\u001b[0m\u001b[0;34m.\u001b[0m\u001b[0msplit\u001b[0m\u001b[0;34m(\u001b[0m\u001b[0;34m','\u001b[0m\u001b[0;34m)\u001b[0m\u001b[0;34m\u001b[0m\u001b[0;34m\u001b[0m\u001b[0m\n\u001b[0m",
      "\u001b[0;31mAttributeError\u001b[0m: 'list' object has no attribute 'split'"
     ]
    }
   ],
   "source": [
    "se.split(',')"
   ]
  },
  {
   "cell_type": "code",
   "execution_count": 130,
   "metadata": {},
   "outputs": [
    {
     "name": "stdin",
     "output_type": "stream",
     "text": [
      " [\"1, 3, 4, 7, 13\", \"1, 2, 4, 13, 15\"]\n"
     ]
    },
    {
     "ename": "ValueError",
     "evalue": "invalid literal for int() with base 10: '['",
     "output_type": "error",
     "traceback": [
      "\u001b[0;31m---------------------------------------------------------------------------\u001b[0m",
      "\u001b[0;31mValueError\u001b[0m                                Traceback (most recent call last)",
      "\u001b[0;32m<ipython-input-130-696451c73779>\u001b[0m in \u001b[0;36m<module>\u001b[0;34m\u001b[0m\n\u001b[1;32m     11\u001b[0m             \u001b[0md\u001b[0m\u001b[0;34m+=\u001b[0m \u001b[0;34m\",\"\u001b[0m\u001b[0;34m\u001b[0m\u001b[0;34m\u001b[0m\u001b[0m\n\u001b[1;32m     12\u001b[0m     \u001b[0;32mreturn\u001b[0m \u001b[0md\u001b[0m\u001b[0;34m\u001b[0m\u001b[0;34m\u001b[0m\u001b[0m\n\u001b[0;32m---> 13\u001b[0;31m \u001b[0mprint\u001b[0m\u001b[0;34m(\u001b[0m\u001b[0mFindIntersection\u001b[0m\u001b[0;34m(\u001b[0m\u001b[0minput\u001b[0m\u001b[0;34m(\u001b[0m\u001b[0;34m)\u001b[0m\u001b[0;34m)\u001b[0m\u001b[0;34m)\u001b[0m\u001b[0;34m\u001b[0m\u001b[0;34m\u001b[0m\u001b[0m\n\u001b[0m",
      "\u001b[0;32m<ipython-input-130-696451c73779>\u001b[0m in \u001b[0;36mFindIntersection\u001b[0;34m(strArr)\u001b[0m\n\u001b[1;32m      1\u001b[0m \u001b[0;32mdef\u001b[0m \u001b[0mFindIntersection\u001b[0m\u001b[0;34m(\u001b[0m\u001b[0mstrArr\u001b[0m\u001b[0;34m)\u001b[0m\u001b[0;34m:\u001b[0m\u001b[0;34m\u001b[0m\u001b[0;34m\u001b[0m\u001b[0m\n\u001b[0;32m----> 2\u001b[0;31m     \u001b[0mv\u001b[0m \u001b[0;34m=\u001b[0m \u001b[0mset\u001b[0m\u001b[0;34m(\u001b[0m\u001b[0mmap\u001b[0m\u001b[0;34m(\u001b[0m\u001b[0mint\u001b[0m\u001b[0;34m,\u001b[0m \u001b[0mstrArr\u001b[0m\u001b[0;34m[\u001b[0m\u001b[0;36m0\u001b[0m\u001b[0;34m]\u001b[0m\u001b[0;34m.\u001b[0m\u001b[0msplit\u001b[0m\u001b[0;34m(\u001b[0m\u001b[0;34m', '\u001b[0m\u001b[0;34m)\u001b[0m\u001b[0;34m)\u001b[0m\u001b[0;34m)\u001b[0m\u001b[0;34m\u001b[0m\u001b[0;34m\u001b[0m\u001b[0m\n\u001b[0m\u001b[1;32m      3\u001b[0m     \u001b[0mq\u001b[0m \u001b[0;34m=\u001b[0m \u001b[0mset\u001b[0m\u001b[0;34m(\u001b[0m\u001b[0mmap\u001b[0m\u001b[0;34m(\u001b[0m\u001b[0mint\u001b[0m\u001b[0;34m,\u001b[0m \u001b[0mstrArr\u001b[0m\u001b[0;34m[\u001b[0m\u001b[0;36m1\u001b[0m\u001b[0;34m]\u001b[0m\u001b[0;34m.\u001b[0m\u001b[0msplit\u001b[0m\u001b[0;34m(\u001b[0m\u001b[0;34m', '\u001b[0m\u001b[0;34m)\u001b[0m\u001b[0;34m)\u001b[0m\u001b[0;34m)\u001b[0m\u001b[0;34m\u001b[0m\u001b[0;34m\u001b[0m\u001b[0m\n\u001b[1;32m      4\u001b[0m     \u001b[0mc\u001b[0m \u001b[0;34m=\u001b[0m \u001b[0msorted\u001b[0m\u001b[0;34m(\u001b[0m\u001b[0mlist\u001b[0m\u001b[0;34m(\u001b[0m\u001b[0mv\u001b[0m\u001b[0;34m&\u001b[0m\u001b[0mq\u001b[0m\u001b[0;34m)\u001b[0m\u001b[0;34m)\u001b[0m\u001b[0;34m\u001b[0m\u001b[0;34m\u001b[0m\u001b[0m\n\u001b[1;32m      5\u001b[0m     \u001b[0;32mif\u001b[0m \u001b[0mlen\u001b[0m\u001b[0;34m(\u001b[0m\u001b[0mc\u001b[0m\u001b[0;34m)\u001b[0m \u001b[0;34m==\u001b[0m\u001b[0;36m0\u001b[0m\u001b[0;34m:\u001b[0m\u001b[0;34m\u001b[0m\u001b[0;34m\u001b[0m\u001b[0m\n",
      "\u001b[0;31mValueError\u001b[0m: invalid literal for int() with base 10: '['"
     ]
    }
   ],
   "source": [
    "def FindIntersection(strArr):\n",
    "    v = set(map(int, strArr[0].split(', ')))\n",
    "    q = set(map(int, strArr[1].split(', ')))\n",
    "    c = sorted(list(v&q))\n",
    "    if len(c) ==0:\n",
    "      return 'false'\n",
    "    d = \"\"\"\"\"\"\n",
    "    for i in range(len(c)):\n",
    "        d += str(c[i])\n",
    "        if i<len(c)-1:\n",
    "            d+= \",\"\n",
    "    return d\n",
    "print(FindIntersection(input()))"
   ]
  },
  {
   "cell_type": "code",
   "execution_count": 175,
   "metadata": {},
   "outputs": [
    {
     "name": "stdin",
     "output_type": "stream",
     "text": [
      " z\n"
     ]
    },
    {
     "name": "stdout",
     "output_type": "stream",
     "text": [
      "A\n"
     ]
    }
   ],
   "source": [
    "def LetterChanges(str):\n",
    "    l=''\n",
    "    for i in str:\n",
    "        if ord(i)>96 and ord(i)<123:\n",
    "            x=chr((ord(i)-97+1)%25+96)\n",
    "            if x in 'aeiou':\n",
    "                l+=chr((ord(i)-97+1)%25+96-32)\n",
    "            else:\n",
    "                l+=x\n",
    "        else:\n",
    "            l+=i\n",
    "  # code goes here\n",
    "    return l\n",
    "\n",
    "# keep this function call here \n",
    "print(LetterChanges(input()))"
   ]
  },
  {
   "cell_type": "code",
   "execution_count": 159,
   "metadata": {},
   "outputs": [
    {
     "data": {
      "text/plain": [
       "'a'"
      ]
     },
     "execution_count": 159,
     "metadata": {},
     "output_type": "execute_result"
    }
   ],
   "source": []
  },
  {
   "cell_type": "code",
   "execution_count": 173,
   "metadata": {},
   "outputs": [
    {
     "data": {
      "text/plain": [
       "'a'"
      ]
     },
     "execution_count": 173,
     "metadata": {},
     "output_type": "execute_result"
    }
   ],
   "source": [
    "chr((ord('z')+1-97)%25+96)"
   ]
  },
  {
   "cell_type": "code",
   "execution_count": 179,
   "metadata": {},
   "outputs": [
    {
     "name": "stdin",
     "output_type": "stream",
     "text": [
      " 8\n"
     ]
    },
    {
     "name": "stdout",
     "output_type": "stream",
     "text": [
      "40320\n"
     ]
    }
   ],
   "source": [
    "def FirstFactorial(a):\n",
    "  # code goes here\n",
    "    a=int(a)\n",
    "    if a==1:\n",
    "        return 1\n",
    "    else:\n",
    "        return a*FirstFactorial(a-1)\n",
    "\n",
    "# keep this function call here \n",
    "print(FirstFactorial(input()))"
   ]
  },
  {
   "cell_type": "code",
   "execution_count": 180,
   "metadata": {},
   "outputs": [
    {
     "name": "stdin",
     "output_type": "stream",
     "text": [
      " k`- kl+* yuo&^\n"
     ]
    },
    {
     "name": "stdout",
     "output_type": "stream",
     "text": [
      "k` kl+ yuo\n"
     ]
    }
   ],
   "source": [
    "def LongestWord(my_str):\n",
    "  # code goes here\n",
    "    punctuations = '''!()-[]{};:'\"\\,<>./?@#$%^&*_~'''\n",
    "    no_punct = \"\"\n",
    "    for char in my_str:\n",
    "        if char not in punctuations:\n",
    "            no_punct = no_punct + char\n",
    "    c=0\n",
    "    s=0\n",
    "    no_punct=no_punct.split(' ')\n",
    "    for i in no_punct:\n",
    "        if len(i)>c:\n",
    "            s=i\n",
    "            c=len(i)\n",
    "    return s\n",
    "# keep this function call here \n",
    "print(LongestWord(input()))"
   ]
  },
  {
   "cell_type": "code",
   "execution_count": null,
   "metadata": {},
   "outputs": [],
   "source": [
    "# define punctuation\n",
    "\n",
    "my_str = \"Hello!!!, he said ---and went.\"\n",
    "\n",
    "# To take input from the user\n",
    "# my_str = input(\"Enter a string: \")\n",
    "\n",
    "# remove punctuation from the string\n",
    "\n",
    "\n",
    "# display the unpunctuated string\n",
    "print()\n"
   ]
  },
  {
   "cell_type": "code",
   "execution_count": 190,
   "metadata": {},
   "outputs": [
    {
     "data": {
      "text/plain": [
       "2"
      ]
     },
     "execution_count": 190,
     "metadata": {},
     "output_type": "execute_result"
    }
   ],
   "source": [
    "import math\n",
    "math.ceil()"
   ]
  },
  {
   "cell_type": "code",
   "execution_count": 207,
   "metadata": {},
   "outputs": [
    {
     "data": {
      "text/plain": [
       "171"
      ]
     },
     "execution_count": 207,
     "metadata": {},
     "output_type": "execute_result"
    }
   ],
   "source": [
    "x=bin(213)[2:]\n",
    "k=-(-len(x)//8)\n",
    "x='0'*(8*k-len(x))+x\n",
    "int(x[::-1],2)"
   ]
  },
  {
   "cell_type": "code",
   "execution_count": 201,
   "metadata": {},
   "outputs": [
    {
     "data": {
      "text/plain": [
       "916"
      ]
     },
     "execution_count": 201,
     "metadata": {},
     "output_type": "execute_result"
    }
   ],
   "source": []
  },
  {
   "cell_type": "code",
   "execution_count": 208,
   "metadata": {},
   "outputs": [
    {
     "name": "stdin",
     "output_type": "stream",
     "text": [
      " 213\n"
     ]
    },
    {
     "name": "stdout",
     "output_type": "stream",
     "text": [
      "11010101\n",
      "171\n"
     ]
    }
   ],
   "source": [
    "def BinaryReversal(str):\n",
    "  # code goes here\n",
    "  x=bin(int(str))[2:]\n",
    "  k=-(-len(x)//8)\n",
    "  x='0'*(8*k-len(x))+x\n",
    "  print(x)\n",
    "  return int(x[::-1],2)\n",
    "  \n",
    "# keep this function call here \n",
    "print(BinaryReversal(input()))"
   ]
  },
  {
   "cell_type": "code",
   "execution_count": null,
   "metadata": {},
   "outputs": [],
   "source": []
  }
 ],
 "metadata": {
  "kernelspec": {
   "display_name": "Python 3",
   "language": "python",
   "name": "python3"
  },
  "language_info": {
   "codemirror_mode": {
    "name": "ipython",
    "version": 3
   },
   "file_extension": ".py",
   "mimetype": "text/x-python",
   "name": "python",
   "nbconvert_exporter": "python",
   "pygments_lexer": "ipython3",
   "version": "3.8.2"
  }
 },
 "nbformat": 4,
 "nbformat_minor": 4
}
