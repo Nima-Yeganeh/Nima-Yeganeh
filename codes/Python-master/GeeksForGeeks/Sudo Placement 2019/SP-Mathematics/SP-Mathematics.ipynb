{
 "cells": [
  {
   "cell_type": "markdown",
   "metadata": {},
   "source": [
    "### [LCM And GCD](https://practice.geeksforgeeks.org/problems/lcm-and-gcd/0/?track=sp-mathematics&batchId=152)\n",
    "\n",
    "\n",
    "\n",
    "Difficulty: Basic   Marks: 1\n",
    "\n",
    "-->SAP Labs\n",
    " \n",
    "Given two numbers A and B. The task is to find out their LCM and GCD.\n",
    "\n",
    "Input:\n",
    "The first line of input contains an integer T denoting the number of testcases. T testcases follow. In each test cases, there are two numbers A and B separated by space.\n",
    "\n",
    "Output:\n",
    "For each testcase in a new line, print LCM and GCD separated by space.\n",
    "\n",
    "Constraints:\n",
    "1 <= T <= 104\n",
    "1 <= A <= 108\n",
    "1 <= B <= 108\n",
    "\n",
    "Example:\n",
    "Input:\n",
    "2\n",
    "5 10\n",
    "14 8\n",
    "\n",
    "Output:\n",
    "10 5\n",
    "56 2\n",
    "\n",
    "Explanation:\n",
    "Testcase 1: LCM and GCD of given numbers 5 and 10 are: 10 and 5."
   ]
  },
  {
   "cell_type": "code",
   "execution_count": 20,
   "metadata": {},
   "outputs": [
    {
     "name": "stdout",
     "output_type": "stream",
     "text": [
      "1\n",
      "52490531 44928574\n",
      "2358324706332794 1\n"
     ]
    }
   ],
   "source": [
    "def lcm(a,c):\n",
    "    i=2\n",
    "    LCM=a\n",
    "    while True:\n",
    "        if LCM%c==0:\n",
    "            break\n",
    "        else:\n",
    "            LCM=a*i\n",
    "            i+=1\n",
    "    return LCM\n",
    "for _ in range(int(input())):\n",
    "    a,c=map(int,input().split())\n",
    "    if a>c:\n",
    "        LCM=lcm(a,c)\n",
    "    else:\n",
    "        LCM=lcm(c,a)\n",
    "    print(LCM,a*c//LCM,sep=' ')"
   ]
  },
  {
   "cell_type": "code",
   "execution_count": 25,
   "metadata": {},
   "outputs": [
    {
     "name": "stdout",
     "output_type": "stream",
     "text": [
      "2\n",
      "14 8\n",
      "56 2\n",
      "10 5\n",
      "10 5\n"
     ]
    }
   ],
   "source": [
    "def gcd(a,c):\n",
    "    if c==0:\n",
    "        return a\n",
    "    else:\n",
    "        return gcd(c,a%c)\n",
    "for _ in range(int(input())):\n",
    "    a,c=map(int,input().split())\n",
    "    gcd_=gcd(a,c)\n",
    "    print(a*c//gcd_,gcd_,sep=' ')"
   ]
  },
  {
   "cell_type": "code",
   "execution_count": 23,
   "metadata": {},
   "outputs": [
    {
     "data": {
      "text/plain": [
       "1"
      ]
     },
     "execution_count": 23,
     "metadata": {},
     "output_type": "execute_result"
    }
   ],
   "source": [
    "import math\n",
    "math.gcd(52490531,44928574)"
   ]
  },
  {
   "cell_type": "code",
   "execution_count": 26,
   "metadata": {},
   "outputs": [
    {
     "name": "stdout",
     "output_type": "stream",
     "text": [
      "1\n",
      "23 7\n",
      "161 1\n"
     ]
    }
   ],
   "source": [
    "for _ in range(int(input())):\n",
    "    a,c=map(int,input().split())\n",
    "    gcd_=math.gcd(a,c)\n",
    "    print(a*c//gcd_,gcd_,sep=' ')"
   ]
  },
  {
   "cell_type": "markdown",
   "metadata": {},
   "source": [
    "###  [Closest Numer](https://practice.geeksforgeeks.org/problems/closest-number/0/?track=sp-mathematics&batchId=152)\n",
    "\n",
    "Difficulty: Basic   Marks: 1\n",
    "\n",
    "---> Microsoft\n",
    "\n",
    "Given non-zero two integers N and M. The problem is to find the number closest to N and divisible by M. If there are more than one such number, then output the one having maximum absolute value.\n",
    "\n",
    "Input:\n",
    "The first line consists of an integer T i.e number of test cases. T testcases follow.  The first and only line of each test case contains two space separated integers N and M.\n",
    "\n",
    "Output:\n",
    "For each testcase, in a new line, print the closest number to N which is also divisible by M.\n",
    "\n",
    "Constraints: \n",
    "1 <= T <= 100\n",
    "-1000 <= N, M <= 1000\n",
    "\n",
    "Example:\n",
    "Input:\n",
    "2\n",
    "13 4\n",
    "-15 6\n",
    "Output:\n",
    "12\n",
    "-18"
   ]
  },
  {
   "cell_type": "code",
   "execution_count": 53,
   "metadata": {},
   "outputs": [
    {
     "name": "stdout",
     "output_type": "stream",
     "text": [
      "1\n",
      "2 255\n",
      "0\n"
     ]
    }
   ],
   "source": [
    "for _ in range(int(input())):\n",
    "    a,c=map(int,input().split())\n",
    "    k=1\n",
    "    if a<0:\n",
    "        k=-1\n",
    "    a1=abs(a)\n",
    "    c1=abs(c)\n",
    "    i=1\n",
    "    while True:\n",
    "        if a1>c1*i:\n",
    "            i+=1\n",
    "        else:\n",
    "            break\n",
    "    k1=a1-c1*i\n",
    "    k2=a1-c1*(i-1)\n",
    "    if (abs(k1)-abs(k2))<=0:\n",
    "        print(c1*i*k)\n",
    "    else:\n",
    "        print(c1*(i-1)*k)"
   ]
  },
  {
   "cell_type": "markdown",
   "metadata": {},
   "source": [
    "### [Series GP](https://practice.geeksforgeeks.org/problems/series-gp/0/?track=sp-mathematics&batchId=152)\n",
    "\n",
    "Difficulty: Basic   Marks: 1\n",
    "\n",
    "Given the first 2 terms A and B of a Geometric Series. The task is to find the Nth term of the series.\n",
    "\n",
    "Input:\n",
    "First line contains an integer, the number of test cases 'T'. T testcases follow. Each test case in its first line contains two integer A and B (First 2 terms of GP). In the second line of every test case it contains of an integer N.\n",
    "\n",
    "Output:\n",
    "In each seperate line print the Nth term of the Geometric Progression. Print the floor ( floor(2.3)=2 ) of the answer. Both the terms A and B forms a valid GP. \n",
    "\n",
    "Constraints:\n",
    "1 <= T <= 30\n",
    "-100 <= A <= 100\n",
    "-100 <= B <= 100\n",
    "1 <= N <= 5\n",
    "\n",
    "Example:\n",
    "Input:\n",
    "2\n",
    "2 3\n",
    "1\n",
    "1 2\n",
    "2\n",
    "\n",
    "Output:\n",
    "2\n",
    "2\n",
    "\n",
    "Explanation:\n",
    "Testcase 2: The second term of series whose common ratio is 2 will be 2."
   ]
  },
  {
   "cell_type": "code",
   "execution_count": 57,
   "metadata": {},
   "outputs": [
    {
     "name": "stdout",
     "output_type": "stream",
     "text": [
      "1\n",
      "1 2\n",
      "2\n",
      "2\n"
     ]
    }
   ],
   "source": [
    "import math\n",
    "for _ in range(int(input())):\n",
    "    a,c=map(int,input().split())\n",
    "    n=int(input())\n",
    "    r=c/a\n",
    "    print(math.floor(a*(r**(n-1))))"
   ]
  },
  {
   "cell_type": "markdown",
   "metadata": {},
   "source": [
    "### [Print the Kth Digit](https://practice.geeksforgeeks.org/problems/print-the-kth-digit/0/?track=sp-mathematics&batchId=152)\n",
    "\n",
    "Difficulty: Basic   Marks: 1\n",
    "\n",
    "---> Flipkart\n",
    "\n",
    "Given two numbers A and B, find Kth digit from right of AB.\n",
    "\n",
    "Input:\n",
    "The first line of the input contains T denoting the number of test cases. T testcases follow.  Each of the next T lines contains three space separated positive integers denoting the value of a , b and k respectively.\n",
    "\n",
    "Output:\n",
    "For each test case, in a new line, output the Kth digit from right of AB in new line.\n",
    "\n",
    "Constraints:\n",
    "1 <= T <= 100\n",
    "1 <= A , B <=15\n",
    "1 <= K <= |totaldigits in AB|\n",
    "\n",
    "Example:\n",
    "Input:\n",
    "2\n",
    "3 3 1\n",
    "5 2 2\n",
    "Output:\n",
    "7\n",
    "2"
   ]
  },
  {
   "cell_type": "code",
   "execution_count": 58,
   "metadata": {},
   "outputs": [
    {
     "name": "stdout",
     "output_type": "stream",
     "text": [
      "2\n",
      "3 3 1\n",
      "7\n",
      "5 2 2\n",
      "2\n"
     ]
    }
   ],
   "source": [
    "for _ in range(int(input())):\n",
    "    a1,a2,a3=map(int,input().split())\n",
    "    digit=str(a1**a2)\n",
    "    print(int(digit[-a3]))"
   ]
  },
  {
   "cell_type": "markdown",
   "metadata": {},
   "source": [
    "### [GCD of Array](https://practice.geeksforgeeks.org/problems/gcd-of-array/0/?track=sp-mathematics&batchId=152)\n",
    "\n",
    "Difficulty: Basic   Marks: 1\n",
    "\n",
    "---> SAP Labs, Wipro\n",
    "\n",
    "Given an array of N positive integers. Your task is to find the GCD of all numbers of the array.\n",
    "\n",
    "Input:\n",
    "First line of input contains number of test cases T. First line of test case contains a positive integer N, size of the array. Next line contains the array elements.\n",
    "\n",
    "Output:\n",
    "For each testcase, print the GCD of array elements.\n",
    "\n",
    "Constraints:\n",
    "1 <= T <= 100\n",
    "1 <= N <= 106\n",
    "1 <= Arr[i] <= 106\n",
    "\n",
    "Example:\n",
    "Input:\n",
    "1\n",
    "2\n",
    "5 10\n",
    "\n",
    "Output:\n",
    "5\n",
    "\n",
    "Explanation:\n",
    "Testcase 1: For array elements 5,10 GCD will be 5."
   ]
  },
  {
   "cell_type": "code",
   "execution_count": 59,
   "metadata": {},
   "outputs": [
    {
     "name": "stdout",
     "output_type": "stream",
     "text": [
      "1\n",
      "2\n",
      "5 10\n",
      "5\n"
     ]
    }
   ],
   "source": [
    "def gcd(a,c):\n",
    "    if c==0:\n",
    "        return a\n",
    "    else:\n",
    "        return gcd(c,a%c)\n",
    "for _ in range(int(input())):\n",
    "    n=int(input())\n",
    "    a=list(map(int,input().split()))\n",
    "    if len(a)>1:\n",
    "        g=gcd(a[0],a[1])\n",
    "        for i in range(2,len(a)):\n",
    "            g=gcd(g,a[i])\n",
    "        print(g)\n",
    "    else:\n",
    "        print(a[0])"
   ]
  },
  {
   "cell_type": "markdown",
   "metadata": {},
   "source": [
    "### [Sieve of Eratosthenes](https://practice.geeksforgeeks.org/problems/sieve-of-eratosthenes/0/?track=sp-mathematics&batchId=152)\n",
    "\n",
    "Difficulty: Basic   Marks: 1\n",
    "\n",
    "---> MAQ Software, SAP Labs, VMWare\n",
    "\n",
    "Given a number N, calculate the prime numbers upto N using Sieve of Eratosthenes.  \n",
    "\n",
    "Input: \\\n",
    "The first line of the input contains T denoting the number of testcases. T testcases follow. Each testcase contains one line of input containing N.\n",
    "\n",
    "Output: \\\n",
    "For all testcases, in a new line, print all the prime numbers upto or equal to N.\n",
    "\n",
    "Constraints:\\\n",
    "1 <= T<= 100\\\n",
    "1 <= N <= 104\n",
    "\n",
    "Example:\\\n",
    "Input:\\\n",
    "2\\\n",
    "10\\\n",
    "35\n",
    "\n",
    "Output:\\\n",
    "2 3 5 7\\\n",
    "2 3 5 7 11 13 17 19 23 29 31"
   ]
  },
  {
   "cell_type": "code",
   "execution_count": 63,
   "metadata": {},
   "outputs": [
    {
     "name": "stdout",
     "output_type": "stream",
     "text": [
      "2\n",
      "10\n",
      "2 3 5 7 \n",
      "35\n",
      "2 3 5 7 11 13 17 19 23 29 31 \n"
     ]
    }
   ],
   "source": [
    "def prime(a):\n",
    "    if a==3:\n",
    "        return True\n",
    "    if a%2==0 or a%3==0:\n",
    "        return False\n",
    "    for i in range(5,a//2+1,6):\n",
    "        if a%i==0 or a%(i+2)==0:\n",
    "            return False\n",
    "    else:\n",
    "        return True\n",
    "for _ in range(int(input())):\n",
    "    n=int(input())\n",
    "    if n>=2:\n",
    "        print(2,end=' ')\n",
    "    for i in range(3,n+1,2):\n",
    "        if prime(i):\n",
    "            print(i,end=' ')\n",
    "    print()"
   ]
  },
  {
   "cell_type": "markdown",
   "metadata": {},
   "source": [
    "### [Add two fractions](https://practice.geeksforgeeks.org/problems/add-two-fractions/1/?track=sp-mathematics&batchId=152)\n",
    "\n",
    "Difficulty: Basic   Marks: 1\n",
    "\n",
    "***You are given four numbers num1, den1, num2, and den2. You need to find (num1/den1)+(num2/den2) and output the result in the form of (numx/denx).***\n",
    "\n",
    "***Input Format:***\\\n",
    "The first line of input contains an integer T denoting the number of test cases . Then T test cases follow . Each test case contains four integers num1, den1, num2, den2 respectively .\n",
    "\n",
    "***Output Format:***\\\n",
    "For each test case, in a new line,  output will be the fraction in the form a/b where the fraction denotes the sum of the two given fractions in reduced form.\n",
    "\n",
    "***Your Task:***\\\n",
    "Since this is a function problem, you don't need to worry about the testcases. Your task is to complete the function addFraction  which adds the two fractions and prints the resulting fraction. The function takes four arguments num1, den1, num2, den2 where num1, num2 denotes the numerators of two fractions and den1, den2 denotes their denominators.\n",
    "\n",
    "***Constraints:***\\\n",
    "1 <= T <= 100\\\n",
    "1 <= den1,den2,num1,num2 <= 1000\n",
    "\n",
    "***Example:***\\\n",
    "Input\\\n",
    "1\\\n",
    "1 500 2 500\n",
    "\n",
    "***Output***\\\n",
    "3/500\n",
    "\n",
    "***Explanation:***\\\n",
    "In above test case 1/500+2/500=3/500"
   ]
  },
  {
   "cell_type": "code",
   "execution_count": 67,
   "metadata": {},
   "outputs": [
    {
     "name": "stdout",
     "output_type": "stream",
     "text": [
      "1\n",
      "384 887 778 916\n",
      "520915/406246\n"
     ]
    }
   ],
   "source": [
    "def gcd(a,c):\n",
    "    if c==0:\n",
    "        return a\n",
    "    else:\n",
    "        return gcd(c,a%c)    \n",
    "for _ in range(int(input())):\n",
    "    a1,a2,a3,a4=map(int,input().split())\n",
    "    lcm=a2*a4//gcd(a2,a4)\n",
    "    numerator=a1*(lcm//a2)+a3*(lcm//a4)\n",
    "    gcd_=gcd(numerator,lcm)\n",
    "    print('{0}/{1}'.format(numerator//gcd_,lcm//gcd_))"
   ]
  },
  {
   "cell_type": "markdown",
   "metadata": {},
   "source": [
    "### [Pairs of prime number](https://practice.geeksforgeeks.org/problems/pairs-of-prime-number/0/?track=sp-mathematics&batchId=152)\n",
    "\n",
    "Difficulty: Basic   Marks: 1\n",
    "\n",
    "---> Amazon\n",
    "\n",
    "***Print all pairs (sets) of prime numbers ($p_q$) such that p*q <= n, where n is given number.***\n",
    "\n",
    "***Input:***\\\n",
    "The first line of input contains an integer T denoting the number of test cases. T testcases follow.\n",
    "The first line of each test case is N.\n",
    "\n",
    "***Output:***\\\n",
    "For each testcase, in a new line, print the all pairs of prime numbers in increasing order.\n",
    "\n",
    "***Constraints:***\\\n",
    "1 ≤ T ≤ 50\\\n",
    "4 ≤ N ≤ 400\n",
    "\n",
    "***Example:***\\\n",
    "***Input:***\\\n",
    "2\\\n",
    "4\\\n",
    "8\n",
    "\n",
    "***Output:***\\\n",
    "2 2\\\n",
    "2 2 2 3 3 2\n",
    "\n",
    "***Explanation:***\\\n",
    "***Testcase 1:*** Pair (2, 2) which has both prime numbers as well as satisfying the condition 2*2 <= 4.\n"
   ]
  },
  {
   "cell_type": "code",
   "execution_count": null,
   "metadata": {},
   "outputs": [],
   "source": []
  }
 ],
 "metadata": {
  "kernelspec": {
   "display_name": "Python 3",
   "language": "python",
   "name": "python3"
  },
  "language_info": {
   "codemirror_mode": {
    "name": "ipython",
    "version": 3
   },
   "file_extension": ".py",
   "mimetype": "text/x-python",
   "name": "python",
   "nbconvert_exporter": "python",
   "pygments_lexer": "ipython3",
   "version": "3.7.5"
  }
 },
 "nbformat": 4,
 "nbformat_minor": 2
}
