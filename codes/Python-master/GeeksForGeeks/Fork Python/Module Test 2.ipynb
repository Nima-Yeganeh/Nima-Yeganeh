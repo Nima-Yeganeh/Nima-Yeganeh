{
 "cells": [
  {
   "cell_type": "markdown",
   "metadata": {},
   "source": [
    "n=b"
   ]
  },
  {
   "cell_type": "code",
   "execution_count": 2,
   "metadata": {},
   "outputs": [
    {
     "name": "stdout",
     "output_type": "stream",
     "text": [
      "1\n",
      "21\n",
      "42\n"
     ]
    }
   ],
   "source": [
    "a=int(input())\n",
    "c=int(input())\n",
    "if (a+c)>=20 and (a+c)<=40:\n",
    "    print(42)\n",
    "else:\n",
    "    print(a+c)"
   ]
  },
  {
   "cell_type": "code",
   "execution_count": 21,
   "metadata": {},
   "outputs": [
    {
     "name": "stdout",
     "output_type": "stream",
     "text": [
      "9\n"
     ]
    },
    {
     "data": {
      "text/plain": [
       "True"
      ]
     },
     "execution_count": 21,
     "metadata": {},
     "output_type": "execute_result"
    }
   ],
   "source": [
    "'''\n",
    "Given a non-negative number n, print True if n is within 2 of a multiple of 10,  else print false.  For example 22 is within 2 of a multiple of 10 (the multiple here is 20) and 23 is not within 2 of a multiple of 10 (it is within 3 of multiple 20).\n",
    "\n",
    "Input Format:\n",
    "The first line of input contains T denoting the number of testcases. T testcases follow. Each testcase contains a number n.\n",
    "\n",
    "Output Format:\n",
    "For each testcase, in a new line, print True if conditions are met; else print False.\n",
    "\n",
    "Your Task:\n",
    "This is a function problem. Do not take any input. Just complete the function isNeighbor\n",
    "\n",
    "Constraints:\n",
    "1 <= T <= 100\n",
    "3 <= n <= 1018\n",
    "\n",
    "Example:\n",
    "Input:\n",
    "4\n",
    "3\n",
    "9\n",
    "13\n",
    "22\n",
    "Output:\n",
    "False\n",
    "True\n",
    "False\n",
    "True\n",
    "'''\n",
    "\n",
    "def near_ten(num):\n",
    "\n",
    "    a = num % 10\n",
    "    if  a <= 2 or (10 - a) <= 2:\n",
    "        return True\n",
    "    else:\n",
    "        return False\n",
    "near_ten(int(input()))"
   ]
  },
  {
   "cell_type": "code",
   "execution_count": 11,
   "metadata": {},
   "outputs": [
    {
     "name": "stdout",
     "output_type": "stream",
     "text": [
      "dog\n"
     ]
    },
    {
     "data": {
      "text/plain": [
       "0"
      ]
     },
     "execution_count": 11,
     "metadata": {},
     "output_type": "execute_result"
    }
   ],
   "source": [
    "s=input()\n",
    "c=0\n",
    "for i in range(26):\n",
    "    c+=s.count('do'+chr(97+i)+'e')\n",
    "c"
   ]
  },
  {
   "cell_type": "code",
   "execution_count": 8,
   "metadata": {},
   "outputs": [
    {
     "data": {
      "text/plain": [
       "97"
      ]
     },
     "execution_count": 8,
     "metadata": {},
     "output_type": "execute_result"
    }
   ],
   "source": [
    "ord('a')"
   ]
  },
  {
   "cell_type": "code",
   "execution_count": 9,
   "metadata": {},
   "outputs": [
    {
     "data": {
      "text/plain": [
       "'a'"
      ]
     },
     "execution_count": 9,
     "metadata": {},
     "output_type": "execute_result"
    }
   ],
   "source": [
    "chr(97)"
   ]
  },
  {
   "cell_type": "code",
   "execution_count": 12,
   "metadata": {},
   "outputs": [
    {
     "data": {
      "text/plain": [
       "1"
      ]
     },
     "execution_count": 12,
     "metadata": {},
     "output_type": "execute_result"
    }
   ],
   "source": [
    "(7**100)%5"
   ]
  },
  {
   "cell_type": "code",
   "execution_count": null,
   "metadata": {},
   "outputs": [],
   "source": []
  }
 ],
 "metadata": {
  "kernelspec": {
   "display_name": "Python 3",
   "language": "python",
   "name": "python3"
  },
  "language_info": {
   "codemirror_mode": {
    "name": "ipython",
    "version": 3
   },
   "file_extension": ".py",
   "mimetype": "text/x-python",
   "name": "python",
   "nbconvert_exporter": "python",
   "pygments_lexer": "ipython3",
   "version": "3.7.5"
  }
 },
 "nbformat": 4,
 "nbformat_minor": 2
}
