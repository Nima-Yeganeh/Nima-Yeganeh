{
 "cells": [
  {
   "cell_type": "markdown",
   "metadata": {},
   "source": [
    "## <center>Module-1 Test</center>"
   ]
  },
  {
   "cell_type": "code",
   "execution_count": 32,
   "metadata": {},
   "outputs": [
    {
     "name": "stdout",
     "output_type": "stream",
     "text": [
      "27\n"
     ]
    },
    {
     "data": {
      "text/plain": [
       "9"
      ]
     },
     "execution_count": 32,
     "metadata": {},
     "output_type": "execute_result"
    }
   ],
   "source": [
    "'''\n",
    "You are given a two digit number n. Find the sum of its digits\n",
    "\n",
    "Input Format:\n",
    "The first line of input contains T denoting the number of testcases. T testcases follow. Each testcase contains one line of input containing n.\n",
    "\n",
    "Output Format:\n",
    "For each testcase, in a new line, print the sum of digits of n.\n",
    "\n",
    "Your Task:\n",
    "This is a function problem. You do not need to take any input. Complete the function digitsSum and return the sum of digits of n.\n",
    "\n",
    "Constraints:\n",
    "1 <= T <= 100\n",
    "10 <= n <= 99\n",
    "\n",
    "Example:\n",
    "Input:\n",
    "1\n",
    "25\n",
    "Output:\n",
    "7\n",
    "'''\n",
    "n=int(input())\n",
    "sum_=0\n",
    "while n>0:\n",
    "    r=n%10\n",
    "    sum_+=r\n",
    "    n//=10\n",
    "sum_"
   ]
  },
  {
   "cell_type": "code",
   "execution_count": 31,
   "metadata": {},
   "outputs": [
    {
     "name": "stdout",
     "output_type": "stream",
     "text": [
      "2\n",
      "9\n",
      "8\n"
     ]
    }
   ],
   "source": [
    "'''\n",
    "You are given two numbers a and b. When a is raised to some power p, we get a number x. Now, you need to find what is the value of x that is closest to b.\n",
    "\n",
    "Input Format:\n",
    "The first line of input contains T denoting the number of testcases. T testcases follow. Each testcase contains two lines of input. The first line contains a and second line contains b.\n",
    "\n",
    "Output Format:\n",
    "For each testcase, in a new line, print the closest power.\n",
    "\n",
    "Your Task:\n",
    "This is a function problem. You do not need to take any input. Complete the function nearestPower and return the answer.\n",
    "\n",
    "Constraints:\n",
    "1 <= T <= 100\n",
    "2 <= a <= 100\n",
    "a <= b <= 108\n",
    "\n",
    "Example:\n",
    "Input:\n",
    "1\n",
    "2\n",
    "4\n",
    "Output:\n",
    "4\n",
    "\n",
    "Explanation:\n",
    "Testcase1: 22=4 is closest to 4\n",
    "'''\n",
    "\n",
    "a=int(input())\n",
    "c=int(input())\n",
    "for i in range(1,c):\n",
    "    if a**i==c:\n",
    "        print(c)\n",
    "        break\n",
    "    if a**i>c:\n",
    "        if (a**i-c)>=(c-a**(i-1)):\n",
    "            print(a**(i-1))\n",
    "        else:\n",
    "            print(a**i)\n",
    "        break"
   ]
  },
  {
   "cell_type": "code",
   "execution_count": 34,
   "metadata": {},
   "outputs": [
    {
     "data": {
      "text/plain": [
       "2"
      ]
     },
     "execution_count": 34,
     "metadata": {},
     "output_type": "execute_result"
    }
   ],
   "source": [
    "'catinahatcat'.count('cat')"
   ]
  },
  {
   "cell_type": "code",
   "execution_count": null,
   "metadata": {},
   "outputs": [],
   "source": []
  }
 ],
 "metadata": {
  "kernelspec": {
   "display_name": "Python 3",
   "language": "python",
   "name": "python3"
  },
  "language_info": {
   "codemirror_mode": {
    "name": "ipython",
    "version": 3
   },
   "file_extension": ".py",
   "mimetype": "text/x-python",
   "name": "python",
   "nbconvert_exporter": "python",
   "pygments_lexer": "ipython3",
   "version": "3.7.5"
  }
 },
 "nbformat": 4,
 "nbformat_minor": 2
}
