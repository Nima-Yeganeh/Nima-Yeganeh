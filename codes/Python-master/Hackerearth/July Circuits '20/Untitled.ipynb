{
 "cells": [
  {
   "cell_type": "markdown",
   "metadata": {},
   "source": [
    "# [LCM](https://www.hackerearth.com/challenges/competitive/july-circuits-20/algorithm/lcmk-a8c3e378/)"
   ]
  },
  {
   "cell_type": "code",
   "execution_count": 1,
   "metadata": {},
   "outputs": [
    {
     "name": "stdin",
     "output_type": "stream",
     "text": [
      " 1\n",
      " 5 20 3\n",
      " 17 2 9 4 12\n"
     ]
    },
    {
     "name": "stdout",
     "output_type": "stream",
     "text": [
      "8\n"
     ]
    }
   ],
   "source": [
    "def find_gcd(x, y): \n",
    "      \n",
    "    while(y): \n",
    "        x, y = y, x % y \n",
    "      \n",
    "    return x\n",
    "\n",
    "for _ in range(int(input())):\n",
    "    N,M,K=input().split()\n",
    "    l = list(map(int,input().split()))\n",
    "    k=int(K)\n",
    "    num1 = l[0]**k\n",
    "    num2 = l[1]**k\n",
    "    lcm =(num1*num2)// find_gcd(num1, num2) \n",
    "    for i in range(2, len(l)): \n",
    "        lcm = (lcm*(l[i]**k))//find_gcd(lcm, l[i]**k)\n",
    "    print(lcm%int(M))"
   ]
  },
  {
   "cell_type": "markdown",
   "metadata": {},
   "source": [
    "# [Supernatural](https://www.hackerearth.com/challenges/competitive/july-circuits-20/algorithm/supernatural-cac54bc7/)"
   ]
  },
  {
   "cell_type": "code",
   "execution_count": 20,
   "metadata": {},
   "outputs": [
    {
     "name": "stdin",
     "output_type": "stream",
     "text": [
      " 10\n"
     ]
    },
    {
     "name": "stdout",
     "output_type": "stream",
     "text": [
      "25\n",
      "52\n",
      "2\n"
     ]
    }
   ],
   "source": [
    "l=[]\n",
    "def digit_mul(n):\n",
    "    mul=1\n",
    "    while n:\n",
    "        r=n%10\n",
    "        if r==1:\n",
    "            return 0\n",
    "        mul*=r\n",
    "        n//=10\n",
    "    return mul\n",
    "\n",
    "n=int(input())\n",
    "c=0\n",
    "for i in range(1,100):\n",
    "    if digit_mul(i)==n:\n",
    "        l.append\n",
    "        c+=1\n",
    "print(c)"
   ]
  },
  {
   "cell_type": "markdown",
   "metadata": {},
   "source": [
    "#  [Cutting a material](https://www.hackerearth.com/challenges/competitive/july-circuits-20/algorithm/pizza-cutting-2e11a081/)"
   ]
  },
  {
   "cell_type": "code",
   "execution_count": 32,
   "metadata": {},
   "outputs": [
    {
     "name": "stdin",
     "output_type": "stream",
     "text": [
      " 4\n"
     ]
    },
    {
     "name": "stdout",
     "output_type": "stream",
     "text": [
      "11\n"
     ]
    }
   ],
   "source": [
    "for _ in range(int(input())):\n",
    "    n=int(input())\n",
    "    print((n**2 + n + 2)//2)"
   ]
  },
  {
   "cell_type": "markdown",
   "metadata": {},
   "source": [
    "# [Weird Sum](https://www.hackerearth.com/challenges/competitive/july-circuits-20/algorithm/weird-sum-1d2a0a2e/)"
   ]
  },
  {
   "cell_type": "code",
   "execution_count": null,
   "metadata": {},
   "outputs": [],
   "source": []
  },
  {
   "cell_type": "code",
   "execution_count": 69,
   "metadata": {},
   "outputs": [],
   "source": []
  },
  {
   "cell_type": "code",
   "execution_count": 79,
   "metadata": {},
   "outputs": [
    {
     "name": "stdin",
     "output_type": "stream",
     "text": [
      " 7 4 3\n",
      " 4 9 8 2 6 7 4\n"
     ]
    },
    {
     "name": "stdout",
     "output_type": "stream",
     "text": [
      "[4, 9, 8, 2]\n",
      "[8, 2, 6]\n",
      "[2, 6, 7]\n",
      "[6, 7, 4]\n",
      "32\n"
     ]
    }
   ],
   "source": [
    "n,k,m=map(int,input().split())\n",
    "l = list(map(int,input().split()))\n",
    "c=1\n",
    "i=-1\n",
    "count=0\n",
    "\n",
    "while c<k+1:\n",
    "    l_c=l[i+1:n-k+c]\n",
    "    print(l_c)\n",
    "    count+=max(l_c)*(c%m)\n",
    "    if c%m==0:\n",
    "        i+=1\n",
    "    else:\n",
    "        i=l.index(max(l_c))\n",
    "    c+=1\n",
    "print(count)"
   ]
  },
  {
   "cell_type": "code",
   "execution_count": 56,
   "metadata": {},
   "outputs": [
    {
     "ename": "NameError",
     "evalue": "name 'm' is not defined",
     "output_type": "error",
     "traceback": [
      "\u001b[0;31m---------------------------------------------------------------------------\u001b[0m",
      "\u001b[0;31mNameError\u001b[0m                                 Traceback (most recent call last)",
      "\u001b[0;32m<ipython-input-56-9a40b379906c>\u001b[0m in \u001b[0;36m<module>\u001b[0;34m\u001b[0m\n\u001b[0;32m----> 1\u001b[0;31m \u001b[0mm\u001b[0m\u001b[0;34m\u001b[0m\u001b[0;34m\u001b[0m\u001b[0m\n\u001b[0m",
      "\u001b[0;31mNameError\u001b[0m: name 'm' is not defined"
     ]
    }
   ],
   "source": [
    "m"
   ]
  },
  {
   "cell_type": "code",
   "execution_count": 80,
   "metadata": {},
   "outputs": [
    {
     "data": {
      "text/plain": [
       "3"
      ]
     },
     "execution_count": 80,
     "metadata": {},
     "output_type": "execute_result"
    }
   ],
   "source": [
    "-9%4"
   ]
  },
  {
   "cell_type": "code",
   "execution_count": null,
   "metadata": {},
   "outputs": [],
   "source": []
  }
 ],
 "metadata": {
  "kernelspec": {
   "display_name": "Python 3",
   "language": "python",
   "name": "python3"
  },
  "language_info": {
   "codemirror_mode": {
    "name": "ipython",
    "version": 3
   },
   "file_extension": ".py",
   "mimetype": "text/x-python",
   "name": "python",
   "nbconvert_exporter": "python",
   "pygments_lexer": "ipython3",
   "version": "3.8.2"
  }
 },
 "nbformat": 4,
 "nbformat_minor": 4
}
