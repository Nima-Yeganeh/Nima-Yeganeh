{
 "cells": [
  {
   "cell_type": "markdown",
   "metadata": {},
   "source": [
    "- make account  on  [twilio](https://twilio.com)\n",
    "- go in 'Twilio Sandbox for WhatsApp'"
   ]
  },
  {
   "cell_type": "code",
   "execution_count": 1,
   "metadata": {},
   "outputs": [
    {
     "name": "stdout",
     "output_type": "stream",
     "text": [
      "Collecting twilio\n",
      "  Downloading twilio-6.44.1.tar.gz (433 kB)\n",
      "\u001b[K     |████████████████████████████████| 433 kB 209 kB/s eta 0:00:01\n",
      "\u001b[?25hRequirement already satisfied: PyJWT>=1.4.2 in /usr/lib/python3/dist-packages (from twilio) (1.7.1)\n",
      "Requirement already satisfied: pytz in /usr/lib/python3/dist-packages (from twilio) (2019.3)\n",
      "Requirement already satisfied: six in /usr/lib/python3/dist-packages (from twilio) (1.14.0)\n",
      "Requirement already satisfied: requests>=2.0.0 in /usr/lib/python3/dist-packages (from twilio) (2.22.0)\n",
      "Building wheels for collected packages: twilio\n",
      "  Building wheel for twilio (setup.py) ... \u001b[?25ldone\n",
      "\u001b[?25h  Created wheel for twilio: filename=twilio-6.44.1-py2.py3-none-any.whl size=1143907 sha256=f21fd1aad1f202bcfcfe2f465058391f0035ee1c41d9005c2142bf24b0fdbafb\n",
      "  Stored in directory: /home/keshav/.cache/pip/wheels/ed/ce/d5/ef51ce29935debc03e199af103fd10e01abfd72a8f33aebe70\n",
      "Successfully built twilio\n",
      "Installing collected packages: twilio\n",
      "Successfully installed twilio-6.44.1\n"
     ]
    }
   ],
   "source": [
    "!pip3 install twilio"
   ]
  },
  {
   "cell_type": "code",
   "execution_count": 10,
   "metadata": {},
   "outputs": [],
   "source": [
    "from twilio.rest import Client"
   ]
  },
  {
   "cell_type": "code",
   "execution_count": 11,
   "metadata": {},
   "outputs": [],
   "source": [
    "client=Client('ACCOUNT SID','AUTH TOKEN')"
   ]
  },
  {
   "cell_type": "code",
   "execution_count": 12,
   "metadata": {},
   "outputs": [],
   "source": [
    "message=client.messages.create(body='what am i doing',from_='whatsapp:+14155238886',to='whatsapp:+91----------')"
   ]
  },
  {
   "cell_type": "code",
   "execution_count": 13,
   "metadata": {},
   "outputs": [
    {
     "data": {
      "text/plain": [
       "'SM1a8ca175a4b84ed79f01526516c9c45a'"
      ]
     },
     "execution_count": 13,
     "metadata": {},
     "output_type": "execute_result"
    }
   ],
   "source": [
    "message.sid"
   ]
  },
  {
   "cell_type": "markdown",
   "metadata": {},
   "source": [
    "sample 2"
   ]
  },
  {
   "cell_type": "code",
   "execution_count": 15,
   "metadata": {},
   "outputs": [
    {
     "data": {
      "text/plain": [
       "'MM0637478e022b4a9a840c644235b99137'"
      ]
     },
     "execution_count": 15,
     "metadata": {},
     "output_type": "execute_result"
    }
   ],
   "source": [
    "message=client.messages.create(body='what am i doing',media_url=['https://demo.twilio.com/owl.png'],from_='whatsapp:+14155238886',to='whatsapp:+91----------')\n",
    "message.sid"
   ]
  },
  {
   "cell_type": "markdown",
   "metadata": {},
   "source": [
    "# Send a formatted WhatsApp message"
   ]
  },
  {
   "cell_type": "code",
   "execution_count": 17,
   "metadata": {},
   "outputs": [
    {
     "data": {
      "text/plain": [
       "'SMcf10e2888159420ea89e195b12156885'"
      ]
     },
     "execution_count": 17,
     "metadata": {},
     "output_type": "execute_result"
    }
   ],
   "source": [
    "message=client.messages.create(body='💖Because I knew you, I have been **changed** _for good_.💚',from_='whatsapp:+14155238886',to='whatsapp:+91----------')\n",
    "message.sid"
   ]
  },
  {
   "cell_type": "markdown",
   "metadata": {},
   "source": [
    "# Send a WhatsApp Message and specify a StatusCallback URL"
   ]
  },
  {
   "cell_type": "code",
   "execution_count": 20,
   "metadata": {},
   "outputs": [
    {
     "data": {
      "text/plain": [
       "'SM9ac6875c1417438f86bdd38693d600cf'"
      ]
     },
     "execution_count": 20,
     "metadata": {},
     "output_type": "execute_result"
    }
   ],
   "source": [
    "message=client.messages.create(body='Hey, I just met you, and this is crazy...',status_callback='https://postb.in/1596427679094-1412583859637',from_='whatsapp:+14155238886',to='whatsapp:+91----------')\n",
    "message.sid"
   ]
  },
  {
   "cell_type": "markdown",
   "metadata": {},
   "source": [
    "# Send a WhatsApp location message"
   ]
  },
  {
   "cell_type": "code",
   "execution_count": 21,
   "metadata": {},
   "outputs": [
    {
     "data": {
      "text/plain": [
       "'SM14477f1aa24f4c4190c9a48897431fa4'"
      ]
     },
     "execution_count": 21,
     "metadata": {},
     "output_type": "execute_result"
    }
   ],
   "source": [
    "message=client.messages.create(body='Twilio HQ',persistent_action=['geo:37.787890,-122.391664|375 Beale St'],from_='whatsapp:+14155238886',to='whatsapp:+91----------')\n",
    "message.sid"
   ]
  },
  {
   "cell_type": "code",
   "execution_count": null,
   "metadata": {},
   "outputs": [],
   "source": []
  }
 ],
 "metadata": {
  "kernelspec": {
   "display_name": "Python 3",
   "language": "python",
   "name": "python3"
  },
  "language_info": {
   "codemirror_mode": {
    "name": "ipython",
    "version": 3
   },
   "file_extension": ".py",
   "mimetype": "text/x-python",
   "name": "python",
   "nbconvert_exporter": "python",
   "pygments_lexer": "ipython3",
   "version": "3.8.2"
  }
 },
 "nbformat": 4,
 "nbformat_minor": 4
}
