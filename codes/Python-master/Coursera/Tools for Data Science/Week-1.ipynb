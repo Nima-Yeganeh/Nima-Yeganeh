{
 "cells": [
  {
   "cell_type": "markdown",
   "metadata": {},
   "source": [
    "# ***Data is Central to Data Science***"
   ]
  },
  {
   "cell_type": "markdown",
   "metadata": {},
   "source": [
    "- Python R Sql are first foremost languages for data science"
   ]
  },
  {
   "cell_type": "code",
   "execution_count": null,
   "metadata": {},
   "outputs": [],
   "source": [
    "n="
   ]
  },
  {
   "cell_type": "code",
   "execution_count": 1,
   "metadata": {},
   "outputs": [
    {
     "name": "stdout",
     "output_type": "stream",
     "text": [
      "Collecting request\n",
      "  Downloading request-2019.4.13.tar.gz (1.3 kB)\n",
      "Collecting get\n",
      "  Downloading get-2019.4.13.tar.gz (1.3 kB)\n",
      "Collecting post\n",
      "  Downloading post-2019.4.13.tar.gz (1.3 kB)\n",
      "Requirement already satisfied: setuptools in /usr/lib/python3/dist-packages (from request) (45.2.0)\n",
      "Collecting query_string\n",
      "  Downloading query-string-2019.4.13.tar.gz (1.6 kB)\n",
      "Collecting public\n",
      "  Downloading public-2019.4.13.tar.gz (2.3 kB)\n",
      "Building wheels for collected packages: request, get, post, query-string, public\n",
      "  Building wheel for request (setup.py) ... \u001b[?25ldone\n",
      "\u001b[?25h  Created wheel for request: filename=request-2019.4.13-py3-none-any.whl size=1675 sha256=aebca2215fc2cd8daed2a7cdec3273ce7749ffa7b723f4544340c077ac44b4bc\n",
      "  Stored in directory: /home/keshav/.cache/pip/wheels/29/c2/a5/f437d6a64263acb19182cfa42b4487a711d419d9fafb2db264\n",
      "  Building wheel for get (setup.py) ... \u001b[?25ldone\n",
      "\u001b[?25h  Created wheel for get: filename=get-2019.4.13-py3-none-any.whl size=1692 sha256=13f87dbb199cecf9d2b80b6b9215fb1fdaa4906ddad9663e80c05127a9087295\n",
      "  Stored in directory: /home/keshav/.cache/pip/wheels/48/69/49/aecdf882e5c150d577e2293f09a51bfdb276abb41742f67e75\n",
      "  Building wheel for post (setup.py) ... \u001b[?25ldone\n",
      "\u001b[?25h  Created wheel for post: filename=post-2019.4.13-py3-none-any.whl size=1659 sha256=f7e9667c29fa7d5d25fde7dc8b129026e005ff936afb3b6faaec6069fb2e54ae\n",
      "  Stored in directory: /home/keshav/.cache/pip/wheels/59/43/82/591be16e9747432311255e30008bf2bf0ffe68c7da30ec4374\n",
      "  Building wheel for query-string (setup.py) ... \u001b[?25ldone\n",
      "\u001b[?25h  Created wheel for query-string: filename=query_string-2019.4.13-py3-none-any.whl size=2048 sha256=9bedea1d2207336b7bad2a63fbaf4937e74760061479cc84e5625b18fca665da\n",
      "  Stored in directory: /home/keshav/.cache/pip/wheels/5b/05/a3/eef676684dc188f229b612c003a0eaf5cb9fbac8c50c0d4a42\n",
      "  Building wheel for public (setup.py) ... \u001b[?25ldone\n",
      "\u001b[?25h  Created wheel for public: filename=public-2019.4.13-py3-none-any.whl size=2534 sha256=5d9b3e4f4274eea09912e8eea11fa43a85e111b356a5643f521f7b012dc2cb57\n",
      "  Stored in directory: /home/keshav/.cache/pip/wheels/24/f6/53/2d8bc46a815b2c176056f714cfa2b4a9736913f38a14efb320\n",
      "Successfully built request get post query-string public\n",
      "Installing collected packages: public, query-string, get, post, request\n",
      "Successfully installed get-2019.4.13 post-2019.4.13 public-2019.4.13 query-string-2019.4.13 request-2019.4.13\n"
     ]
    }
   ],
   "source": [
    "!pip3 install request"
   ]
  },
  {
   "cell_type": "code",
   "execution_count": null,
   "metadata": {},
   "outputs": [],
   "source": []
  }
 ],
 "metadata": {
  "kernelspec": {
   "display_name": "Python 3",
   "language": "python",
   "name": "python3"
  },
  "language_info": {
   "codemirror_mode": {
    "name": "ipython",
    "version": 3
   },
   "file_extension": ".py",
   "mimetype": "text/x-python",
   "name": "python",
   "nbconvert_exporter": "python",
   "pygments_lexer": "ipython3",
   "version": "3.8.2"
  }
 },
 "nbformat": 4,
 "nbformat_minor": 4
}
