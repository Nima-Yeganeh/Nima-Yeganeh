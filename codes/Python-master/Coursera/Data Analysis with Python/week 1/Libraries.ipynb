{
 "cells": [
  {
   "cell_type": "markdown",
   "metadata": {},
   "source": [
    "# 1. Scientific Computing Libraries in Python\n",
    "- ***Pandas***\n",
    "- ***numpy***\n",
    "- ***SciPy***"
   ]
  },
  {
   "cell_type": "markdown",
   "metadata": {},
   "source": [
    "# 2. Visualization Libraries in Python\n",
    "- ***Matplotlib***\n",
    "- ***Seaborn***"
   ]
  },
  {
   "cell_type": "markdown",
   "metadata": {},
   "source": [
    "# 3. Algorithmics Libraries in Python\n",
    "- ***Scikit-learn***\n",
    "- ***Statsmodels***"
   ]
  },
  {
   "cell_type": "code",
   "execution_count": null,
   "metadata": {},
   "outputs": [],
   "source": [
    "7npO9Ww"
   ]
  },
  {
   "cell_type": "code",
   "execution_count": null,
   "metadata": {},
   "outputs": [],
   "source": [
    "Philaland Coin\n",
    "Problem Description\n",
    "The problem solvers have found a new Island for coding and named it as Philaland.\n",
    "\n",
    "These smart people were given a task to make purchase of items at the Island easier by distributing various coins with different value.\n",
    "\n",
    "Manish has come up with a solution that if we make coins category starting from $1 till the maximum price of item present on Island, then we can purchase any item easily. He added following example to prove his point.\n",
    "\n",
    "Lets suppose the maximum price of an item is 5$ then we can make coins of {$1, $2, $3, $4, $5} to purchase any item ranging from $1 till $5.\n",
    "\n",
    "Now Manisha, being a keen observer suggested that we could actually minimize the number of coins required and gave following distribution {$1, $2, $3}. According to him any item can be purchased one time ranging from $1 to $5. Everyone was impressed with both of them.\n",
    "\n",
    "Your task is to help Manisha come up with minimum number of denominations for any arbitrary max price in Philaland.\n",
    "\n",
    "Constraints\n",
    "1<=T<=100\n",
    "\n",
    "1<=N<=5000\n",
    "\n",
    "Input Format\n",
    "First line contains an integer T denoting the number of test cases.\n",
    "\n",
    "Next T lines contains an integer N denoting the maximum price of the item present on Philaland.\n",
    "\n",
    "Output\n",
    "For each test case print a single line denoting the minimum number of denominations of coins required.\n",
    "\n",
    "Timeout\n",
    "1\n",
    "\n",
    "\n",
    "Test Case\n",
    "Example 1\n",
    "\n",
    "Input\n",
    "\n",
    "2\n",
    "\n",
    "10\n",
    "\n",
    "5\n",
    "\n",
    "Output\n",
    "\n",
    "4\n",
    "\n",
    "3\n",
    "\n",
    "Explanation\n",
    "\n",
    "For test case 1, N=10.\n",
    "\n",
    "According to Manish {$1, $2, $3,... $10} must be distributed.\n",
    "\n",
    "But as per Manisha only {$1, $2, $3, $4} coins are enough to purchase any item ranging from $1 to $10. Hence minimum is 4. Likewise denominations could also be {$1, $2, $3, $5}. Hence answer is still 4.\n",
    "\n",
    "For test case 2, N=5.\n",
    "\n",
    "According to Manish {$1, $2, $3, $4, $5} must be distributed.\n",
    "\n",
    "But as per Manisha only {$1, $2, $3} coins are enough to purchase any item ranging from $1 to $5. Hence minimum is 3. Likewise denominations could also be {$1, $2, $4}. Hence answer is still 3."
   ]
  }
 ],
 "metadata": {
  "kernelspec": {
   "display_name": "Python 3",
   "language": "python",
   "name": "python3"
  },
  "language_info": {
   "codemirror_mode": {
    "name": "ipython",
    "version": 3
   },
   "file_extension": ".py",
   "mimetype": "text/x-python",
   "name": "python",
   "nbconvert_exporter": "python",
   "pygments_lexer": "ipython3",
   "version": "3.8.2"
  }
 },
 "nbformat": 4,
 "nbformat_minor": 4
}
