{
 "cells": [
  {
   "cell_type": "code",
   "execution_count": null,
   "metadata": {},
   "outputs": [],
   "source": [
    "#Program to find whether an entered number is an Armstrong Number or not\n",
    "import math\n",
    "def count(n):\n",
    "    c =0\n",
    "    while n > 0:\n",
    "        d = n % 10\n",
    "        c += 1\n",
    "        n = n // 10\n",
    "    return c\n",
    "n = int(input(\"Enter any number: \"))\n",
    "s = 0\n",
    "temp = n\n",
    "while temp > 0:\n",
    "    d = temp % 10\n",
    "    s += math.pow(d, count(n))\n",
    "    temp = temp // 10\n",
    "\n",
    "if n == s:\n",
    "    print(\"Yes, This is an Armstrong number\")\n",
    "else:\n",
    "    print(\"No, It is not an Armstrong number\")\n"
   ]
  }
 ],
 "metadata": {
  "kernelspec": {
   "display_name": "Python 3",
   "language": "python",
   "name": "python3"
  },
  "language_info": {
   "codemirror_mode": {
    "name": "ipython",
    "version": 3
   },
   "file_extension": ".py",
   "mimetype": "text/x-python",
   "name": "python",
   "nbconvert_exporter": "python",
   "pygments_lexer": "ipython3",
   "version": "3.8.3"
  }
 },
 "nbformat": 4,
 "nbformat_minor": 4
}
