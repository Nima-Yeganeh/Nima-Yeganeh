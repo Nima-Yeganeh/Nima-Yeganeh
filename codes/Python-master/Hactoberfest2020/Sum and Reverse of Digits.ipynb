{
 "cells": [
  {
   "cell_type": "code",
   "execution_count": null,
   "metadata": {},
   "outputs": [],
   "source": [
    "#Write a function that takes a number with two or more digits as an input and finds its reverse and computes the sum of its digits.\n",
    "n = int(input(\"Enter a 2 or more digit number:\"))\n",
    "s = 0\n",
    "r = 0\n",
    "if n % 10 == 0:\n",
    "    print(\"Please Enter a 2 digit no.\")    \n",
    "else:\n",
    "    while n > 0:\n",
    "        a = n % 10\n",
    "        r = r * 10 + a\n",
    "        s = s + a\n",
    "        n = n // 10\n",
    "        \n",
    "print(\"Reverse:\",r)\n",
    "print(\"Sum:\",s)"
   ]
  }
 ],
 "metadata": {
  "kernelspec": {
   "display_name": "Python 3",
   "language": "python",
   "name": "python3"
  },
  "language_info": {
   "codemirror_mode": {
    "name": "ipython",
    "version": 3
   },
   "file_extension": ".py",
   "mimetype": "text/x-python",
   "name": "python",
   "nbconvert_exporter": "python",
   "pygments_lexer": "ipython3",
   "version": "3.8.3"
  }
 },
 "nbformat": 4,
 "nbformat_minor": 4
}
