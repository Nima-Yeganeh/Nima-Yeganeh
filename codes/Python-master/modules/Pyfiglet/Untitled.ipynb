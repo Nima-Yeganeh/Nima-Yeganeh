{
 "cells": [
  {
   "cell_type": "code",
   "execution_count": 2,
   "metadata": {},
   "outputs": [
    {
     "data": {
      "text/plain": [
       "\" _  __         _                   ____  _             _     \\n| |/ /___  ___| |__   __ ___   __ / ___|(_)_ __   __ _| |__  \\n| ' // _ \\\\/ __| '_ \\\\ / _` \\\\ \\\\ / / \\\\___ \\\\| | '_ \\\\ / _` | '_ \\\\ \\n| . \\\\  __/\\\\__ \\\\ | | | (_| |\\\\ V /   ___) | | | | | (_| | | | |\\n|_|\\\\_\\\\___||___/_| |_|\\\\__,_| \\\\_/   |____/|_|_| |_|\\\\__, |_| |_|\\n                                                 |___/       \\n\""
      ]
     },
     "execution_count": 2,
     "metadata": {},
     "output_type": "execute_result"
    }
   ],
   "source": [
    "import pyfiglet\n",
    "word=pyfiglet.figlet_format('Keshav Singh')\n",
    "word"
   ]
  },
  {
   "cell_type": "code",
   "execution_count": 3,
   "metadata": {},
   "outputs": [
    {
     "name": "stdout",
     "output_type": "stream",
     "text": [
      " _  __         _                   ____  _             _     \n",
      "| |/ /___  ___| |__   __ ___   __ / ___|(_)_ __   __ _| |__  \n",
      "| ' // _ \\/ __| '_ \\ / _` \\ \\ / / \\___ \\| | '_ \\ / _` | '_ \\ \n",
      "| . \\  __/\\__ \\ | | | (_| |\\ V /   ___) | | | | | (_| | | | |\n",
      "|_|\\_\\___||___/_| |_|\\__,_| \\_/   |____/|_|_| |_|\\__, |_| |_|\n",
      "                                                 |___/       \n",
      "\n"
     ]
    }
   ],
   "source": [
    "print(word)"
   ]
  },
  {
   "cell_type": "code",
   "execution_count": null,
   "metadata": {},
   "outputs": [],
   "source": []
  }
 ],
 "metadata": {
  "kernelspec": {
   "display_name": "Python 3",
   "language": "python",
   "name": "python3"
  },
  "language_info": {
   "codemirror_mode": {
    "name": "ipython",
    "version": 3
   },
   "file_extension": ".py",
   "mimetype": "text/x-python",
   "name": "python",
   "nbconvert_exporter": "python",
   "pygments_lexer": "ipython3",
   "version": "3.8.2"
  }
 },
 "nbformat": 4,
 "nbformat_minor": 4
}
