{
 "cells": [
  {
   "cell_type": "code",
   "execution_count": 1,
   "metadata": {},
   "outputs": [
    {
     "ename": "ModuleNotFoundError",
     "evalue": "No module named 'github'",
     "output_type": "error",
     "traceback": [
      "\u001b[0;31m---------------------------------------------------------------------------\u001b[0m",
      "\u001b[0;31mModuleNotFoundError\u001b[0m                       Traceback (most recent call last)",
      "\u001b[0;32m<ipython-input-1-7c855228f3ce>\u001b[0m in \u001b[0;36m<module>\u001b[0;34m\u001b[0m\n\u001b[0;32m----> 1\u001b[0;31m \u001b[0;32mfrom\u001b[0m \u001b[0mgithub\u001b[0m \u001b[0;32mimport\u001b[0m \u001b[0mGithub\u001b[0m\u001b[0;34m\u001b[0m\u001b[0;34m\u001b[0m\u001b[0m\n\u001b[0m",
      "\u001b[0;31mModuleNotFoundError\u001b[0m: No module named 'github'"
     ]
    }
   ],
   "source": [
    "from github import Github"
   ]
  },
  {
   "cell_type": "code",
   "execution_count": 3,
   "metadata": {},
   "outputs": [
    {
     "name": "stdout",
     "output_type": "stream",
     "text": [
      "Collecting PyGithub\n",
      "  Downloading PyGithub-1.51-py3-none-any.whl (260 kB)\n",
      "\u001b[K     |████████████████████████████████| 260 kB 100 kB/s eta 0:00:01\n",
      "\u001b[?25hCollecting deprecated\n",
      "  Downloading Deprecated-1.2.10-py2.py3-none-any.whl (8.7 kB)\n",
      "Requirement already satisfied: pyjwt in /usr/lib/python3/dist-packages (from PyGithub) (1.7.1)\n",
      "Requirement already satisfied: requests>=2.14.0 in /usr/lib/python3/dist-packages (from PyGithub) (2.22.0)\n",
      "Collecting wrapt<2,>=1.10\n",
      "  Downloading wrapt-1.12.1.tar.gz (27 kB)\n",
      "Building wheels for collected packages: wrapt\n",
      "  Building wheel for wrapt (setup.py) ... \u001b[?25ldone\n",
      "\u001b[?25h  Created wheel for wrapt: filename=wrapt-1.12.1-cp38-cp38-linux_x86_64.whl size=78515 sha256=025fb1cef323e6ea93d9bb2d0a12b8939512c3c3f9bd3f7dc1a5e152a24c4e38\n",
      "  Stored in directory: /home/keshav/.cache/pip/wheels/5f/fd/9e/b6cf5890494cb8ef0b5eaff72e5d55a70fb56316007d6dfe73\n",
      "Successfully built wrapt\n",
      "Installing collected packages: wrapt, deprecated, PyGithub\n",
      "Successfully installed PyGithub-1.51 deprecated-1.2.10 wrapt-1.12.1\n"
     ]
    }
   ],
   "source": [
    "!pip3 install PyGithub"
   ]
  },
  {
   "cell_type": "code",
   "execution_count": 4,
   "metadata": {},
   "outputs": [],
   "source": [
    "from github import Github"
   ]
  },
  {
   "cell_type": "markdown",
   "metadata": {},
   "source": [
    "**Login to github**\n",
    "- using username and password\\\n",
    "g = Github(\"user\", \"password\")\n",
    "\n",
    "- or using an access token\\\n",
    "g = Github(\"access_token\")"
   ]
  },
  {
   "cell_type": "code",
   "execution_count": 6,
   "metadata": {},
   "outputs": [],
   "source": [
    "g=Github('username','password')"
   ]
  },
  {
   "cell_type": "markdown",
   "metadata": {},
   "source": [
    "**Then play with your Github objects:**"
   ]
  },
  {
   "cell_type": "code",
   "execution_count": 9,
   "metadata": {},
   "outputs": [
    {
     "data": {
      "text/plain": [
       "<github.PaginatedList.PaginatedList at 0x7f505731a490>"
      ]
     },
     "execution_count": 9,
     "metadata": {},
     "output_type": "execute_result"
    }
   ],
   "source": [
    "g.get_user().get_followers()"
   ]
  },
  {
   "cell_type": "code",
   "execution_count": 7,
   "metadata": {},
   "outputs": [
    {
     "name": "stdout",
     "output_type": "stream",
     "text": [
      "awesome-github-profile-readme\n",
      "Bootstrap\n",
      "c\n",
      "Cracking-the-Coding-Interview\n",
      "face_detection\n",
      "freeCodeCamp\n",
      "GAME\n",
      "github-slideshow\n",
      "HTML5\n",
      "java\n",
      "javascript\n",
      "jquery\n",
      "keshavsingh4522\n",
      "keshavsingh4522.github.io\n",
      "LINUX_BASH_SHELL\n",
      "LNMHacks4-Submissions\n",
      "micro-processor\n",
      "music-player\n",
      "necessary_doc\n",
      "node-js\n",
      "opencv\n",
      "php\n",
      "Projects\n",
      "py\n",
      "Python\n",
      "python-1\n",
      "Python-2\n",
      "Python-Decision-Tree-Using-ID3\n",
      "React-JS\n",
      "society\n",
      "TCS-CODEVITA-Challenges\n",
      "universal-acceptance\n",
      "Wuhan-Coronavirus-Exploratory-Data-Analysis\n",
      "Youtube\n"
     ]
    }
   ],
   "source": [
    "# print your github resporatory name\n",
    "for repo in g.get_user().get_repos():\n",
    "    print(repo.name)\n",
    "    repo.edit(has_wiki=False)"
   ]
  },
  {
   "cell_type": "markdown",
   "metadata": {},
   "source": [
    "**get followers name**"
   ]
  },
  {
   "cell_type": "code",
   "execution_count": 15,
   "metadata": {},
   "outputs": [
    {
     "name": "stdout",
     "output_type": "stream",
     "text": [
      "nihalgupta12\n",
      "harshitbansal373\n",
      "Bahubuli\n",
      "Kv-singh\n",
      "laxityadav\n",
      "shubhamgoyal1020\n",
      "parthgoyal15\n",
      "govindgoyal00000\n",
      "Shukorates\n",
      "lakhan25\n",
      "nivishsharma\n",
      "NarenRathore\n",
      "Yugantgarg\n",
      "nitindixit26\n",
      "ksvkabra\n",
      "ptaluka\n",
      "Shukla-Abhinav\n",
      "todsac\n",
      "Shishir9kumar\n"
     ]
    }
   ],
   "source": [
    " for i in g.get_user().get_followers():\n",
    "        print(i.login)"
   ]
  },
  {
   "cell_type": "markdown",
   "metadata": {},
   "source": [
    "**get following name**"
   ]
  },
  {
   "cell_type": "code",
   "execution_count": 16,
   "metadata": {},
   "outputs": [
    {
     "name": "stdout",
     "output_type": "stream",
     "text": [
      "codebasics\n",
      "maddhruv\n",
      "08shubhamjindal\n",
      "naveen21553\n",
      "surajkumarcse\n",
      "nd-singh\n",
      "Shukorates\n",
      "nishchayjain\n",
      "nivishsharma\n",
      "Bahubuli\n",
      "ksvkabra\n",
      "nitindixit26\n",
      "shubhamgoyal1020\n",
      "khyatijha777\n",
      "harshitbansal373\n",
      "jJoshi1812\n",
      "manishrajmishra\n",
      "ankitgokhroo68368\n",
      "nihalgupta12\n",
      "laxityadav\n",
      "Kv-singh\n",
      "parthgoyal15\n",
      "NarenRathore\n",
      "lakhan25\n",
      "govindgoyal00000\n",
      "abhisheknaiidu\n",
      "Yugantgarg\n"
     ]
    }
   ],
   "source": [
    " for i in g.get_user().get_following():\n",
    "        print(i.login)"
   ]
  },
  {
   "cell_type": "markdown",
   "metadata": {},
   "source": [
    "**searching user**"
   ]
  },
  {
   "cell_type": "code",
   "execution_count": 55,
   "metadata": {},
   "outputs": [
    {
     "name": "stdout",
     "output_type": "stream",
     "text": [
      "keshavsingh\n",
      "keshavsingh4522\n",
      "KeshavSingh520\n",
      "keshavsingh123\n",
      "keshavsingh5200\n",
      "keshavsinghg\n",
      "keshavsinghal25\n",
      "KeshavSingh007\n",
      "keshavsingh958\n",
      "KeshavSingh-MS\n",
      "keshavsingh1\n",
      "keshavsingh16\n",
      "keshavsingh1994\n",
      "keshavsingh683\n",
      "keshavsingh23\n",
      "keshavsingh1234\n",
      "KeshavSingh7\n",
      "keshavsinghal21\n",
      "keshavsinghal\n"
     ]
    }
   ],
   "source": [
    "for i in g.search_users('keshavsingh'):\n",
    "    print(i.login)"
   ]
  },
  {
   "cell_type": "markdown",
   "metadata": {},
   "source": [
    "**get emoji**\n",
    "- get all emoji list"
   ]
  },
  {
   "cell_type": "code",
   "execution_count": null,
   "metadata": {},
   "outputs": [],
   "source": [
    "g.get_emojis()"
   ]
  },
  {
   "cell_type": "markdown",
   "metadata": {},
   "source": [
    "- get paricular emoji link"
   ]
  },
  {
   "cell_type": "code",
   "execution_count": 30,
   "metadata": {},
   "outputs": [
    {
     "data": {
      "text/plain": [
       "'https://github.githubassets.com/images/icons/emoji/unicode/1f1ee-1f1f3.png?v8'"
      ]
     },
     "execution_count": 30,
     "metadata": {},
     "output_type": "execute_result"
    }
   ],
   "source": [
    "g.get_emojis().get('india')"
   ]
  },
  {
   "cell_type": "code",
   "execution_count": 36,
   "metadata": {},
   "outputs": [
    {
     "data": {
      "text/plain": [
       "<github.PaginatedList.PaginatedList at 0x7f5054382370>"
      ]
     },
     "execution_count": 36,
     "metadata": {},
     "output_type": "execute_result"
    }
   ],
   "source": [
    "g.get_users()"
   ]
  },
  {
   "cell_type": "code",
   "execution_count": 44,
   "metadata": {},
   "outputs": [
    {
     "data": {
      "text/plain": [
       "['Actionscript',\n",
       " 'Ada',\n",
       " 'Agda',\n",
       " 'Android',\n",
       " 'AppEngine',\n",
       " 'AppceleratorTitanium',\n",
       " 'ArchLinuxPackages',\n",
       " 'Autotools',\n",
       " 'C',\n",
       " 'C++',\n",
       " 'CFWheels',\n",
       " 'CMake',\n",
       " 'CUDA',\n",
       " 'CakePHP',\n",
       " 'ChefCookbook',\n",
       " 'Clojure',\n",
       " 'CodeIgniter',\n",
       " 'CommonLisp',\n",
       " 'Composer',\n",
       " 'Concrete5',\n",
       " 'Coq',\n",
       " 'CraftCMS',\n",
       " 'D',\n",
       " 'DM',\n",
       " 'Dart',\n",
       " 'Delphi',\n",
       " 'Drupal',\n",
       " 'EPiServer',\n",
       " 'Eagle',\n",
       " 'Elisp',\n",
       " 'Elixir',\n",
       " 'Elm',\n",
       " 'Erlang',\n",
       " 'ExpressionEngine',\n",
       " 'ExtJs',\n",
       " 'Fancy',\n",
       " 'Finale',\n",
       " 'ForceDotCom',\n",
       " 'Fortran',\n",
       " 'FuelPHP',\n",
       " 'GWT',\n",
       " 'GitBook',\n",
       " 'Go',\n",
       " 'Godot',\n",
       " 'Gradle',\n",
       " 'Grails',\n",
       " 'Haskell',\n",
       " 'IGORPro',\n",
       " 'Idris',\n",
       " 'JENKINS_HOME',\n",
       " 'Java',\n",
       " 'Jboss',\n",
       " 'Jekyll',\n",
       " 'Joomla',\n",
       " 'Julia',\n",
       " 'KiCAD',\n",
       " 'Kohana',\n",
       " 'Kotlin',\n",
       " 'LabVIEW',\n",
       " 'Laravel',\n",
       " 'Leiningen',\n",
       " 'LemonStand',\n",
       " 'Lilypond',\n",
       " 'Lithium',\n",
       " 'Lua',\n",
       " 'Magento',\n",
       " 'Maven',\n",
       " 'Mercury',\n",
       " 'MetaProgrammingSystem',\n",
       " 'Nim',\n",
       " 'Node',\n",
       " 'OCaml',\n",
       " 'Objective-C',\n",
       " 'Opa',\n",
       " 'OracleForms',\n",
       " 'Packer',\n",
       " 'Perl',\n",
       " 'Perl6',\n",
       " 'Phalcon',\n",
       " 'PlayFramework',\n",
       " 'Plone',\n",
       " 'Prestashop',\n",
       " 'Processing',\n",
       " 'PureScript',\n",
       " 'Python',\n",
       " 'Qooxdoo',\n",
       " 'Qt',\n",
       " 'R',\n",
       " 'ROS',\n",
       " 'Rails',\n",
       " 'RhodesRhomobile',\n",
       " 'Ruby',\n",
       " 'Rust',\n",
       " 'SCons',\n",
       " 'Sass',\n",
       " 'Scala',\n",
       " 'Scheme',\n",
       " 'Scrivener',\n",
       " 'Sdcc',\n",
       " 'SeamGen',\n",
       " 'SketchUp',\n",
       " 'Smalltalk',\n",
       " 'SugarCRM',\n",
       " 'Swift',\n",
       " 'Symfony',\n",
       " 'SymphonyCMS',\n",
       " 'TeX',\n",
       " 'Terraform',\n",
       " 'Textpattern',\n",
       " 'TurboGears2',\n",
       " 'Typo3',\n",
       " 'Umbraco',\n",
       " 'Unity',\n",
       " 'UnrealEngine',\n",
       " 'VVVV',\n",
       " 'VisualStudio',\n",
       " 'Waf',\n",
       " 'WordPress',\n",
       " 'Xojo',\n",
       " 'Yeoman',\n",
       " 'Yii',\n",
       " 'ZendFramework',\n",
       " 'Zephir',\n",
       " 'gcov',\n",
       " 'nanoc',\n",
       " 'opencart',\n",
       " 'stella']"
      ]
     },
     "execution_count": 44,
     "metadata": {},
     "output_type": "execute_result"
    }
   ],
   "source": [
    "g.get_gitignore_templates()"
   ]
  },
  {
   "cell_type": "code",
   "execution_count": 47,
   "metadata": {},
   "outputs": [
    {
     "name": "stdout",
     "output_type": "stream",
     "text": [
      "GNU Affero General Public License v3.0\n",
      "Apache License 2.0\n",
      "BSD 2-Clause \"Simplified\" License\n",
      "BSD 3-Clause \"New\" or \"Revised\" License\n",
      "Boost Software License 1.0\n",
      "Creative Commons Zero v1.0 Universal\n",
      "Eclipse Public License 2.0\n",
      "GNU General Public License v2.0\n",
      "GNU General Public License v3.0\n",
      "GNU Lesser General Public License v2.1\n",
      "MIT License\n",
      "Mozilla Public License 2.0\n",
      "The Unlicense\n"
     ]
    }
   ],
   "source": [
    "for i in g.get_licenses():\n",
    "    print(i.name)"
   ]
  },
  {
   "cell_type": "code",
   "execution_count": 72,
   "metadata": {},
   "outputs": [
    {
     "name": "stdout",
     "output_type": "stream",
     "text": [
      "<h5>\n",
      "<a id=\"user-content-p\" class=\"anchor\" href=\"#p\" aria-hidden=\"true\"><span aria-hidden=\"true\" class=\"octicon octicon-link\"></span></a>p</h5>\n",
      "\n"
     ]
    }
   ],
   "source": [
    "print(g.render_markdown('##### p'))"
   ]
  },
  {
   "cell_type": "code",
   "execution_count": null,
   "metadata": {},
   "outputs": [],
   "source": []
  }
 ],
 "metadata": {
  "kernelspec": {
   "display_name": "Python 3",
   "language": "python",
   "name": "python3"
  },
  "language_info": {
   "codemirror_mode": {
    "name": "ipython",
    "version": 3
   },
   "file_extension": ".py",
   "mimetype": "text/x-python",
   "name": "python",
   "nbconvert_exporter": "python",
   "pygments_lexer": "ipython3",
   "version": "3.8.2"
  }
 },
 "nbformat": 4,
 "nbformat_minor": 4
}
