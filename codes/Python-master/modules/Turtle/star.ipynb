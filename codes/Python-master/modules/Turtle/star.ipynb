{
 "cells": [
  {
   "cell_type": "markdown",
   "metadata": {},
   "source": [
    "![](Assets/star_1_0.png)"
   ]
  },
  {
   "cell_type": "code",
   "execution_count": 1,
   "metadata": {},
   "outputs": [],
   "source": [
    "# %load star_1_0.py\n",
    "import turtle\n",
    "import time\n",
    "screen=turtle.Screen()\n",
    "screen.setup(420,320)\n",
    "screen.bgcolor('black')\n",
    "clr=['red','green','blue','yellow','purple']\n",
    "t = turtle.Pen()\n",
    "t.ht()\n",
    "for x in range(5):\n",
    "    t.color(clr[x])\n",
    "    t.forward(200)\n",
    "    t.right(144)\n",
    "turtle.Screen().exitonclick()"
   ]
  },
  {
   "cell_type": "markdown",
   "metadata": {},
   "source": [
    "![](Assets/star_1_1.png)"
   ]
  },
  {
   "cell_type": "code",
   "execution_count": null,
   "metadata": {},
   "outputs": [],
   "source": [
    "# %load star_1_1.py\n",
    "import turtle\n",
    "import time\n",
    "screen=turtle.Screen()\n",
    "screen.setup(420,320)\n",
    "screen.bgcolor('black')\n",
    "clr=['red','green','blue','yellow','purple']\n",
    "t=turtle.Turtle()\n",
    "t.pensize(4)\n",
    "t.penup()\n",
    "t.setpos(-90,30)\n",
    "t.pendown()\n",
    "for x in range(5):\n",
    "    t.color(clr[x])\n",
    "    t.forward(200)\n",
    "    t.right(144)\n",
    "t.penup()\n",
    "t.setpos(80,-140)\n",
    "t.pendown()\n",
    "t.pencolor('olive')\n",
    "t.write('KESHAV SINGH',font=('Arial',12,'normal'))\n",
    "t.ht()\n",
    "turtle.Screen().exitonclick()"
   ]
  },
  {
   "cell_type": "code",
   "execution_count": 1,
   "metadata": {},
   "outputs": [],
   "source": [
    "import turtle\n",
    "import time\n",
    "screen=turtle.Screen()\n",
    "screen.setup(420,320)\n",
    "t = turtle.Pen()\n",
    "t.ht()\n",
    "for x in range(100):\n",
    "    t.forward(x)\n",
    "    t.left(91)\n",
    "turtle.Screen().exitonclick()"
   ]
  },
  {
   "cell_type": "code",
   "execution_count": 1,
   "metadata": {},
   "outputs": [],
   "source": [
    "# %load cool_design.py\n",
    "import turtle\n",
    "t=turtle.Turtle()\n",
    "s=turtle.Screen()\n",
    "s.bgcolor('black')\n",
    "t.pencolor('blue')\n",
    "t.speed(0)\n",
    "c=0\n",
    "while True:\n",
    "    for i in range(4):\n",
    "        t.forward(80)\n",
    "        t.right(90)\n",
    "    t.right(5)\n",
    "    c+=1\n",
    "    if c>=360/5:\n",
    "        break\n",
    "t.hideturtle()\n",
    "turtle.done()"
   ]
  },
  {
   "cell_type": "markdown",
   "metadata": {},
   "source": [
    "![](cool_design_1_1)"
   ]
  },
  {
   "cell_type": "code",
   "execution_count": 1,
   "metadata": {},
   "outputs": [],
   "source": [
    "# %load cool_design_1_1.py\n",
    "import turtle\n",
    "t=turtle.Turtle()\n",
    "s=turtle.Screen()\n",
    "s.bgcolor('black')\n",
    "t.pencolor('blue')\n",
    "t.speed(0)\n",
    "c=0\n",
    "d=0\n",
    "while True:\n",
    "    for i in range(4):\n",
    "        t.forward(80)\n",
    "        t.right(90)\n",
    "    t.right(15)\n",
    "    c+=1\n",
    "    if c>=390/15:\n",
    "        t.forward(50)\n",
    "        c=0\n",
    "        d+=1\n",
    "        if d>=21:\n",
    "            break\n",
    "t.hideturtle()\n",
    "turtle.done()"
   ]
  },
  {
   "cell_type": "code",
   "execution_count": null,
   "metadata": {},
   "outputs": [],
   "source": []
  }
 ],
 "metadata": {
  "kernelspec": {
   "display_name": "Python 3",
   "language": "python",
   "name": "python3"
  },
  "language_info": {
   "codemirror_mode": {
    "name": "ipython",
    "version": 3
   },
   "file_extension": ".py",
   "mimetype": "text/x-python",
   "name": "python",
   "nbconvert_exporter": "python",
   "pygments_lexer": "ipython3",
   "version": "3.8.2"
  }
 },
 "nbformat": 4,
 "nbformat_minor": 4
}
