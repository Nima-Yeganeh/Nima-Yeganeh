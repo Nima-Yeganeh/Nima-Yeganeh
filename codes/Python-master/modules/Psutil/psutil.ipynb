{
 "cells": [
  {
   "cell_type": "code",
   "execution_count": 1,
   "metadata": {},
   "outputs": [
    {
     "name": "stdout",
     "output_type": "stream",
     "text": [
      "Collecting psutil\n",
      "  Downloading psutil-5.7.2.tar.gz (460 kB)\n",
      "\u001b[K     |████████████████████████████████| 460 kB 32 kB/s eta 0:00:010\n",
      "\u001b[?25hBuilding wheels for collected packages: psutil\n",
      "  Building wheel for psutil (setup.py) ... \u001b[?25ldone\n",
      "\u001b[?25h  Created wheel for psutil: filename=psutil-5.7.2-cp38-cp38-linux_x86_64.whl size=293036 sha256=6bf2c829faca2604fbaf9d41c7e9247d627a06546c2c7ba6d541f1583c79226a\n",
      "  Stored in directory: /home/keshav/.cache/pip/wheels/91/cf/b0/0c9998060b55ca80ea7a50a8639c3bdc6ba886eeff014bc9ac\n",
      "Successfully built psutil\n",
      "Installing collected packages: psutil\n",
      "Successfully installed psutil-5.7.2\n"
     ]
    }
   ],
   "source": [
    "!pip3 install psutil"
   ]
  },
  {
   "cell_type": "markdown",
   "metadata": {},
   "source": [
    "**For more information [click here](https://www.geeksforgeeks.org/psutil-module-in-python/)**"
   ]
  },
  {
   "cell_type": "code",
   "execution_count": 3,
   "metadata": {},
   "outputs": [],
   "source": [
    "import psutil"
   ]
  },
  {
   "cell_type": "markdown",
   "metadata": {},
   "source": [
    "- ***check cpu usage***"
   ]
  },
  {
   "cell_type": "code",
   "execution_count": 4,
   "metadata": {},
   "outputs": [
    {
     "data": {
      "text/plain": [
       "20.1"
      ]
     },
     "execution_count": 4,
     "metadata": {},
     "output_type": "execute_result"
    }
   ],
   "source": [
    "psutil.cpu_percent()"
   ]
  },
  {
   "cell_type": "code",
   "execution_count": 6,
   "metadata": {},
   "outputs": [
    {
     "data": {
      "text/plain": [
       "scpufreq(current=2894.4629999999997, min=1300.0, max=2500.0)"
      ]
     },
     "execution_count": 6,
     "metadata": {},
     "output_type": "execute_result"
    }
   ],
   "source": [
    "psutil.cpu_freq()"
   ]
  },
  {
   "cell_type": "code",
   "execution_count": 7,
   "metadata": {},
   "outputs": [
    {
     "data": {
      "text/plain": [
       "scpustats(ctx_switches=120641643, interrupts=63771057, soft_interrupts=26346733, syscalls=0)"
      ]
     },
     "execution_count": 7,
     "metadata": {},
     "output_type": "execute_result"
    }
   ],
   "source": [
    "psutil.cpu_stats()"
   ]
  },
  {
   "cell_type": "markdown",
   "metadata": {},
   "source": [
    "1) **psutil.cpu_times()** – This function gives system CPU times as a named tuple.\n",
    "\n",
    "**Parameters:**\n",
    "\n",
    "- user – time spent by normal processes executing in user mode\n",
    "- system – time spent by processes executing in kernel mode\n",
    "- idle – time when system was idle\n",
    "- nice – time spent by priority processes executing in user mode\n",
    "- iowait – time spent waiting for I/O to complete. This is not accounted in idle time counter.\n",
    "- irq – time spent for servicing hardware interrupts\n",
    "- softirq – time spent for servicing software interrupts\n",
    "- steal – time spent by other operating systems running in a virtualized environment\n",
    "- guest – time spent running a virtual CPU for guest operating systems under the control of the Linux kernel"
   ]
  },
  {
   "cell_type": "code",
   "execution_count": 8,
   "metadata": {},
   "outputs": [
    {
     "data": {
      "text/plain": [
       "scputimes(user=10407.43, nice=138.64, system=2531.63, idle=30182.59, iowait=935.02, irq=0.0, softirq=60.3, steal=0.0, guest=0.0, guest_nice=0.0)"
      ]
     },
     "execution_count": 8,
     "metadata": {},
     "output_type": "execute_result"
    }
   ],
   "source": [
    "psutil.cpu_times()"
   ]
  },
  {
   "cell_type": "markdown",
   "metadata": {},
   "source": [
    "2) **psutil.cpu_percent()** – This function calculates the current system-wide CPU utilization as a percentage"
   ]
  },
  {
   "cell_type": "code",
   "execution_count": 9,
   "metadata": {},
   "outputs": [
    {
     "data": {
      "text/plain": [
       "scputimes(user=14.2, nice=0.0, system=3.4, idle=80.4, iowait=1.5, irq=0.0, softirq=0.5, steal=0.0, guest=0.0, guest_nice=0.0)"
      ]
     },
     "execution_count": 9,
     "metadata": {},
     "output_type": "execute_result"
    }
   ],
   "source": [
    "psutil.cpu_times_percent()"
   ]
  },
  {
   "cell_type": "markdown",
   "metadata": {},
   "source": [
    "3) **psutil.cpu_count(logical=True)** – This function shows a number of logical CPUs in the system. The logical core is calculated as the number of physical cores multiplied by the number of threads that can run on each core. In the absence of logical core, it only counts a number of physical cores."
   ]
  },
  {
   "cell_type": "code",
   "execution_count": 10,
   "metadata": {},
   "outputs": [
    {
     "data": {
      "text/plain": [
       "2"
      ]
     },
     "execution_count": 10,
     "metadata": {},
     "output_type": "execute_result"
    }
   ],
   "source": [
    "psutil.cpu_count(logical=True)"
   ]
  },
  {
   "cell_type": "code",
   "execution_count": 13,
   "metadata": {},
   "outputs": [
    {
     "data": {
      "text/plain": [
       "2"
      ]
     },
     "execution_count": 13,
     "metadata": {},
     "output_type": "execute_result"
    }
   ],
   "source": [
    "psutil.cpu_count() # or psutil.cpu_count(logical=False)"
   ]
  },
  {
   "cell_type": "code",
   "execution_count": 14,
   "metadata": {},
   "outputs": [
    {
     "data": {
      "text/plain": [
       "svmem(total=4007563264, available=438476800, percent=89.1, used=2944798720, free=132788224, active=2369904640, inactive=846499840, buffers=48173056, cached=881803264, shared=379592704, slab=208400384)"
      ]
     },
     "execution_count": 14,
     "metadata": {},
     "output_type": "execute_result"
    }
   ],
   "source": [
    "psutil.virtual_memory()"
   ]
  },
  {
   "cell_type": "code",
   "execution_count": 15,
   "metadata": {},
   "outputs": [
    {
     "data": {
      "text/plain": [
       "[sdiskpart(device='/dev/sda5', mountpoint='/', fstype='ext4', opts='rw,relatime,errors=remount-ro'),\n",
       " sdiskpart(device='/dev/loop0', mountpoint='/snap/core18/1754', fstype='squashfs', opts='ro,nodev,relatime'),\n",
       " sdiskpart(device='/dev/loop3', mountpoint='/snap/gnome-3-28-1804/128', fstype='squashfs', opts='ro,nodev,relatime'),\n",
       " sdiskpart(device='/dev/loop2', mountpoint='/snap/core18/1880', fstype='squashfs', opts='ro,nodev,relatime'),\n",
       " sdiskpart(device='/dev/loop7', mountpoint='/snap/snap-store/467', fstype='squashfs', opts='ro,nodev,relatime'),\n",
       " sdiskpart(device='/dev/loop8', mountpoint='/snap/snapd/8542', fstype='squashfs', opts='ro,nodev,relatime'),\n",
       " sdiskpart(device='/dev/loop1', mountpoint='/snap/gnome-3-34-1804/33', fstype='squashfs', opts='ro,nodev,relatime'),\n",
       " sdiskpart(device='/dev/loop5', mountpoint='/snap/gtk-common-themes/1506', fstype='squashfs', opts='ro,nodev,relatime'),\n",
       " sdiskpart(device='/dev/loop6', mountpoint='/snap/snap-store/415', fstype='squashfs', opts='ro,nodev,relatime'),\n",
       " sdiskpart(device='/dev/loop4', mountpoint='/snap/gnome-3-34-1804/36', fstype='squashfs', opts='ro,nodev,relatime'),\n",
       " sdiskpart(device='/dev/loop9', mountpoint='/snap/snapd/8140', fstype='squashfs', opts='ro,nodev,relatime'),\n",
       " sdiskpart(device='/dev/sda1', mountpoint='/boot/efi', fstype='vfat', opts='rw,relatime,fmask=0077,dmask=0077,codepage=437,iocharset=iso8859-1,shortname=mixed,errors=remount-ro')]"
      ]
     },
     "execution_count": 15,
     "metadata": {},
     "output_type": "execute_result"
    }
   ],
   "source": [
    "psutil.disk_partitions()"
   ]
  },
  {
   "cell_type": "code",
   "execution_count": 16,
   "metadata": {},
   "outputs": [
    {
     "name": "stdout",
     "output_type": "stream",
     "text": [
      "sdiskusage(total=982899539968, used=16455540736, free=916443963392, percent=1.8)\n"
     ]
    }
   ],
   "source": [
    "print(psutil.disk_usage('/'))"
   ]
  },
  {
   "cell_type": "code",
   "execution_count": 17,
   "metadata": {},
   "outputs": [
    {
     "name": "stdout",
     "output_type": "stream",
     "text": [
      "snetio(bytes_sent=146042690, bytes_recv=948948404, packets_sent=652956, packets_recv=997583, errin=0, errout=0, dropin=0, dropout=0)\n"
     ]
    }
   ],
   "source": [
    "print(psutil.net_io_counters())"
   ]
  },
  {
   "cell_type": "code",
   "execution_count": 18,
   "metadata": {},
   "outputs": [
    {
     "name": "stdout",
     "output_type": "stream",
     "text": [
      "[sconn(fd=36, family=<AddressFamily.AF_INET: 2>, type=<SocketKind.SOCK_STREAM: 1>, laddr=addr(ip='192.168.1.102', port=37852), raddr=addr(ip='54.81.194.60', port=443), status='ESTABLISHED', pid=4642), sconn(fd=24, family=<AddressFamily.AF_INET: 2>, type=<SocketKind.SOCK_STREAM: 1>, laddr=addr(ip='127.0.0.1', port=45361), raddr=(), status='LISTEN', pid=4978), sconn(fd=137, family=<AddressFamily.AF_INET: 2>, type=<SocketKind.SOCK_STREAM: 1>, laddr=addr(ip='127.0.0.1', port=55458), raddr=addr(ip='127.0.0.1', port=40111), status='ESTABLISHED', pid=4542), sconn(fd=54, family=<AddressFamily.AF_INET: 2>, type=<SocketKind.SOCK_STREAM: 1>, laddr=addr(ip='127.0.0.1', port=42415), raddr=addr(ip='127.0.0.1', port=58150), status='ESTABLISHED', pid=4972), sconn(fd=47, family=<AddressFamily.AF_INET: 2>, type=<SocketKind.SOCK_STREAM: 1>, laddr=addr(ip='127.0.0.1', port=59121), raddr=addr(ip='127.0.0.1', port=43138), status='ESTABLISHED', pid=4972), sconn(fd=123, family=<AddressFamily.AF_INET: 2>, type=<SocketKind.SOCK_STREAM: 1>, laddr=addr(ip='127.0.0.1', port=43174), raddr=addr(ip='127.0.0.1', port=55953), status='ESTABLISHED', pid=4542), sconn(fd=43, family=<AddressFamily.AF_INET: 2>, type=<SocketKind.SOCK_STREAM: 1>, laddr=addr(ip='127.0.0.1', port=46459), raddr=(), status='LISTEN', pid=30707), sconn(fd=24, family=<AddressFamily.AF_INET: 2>, type=<SocketKind.SOCK_STREAM: 1>, laddr=addr(ip='127.0.0.1', port=52037), raddr=(), status='LISTEN', pid=4975), sconn(fd=8, family=<AddressFamily.AF_INET: 2>, type=<SocketKind.SOCK_STREAM: 1>, laddr=addr(ip='127.0.0.1', port=8888), raddr=addr(ip='127.0.0.1', port=60394), status='ESTABLISHED', pid=4542), sconn(fd=30, family=<AddressFamily.AF_INET: 2>, type=<SocketKind.SOCK_STREAM: 1>, laddr=addr(ip='127.0.0.1', port=42907), raddr=(), status='LISTEN', pid=4972), sconn(fd=53, family=<AddressFamily.AF_INET: 2>, type=<SocketKind.SOCK_STREAM: 1>, laddr=addr(ip='127.0.0.1', port=53453), raddr=addr(ip='127.0.0.1', port=42302), status='ESTABLISHED', pid=4972), sconn(fd=198, family=<AddressFamily.AF_INET: 2>, type=<SocketKind.SOCK_STREAM: 1>, laddr=addr(ip='127.0.0.1', port=53608), raddr=addr(ip='127.0.0.1', port=35843), status='ESTABLISHED', pid=4542), sconn(fd=18, family=<AddressFamily.AF_INET: 2>, type=<SocketKind.SOCK_STREAM: 1>, laddr=addr(ip='127.0.0.1', port=37753), raddr=(), status='LISTEN', pid=30707), sconn(fd=56, family=<AddressFamily.AF_INET: 2>, type=<SocketKind.SOCK_STREAM: 1>, laddr=addr(ip='127.0.0.1', port=54323), raddr=addr(ip='127.0.0.1', port=54632), status='ESTABLISHED', pid=4975), sconn(fd=161, family=<AddressFamily.AF_INET: 2>, type=<SocketKind.SOCK_STREAM: 1>, laddr=addr(ip='127.0.0.1', port=49438), raddr=addr(ip='127.0.0.1', port=49651), status='ESTABLISHED', pid=4542), sconn(fd=101, family=<AddressFamily.AF_INET: 2>, type=<SocketKind.SOCK_STREAM: 1>, laddr=addr(ip='192.168.1.102', port=44520), raddr=addr(ip='103.43.90.180', port=443), status='ESTABLISHED', pid=4642), sconn(fd=74, family=<AddressFamily.AF_INET: 2>, type=<SocketKind.SOCK_STREAM: 1>, laddr=addr(ip='127.0.0.1', port=50314), raddr=addr(ip='127.0.0.1', port=33185), status='ESTABLISHED', pid=4542), sconn(fd=43, family=<AddressFamily.AF_INET: 2>, type=<SocketKind.SOCK_STREAM: 1>, laddr=addr(ip='127.0.0.1', port=50833), raddr=(), status='LISTEN', pid=4978), sconn(fd=53, family=<AddressFamily.AF_INET6: 10>, type=<SocketKind.SOCK_STREAM: 1>, laddr=addr(ip='2409:4052:e8d:deb:2944:6278:9f84:2141', port=43414), raddr=addr(ip='2404:6800:4002:80a::2004', port=443), status='ESTABLISHED', pid=4642), sconn(fd=67, family=<AddressFamily.AF_INET: 2>, type=<SocketKind.SOCK_STREAM: 1>, laddr=addr(ip='127.0.0.1', port=58990), raddr=addr(ip='127.0.0.1', port=52037), status='ESTABLISHED', pid=4542), sconn(fd=41, family=<AddressFamily.AF_INET: 2>, type=<SocketKind.SOCK_STREAM: 1>, laddr=addr(ip='127.0.0.1', port=60206), raddr=addr(ip='127.0.0.1', port=8888), status='ESTABLISHED', pid=4642), sconn(fd=39, family=<AddressFamily.AF_INET: 2>, type=<SocketKind.SOCK_STREAM: 1>, laddr=addr(ip='192.168.1.102', port=37746), raddr=addr(ip='3.87.188.88', port=443), status='ESTABLISHED', pid=4642), sconn(fd=103, family=<AddressFamily.AF_INET: 2>, type=<SocketKind.SOCK_STREAM: 1>, laddr=addr(ip='127.0.0.1', port=50570), raddr=addr(ip='127.0.0.1', port=49339), status='ESTABLISHED', pid=4542), sconn(fd=42, family=<AddressFamily.AF_INET6: 10>, type=<SocketKind.SOCK_STREAM: 1>, laddr=addr(ip='2409:4052:e8d:deb:2944:6278:9f84:2141', port=60488), raddr=addr(ip='2404:6800:4002:809::2003', port=443), status='ESTABLISHED', pid=4642), sconn(fd=24, family=<AddressFamily.AF_INET: 2>, type=<SocketKind.SOCK_STREAM: 1>, laddr=addr(ip='127.0.0.1', port=35843), raddr=(), status='LISTEN', pid=25881), sconn(fd=15, family=<AddressFamily.AF_INET: 2>, type=<SocketKind.SOCK_STREAM: 1>, laddr=addr(ip='127.0.0.1', port=36049), raddr=(), status='LISTEN', pid=4978), sconn(fd=55, family=<AddressFamily.AF_INET: 2>, type=<SocketKind.SOCK_STREAM: 1>, laddr=addr(ip='127.0.0.1', port=59121), raddr=addr(ip='127.0.0.1', port=43178), status='ESTABLISHED', pid=4972), sconn(fd=-1, family=<AddressFamily.AF_INET: 2>, type=<SocketKind.SOCK_STREAM: 1>, laddr=addr(ip='192.168.1.102', port=37748), raddr=addr(ip='3.87.188.88', port=443), status='TIME_WAIT', pid=None), sconn(fd=45, family=<AddressFamily.AF_INET6: 10>, type=<SocketKind.SOCK_STREAM: 1>, laddr=addr(ip='2409:4052:e8d:deb:2944:6278:9f84:2141', port=59268), raddr=addr(ip='2405:200:1630:988::11a6', port=443), status='ESTABLISHED', pid=4642), sconn(fd=49, family=<AddressFamily.AF_INET: 2>, type=<SocketKind.SOCK_STREAM: 1>, laddr=addr(ip='127.0.0.1', port=49651), raddr=addr(ip='127.0.0.1', port=49438), status='ESTABLISHED', pid=9108), sconn(fd=54, family=<AddressFamily.AF_INET: 2>, type=<SocketKind.SOCK_STREAM: 1>, laddr=addr(ip='127.0.0.1', port=57713), raddr=addr(ip='127.0.0.1', port=40592), status='ESTABLISHED', pid=25881), sconn(fd=83, family=<AddressFamily.AF_INET: 2>, type=<SocketKind.SOCK_STREAM: 1>, laddr=addr(ip='192.168.1.102', port=38144), raddr=addr(ip='49.44.153.224', port=443), status='ESTABLISHED', pid=4642), sconn(fd=219, family=<AddressFamily.AF_INET: 2>, type=<SocketKind.SOCK_STREAM: 1>, laddr=addr(ip='127.0.0.1', port=39886), raddr=addr(ip='127.0.0.1', port=45703), status='ESTABLISHED', pid=4542), sconn(fd=18, family=<AddressFamily.AF_INET: 2>, type=<SocketKind.SOCK_STREAM: 1>, laddr=addr(ip='127.0.0.1', port=47129), raddr=(), status='LISTEN', pid=4972), sconn(fd=51, family=<AddressFamily.AF_INET: 2>, type=<SocketKind.SOCK_STREAM: 1>, laddr=addr(ip='127.0.0.1', port=36049), raddr=addr(ip='127.0.0.1', port=33578), status='ESTABLISHED', pid=4978), sconn(fd=27, family=<AddressFamily.AF_INET6: 10>, type=<SocketKind.SOCK_STREAM: 1>, laddr=addr(ip='2409:4052:e8d:deb:2944:6278:9f84:2141', port=50676), raddr=addr(ip='2404:6800:4002:80c::2003', port=443), status='ESTABLISHED', pid=4642), sconn(fd=195, family=<AddressFamily.AF_INET: 2>, type=<SocketKind.SOCK_STREAM: 1>, laddr=addr(ip='127.0.0.1', port=40592), raddr=addr(ip='127.0.0.1', port=57713), status='ESTABLISHED', pid=4542), sconn(fd=120, family=<AddressFamily.AF_INET: 2>, type=<SocketKind.SOCK_STREAM: 1>, laddr=addr(ip='127.0.0.1', port=51910), raddr=addr(ip='127.0.0.1', port=45361), status='ESTABLISHED', pid=4542), sconn(fd=50, family=<AddressFamily.AF_INET: 2>, type=<SocketKind.SOCK_STREAM: 1>, laddr=addr(ip='127.0.0.1', port=39381), raddr=addr(ip='127.0.0.1', port=33210), status='ESTABLISHED', pid=9108), sconn(fd=15, family=<AddressFamily.AF_INET: 2>, type=<SocketKind.SOCK_STREAM: 1>, laddr=addr(ip='127.0.0.1', port=47599), raddr=(), status='LISTEN', pid=30707), sconn(fd=43, family=<AddressFamily.AF_INET: 2>, type=<SocketKind.SOCK_STREAM: 1>, laddr=addr(ip='127.0.0.1', port=44047), raddr=(), status='LISTEN', pid=8616), sconn(fd=21, family=<AddressFamily.AF_INET: 2>, type=<SocketKind.SOCK_STREAM: 1>, laddr=addr(ip='127.0.0.1', port=57713), raddr=(), status='LISTEN', pid=25881), sconn(fd=43, family=<AddressFamily.AF_INET: 2>, type=<SocketKind.SOCK_STREAM: 1>, laddr=addr(ip='127.0.0.1', port=35091), raddr=(), status='LISTEN', pid=9108), sconn(fd=217, family=<AddressFamily.AF_INET: 2>, type=<SocketKind.SOCK_STREAM: 1>, laddr=addr(ip='127.0.0.1', port=34910), raddr=addr(ip='127.0.0.1', port=47599), status='ESTABLISHED', pid=4542), sconn(fd=147, family=<AddressFamily.AF_INET: 2>, type=<SocketKind.SOCK_STREAM: 1>, laddr=addr(ip='127.0.0.1', port=34692), raddr=addr(ip='127.0.0.1', port=45765), status='ESTABLISHED', pid=4542), sconn(fd=47, family=<AddressFamily.AF_INET: 2>, type=<SocketKind.SOCK_STREAM: 1>, laddr=addr(ip='127.0.0.1', port=47599), raddr=addr(ip='127.0.0.1', port=34910), status='ESTABLISHED', pid=30707), sconn(fd=-1, family=<AddressFamily.AF_INET: 2>, type=<SocketKind.SOCK_DGRAM: 2>, laddr=addr(ip='0.0.0.0', port=40853), raddr=(), status='NONE', pid=None), sconn(fd=55, family=<AddressFamily.AF_INET: 2>, type=<SocketKind.SOCK_STREAM: 1>, laddr=addr(ip='127.0.0.1', port=40111), raddr=addr(ip='127.0.0.1', port=55466), status='ESTABLISHED', pid=8616), sconn(fd=-1, family=<AddressFamily.AF_INET6: 10>, type=<SocketKind.SOCK_STREAM: 1>, laddr=addr(ip='::1', port=25), raddr=(), status='LISTEN', pid=None), sconn(fd=-1, family=<AddressFamily.AF_INET6: 10>, type=<SocketKind.SOCK_STREAM: 1>, laddr=addr(ip='2409:4052:e8d:deb:2944:6278:9f84:2141', port=50174), raddr=addr(ip='2403:8940:3:1::f', port=80), status='CLOSE_WAIT', pid=None), sconn(fd=70, family=<AddressFamily.AF_INET: 2>, type=<SocketKind.SOCK_STREAM: 1>, laddr=addr(ip='127.0.0.1', port=50524), raddr=addr(ip='127.0.0.1', port=49339), status='ESTABLISHED', pid=4542), sconn(fd=-1, family=<AddressFamily.AF_INET6: 10>, type=<SocketKind.SOCK_DGRAM: 2>, laddr=addr(ip='::', port=51542), raddr=(), status='NONE', pid=None), sconn(fd=54, family=<AddressFamily.AF_INET: 2>, type=<SocketKind.SOCK_STREAM: 1>, laddr=addr(ip='127.0.0.1', port=49339), raddr=addr(ip='127.0.0.1', port=50570), status='ESTABLISHED', pid=4975), sconn(fd=190, family=<AddressFamily.AF_INET: 2>, type=<SocketKind.SOCK_STREAM: 1>, laddr=addr(ip='127.0.0.1', port=53598), raddr=addr(ip='127.0.0.1', port=35843), status='ESTABLISHED', pid=4542), sconn(fd=71, family=<AddressFamily.AF_INET: 2>, type=<SocketKind.SOCK_STREAM: 1>, laddr=addr(ip='127.0.0.1', port=34526), raddr=addr(ip='127.0.0.1', port=57005), status='ESTABLISHED', pid=4542), sconn(fd=21, family=<AddressFamily.AF_INET: 2>, type=<SocketKind.SOCK_STREAM: 1>, laddr=addr(ip='127.0.0.1', port=57005), raddr=(), status='LISTEN', pid=4978), sconn(fd=51, family=<AddressFamily.AF_INET: 2>, type=<SocketKind.SOCK_STREAM: 1>, laddr=addr(ip='127.0.0.1', port=53697), raddr=addr(ip='127.0.0.1', port=49038), status='ESTABLISHED', pid=9108), sconn(fd=15, family=<AddressFamily.AF_INET: 2>, type=<SocketKind.SOCK_STREAM: 1>, laddr=addr(ip='127.0.0.1', port=34963), raddr=(), status='LISTEN', pid=8616), sconn(fd=223, family=<AddressFamily.AF_INET: 2>, type=<SocketKind.SOCK_STREAM: 1>, laddr=addr(ip='127.0.0.1', port=8888), raddr=addr(ip='127.0.0.1', port=60210), status='ESTABLISHED', pid=4542), sconn(fd=18, family=<AddressFamily.AF_INET: 2>, type=<SocketKind.SOCK_STREAM: 1>, laddr=addr(ip='127.0.0.1', port=39891), raddr=(), status='LISTEN', pid=4981), sconn(fd=81, family=<AddressFamily.AF_INET: 2>, type=<SocketKind.SOCK_STREAM: 1>, laddr=addr(ip='192.168.1.102', port=59170), raddr=addr(ip='3.87.188.88', port=443), status='ESTABLISHED', pid=4642), sconn(fd=43, family=<AddressFamily.AF_INET: 2>, type=<SocketKind.SOCK_STREAM: 1>, laddr=addr(ip='127.0.0.1', port=60210), raddr=addr(ip='127.0.0.1', port=8888), status='ESTABLISHED', pid=4642), sconn(fd=49, family=<AddressFamily.AF_INET: 2>, type=<SocketKind.SOCK_STREAM: 1>, laddr=addr(ip='127.0.0.1', port=40111), raddr=addr(ip='127.0.0.1', port=55458), status='ESTABLISHED', pid=8616), sconn(fd=57, family=<AddressFamily.AF_INET: 2>, type=<SocketKind.SOCK_STREAM: 1>, laddr=addr(ip='192.168.1.102', port=35560), raddr=addr(ip='103.231.98.193', port=443), status='ESTABLISHED', pid=4642), sconn(fd=201, family=<AddressFamily.AF_INET: 2>, type=<SocketKind.SOCK_STREAM: 1>, laddr=addr(ip='127.0.0.1', port=43364), raddr=addr(ip='127.0.0.1', port=57083), status='ESTABLISHED', pid=4542), sconn(fd=90, family=<AddressFamily.AF_INET: 2>, type=<SocketKind.SOCK_STREAM: 1>, laddr=addr(ip='127.0.0.1', port=58150), raddr=addr(ip='127.0.0.1', port=42415), status='ESTABLISHED', pid=4542), sconn(fd=56, family=<AddressFamily.AF_INET: 2>, type=<SocketKind.SOCK_STREAM: 1>, laddr=addr(ip='127.0.0.1', port=55953), raddr=addr(ip='127.0.0.1', port=43174), status='ESTABLISHED', pid=4978), sconn(fd=206, family=<AddressFamily.AF_INET: 2>, type=<SocketKind.SOCK_STREAM: 1>, laddr=addr(ip='127.0.0.1', port=8888), raddr=addr(ip='127.0.0.1', port=59694), status='ESTABLISHED', pid=4542), sconn(fd=109, family=<AddressFamily.AF_INET: 2>, type=<SocketKind.SOCK_STREAM: 1>, laddr=addr(ip='127.0.0.1', port=54632), raddr=addr(ip='127.0.0.1', port=54323), status='ESTABLISHED', pid=4542), sconn(fd=68, family=<AddressFamily.AF_INET: 2>, type=<SocketKind.SOCK_STREAM: 1>, laddr=addr(ip='127.0.0.1', port=43138), raddr=addr(ip='127.0.0.1', port=59121), status='ESTABLISHED', pid=4542), sconn(fd=30, family=<AddressFamily.AF_INET: 2>, type=<SocketKind.SOCK_STREAM: 1>, laddr=addr(ip='127.0.0.1', port=42103), raddr=(), status='LISTEN', pid=4981), sconn(fd=78, family=<AddressFamily.AF_INET: 2>, type=<SocketKind.SOCK_STREAM: 1>, laddr=addr(ip='127.0.0.1', port=48798), raddr=addr(ip='127.0.0.1', port=36929), status='ESTABLISHED', pid=4542), sconn(fd=192, family=<AddressFamily.AF_INET: 2>, type=<SocketKind.SOCK_STREAM: 1>, laddr=addr(ip='127.0.0.1', port=40588), raddr=addr(ip='127.0.0.1', port=57713), status='ESTABLISHED', pid=4542), sconn(fd=-1, family=<AddressFamily.AF_INET6: 10>, type=<SocketKind.SOCK_STREAM: 1>, laddr=addr(ip='::', port=33060), raddr=(), status='LISTEN', pid=None), sconn(fd=46, family=<AddressFamily.AF_INET: 2>, type=<SocketKind.SOCK_STREAM: 1>, laddr=addr(ip='192.168.1.102', port=51852), raddr=addr(ip='49.44.164.17', port=443), status='ESTABLISHED', pid=4642), sconn(fd=-1, family=<AddressFamily.AF_INET: 2>, type=<SocketKind.SOCK_STREAM: 1>, laddr=addr(ip='127.0.0.53', port=53), raddr=(), status='LISTEN', pid=None), sconn(fd=51, family=<AddressFamily.AF_INET: 2>, type=<SocketKind.SOCK_STREAM: 1>, laddr=addr(ip='127.0.0.1', port=49317), raddr=addr(ip='127.0.0.1', port=57106), status='ESTABLISHED', pid=4975), sconn(fd=-1, family=<AddressFamily.AF_INET: 2>, type=<SocketKind.SOCK_STREAM: 1>, laddr=addr(ip='192.168.1.102', port=39274), raddr=addr(ip='54.215.161.51', port=443), status='ESTABLISHED', pid=None), sconn(fd=75, family=<AddressFamily.AF_INET6: 10>, type=<SocketKind.SOCK_STREAM: 1>, laddr=addr(ip='2409:4052:e8d:deb:2944:6278:9f84:2141', port=57330), raddr=addr(ip='2404:6800:4002:808::2006', port=443), status='ESTABLISHED', pid=4642), sconn(fd=-1, family=<AddressFamily.AF_INET: 2>, type=<SocketKind.SOCK_DGRAM: 2>, laddr=addr(ip='127.0.0.53', port=53), raddr=(), status='NONE', pid=None), sconn(fd=72, family=<AddressFamily.AF_INET: 2>, type=<SocketKind.SOCK_STREAM: 1>, laddr=addr(ip='192.168.1.102', port=53004), raddr=addr(ip='5.178.65.246', port=443), status='ESTABLISHED', pid=4642), sconn(fd=48, family=<AddressFamily.AF_INET: 2>, type=<SocketKind.SOCK_STREAM: 1>, laddr=addr(ip='127.0.0.1', port=42415), raddr=addr(ip='127.0.0.1', port=58114), status='ESTABLISHED', pid=4972), sconn(fd=-1, family=<AddressFamily.AF_INET6: 10>, type=<SocketKind.SOCK_STREAM: 1>, laddr=addr(ip='::', port=80), raddr=(), status='LISTEN', pid=None), sconn(fd=49, family=<AddressFamily.AF_INET: 2>, type=<SocketKind.SOCK_STREAM: 1>, laddr=addr(ip='127.0.0.1', port=45361), raddr=addr(ip='127.0.0.1', port=51858), status='ESTABLISHED', pid=4978), sconn(fd=119, family=<AddressFamily.AF_INET: 2>, type=<SocketKind.SOCK_STREAM: 1>, laddr=addr(ip='127.0.0.1', port=34584), raddr=addr(ip='127.0.0.1', port=57005), status='ESTABLISHED', pid=4542), sconn(fd=222, family=<AddressFamily.AF_INET: 2>, type=<SocketKind.SOCK_STREAM: 1>, laddr=addr(ip='127.0.0.1', port=8888), raddr=addr(ip='127.0.0.1', port=60206), status='ESTABLISHED', pid=4542), sconn(fd=43, family=<AddressFamily.AF_INET: 2>, type=<SocketKind.SOCK_STREAM: 1>, laddr=addr(ip='127.0.0.1', port=42855), raddr=(), status='LISTEN', pid=4981), sconn(fd=59, family=<AddressFamily.AF_INET: 2>, type=<SocketKind.SOCK_STREAM: 1>, laddr=addr(ip='192.168.1.102', port=44162), raddr=addr(ip='13.234.168.60', port=443), status='CLOSE_WAIT', pid=25881), sconn(fd=144, family=<AddressFamily.AF_INET: 2>, type=<SocketKind.SOCK_STREAM: 1>, laddr=addr(ip='127.0.0.1', port=57520), raddr=addr(ip='127.0.0.1', port=34963), status='ESTABLISHED', pid=4542), sconn(fd=191, family=<AddressFamily.AF_INET: 2>, type=<SocketKind.SOCK_STREAM: 1>, laddr=addr(ip='127.0.0.1', port=43116), raddr=addr(ip='127.0.0.1', port=46605), status='ESTABLISHED', pid=4542), sconn(fd=108, family=<AddressFamily.AF_INET6: 10>, type=<SocketKind.SOCK_STREAM: 1>, laddr=addr(ip='2409:4052:e8d:deb:2944:6278:9f84:2141', port=34060), raddr=addr(ip='2404:6800:4002:812::2001', port=443), status='ESTABLISHED', pid=4642), sconn(fd=54, family=<AddressFamily.AF_INET: 2>, type=<SocketKind.SOCK_STREAM: 1>, laddr=addr(ip='127.0.0.1', port=45691), raddr=addr(ip='127.0.0.1', port=50376), status='ESTABLISHED', pid=8616), sconn(fd=161, family=<AddressFamily.AF_INET6: 10>, type=<SocketKind.SOCK_STREAM: 1>, laddr=addr(ip='2409:4052:e8d:deb:2944:6278:9f84:2141', port=56526), raddr=addr(ip='2404:6800:4002:804::2003', port=443), status='ESTABLISHED', pid=4642), sconn(fd=24, family=<AddressFamily.AF_INET: 2>, type=<SocketKind.SOCK_STREAM: 1>, laddr=addr(ip='127.0.0.1', port=49651), raddr=(), status='LISTEN', pid=9108), sconn(fd=51, family=<AddressFamily.AF_INET: 2>, type=<SocketKind.SOCK_STREAM: 1>, laddr=addr(ip='127.0.0.1', port=40621), raddr=addr(ip='127.0.0.1', port=59876), status='ESTABLISHED', pid=30707), sconn(fd=69, family=<AddressFamily.AF_INET: 2>, type=<SocketKind.SOCK_STREAM: 1>, laddr=addr(ip='127.0.0.1', port=58114), raddr=addr(ip='127.0.0.1', port=42415), status='ESTABLISHED', pid=4542), sconn(fd=30, family=<AddressFamily.AF_INET: 2>, type=<SocketKind.SOCK_STREAM: 1>, laddr=addr(ip='127.0.0.1', port=39463), raddr=(), status='LISTEN', pid=4975), sconn(fd=30, family=<AddressFamily.AF_INET: 2>, type=<SocketKind.SOCK_STREAM: 1>, laddr=addr(ip='127.0.0.1', port=39317), raddr=(), status='LISTEN', pid=8616), sconn(fd=65, family=<AddressFamily.AF_INET: 2>, type=<SocketKind.SOCK_DGRAM: 2>, laddr=addr(ip='224.0.0.251', port=5353), raddr=(), status='NONE', pid=4642), sconn(fd=55, family=<AddressFamily.AF_INET: 2>, type=<SocketKind.SOCK_STREAM: 1>, laddr=addr(ip='127.0.0.1', port=49651), raddr=addr(ip='127.0.0.1', port=49448), status='ESTABLISHED', pid=9108), sconn(fd=-1, family=<AddressFamily.AF_INET: 2>, type=<SocketKind.SOCK_DGRAM: 2>, laddr=addr(ip='192.168.1.102', port=68), raddr=addr(ip='192.168.1.1', port=67), status='NONE', pid=None), sconn(fd=30, family=<AddressFamily.AF_INET: 2>, type=<SocketKind.SOCK_STREAM: 1>, laddr=addr(ip='127.0.0.1', port=39495), raddr=(), status='LISTEN', pid=9108), sconn(fd=51, family=<AddressFamily.AF_INET: 2>, type=<SocketKind.SOCK_STREAM: 1>, laddr=addr(ip='127.0.0.1', port=57713), raddr=addr(ip='127.0.0.1', port=40588), status='ESTABLISHED', pid=25881), sconn(fd=55, family=<AddressFamily.AF_INET: 2>, type=<SocketKind.SOCK_STREAM: 1>, laddr=addr(ip='127.0.0.1', port=45101), raddr=addr(ip='127.0.0.1', port=46042), status='ESTABLISHED', pid=4981), sconn(fd=118, family=<AddressFamily.AF_INET: 2>, type=<SocketKind.SOCK_STREAM: 1>, laddr=addr(ip='127.0.0.1', port=33578), raddr=addr(ip='127.0.0.1', port=36049), status='ESTABLISHED', pid=4542), sconn(fd=56, family=<AddressFamily.AF_INET: 2>, type=<SocketKind.SOCK_STREAM: 1>, laddr=addr(ip='127.0.0.1', port=57083), raddr=addr(ip='127.0.0.1', port=43364), status='ESTABLISHED', pid=25881), sconn(fd=172, family=<AddressFamily.AF_INET: 2>, type=<SocketKind.SOCK_STREAM: 1>, laddr=addr(ip='127.0.0.1', port=40640), raddr=addr(ip='127.0.0.1', port=46461), status='ESTABLISHED', pid=4542), sconn(fd=171, family=<AddressFamily.AF_INET: 2>, type=<SocketKind.SOCK_STREAM: 1>, laddr=addr(ip='127.0.0.1', port=49448), raddr=addr(ip='127.0.0.1', port=49651), status='ESTABLISHED', pid=4542), sconn(fd=56, family=<AddressFamily.AF_INET: 2>, type=<SocketKind.SOCK_STREAM: 1>, laddr=addr(ip='127.0.0.1', port=46461), raddr=addr(ip='127.0.0.1', port=40640), status='ESTABLISHED', pid=9108), sconn(fd=24, family=<AddressFamily.AF_INET: 2>, type=<SocketKind.SOCK_STREAM: 1>, laddr=addr(ip='127.0.0.1', port=45703), raddr=(), status='LISTEN', pid=30707), sconn(fd=56, family=<AddressFamily.AF_INET: 2>, type=<SocketKind.SOCK_STREAM: 1>, laddr=addr(ip='127.0.0.1', port=47129), raddr=addr(ip='127.0.0.1', port=59856), status='ESTABLISHED', pid=4972), sconn(fd=-1, family=<AddressFamily.AF_INET: 2>, type=<SocketKind.SOCK_DGRAM: 2>, laddr=addr(ip='0.0.0.0', port=5353), raddr=(), status='NONE', pid=None), sconn(fd=169, family=<AddressFamily.AF_INET: 2>, type=<SocketKind.SOCK_STREAM: 1>, laddr=addr(ip='127.0.0.1', port=33210), raddr=addr(ip='127.0.0.1', port=39381), status='ESTABLISHED', pid=4542), sconn(fd=43, family=<AddressFamily.AF_INET: 2>, type=<SocketKind.SOCK_STREAM: 1>, laddr=addr(ip='127.0.0.1', port=37821), raddr=(), status='LISTEN', pid=25881), sconn(fd=136, family=<AddressFamily.AF_INET: 2>, type=<SocketKind.SOCK_STREAM: 1>, laddr=addr(ip='127.0.0.1', port=50368), raddr=addr(ip='127.0.0.1', port=45691), status='ESTABLISHED', pid=4542), sconn(fd=18, family=<AddressFamily.AF_INET: 2>, type=<SocketKind.SOCK_STREAM: 1>, laddr=addr(ip='127.0.0.1', port=46461), raddr=(), status='LISTEN', pid=9108), sconn(fd=146, family=<AddressFamily.AF_INET: 2>, type=<SocketKind.SOCK_STREAM: 1>, laddr=addr(ip='127.0.0.1', port=55466), raddr=addr(ip='127.0.0.1', port=40111), status='ESTABLISHED', pid=4542), sconn(fd=87, family=<AddressFamily.AF_INET: 2>, type=<SocketKind.SOCK_STREAM: 1>, laddr=addr(ip='127.0.0.1', port=42302), raddr=addr(ip='127.0.0.1', port=53453), status='ESTABLISHED', pid=4542), sconn(fd=62, family=<AddressFamily.AF_INET: 2>, type=<SocketKind.SOCK_STREAM: 1>, laddr=addr(ip='192.168.1.102', port=59606), raddr=addr(ip='3.6.178.123', port=443), status='ESTABLISHED', pid=4642), sconn(fd=18, family=<AddressFamily.AF_INET: 2>, type=<SocketKind.SOCK_STREAM: 1>, laddr=addr(ip='127.0.0.1', port=45765), raddr=(), status='LISTEN', pid=8616), sconn(fd=84, family=<AddressFamily.AF_INET: 2>, type=<SocketKind.SOCK_STREAM: 1>, laddr=addr(ip='192.168.1.102', port=45708), raddr=addr(ip='18.182.99.251', port=443), status='ESTABLISHED', pid=4642), sconn(fd=21, family=<AddressFamily.AF_INET: 2>, type=<SocketKind.SOCK_STREAM: 1>, laddr=addr(ip='127.0.0.1', port=53697), raddr=(), status='LISTEN', pid=9108), sconn(fd=-1, family=<AddressFamily.AF_INET6: 10>, type=<SocketKind.SOCK_STREAM: 1>, laddr=addr(ip='2409:4052:e8d:deb:2944:6278:9f84:2141', port=57332), raddr=addr(ip='2404:6800:4002:808::2006', port=443), status='TIME_WAIT', pid=None), sconn(fd=30, family=<AddressFamily.AF_INET: 2>, type=<SocketKind.SOCK_STREAM: 1>, laddr=addr(ip='127.0.0.1', port=46859), raddr=(), status='LISTEN', pid=4978), sconn(fd=24, family=<AddressFamily.AF_INET: 2>, type=<SocketKind.SOCK_STREAM: 1>, laddr=addr(ip='127.0.0.1', port=45101), raddr=(), status='LISTEN', pid=4981), sconn(fd=54, family=<AddressFamily.AF_INET: 2>, type=<SocketKind.SOCK_STREAM: 1>, laddr=addr(ip='127.0.0.1', port=36929), raddr=addr(ip='127.0.0.1', port=48798), status='ESTABLISHED', pid=4981), sconn(fd=47, family=<AddressFamily.AF_INET: 2>, type=<SocketKind.SOCK_STREAM: 1>, laddr=addr(ip='127.0.0.1', port=52037), raddr=addr(ip='127.0.0.1', port=58990), status='ESTABLISHED', pid=4975), sconn(fd=52, family=<AddressFamily.AF_INET: 2>, type=<SocketKind.SOCK_STREAM: 1>, laddr=addr(ip='192.168.1.102', port=57252), raddr=addr(ip='209.191.163.208', port=443), status='ESTABLISHED', pid=4642), sconn(fd=55, family=<AddressFamily.AF_INET: 2>, type=<SocketKind.SOCK_STREAM: 1>, laddr=addr(ip='127.0.0.1', port=35843), raddr=addr(ip='127.0.0.1', port=53608), status='ESTABLISHED', pid=25881), sconn(fd=124, family=<AddressFamily.AF_INET6: 10>, type=<SocketKind.SOCK_STREAM: 1>, laddr=addr(ip='2409:4052:e8d:deb:2944:6278:9f84:2141', port=34878), raddr=addr(ip='2404:6800:4002:804::2002', port=443), status='ESTABLISHED', pid=4642), sconn(fd=-1, family=<AddressFamily.AF_INET: 2>, type=<SocketKind.SOCK_STREAM: 1>, laddr=addr(ip='192.168.1.102', port=37714), raddr=addr(ip='3.87.188.88', port=443), status='TIME_WAIT', pid=None), sconn(fd=-1, family=<AddressFamily.AF_INET6: 10>, type=<SocketKind.SOCK_DGRAM: 2>, laddr=addr(ip='fe80::8a9c:cc3d:9d46:a3c6', port=546), raddr=(), status='NONE', pid=None), sconn(fd=54, family=<AddressFamily.AF_INET: 2>, type=<SocketKind.SOCK_STREAM: 1>, laddr=addr(ip='127.0.0.1', port=53697), raddr=addr(ip='127.0.0.1', port=49042), status='ESTABLISHED', pid=9108), sconn(fd=21, family=<AddressFamily.AF_INET: 2>, type=<SocketKind.SOCK_STREAM: 1>, laddr=addr(ip='127.0.0.1', port=45691), raddr=(), status='LISTEN', pid=8616), sconn(fd=106, family=<AddressFamily.AF_INET: 2>, type=<SocketKind.SOCK_STREAM: 1>, laddr=addr(ip='127.0.0.1', port=59046), raddr=addr(ip='127.0.0.1', port=52037), status='ESTABLISHED', pid=4542), sconn(fd=93, family=<AddressFamily.AF_INET: 2>, type=<SocketKind.SOCK_STREAM: 1>, laddr=addr(ip='127.0.0.1', port=43178), raddr=addr(ip='127.0.0.1', port=59121), status='ESTABLISHED', pid=4542), sconn(fd=163, family=<AddressFamily.AF_INET: 2>, type=<SocketKind.SOCK_STREAM: 1>, laddr=addr(ip='127.0.0.1', port=49038), raddr=addr(ip='127.0.0.1', port=53697), status='ESTABLISHED', pid=4542), sconn(fd=48, family=<AddressFamily.AF_INET: 2>, type=<SocketKind.SOCK_STREAM: 1>, laddr=addr(ip='127.0.0.1', port=45101), raddr=addr(ip='127.0.0.1', port=45996), status='ESTABLISHED', pid=4981), sconn(fd=72, family=<AddressFamily.AF_INET: 2>, type=<SocketKind.SOCK_STREAM: 1>, laddr=addr(ip='127.0.0.1', port=45996), raddr=addr(ip='127.0.0.1', port=45101), status='ESTABLISHED', pid=4542), sconn(fd=-1, family=<AddressFamily.AF_INET: 2>, type=<SocketKind.SOCK_STREAM: 1>, laddr=addr(ip='192.168.1.102', port=37712), raddr=addr(ip='3.87.188.88', port=443), status='TIME_WAIT', pid=None), sconn(fd=55, family=<AddressFamily.AF_INET: 2>, type=<SocketKind.SOCK_STREAM: 1>, laddr=addr(ip='127.0.0.1', port=45361), raddr=addr(ip='127.0.0.1', port=51910), status='ESTABLISHED', pid=4978), sconn(fd=-1, family=<AddressFamily.AF_INET: 2>, type=<SocketKind.SOCK_STREAM: 1>, laddr=addr(ip='127.0.0.1', port=3306), raddr=(), status='LISTEN', pid=None), sconn(fd=21, family=<AddressFamily.AF_INET: 2>, type=<SocketKind.SOCK_STREAM: 1>, laddr=addr(ip='127.0.0.1', port=49339), raddr=(), status='LISTEN', pid=4975), sconn(fd=84, family=<AddressFamily.AF_INET: 2>, type=<SocketKind.SOCK_STREAM: 1>, laddr=addr(ip='127.0.0.1', port=43322), raddr=addr(ip='127.0.0.1', port=39891), status='ESTABLISHED', pid=4542), sconn(fd=24, family=<AddressFamily.AF_INET: 2>, type=<SocketKind.SOCK_STREAM: 1>, laddr=addr(ip='127.0.0.1', port=40111), raddr=(), status='LISTEN', pid=8616), sconn(fd=56, family=<AddressFamily.AF_INET: 2>, type=<SocketKind.SOCK_STREAM: 1>, laddr=addr(ip='127.0.0.1', port=45765), raddr=addr(ip='127.0.0.1', port=34692), status='ESTABLISHED', pid=8616), sconn(fd=15, family=<AddressFamily.AF_INET: 2>, type=<SocketKind.SOCK_STREAM: 1>, laddr=addr(ip='127.0.0.1', port=53453), raddr=(), status='LISTEN', pid=4972), sconn(fd=49, family=<AddressFamily.AF_INET: 2>, type=<SocketKind.SOCK_STREAM: 1>, laddr=addr(ip='127.0.0.1', port=46605), raddr=addr(ip='127.0.0.1', port=43116), status='ESTABLISHED', pid=25881), sconn(fd=100, family=<AddressFamily.AF_INET: 2>, type=<SocketKind.SOCK_STREAM: 1>, laddr=addr(ip='127.0.0.1', port=57106), raddr=addr(ip='127.0.0.1', port=49317), status='ESTABLISHED', pid=4542), sconn(fd=98, family=<AddressFamily.AF_INET: 2>, type=<SocketKind.SOCK_STREAM: 1>, laddr=addr(ip='192.168.1.102', port=59192), raddr=addr(ip='3.87.188.88', port=443), status='ESTABLISHED', pid=4642), sconn(fd=26, family=<AddressFamily.AF_INET6: 10>, type=<SocketKind.SOCK_STREAM: 1>, laddr=addr(ip='2409:4052:e8d:deb:2944:6278:9f84:2141', port=55148), raddr=addr(ip='2404:6800:4002:811::200e', port=443), status='ESTABLISHED', pid=4642), sconn(fd=66, family=<AddressFamily.AF_INET: 2>, type=<SocketKind.SOCK_STREAM: 1>, laddr=addr(ip='192.168.1.102', port=46114), raddr=addr(ip='54.81.194.60', port=443), status='ESTABLISHED', pid=4642), sconn(fd=49, family=<AddressFamily.AF_INET: 2>, type=<SocketKind.SOCK_STREAM: 1>, laddr=addr(ip='127.0.0.1', port=49339), raddr=addr(ip='127.0.0.1', port=50524), status='ESTABLISHED', pid=4975), sconn(fd=49, family=<AddressFamily.AF_INET: 2>, type=<SocketKind.SOCK_STREAM: 1>, laddr=addr(ip='127.0.0.1', port=36929), raddr=addr(ip='127.0.0.1', port=48756), status='ESTABLISHED', pid=4981), sconn(fd=47, family=<AddressFamily.AF_INET: 2>, type=<SocketKind.SOCK_STREAM: 1>, laddr=addr(ip='127.0.0.1', port=57005), raddr=addr(ip='127.0.0.1', port=34526), status='ESTABLISHED', pid=4978), sconn(fd=-1, family=<AddressFamily.AF_INET: 2>, type=<SocketKind.SOCK_STREAM: 1>, laddr=addr(ip='127.0.0.1', port=25), raddr=(), status='LISTEN', pid=None), sconn(fd=47, family=<AddressFamily.AF_INET: 2>, type=<SocketKind.SOCK_STREAM: 1>, laddr=addr(ip='127.0.0.1', port=45691), raddr=addr(ip='127.0.0.1', port=50368), status='ESTABLISHED', pid=8616), sconn(fd=18, family=<AddressFamily.AF_INET: 2>, type=<SocketKind.SOCK_STREAM: 1>, laddr=addr(ip='127.0.0.1', port=54323), raddr=(), status='LISTEN', pid=4975), sconn(fd=37, family=<AddressFamily.AF_INET: 2>, type=<SocketKind.SOCK_STREAM: 1>, laddr=addr(ip='192.168.1.102', port=45460), raddr=addr(ip='216.58.200.163', port=443), status='ESTABLISHED', pid=4642), sconn(fd=96, family=<AddressFamily.AF_INET: 2>, type=<SocketKind.SOCK_STREAM: 1>, laddr=addr(ip='127.0.0.1', port=59856), raddr=addr(ip='127.0.0.1', port=47129), status='ESTABLISHED', pid=4542), sconn(fd=15, family=<AddressFamily.AF_INET: 2>, type=<SocketKind.SOCK_STREAM: 1>, laddr=addr(ip='127.0.0.1', port=33185), raddr=(), status='LISTEN', pid=4981), sconn(fd=18, family=<AddressFamily.AF_INET: 2>, type=<SocketKind.SOCK_STREAM: 1>, laddr=addr(ip='127.0.0.1', port=55953), raddr=(), status='LISTEN', pid=4978), sconn(fd=48, family=<AddressFamily.AF_INET6: 10>, type=<SocketKind.SOCK_STREAM: 1>, laddr=addr(ip='2409:4052:e8d:deb:2944:6278:9f84:2141', port=34240), raddr=addr(ip='2404:6800:4003:c02::bc', port=5228), status='ESTABLISHED', pid=4642), sconn(fd=60, family=<AddressFamily.AF_INET: 2>, type=<SocketKind.SOCK_STREAM: 1>, laddr=addr(ip='192.168.1.102', port=57844), raddr=addr(ip='99.86.52.149', port=443), status='ESTABLISHED', pid=4642), sconn(fd=18, family=<AddressFamily.AF_INET: 2>, type=<SocketKind.SOCK_STREAM: 1>, laddr=addr(ip='127.0.0.1', port=57083), raddr=(), status='LISTEN', pid=25881), sconn(fd=4, family=<AddressFamily.AF_INET: 2>, type=<SocketKind.SOCK_STREAM: 1>, laddr=addr(ip='127.0.0.1', port=8888), raddr=(), status='LISTEN', pid=4542), sconn(fd=220, family=<AddressFamily.AF_INET: 2>, type=<SocketKind.SOCK_STREAM: 1>, laddr=addr(ip='127.0.0.1', port=34448), raddr=addr(ip='127.0.0.1', port=37753), status='ESTABLISHED', pid=4542), sconn(fd=106, family=<AddressFamily.AF_INET: 2>, type=<SocketKind.SOCK_STREAM: 1>, laddr=addr(ip='192.168.1.102', port=36664), raddr=addr(ip='202.58.9.210', port=443), status='ESTABLISHED', pid=4642), sconn(fd=55, family=<AddressFamily.AF_INET: 2>, type=<SocketKind.SOCK_STREAM: 1>, laddr=addr(ip='127.0.0.1', port=52037), raddr=addr(ip='127.0.0.1', port=59046), status='ESTABLISHED', pid=4975), sconn(fd=-1, family=<AddressFamily.AF_INET6: 10>, type=<SocketKind.SOCK_DGRAM: 2>, laddr=addr(ip='::', port=5353), raddr=(), status='NONE', pid=None), sconn(fd=43, family=<AddressFamily.AF_INET: 2>, type=<SocketKind.SOCK_STREAM: 1>, laddr=addr(ip='127.0.0.1', port=48205), raddr=(), status='LISTEN', pid=4972), sconn(fd=81, family=<AddressFamily.AF_INET: 2>, type=<SocketKind.SOCK_STREAM: 1>, laddr=addr(ip='127.0.0.1', port=46042), raddr=addr(ip='127.0.0.1', port=45101), status='ESTABLISHED', pid=4542), sconn(fd=48, family=<AddressFamily.AF_INET: 2>, type=<SocketKind.SOCK_STREAM: 1>, laddr=addr(ip='127.0.0.1', port=35843), raddr=addr(ip='127.0.0.1', port=53598), status='ESTABLISHED', pid=25881), sconn(fd=67, family=<AddressFamily.AF_INET: 2>, type=<SocketKind.SOCK_STREAM: 1>, laddr=addr(ip='127.0.0.1', port=59694), raddr=addr(ip='127.0.0.1', port=8888), status='ESTABLISHED', pid=4642), sconn(fd=24, family=<AddressFamily.AF_INET: 2>, type=<SocketKind.SOCK_STREAM: 1>, laddr=addr(ip='127.0.0.1', port=59121), raddr=(), status='LISTEN', pid=4972), sconn(fd=56, family=<AddressFamily.AF_INET: 2>, type=<SocketKind.SOCK_STREAM: 1>, laddr=addr(ip='127.0.0.1', port=39891), raddr=addr(ip='127.0.0.1', port=43322), status='ESTABLISHED', pid=4981), sconn(fd=68, family=<AddressFamily.AF_INET: 2>, type=<SocketKind.SOCK_STREAM: 1>, laddr=addr(ip='192.168.1.102', port=45462), raddr=addr(ip='216.58.200.163', port=443), status='ESTABLISHED', pid=4642), sconn(fd=75, family=<AddressFamily.AF_INET: 2>, type=<SocketKind.SOCK_STREAM: 1>, laddr=addr(ip='127.0.0.1', port=51858), raddr=addr(ip='127.0.0.1', port=45361), status='ESTABLISHED', pid=4542), sconn(fd=21, family=<AddressFamily.AF_INET: 2>, type=<SocketKind.SOCK_STREAM: 1>, laddr=addr(ip='127.0.0.1', port=40621), raddr=(), status='LISTEN', pid=30707), sconn(fd=55, family=<AddressFamily.AF_INET: 2>, type=<SocketKind.SOCK_STREAM: 1>, laddr=addr(ip='127.0.0.1', port=45703), raddr=addr(ip='127.0.0.1', port=39886), status='ESTABLISHED', pid=30707), sconn(fd=-1, family=<AddressFamily.AF_INET6: 10>, type=<SocketKind.SOCK_STREAM: 1>, laddr=addr(ip='2409:4052:e8d:deb:2944:6278:9f84:2141', port=37538), raddr=addr(ip='2404:6800:4002:812::200e', port=80), status='ESTABLISHED', pid=None), sconn(fd=15, family=<AddressFamily.AF_INET: 2>, type=<SocketKind.SOCK_STREAM: 1>, laddr=addr(ip='127.0.0.1', port=49317), raddr=(), status='LISTEN', pid=4975), sconn(fd=61, family=<AddressFamily.AF_INET: 2>, type=<SocketKind.SOCK_STREAM: 1>, laddr=addr(ip='192.168.1.102', port=39200), raddr=addr(ip='69.173.159.63', port=443), status='ESTABLISHED', pid=4642), sconn(fd=63, family=<AddressFamily.AF_INET6: 10>, type=<SocketKind.SOCK_STREAM: 1>, laddr=addr(ip='2409:4052:e8d:deb:2944:6278:9f84:2141', port=55236), raddr=addr(ip='2404:6800:4002:811::200e', port=443), status='ESTABLISHED', pid=4642), sconn(fd=210, family=<AddressFamily.AF_INET: 2>, type=<SocketKind.SOCK_STREAM: 1>, laddr=addr(ip='127.0.0.1', port=39878), raddr=addr(ip='127.0.0.1', port=45703), status='ESTABLISHED', pid=4542), sconn(fd=15, family=<AddressFamily.AF_INET: 2>, type=<SocketKind.SOCK_STREAM: 1>, laddr=addr(ip='127.0.0.1', port=46605), raddr=(), status='LISTEN', pid=25881), sconn(fd=218, family=<AddressFamily.AF_INET6: 10>, type=<SocketKind.SOCK_STREAM: 1>, laddr=addr(ip='2409:4052:e8d:deb:2944:6278:9f84:2141', port=53228), raddr=addr(ip='2404:6800:4002:80d::2002', port=443), status='ESTABLISHED', pid=4642), sconn(fd=21, family=<AddressFamily.AF_INET: 2>, type=<SocketKind.SOCK_STREAM: 1>, laddr=addr(ip='127.0.0.1', port=36929), raddr=(), status='LISTEN', pid=4981), sconn(fd=54, family=<AddressFamily.AF_INET: 2>, type=<SocketKind.SOCK_STREAM: 1>, laddr=addr(ip='127.0.0.1', port=57005), raddr=addr(ip='127.0.0.1', port=34584), status='ESTABLISHED', pid=4978), sconn(fd=43, family=<AddressFamily.AF_INET: 2>, type=<SocketKind.SOCK_STREAM: 1>, laddr=addr(ip='127.0.0.1', port=41067), raddr=(), status='LISTEN', pid=4975), sconn(fd=73, family=<AddressFamily.AF_INET: 2>, type=<SocketKind.SOCK_STREAM: 1>, laddr=addr(ip='192.168.1.102', port=53912), raddr=addr(ip='172.217.27.162', port=443), status='ESTABLISHED', pid=4642), sconn(fd=170, family=<AddressFamily.AF_INET: 2>, type=<SocketKind.SOCK_STREAM: 1>, laddr=addr(ip='127.0.0.1', port=49042), raddr=addr(ip='127.0.0.1', port=53697), status='ESTABLISHED', pid=4542), sconn(fd=-1, family=<AddressFamily.AF_INET6: 10>, type=<SocketKind.SOCK_STREAM: 1>, laddr=addr(ip='::1', port=631), raddr=(), status='LISTEN', pid=None), sconn(fd=73, family=<AddressFamily.AF_INET: 2>, type=<SocketKind.SOCK_STREAM: 1>, laddr=addr(ip='127.0.0.1', port=48756), raddr=addr(ip='127.0.0.1', port=36929), status='ESTABLISHED', pid=4542), sconn(fd=50, family=<AddressFamily.AF_INET: 2>, type=<SocketKind.SOCK_STREAM: 1>, laddr=addr(ip='127.0.0.1', port=33185), raddr=addr(ip='127.0.0.1', port=50314), status='ESTABLISHED', pid=4981), sconn(fd=54, family=<AddressFamily.AF_INET: 2>, type=<SocketKind.SOCK_STREAM: 1>, laddr=addr(ip='127.0.0.1', port=40621), raddr=addr(ip='127.0.0.1', port=59880), status='ESTABLISHED', pid=30707), sconn(fd=59, family=<AddressFamily.AF_INET: 2>, type=<SocketKind.SOCK_DGRAM: 2>, laddr=addr(ip='224.0.0.251', port=5353), raddr=(), status='NONE', pid=4642), sconn(fd=40, family=<AddressFamily.AF_INET: 2>, type=<SocketKind.SOCK_STREAM: 1>, laddr=addr(ip='127.0.0.1', port=60394), raddr=addr(ip='127.0.0.1', port=8888), status='ESTABLISHED', pid=4642), sconn(fd=102, family=<AddressFamily.AF_INET: 2>, type=<SocketKind.SOCK_STREAM: 1>, laddr=addr(ip='192.168.1.102', port=48750), raddr=addr(ip='35.244.159.8', port=443), status='ESTABLISHED', pid=4642), sconn(fd=218, family=<AddressFamily.AF_INET: 2>, type=<SocketKind.SOCK_STREAM: 1>, laddr=addr(ip='127.0.0.1', port=59880), raddr=addr(ip='127.0.0.1', port=40621), status='ESTABLISHED', pid=4542), sconn(fd=-1, family=<AddressFamily.AF_INET: 2>, type=<SocketKind.SOCK_DGRAM: 2>, laddr=addr(ip='0.0.0.0', port=631), raddr=(), status='NONE', pid=None), sconn(fd=157, family=<AddressFamily.AF_INET: 2>, type=<SocketKind.SOCK_DGRAM: 2>, laddr=addr(ip='224.0.0.251', port=5353), raddr=(), status='NONE', pid=4588), sconn(fd=211, family=<AddressFamily.AF_INET: 2>, type=<SocketKind.SOCK_STREAM: 1>, laddr=addr(ip='127.0.0.1', port=59876), raddr=addr(ip='127.0.0.1', port=40621), status='ESTABLISHED', pid=4542), sconn(fd=145, family=<AddressFamily.AF_INET: 2>, type=<SocketKind.SOCK_STREAM: 1>, laddr=addr(ip='127.0.0.1', port=50376), raddr=addr(ip='127.0.0.1', port=45691), status='ESTABLISHED', pid=4542), sconn(fd=15, family=<AddressFamily.AF_INET: 2>, type=<SocketKind.SOCK_STREAM: 1>, laddr=addr(ip='127.0.0.1', port=39381), raddr=(), status='LISTEN', pid=9108), sconn(fd=49, family=<AddressFamily.AF_INET: 2>, type=<SocketKind.SOCK_STREAM: 1>, laddr=addr(ip='127.0.0.1', port=45703), raddr=addr(ip='127.0.0.1', port=39878), status='ESTABLISHED', pid=30707), sconn(fd=50, family=<AddressFamily.AF_INET: 2>, type=<SocketKind.SOCK_STREAM: 1>, laddr=addr(ip='127.0.0.1', port=34963), raddr=addr(ip='127.0.0.1', port=57520), status='ESTABLISHED', pid=8616), sconn(fd=-1, family=<AddressFamily.AF_INET6: 10>, type=<SocketKind.SOCK_STREAM: 1>, laddr=addr(ip='2409:4052:e8d:deb:2944:6278:9f84:2141', port=33804), raddr=addr(ip='2600:9000:2079:f400:1a:455d:3600:21', port=443), status='ESTABLISHED', pid=None), sconn(fd=56, family=<AddressFamily.AF_INET: 2>, type=<SocketKind.SOCK_STREAM: 1>, laddr=addr(ip='127.0.0.1', port=37753), raddr=addr(ip='127.0.0.1', port=34448), status='ESTABLISHED', pid=30707), sconn(fd=30, family=<AddressFamily.AF_INET: 2>, type=<SocketKind.SOCK_STREAM: 1>, laddr=addr(ip='127.0.0.1', port=39071), raddr=(), status='LISTEN', pid=30707), sconn(fd=-1, family=<AddressFamily.AF_INET: 2>, type=<SocketKind.SOCK_STREAM: 1>, laddr=addr(ip='192.168.1.102', port=51822), raddr=addr(ip='49.44.164.17', port=443), status='TIME_WAIT', pid=None), sconn(fd=21, family=<AddressFamily.AF_INET: 2>, type=<SocketKind.SOCK_STREAM: 1>, laddr=addr(ip='127.0.0.1', port=42415), raddr=(), status='LISTEN', pid=4972), sconn(fd=30, family=<AddressFamily.AF_INET: 2>, type=<SocketKind.SOCK_STREAM: 1>, laddr=addr(ip='127.0.0.1', port=45331), raddr=(), status='LISTEN', pid=25881), sconn(fd=-1, family=<AddressFamily.AF_INET: 2>, type=<SocketKind.SOCK_STREAM: 1>, laddr=addr(ip='127.0.0.1', port=631), raddr=(), status='LISTEN', pid=None)]\n"
     ]
    }
   ],
   "source": [
    "print(psutil.net_connections()) "
   ]
  },
  {
   "cell_type": "code",
   "execution_count": 19,
   "metadata": {},
   "outputs": [
    {
     "name": "stdout",
     "output_type": "stream",
     "text": [
      "{'lo': [snicaddr(family=<AddressFamily.AF_INET: 2>, address='127.0.0.1', netmask='255.0.0.0', broadcast=None, ptp=None), snicaddr(family=<AddressFamily.AF_INET6: 10>, address='::1', netmask='ffff:ffff:ffff:ffff:ffff:ffff:ffff:ffff', broadcast=None, ptp=None), snicaddr(family=<AddressFamily.AF_PACKET: 17>, address='00:00:00:00:00:00', netmask=None, broadcast=None, ptp=None)], 'wlp3s0': [snicaddr(family=<AddressFamily.AF_INET: 2>, address='192.168.1.102', netmask='255.255.0.0', broadcast='192.168.255.255', ptp=None), snicaddr(family=<AddressFamily.AF_INET6: 10>, address='2409:4052:e8d:deb:2944:6278:9f84:2141', netmask='ffff:ffff:ffff:ffff::', broadcast=None, ptp=None), snicaddr(family=<AddressFamily.AF_INET6: 10>, address='2409:4052:e8d:deb:c6f5:3287:b973:bb5f', netmask='ffff:ffff:ffff:ffff::', broadcast=None, ptp=None), snicaddr(family=<AddressFamily.AF_INET6: 10>, address='fe80::8a9c:cc3d:9d46:a3c6%wlp3s0', netmask='ffff:ffff:ffff:ffff::', broadcast=None, ptp=None), snicaddr(family=<AddressFamily.AF_PACKET: 17>, address='f8:da:0c:50:2a:dd', netmask=None, broadcast='ff:ff:ff:ff:ff:ff', ptp=None)], 'enp2s0': [snicaddr(family=<AddressFamily.AF_PACKET: 17>, address='18:60:24:bd:1b:39', netmask=None, broadcast='ff:ff:ff:ff:ff:ff', ptp=None)]}\n"
     ]
    }
   ],
   "source": [
    "print(psutil.net_if_addrs()) "
   ]
  },
  {
   "cell_type": "code",
   "execution_count": 20,
   "metadata": {},
   "outputs": [
    {
     "name": "stdout",
     "output_type": "stream",
     "text": [
      "{'acpitz': [shwtemp(label='', current=44.0, high=226.8, critical=226.8), shwtemp(label='', current=20.0, high=None, critical=None)], 'k10temp': [shwtemp(label='', current=43.375, high=70.0, critical=100.0)], 'amdgpu': [shwtemp(label='edge', current=43.0, high=5.0, critical=5.0)]}\n"
     ]
    }
   ],
   "source": [
    "print(psutil.sensors_temperatures())"
   ]
  },
  {
   "cell_type": "code",
   "execution_count": 21,
   "metadata": {},
   "outputs": [
    {
     "name": "stdout",
     "output_type": "stream",
     "text": [
      "{}\n"
     ]
    }
   ],
   "source": [
    "print(psutil.sensors_fans())"
   ]
  },
  {
   "cell_type": "code",
   "execution_count": 26,
   "metadata": {},
   "outputs": [],
   "source": [
    "psutil.sensors_battery()"
   ]
  },
  {
   "cell_type": "code",
   "execution_count": 24,
   "metadata": {},
   "outputs": [
    {
     "data": {
      "text/plain": [
       "1595896279.0"
      ]
     },
     "execution_count": 24,
     "metadata": {},
     "output_type": "execute_result"
    }
   ],
   "source": [
    "psutil.boot_time() "
   ]
  },
  {
   "cell_type": "code",
   "execution_count": 25,
   "metadata": {},
   "outputs": [
    {
     "data": {
      "text/plain": [
       "[suser(name='keshav', terminal=':0', host='localhost', started=1595896448.0, pid=2475)]"
      ]
     },
     "execution_count": 25,
     "metadata": {},
     "output_type": "execute_result"
    }
   ],
   "source": [
    "psutil.users()"
   ]
  },
  {
   "cell_type": "code",
   "execution_count": null,
   "metadata": {},
   "outputs": [],
   "source": []
  }
 ],
 "metadata": {
  "kernelspec": {
   "display_name": "Python 3",
   "language": "python",
   "name": "python3"
  },
  "language_info": {
   "codemirror_mode": {
    "name": "ipython",
    "version": 3
   },
   "file_extension": ".py",
   "mimetype": "text/x-python",
   "name": "python",
   "nbconvert_exporter": "python",
   "pygments_lexer": "ipython3",
   "version": "3.8.2"
  }
 },
 "nbformat": 4,
 "nbformat_minor": 4
}
