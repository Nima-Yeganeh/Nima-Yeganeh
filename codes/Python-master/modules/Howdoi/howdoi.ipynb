{
 "cells": [
  {
   "cell_type": "code",
   "execution_count": 1,
   "metadata": {},
   "outputs": [
    {
     "name": "stdout",
     "output_type": "stream",
     "text": [
      "Collecting howdoi\n",
      "  Downloading howdoi-1.2.1.tar.gz (13 kB)\n",
      "Collecting appdirs\n",
      "  Downloading appdirs-1.4.4-py2.py3-none-any.whl (9.6 kB)\n",
      "Collecting cachelib\n",
      "  Downloading cachelib-0.1.1-py3-none-any.whl (13 kB)\n",
      "Requirement already satisfied: pygments in /usr/local/lib/python3.8/dist-packages (from howdoi) (2.6.1)\n",
      "Collecting pyquery\n",
      "  Downloading pyquery-1.4.1-py2.py3-none-any.whl (22 kB)\n",
      "Requirement already satisfied: requests in /usr/lib/python3/dist-packages (from howdoi) (2.22.0)\n",
      "Requirement already satisfied: lxml>=2.1 in /home/keshav/.local/lib/python3.8/site-packages (from pyquery->howdoi) (4.5.2)\n",
      "Collecting cssselect>0.7.9\n",
      "  Downloading cssselect-1.1.0-py2.py3-none-any.whl (16 kB)\n",
      "Building wheels for collected packages: howdoi\n",
      "  Building wheel for howdoi (setup.py) ... \u001b[?25ldone\n",
      "\u001b[?25h  Created wheel for howdoi: filename=howdoi-1.2.1-py3-none-any.whl size=9544 sha256=ae07f1bce36700ed7d39be91e1b39283195bb84f8ccf2c34cd7b15297451216e\n",
      "  Stored in directory: /home/keshav/.cache/pip/wheels/5b/4a/a4/505e8fadff94518a6595f9c11362657720571d4c87d06c2603\n",
      "Successfully built howdoi\n",
      "Installing collected packages: appdirs, cachelib, cssselect, pyquery, howdoi\n",
      "Successfully installed appdirs-1.4.4 cachelib-0.1.1 cssselect-1.1.0 howdoi-1.2.1 pyquery-1.4.1\n"
     ]
    }
   ],
   "source": [
    "!pip3 install howdoi"
   ]
  },
  {
   "cell_type": "markdown",
   "metadata": {},
   "source": [
    "### Usage:\n",
    "\n",
    "- howdoi QUERY\n",
    "![1](1.png)"
   ]
  },
  {
   "cell_type": "code",
   "execution_count": null,
   "metadata": {},
   "outputs": [],
   "source": []
  }
 ],
 "metadata": {
  "kernelspec": {
   "display_name": "Python 3",
   "language": "python",
   "name": "python3"
  },
  "language_info": {
   "codemirror_mode": {
    "name": "ipython",
    "version": 3
   },
   "file_extension": ".py",
   "mimetype": "text/x-python",
   "name": "python",
   "nbconvert_exporter": "python",
   "pygments_lexer": "ipython3",
   "version": "3.8.2"
  }
 },
 "nbformat": 4,
 "nbformat_minor": 4
}
