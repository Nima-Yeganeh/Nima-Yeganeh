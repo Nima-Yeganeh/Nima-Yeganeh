{
 "cells": [
  {
   "cell_type": "code",
   "execution_count": 61,
   "metadata": {},
   "outputs": [
    {
     "name": "stdout",
     "output_type": "stream",
     "text": [
      "\n"
     ]
    }
   ],
   "source": [
    "'''\n",
    "Pandas deals with the following three data structures −\n",
    "\n",
    "     1. Series     ----->  1-D\n",
    "          * Homogeneous data\n",
    "          * Size Immutable\n",
    "          * Values of Data Mutable\n",
    "     2. DataFrame  ----->  2-D\n",
    "          * Heterogeneous data\n",
    "          * Size Mutable\n",
    "          * Data Mutable\n",
    "     3. Panel      ----->  3-D\n",
    "          * Heterogeneous data\n",
    "          * Size Mutable\n",
    "          * Data Mutable\n",
    "'''\n",
    "'''\n",
    "pandas.Series( data, index, dtype, copy)\n",
    "    data   ---> data takes various forms like ndarray, list, constants\n",
    "    index  ---> index values must be unique and hashable, same length as data.\n",
    "                Default np.arrange(n) if no index is passed\n",
    "    dtype  ---> dtype is for data type. If None, data type will be inferred\n",
    "    copy   ---> Copy data. Default False\n",
    "'''"
   ]
  },
  {
   "cell_type": "code",
   "execution_count": 65,
   "metadata": {},
   "outputs": [
    {
     "name": "stdout",
     "output_type": "stream",
     "text": [
      "\n"
     ]
    }
   ],
   "source": [
    "'''>>>>>>>>> 1.Series <<<<<<<<<<<\n",
    "A series can be created using various inputs like −\n",
    "\n",
    "       * Array\n",
    "       * Dict \n",
    "       * Scalar value or constant\n",
    "'''"
   ]
  },
  {
   "cell_type": "code",
   "execution_count": 2,
   "metadata": {},
   "outputs": [
    {
     "data": {
      "text/plain": [
       "Series([], dtype: float64)"
      ]
     },
     "execution_count": 2,
     "metadata": {},
     "output_type": "execute_result"
    }
   ],
   "source": [
    "#Create an Empty Series\n",
    "import pandas as pd\n",
    "pd.Series()"
   ]
  },
  {
   "cell_type": "code",
   "execution_count": 37,
   "metadata": {},
   "outputs": [
    {
     "name": "stdout",
     "output_type": "stream",
     "text": [
      "a    1\n",
      "b    2\n",
      "c    3\n",
      "d    4\n",
      "e    5\n",
      "dtype: int64\n"
     ]
    },
    {
     "data": {
      "text/plain": [
       "'x=np.array([\"k\",\"fr\"])\\npd.Series(x,index=[\"a\",\"b\"])'"
      ]
     },
     "execution_count": 37,
     "metadata": {},
     "output_type": "execute_result"
    }
   ],
   "source": [
    "#Create a Series from ndarray\n",
    "import numpy as np\n",
    "x=np.array([1,2,3,4,5])\n",
    "y=pd.Series(x,index=['a','b','c','d','e'],dtype=int,copy=True)\n",
    "print(y)\n",
    "'''x=np.array([\"k\",\"fr\"])\n",
    "pd.Series(x,index=[\"a\",\"b\",\"c\"])  --->generate error'''"
   ]
  },
  {
   "cell_type": "code",
   "execution_count": 39,
   "metadata": {},
   "outputs": [
    {
     "name": "stdout",
     "output_type": "stream",
     "text": [
      "A      keshav\n",
      "B       priya\n",
      "C     pradeep\n",
      "D    gulkando\n",
      "dtype: object\n"
     ]
    }
   ],
   "source": [
    "#Create a Series from dict\n",
    "x={'A':'keshav','B':'priya','C':'pradeep','D':'gulkando'}\n",
    "y=pd.Series(x)\n",
    "print(y)"
   ]
  },
  {
   "cell_type": "code",
   "execution_count": 40,
   "metadata": {},
   "outputs": [
    {
     "name": "stdout",
     "output_type": "stream",
     "text": [
      "B       priya\n",
      "A      keshav\n",
      "D    gulkando\n",
      "C     pradeep\n",
      "E         NaN\n",
      "dtype: object\n"
     ]
    }
   ],
   "source": [
    "y=pd.Series(x,index=['B','A','D','C','E'])\n",
    "print(y)"
   ]
  },
  {
   "cell_type": "code",
   "execution_count": 43,
   "metadata": {},
   "outputs": [
    {
     "name": "stdout",
     "output_type": "stream",
     "text": [
      "a    2\n",
      "b    2\n",
      "c    2\n",
      "d    2\n",
      "dtype: int64\n"
     ]
    }
   ],
   "source": [
    "#Create a Series from Scalar\n",
    "n=pd.Series(2,index=['a','b','c','d'])\n",
    "print(n)"
   ]
  },
  {
   "cell_type": "code",
   "execution_count": 66,
   "metadata": {},
   "outputs": [
    {
     "name": "stdout",
     "output_type": "stream",
     "text": [
      "n['a']-> 2\n",
      "n[0]  -> 2\n",
      "a    2\n",
      "b    2\n",
      "c    2\n",
      "dtype: int64\n",
      "a    2\n",
      "c    2\n",
      "dtype: int64\n"
     ]
    }
   ],
   "source": [
    "#retriveing data\n",
    "print(\"n['a']->\",n['a']) #by label\n",
    "print(\"n[0]  ->\",n[0])   #by index\n",
    "print(n[:3])             #by slicing\n",
    "print(n[['a','c']])     #multiple retrieving by label\n",
    "#print(n['h'])           #If a label is not contained, an exception is raised"
   ]
  }
 ],
 "metadata": {
  "kernelspec": {
   "display_name": "Python 3",
   "language": "python",
   "name": "python3"
  },
  "language_info": {
   "codemirror_mode": {
    "name": "ipython",
    "version": 3
   },
   "file_extension": ".py",
   "mimetype": "text/x-python",
   "name": "python",
   "nbconvert_exporter": "python",
   "pygments_lexer": "ipython3",
   "version": "3.6.8"
  }
 },
 "nbformat": 4,
 "nbformat_minor": 2
}
