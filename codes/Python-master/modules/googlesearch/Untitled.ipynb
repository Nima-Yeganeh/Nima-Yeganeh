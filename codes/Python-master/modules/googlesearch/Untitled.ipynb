{
 "cells": [
  {
   "cell_type": "code",
   "execution_count": 1,
   "metadata": {},
   "outputs": [
    {
     "ename": "ModuleNotFoundError",
     "evalue": "No module named 'googlesearch'",
     "output_type": "error",
     "traceback": [
      "\u001b[0;31m---------------------------------------------------------------------------\u001b[0m",
      "\u001b[0;31mModuleNotFoundError\u001b[0m                       Traceback (most recent call last)",
      "\u001b[0;32m<ipython-input-1-76365aa14d9f>\u001b[0m in \u001b[0;36m<module>\u001b[0;34m\u001b[0m\n\u001b[0;32m----> 1\u001b[0;31m \u001b[0;32mfrom\u001b[0m \u001b[0mgooglesearch\u001b[0m \u001b[0;32mimport\u001b[0m \u001b[0msearch\u001b[0m\u001b[0;34m\u001b[0m\u001b[0;34m\u001b[0m\u001b[0m\n\u001b[0m",
      "\u001b[0;31mModuleNotFoundError\u001b[0m: No module named 'googlesearch'"
     ]
    }
   ],
   "source": [
    "from googlesearch import search"
   ]
  },
  {
   "cell_type": "code",
   "execution_count": 3,
   "metadata": {},
   "outputs": [
    {
     "name": "stdout",
     "output_type": "stream",
     "text": [
      "Collecting google-search\n",
      "  Downloading google-search-1.0.2.tar.gz (13 kB)\n",
      "Collecting beautifulsoup4\n",
      "  Downloading beautifulsoup4-4.9.1-py3-none-any.whl (115 kB)\n",
      "\u001b[K     |████████████████████████████████| 115 kB 246 kB/s eta 0:00:01\n",
      "\u001b[?25hCollecting lxml\n",
      "  Downloading lxml-4.5.2-cp38-cp38-manylinux1_x86_64.whl (5.4 MB)\n",
      "\u001b[K     |████████████████████████████████| 5.4 MB 610 kB/s eta 0:00:01\n",
      "\u001b[?25hCollecting soupsieve>1.2\n",
      "  Downloading soupsieve-2.0.1-py3-none-any.whl (32 kB)\n",
      "Building wheels for collected packages: google-search\n",
      "  Building wheel for google-search (setup.py) ... \u001b[?25ldone\n",
      "\u001b[?25h  Created wheel for google-search: filename=google_search-1.0.2-py2.py3-none-any.whl size=5062 sha256=f51219ad8450c00a4bc80748d18568947c9b243adac9993bfc70d55d4884babb\n",
      "  Stored in directory: /home/keshav/.cache/pip/wheels/0b/38/f0/16f1a366afddf32054ef69d69d4cfa6b5c40477e81a1332aca\n",
      "Successfully built google-search\n",
      "Installing collected packages: soupsieve, beautifulsoup4, lxml, google-search\n",
      "Successfully installed beautifulsoup4-4.9.1 google-search-1.0.2 lxml-4.5.2 soupsieve-2.0.1\n"
     ]
    }
   ],
   "source": [
    "!pip3 install google-search"
   ]
  },
  {
   "cell_type": "code",
   "execution_count": 1,
   "metadata": {},
   "outputs": [],
   "source": [
    "from googlesearch import search"
   ]
  },
  {
   "cell_type": "code",
   "execution_count": 7,
   "metadata": {},
   "outputs": [
    {
     "name": "stdout",
     "output_type": "stream",
     "text": [
      "Requirement already satisfied: beautifulsoup4 in /home/keshav/.local/lib/python3.8/site-packages (4.9.1)\n",
      "Requirement already satisfied: soupsieve>1.2 in /home/keshav/.local/lib/python3.8/site-packages (from beautifulsoup4) (2.0.1)\n"
     ]
    }
   ],
   "source": [
    "!pip3 install beautifulsoup4"
   ]
  },
  {
   "cell_type": "code",
   "execution_count": 8,
   "metadata": {},
   "outputs": [
    {
     "name": "stdout",
     "output_type": "stream",
     "text": [
      "Collecting google\n",
      "  Downloading google-3.0.0-py2.py3-none-any.whl (45 kB)\n",
      "\u001b[K     |████████████████████████████████| 45 kB 116 kB/s eta 0:00:01\n",
      "\u001b[?25hRequirement already satisfied: beautifulsoup4 in /home/keshav/.local/lib/python3.8/site-packages (from google) (4.9.1)\n",
      "Requirement already satisfied: soupsieve>1.2 in /home/keshav/.local/lib/python3.8/site-packages (from beautifulsoup4->google) (2.0.1)\n",
      "Installing collected packages: google\n",
      "Successfully installed google-3.0.0\n"
     ]
    }
   ],
   "source": [
    "!pip3 install google"
   ]
  },
  {
   "cell_type": "code",
   "execution_count": 8,
   "metadata": {},
   "outputs": [
    {
     "name": "stdout",
     "output_type": "stream",
     "text": [
      "https://github.com/keshavsingh4522\n",
      "https://github.com/keshavsingh4522/Python\n",
      "https://www.goeduhub.com/user/keshavsingh4522\n",
      "https://www.goeduhub.com/user/keshavsingh4522/activity\n",
      "https://in.linkedin.com/in/keshavsingh4522\n",
      "https://twitter.com/keshavsingh4522?lang=en\n",
      "https://sourcerer.io/keshavsingh4522\n",
      "https://devpost.com/keshavsingh4522\n",
      "https://www.facebook.com/keshavsingh4522\n",
      "https://medium.com/@keshavsingh4522\n"
     ]
    }
   ],
   "source": [
    "from googlesearch import search\n",
    "query='keshavsingh4522'\n",
    "for i in search(query, tld=\"co.in\", num=10, stop=10, pause=2): \n",
    "    print(i)"
   ]
  },
  {
   "cell_type": "code",
   "execution_count": null,
   "metadata": {},
   "outputs": [],
   "source": []
  }
 ],
 "metadata": {
  "kernelspec": {
   "display_name": "Python 3",
   "language": "python",
   "name": "python3"
  },
  "language_info": {
   "codemirror_mode": {
    "name": "ipython",
    "version": 3
   },
   "file_extension": ".py",
   "mimetype": "text/x-python",
   "name": "python",
   "nbconvert_exporter": "python",
   "pygments_lexer": "ipython3",
   "version": "3.8.2"
  }
 },
 "nbformat": 4,
 "nbformat_minor": 4
}
