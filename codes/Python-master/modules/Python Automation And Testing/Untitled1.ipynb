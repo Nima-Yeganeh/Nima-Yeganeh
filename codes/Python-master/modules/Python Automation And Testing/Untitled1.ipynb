{
 "cells": [
  {
   "cell_type": "code",
   "execution_count": 1,
   "metadata": {},
   "outputs": [],
   "source": [
    "#Challenge\n",
    "from selenium import webdriver\n",
    "driver=webdriver.Chrome()\n",
    "driver.get('http://python.org')\n",
    "k=driver.find_element_by_name('q')\n",
    "driver.close()"
   ]
  },
  {
   "cell_type": "code",
   "execution_count": 12,
   "metadata": {},
   "outputs": [],
   "source": [
    "#signup on datacamp\n",
    "from selenium import webdriver\n",
    "from selenium.webdriver.common.keys import Keys\n",
    "from selenium.webdriver.support.ui import Select\n",
    "import time\n",
    "driver=webdriver.Chrome()\n",
    "driver.get('https://www.datacamp.com/users/sign_in')\n",
    "\n",
    "# email fill\n",
    "email=driver.find_element_by_id('user_email')\n",
    "email.clear()\n",
    "email.send_keys('keshavsingh.cse21@jecrc.ac.in')\n",
    "email.send_keys(Keys.RETURN)\n",
    "#password fill\n",
    "password=driver.find_element_by_class_name('dc-account-modal__password-input')\n",
    "password.send_keys('-----------')\n",
    "# it work as submit btn or onsubmit\n",
    "password.send_keys(Keys.RETURN)\n",
    "# #submit btn\n",
    "# submit_btn=driver.find_element_by_value('Sign In')\n",
    "# submit_btn.submit()\n",
    "\n",
    "# next_btn=driver.find_element_by_class_name('dc-account-modal__next-btn')\n",
    "time.sleep(15)\n",
    "driver.close()"
   ]
  },
  {
   "cell_type": "code",
   "execution_count": null,
   "metadata": {},
   "outputs": [],
   "source": []
  }
 ],
 "metadata": {
  "kernelspec": {
   "display_name": "Python 3",
   "language": "python",
   "name": "python3"
  },
  "language_info": {
   "codemirror_mode": {
    "name": "ipython",
    "version": 3
   },
   "file_extension": ".py",
   "mimetype": "text/x-python",
   "name": "python",
   "nbconvert_exporter": "python",
   "pygments_lexer": "ipython3",
   "version": "3.7.5"
  }
 },
 "nbformat": 4,
 "nbformat_minor": 2
}
