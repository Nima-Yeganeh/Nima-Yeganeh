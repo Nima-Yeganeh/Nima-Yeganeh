{
 "cells": [
  {
   "cell_type": "code",
   "execution_count": 5,
   "metadata": {},
   "outputs": [],
   "source": [
    "#1 open and close selenium browser\n",
    "from selenium import webdriver;\n",
    "import time\n",
    "browser= webdriver.Chrome();\n",
    "browser.get('http://www.seleniumhq.org');\n",
    "time.sleep(10)\n",
    "browser.close()"
   ]
  },
  {
   "cell_type": "code",
   "execution_count": 6,
   "metadata": {},
   "outputs": [
    {
     "name": "stdout",
     "output_type": "stream",
     "text": [
      "<selenium.webdriver.remote.webelement.WebElement (session=\"7ce2bf6b01ea748a327b4a03dd784655\", element=\"5c1ec919-d896-401c-93a8-68ee7e2c5c14\")>\n"
     ]
    }
   ],
   "source": [
    "#2 locating element by id\n",
    "from selenium import webdriver;\n",
    "import time\n",
    "browser= webdriver.Chrome();\n",
    "browser.get('https://keshavsingh.ml');\n",
    "id=browser.find_element_by_id('pricing')\n",
    "print(id)\n",
    "browser.close()"
   ]
  },
  {
   "cell_type": "code",
   "execution_count": 7,
   "metadata": {},
   "outputs": [
    {
     "name": "stdout",
     "output_type": "stream",
     "text": [
      "<selenium.webdriver.remote.webelement.WebElement (session=\"e2933d276708d68e4aac4ec9ef7fdfd0\", element=\"9006cc26-5125-46c3-8574-096b23594ce9\")>\n"
     ]
    }
   ],
   "source": [
    "#3 locating element by Name\n",
    "from selenium import webdriver;\n",
    "import time\n",
    "browser= webdriver.Chrome();\n",
    "browser.get('https://keshavsingh.ml');\n",
    "name=browser.find_element_by_name('username')\n",
    "print(name)\n",
    "browser.close()"
   ]
  },
  {
   "cell_type": "code",
   "execution_count": 20,
   "metadata": {},
   "outputs": [
    {
     "name": "stdout",
     "output_type": "stream",
     "text": [
      "<selenium.webdriver.remote.webelement.WebElement (session=\"3189b4dfdd785e8d516ff0a23ef12b47\", element=\"8df0059a-ad7c-4b3e-86ae-2f31d0f8eaff\")>\n"
     ]
    }
   ],
   "source": [
    "#4 locating element by Xpath by absolute path\n",
    "from selenium import webdriver;\n",
    "import time\n",
    "browser= webdriver.Chrome();\n",
    "browser.get('https://keshavsingh.ml');\n",
    "xpath_abs=browser.find_element_by_xpath('//form[1]/div[@class=\"form-group\"]')\n",
    "print(xpath_abs)\n",
    "browser.close()"
   ]
  },
  {
   "cell_type": "code",
   "execution_count": 21,
   "metadata": {},
   "outputs": [
    {
     "name": "stdout",
     "output_type": "stream",
     "text": [
      "<selenium.webdriver.remote.webelement.WebElement (session=\"0bc581d1b5c621426f7a1c9f5ee4020a\", element=\"c77907b0-bb38-4ea2-b1ff-fdcfdb3d130b\")>\n"
     ]
    }
   ],
   "source": [
    "#5 locating element by Xpath by relative path\n",
    "from selenium import webdriver;\n",
    "import time\n",
    "browser= webdriver.Chrome();\n",
    "browser.get('https://keshavsingh.ml');\n",
    "xpath_rel=browser.find_element_by_xpath('/html/body/div[@id=\"home\"]')\n",
    "print(xpath_rel)\n",
    "browser.close()"
   ]
  },
  {
   "cell_type": "code",
   "execution_count": 19,
   "metadata": {},
   "outputs": [
    {
     "name": "stdout",
     "output_type": "stream",
     "text": [
      "<selenium.webdriver.remote.webelement.WebElement (session=\"ea07fb9706e98b03183d8acf73c5029e\", element=\"bb1b10d3-1414-4ffb-ae8e-95c0edac3fad\")>\n"
     ]
    }
   ],
   "source": [
    "#6 locating element by Class name\n",
    "from selenium import webdriver;\n",
    "import time\n",
    "browser= webdriver.Chrome();\n",
    "browser.get('https://keshavsingh.ml');\n",
    "class_name=browser.find_element_by_class_name('logo')\n",
    "print(class_name)\n",
    "browser.close()"
   ]
  },
  {
   "cell_type": "code",
   "execution_count": 8,
   "metadata": {},
   "outputs": [],
   "source": [
    "#page interaction-->searching keys in search field\n",
    "from selenium import webdriver\n",
    "from selenium.webdriver.common.keys import Keys\n",
    "import time\n",
    "driver=webdriver.Chrome()\n",
    "driver.get('http://python.org')\n",
    "search=driver.find_element_by_name('q')\n",
    "search.clear()\n",
    "search.send_keys('python')\n",
    "search.send_keys(Keys.RETURN)\n",
    "time.sleep(5)\n",
    "driver.close()"
   ]
  },
  {
   "cell_type": "code",
   "execution_count": 3,
   "metadata": {},
   "outputs": [
    {
     "name": "stdout",
     "output_type": "stream",
     "text": [
      "[<selenium.webdriver.remote.webelement.WebElement (session=\"a340f046025251801bb7ab07bf6e9f24\", element=\"7dae7a55-3648-4def-b35a-4cf85512ef9b\")>, <selenium.webdriver.remote.webelement.WebElement (session=\"a340f046025251801bb7ab07bf6e9f24\", element=\"ff4dc6a6-eca2-48a3-8d6a-7f94e3f975c9\")>, <selenium.webdriver.remote.webelement.WebElement (session=\"a340f046025251801bb7ab07bf6e9f24\", element=\"a1ab2f5b-0935-4071-bf13-2fe6ef2931fa\")>, <selenium.webdriver.remote.webelement.WebElement (session=\"a340f046025251801bb7ab07bf6e9f24\", element=\"c303231c-1f41-493f-8b0a-cbb864dd3a72\")>, <selenium.webdriver.remote.webelement.WebElement (session=\"a340f046025251801bb7ab07bf6e9f24\", element=\"08fd8cdd-ef5a-4f27-b0f3-e1ec6686f274\")>, <selenium.webdriver.remote.webelement.WebElement (session=\"a340f046025251801bb7ab07bf6e9f24\", element=\"0505bd11-3012-4390-9133-40a16197edb7\")>]\n"
     ]
    }
   ],
   "source": [
    "#filling forms\n",
    "from selenium import webdriver\n",
    "from selenium.webdriver.support.ui import Select\n",
    "import time\n",
    "driver=webdriver.Chrome()\n",
    "driver.get('file:///media/keshav/e80c8b15-9648-43b9-b642-016f164e37a3/E/download/programming/college_work_2/python/Linkedin/Data%20Analytics/Ex_Files_Python_Automation_Testing/Exercise%20Files/CH03/03_02/html_code_03_02.html')\n",
    "select=Select(driver.find_element_by_name('numReturnSelect'))\n",
    "\n",
    "#by index\n",
    "select.select_by_index(5)\n",
    "time.sleep(2)\n",
    "\n",
    "#by visible text\n",
    "select.select_by_visible_text('15000')\n",
    "time.sleep(2)\n",
    "\n",
    "#by value\n",
    "select.select_by_value('800')\n",
    "time.sleep(2)\n",
    "\n",
    "\n",
    "option=select.options\n",
    "print(option)\n",
    "\n",
    "# submit btn\n",
    "submit_btn=driver.find_element_by_name('continue')\n",
    "submit_btn.submit()\n",
    "time.sleep(2)\n",
    "\n",
    "driver.close()"
   ]
  },
  {
   "cell_type": "code",
   "execution_count": 4,
   "metadata": {},
   "outputs": [
    {
     "name": "stderr",
     "output_type": "stream",
     "text": [
      "/usr/lib/python3/dist-packages/ipykernel_launcher.py:7: DeprecationWarning: use driver.switch_to.frame instead\n",
      "  import sys\n"
     ]
    }
   ],
   "source": [
    "#drag and drop\n",
    "from selenium import webdriver\n",
    "from selenium.webdriver import ActionChains\n",
    "import time\n",
    "driver=webdriver.Chrome()\n",
    "driver.get('http://jqueryui.com/droppable/')\n",
    "\n",
    "driver.switch_to_frame(0)\n",
    "action_chains=ActionChains(driver)\n",
    "\n",
    "source=driver.find_element_by_id('draggable')\n",
    "target=driver.find_element_by_id('droppable')\n",
    "\n",
    "action_chains.drag_and_drop_by_offset(source,100,100).perform()\n",
    "time.sleep(2)\n",
    "action_chains.drag_and_drop(source,target).perform()\n",
    "time.sleep(2)\n",
    "\n",
    "driver.close()"
   ]
  },
  {
   "cell_type": "code",
   "execution_count": 8,
   "metadata": {},
   "outputs": [
    {
     "name": "stdout",
     "output_type": "stream",
     "text": [
      "Message: \n",
      "\n"
     ]
    }
   ],
   "source": [
    "'''\n",
    "Waits(AJAX) \n",
    "    1.explicit waits\n",
    "    2.implicit waits\n",
    "''' \n",
    "#explicit waits\n",
    "from selenium import webdriver\n",
    "from selenium.webdriver.support import expected_conditions as EC\n",
    "from selenium.webdriver.support.ui import WebDriverWait\n",
    "from selenium.webdriver.common.by import By\n",
    "driver=webdriver.Chrome()\n",
    "driver.get('http://jqueryui.com/droppable/')\n",
    "# driver.find_element_by_id('droppable')\n",
    "try:\n",
    "    element=WebDriverWait(driver,10).until(EC.presence_of_element_located((By.ID,\"droppable\")))\n",
    "except Exception as e:\n",
    "    print(e)\n",
    "finally:\n",
    "    driver.quit()"
   ]
  },
  {
   "cell_type": "code",
   "execution_count": 10,
   "metadata": {},
   "outputs": [],
   "source": [
    "# implicit\n",
    "from selenium import webdriver\n",
    "driver=webdriver.Chrome()\n",
    "driver.implicitly_wait(10)\n",
    "driver.get('http://jqueryui.com/droppable')\n",
    "\n",
    "driver.close()"
   ]
  },
  {
   "cell_type": "code",
   "execution_count": null,
   "metadata": {},
   "outputs": [],
   "source": []
  }
 ],
 "metadata": {
  "kernelspec": {
   "display_name": "Python 3",
   "language": "python",
   "name": "python3"
  },
  "language_info": {
   "codemirror_mode": {
    "name": "ipython",
    "version": 3
   },
   "file_extension": ".py",
   "mimetype": "text/x-python",
   "name": "python",
   "nbconvert_exporter": "python",
   "pygments_lexer": "ipython3",
   "version": "3.7.5"
  }
 },
 "nbformat": 4,
 "nbformat_minor": 2
}
