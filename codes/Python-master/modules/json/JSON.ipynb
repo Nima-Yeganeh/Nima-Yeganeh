{
 "cells": [
  {
   "cell_type": "code",
   "execution_count": 13,
   "metadata": {},
   "outputs": [
    {
     "name": "stdout",
     "output_type": "stream",
     "text": [
      "before converting to json\n",
      "(1, 2, 4)\n",
      "<class 'tuple'>\n",
      "after converting to json\n",
      "[1, 2, 4]\n",
      "<class 'str'>\n",
      "from json to convert in actual data\n",
      "[1, 2, 4]\n",
      "<class 'list'>\n"
     ]
    }
   ],
   "source": [
    "# tuple---list\n",
    "import json\n",
    "x=(1,2,4)\n",
    "print('before converting to json')\n",
    "print(x)\n",
    "print(type(x))\n",
    "s=json.dumps(x)\n",
    "print('after converting to json')\n",
    "print(s)\n",
    "print(type(s))\n",
    "s1=json.loads(s)\n",
    "print('from json to convert in actual data')\n",
    "print(s1)\n",
    "print(type(s1))"
   ]
  },
  {
   "cell_type": "code",
   "execution_count": 15,
   "metadata": {},
   "outputs": [
    {
     "name": "stdout",
     "output_type": "stream",
     "text": [
      "before converting to json\n",
      "{1: 'a', 2: 'b', 4: 'c'}\n",
      "<class 'dict'>\n",
      "after converting to json\n",
      "{\"1\": \"a\", \"2\": \"b\", \"4\": \"c\"}\n",
      "<class 'str'>\n",
      "from json to convert in actual data\n",
      "{'1': 'a', '2': 'b', '4': 'c'}\n",
      "<class 'dict'>\n"
     ]
    }
   ],
   "source": [
    "# dict--dict\n",
    "x={1:'a',2:'b',4:'c'}\n",
    "print('before converting to json')\n",
    "print(x)\n",
    "print(type(x))\n",
    "s=json.dumps(x)\n",
    "print('after converting to json')\n",
    "print(s)\n",
    "print(type(s))\n",
    "s1=json.loads(s)\n",
    "print('from json to convert in actual data')\n",
    "print(s1)\n",
    "print(type(s1))"
   ]
  },
  {
   "cell_type": "code",
   "execution_count": 16,
   "metadata": {},
   "outputs": [
    {
     "name": "stdout",
     "output_type": "stream",
     "text": [
      "before converting to json\n",
      "ssdsss\n",
      "<class 'str'>\n",
      "after converting to json\n",
      "\"ssdsss\"\n",
      "<class 'str'>\n",
      "from json to convert in actual data\n",
      "ssdsss\n",
      "<class 'str'>\n"
     ]
    }
   ],
   "source": [
    "# str--str\n",
    "x='ssdsss'\n",
    "print('before converting to json')\n",
    "print(x)\n",
    "print(type(x))\n",
    "s=json.dumps(x)\n",
    "print('after converting to json')\n",
    "print(s)\n",
    "print(type(s))\n",
    "s1=json.loads(s)\n",
    "print('from json to convert in actual data')\n",
    "print(s1)\n",
    "print(type(s1))"
   ]
  },
  {
   "cell_type": "code",
   "execution_count": null,
   "metadata": {},
   "outputs": [],
   "source": [
    "'''\n",
    "Python  \t  JSON(JavaScript)\n",
    "dict    \t  Object\n",
    "list    \t  Array\n",
    "tuple   \t  Array\n",
    "str     \t  String\n",
    "int     \t  Number\n",
    "float   \t  Number\n",
    "True    \t  true\n",
    "False   \t  false\n",
    "None    \t  null\n",
    "'''"
   ]
  },
  {
   "cell_type": "code",
   "execution_count": 40,
   "metadata": {},
   "outputs": [
    {
     "name": "stdout",
     "output_type": "stream",
     "text": [
      "{\n",
      "     \"age\"=30.\n",
      "     \"cars\"=[\n",
      "          {\n",
      "               \"model\"=\"BMW 230\".\n",
      "               \"mpg\"=27.5\n",
      "          }.\n",
      "          {\n",
      "               \"model\"=\"Ford Edge\".\n",
      "               \"mpg\"=24.1\n",
      "          }\n",
      "     ].\n",
      "     \"children\"=[\n",
      "          \"Ann\".\n",
      "          \"Billy\"\n",
      "     ].\n",
      "     \"divorced\"=false.\n",
      "     \"married\"=true.\n",
      "     \"name\"=\"John\".\n",
      "     \"pets\"=null\n",
      "}\n"
     ]
    }
   ],
   "source": [
    "x = {\n",
    "  \"name\": \"John\",\n",
    "  \"age\": 30,\n",
    "  \"married\": True,\n",
    "  \"divorced\": False,\n",
    "  \"children\": (\"Ann\",\"Billy\"),\n",
    "  \"pets\": None,\n",
    "  \"cars\": [\n",
    "    {\"model\": \"BMW 230\", \"mpg\": 27.5},\n",
    "    {\"model\": \"Ford Edge\", \"mpg\": 24.1}\n",
    "  ]\n",
    "}\n",
    "s=json.dumps(x,indent=5,separators=(\".\",\"=\"),sort_keys=True)\n",
    "# s1=json.loads(s)\n",
    "print(s)"
   ]
  },
  {
   "cell_type": "code",
   "execution_count": 41,
   "metadata": {},
   "outputs": [],
   "source": [
    "data = {}\n",
    "data['people'] = []\n",
    "data['people'].append({\n",
    "    'name': 'Scott',\n",
    "    'website': 'stackabuse.com',\n",
    "    'from': 'Nebraska'\n",
    "})\n",
    "data['people'].append({\n",
    "    'name': 'Larry',\n",
    "    'website': 'google.com',\n",
    "    'from': 'Michigan'\n",
    "})\n",
    "data['people'].append({\n",
    "    'name': 'Tim',\n",
    "    'website': 'apple.com',\n",
    "    'from': 'Alabama'\n",
    "})"
   ]
  },
  {
   "cell_type": "code",
   "execution_count": 52,
   "metadata": {},
   "outputs": [
    {
     "name": "stdout",
     "output_type": "stream",
     "text": [
      "{\n",
      "  \"people\"======[\n",
      "    {\n",
      "      \"from\"======\"Nebraska\"......\n",
      "      \"name\"======\"Scott\"......\n",
      "      \"website\"======\"stackabuse.com\"\n",
      "    }......\n",
      "    {\n",
      "      \"from\"======\"Michigan\"......\n",
      "      \"name\"======\"Larry\"......\n",
      "      \"website\"======\"google.com\"\n",
      "    }......\n",
      "    {\n",
      "      \"from\"======\"Alabama\"......\n",
      "      \"name\"======\"Tim\"......\n",
      "      \"website\"======\"apple.com\"\n",
      "    }\n",
      "  ]\n",
      "}\n"
     ]
    }
   ],
   "source": [
    "print(json.dumps(data,indent=2,sort_keys=True,separators=(\"......\",\"======\")))"
   ]
  },
  {
   "cell_type": "code",
   "execution_count": 56,
   "metadata": {},
   "outputs": [],
   "source": [
    "# writing in json file\n",
    "with open('data.json','w') as file:\n",
    "    json.dump(data,file,indent=4)"
   ]
  },
  {
   "cell_type": "code",
   "execution_count": 4,
   "metadata": {},
   "outputs": [
    {
     "name": "stdout",
     "output_type": "stream",
     "text": [
      "{'people': [{'name': 'Scott', 'website': 'stackabuse.com', 'from': 'Nebraska'}, {'name': 'Larry', 'website': 'google.com', 'from': 'Michigan'}, {'name': 'Tim', 'website': 'apple.com', 'from': 'Alabama'}]}\n",
      "<class 'dict'>\n"
     ]
    }
   ],
   "source": [
    "# reading from json file\n",
    "import json\n",
    "with open('data.json','r') as file:\n",
    "    data=json.load(file)\n",
    "    print(data)\n",
    "    print(type(data))"
   ]
  },
  {
   "cell_type": "code",
   "execution_count": 15,
   "metadata": {},
   "outputs": [
    {
     "name": "stdout",
     "output_type": "stream",
     "text": [
      "(5+7j)\n",
      "Object of type complex is not JSON serializable\n"
     ]
    }
   ],
   "source": [
    "# complex object --- cannot convert in json format\n",
    "i1=2+3j\n",
    "i2=3+4j\n",
    "print(i1+i2)\n",
    "try:\n",
    "    c=json.dumps(i2)\n",
    "    # print(c)\n",
    "except Exception as e:\n",
    "    print(e)\n",
    "else:\n",
    "    pass"
   ]
  },
  {
   "cell_type": "code",
   "execution_count": 28,
   "metadata": {},
   "outputs": [
    {
     "name": "stdout",
     "output_type": "stream",
     "text": [
      "[2.0, 4.0]\n"
     ]
    }
   ],
   "source": [
    "k=2+4j\n",
    "def complex_encode(object):\n",
    "    if isinstance(object,complex):\n",
    "        return [object.real,object.imag]\n",
    "c=json.dumps(k,default=complex_encode)\n",
    "print(c)"
   ]
  },
  {
   "cell_type": "code",
   "execution_count": null,
   "metadata": {},
   "outputs": [],
   "source": []
  }
 ],
 "metadata": {
  "kernelspec": {
   "display_name": "Python 3",
   "language": "python",
   "name": "python3"
  },
  "language_info": {
   "codemirror_mode": {
    "name": "ipython",
    "version": 3
   },
   "file_extension": ".py",
   "mimetype": "text/x-python",
   "name": "python",
   "nbconvert_exporter": "python",
   "pygments_lexer": "ipython3",
   "version": "3.7.3"
  }
 },
 "nbformat": 4,
 "nbformat_minor": 2
}
