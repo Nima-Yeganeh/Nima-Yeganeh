{
 "cells": [
  {
   "cell_type": "code",
   "execution_count": 1,
   "metadata": {},
   "outputs": [],
   "source": [
    "# collection module\n",
    "'''\n",
    "specialised collections\n",
    "1.namedtuple\n",
    "2.ChainMap\n",
    "3.deque\n",
    "4.Counter\n",
    "5.OrdewredDict\n",
    "6.DefaultDict\n",
    "7.UserDict\n",
    "8.UserList\n",
    "9.UserString\n",
    "'''\n",
    "import collections as c"
   ]
  },
  {
   "cell_type": "code",
   "execution_count": 2,
   "metadata": {},
   "outputs": [],
   "source": [
    "#2.ChainMap()\n",
    "'''\n",
    "1.maps\n",
    "2.keys()\n",
    "3.values()\n",
    "4.new_child()\n",
    "5.reversed()\n",
    "'''\n",
    "dict1={'a':1,'b':2}\n",
    "dict2={'b':3,'d':4}"
   ]
  },
  {
   "cell_type": "code",
   "execution_count": 3,
   "metadata": {},
   "outputs": [],
   "source": [
    "chain=c.ChainMap(dict1,dict2)"
   ]
  },
  {
   "cell_type": "code",
   "execution_count": 4,
   "metadata": {},
   "outputs": [
    {
     "data": {
      "text/plain": [
       "ChainMap({'a': 1, 'b': 2}, {'b': 3, 'd': 4})"
      ]
     },
     "execution_count": 4,
     "metadata": {},
     "output_type": "execute_result"
    }
   ],
   "source": [
    "chain"
   ]
  },
  {
   "cell_type": "code",
   "execution_count": 5,
   "metadata": {},
   "outputs": [
    {
     "data": {
      "text/plain": [
       "[{'a': 1, 'b': 2}, {'b': 3, 'd': 4}]"
      ]
     },
     "execution_count": 5,
     "metadata": {},
     "output_type": "execute_result"
    }
   ],
   "source": [
    "chain.maps"
   ]
  },
  {
   "cell_type": "code",
   "execution_count": 6,
   "metadata": {},
   "outputs": [
    {
     "data": {
      "text/plain": [
       "KeysView(ChainMap({'a': 1, 'b': 2}, {'b': 3, 'd': 4}))"
      ]
     },
     "execution_count": 6,
     "metadata": {},
     "output_type": "execute_result"
    }
   ],
   "source": [
    "chain.keys()"
   ]
  },
  {
   "cell_type": "code",
   "execution_count": 8,
   "metadata": {},
   "outputs": [
    {
     "data": {
      "text/plain": [
       "['d', 'a', 'b']"
      ]
     },
     "execution_count": 8,
     "metadata": {},
     "output_type": "execute_result"
    }
   ],
   "source": [
    "list(chain.keys())"
   ]
  },
  {
   "cell_type": "code",
   "execution_count": 9,
   "metadata": {},
   "outputs": [
    {
     "data": {
      "text/plain": [
       "[4, 1, 2]"
      ]
     },
     "execution_count": 9,
     "metadata": {},
     "output_type": "execute_result"
    }
   ],
   "source": [
    "list(chain.values())"
   ]
  },
  {
   "cell_type": "code",
   "execution_count": 62,
   "metadata": {},
   "outputs": [
    {
     "name": "stdout",
     "output_type": "stream",
     "text": [
      "[{'e': 12, 'f': 34}, {'a': 1, 'b': 2}, {'b': 3, 'd': 4}]\n"
     ]
    }
   ],
   "source": [
    "dict3={'e':12,'f':34}\n",
    "chain_newchild=chain.new_child(dict3)\n",
    "print(chain_newchild.maps)"
   ]
  },
  {
   "cell_type": "code",
   "execution_count": 68,
   "metadata": {},
   "outputs": [
    {
     "name": "stdout",
     "output_type": "stream",
     "text": [
      "[{'b': 3, 'd': 4}, {'a': 1, 'b': 2}, {'e': 12, 'f': 34}]\n"
     ]
    }
   ],
   "source": [
    "chain_reverse=reversed(chain_newchild.maps)\n",
    "print(list(chain_reverse))"
   ]
  },
  {
   "cell_type": "code",
   "execution_count": 11,
   "metadata": {},
   "outputs": [
    {
     "name": "stdout",
     "output_type": "stream",
     "text": [
      "courses(name='datascience', technology='python')\n"
     ]
    }
   ],
   "source": [
    "# 1.namedtuple()\n",
    "n=c.namedtuple('courses','name,technology')\n",
    "a=n('datascience','python')\n",
    "print(a)"
   ]
  },
  {
   "cell_type": "code",
   "execution_count": 18,
   "metadata": {},
   "outputs": [
    {
     "name": "stdout",
     "output_type": "stream",
     "text": [
      "courses(name='Data Science', technology='python')\n"
     ]
    }
   ],
   "source": [
    "b=n._make(['Data Science','python'])\n",
    "print(b)"
   ]
  },
  {
   "cell_type": "code",
   "execution_count": 51,
   "metadata": {},
   "outputs": [
    {
     "name": "stdout",
     "output_type": "stream",
     "text": [
      "a =:  deque([0, 1, 2, 3, 4, 5, 6, 7, 8, 9, 10, 11, 12, 13, 14, 15, 16, 17, 18, 19])\n",
      "b =:  deque(['e', 'd', 'u', 'r', 'e', 'k', 'a'])\n"
     ]
    }
   ],
   "source": [
    "#3.deque\n",
    "'''\n",
    "1.append()\n",
    "  appendleft()\n",
    "2.pop()\n",
    "  popleft()\n",
    "3.rotate(2)  --> right direction\n",
    "  rotate(-2) --> left direction\n",
    "4.clear()\n",
    "5.count('a')\n",
    "\n",
    "'''\n",
    "a=c.deque(range(20))\n",
    "b=c.deque(['e','d','u','r','e','k','a'])\n",
    "print('a =: ',a)\n",
    "print('b =: ',b)\n"
   ]
  },
  {
   "cell_type": "code",
   "execution_count": 52,
   "metadata": {},
   "outputs": [
    {
     "name": "stdout",
     "output_type": "stream",
     "text": [
      "deque(['e', 'd', 'u', 'r', 'e', 'k', 'a', 'keshav'])\n"
     ]
    }
   ],
   "source": [
    "b.append('keshav')\n",
    "print(b)"
   ]
  },
  {
   "cell_type": "code",
   "execution_count": 53,
   "metadata": {},
   "outputs": [
    {
     "name": "stdout",
     "output_type": "stream",
     "text": [
      "deque([0, 1, 2, 3, 4, 5, 6, 7, 8, 9, 10, 11, 12, 13, 14, 15, 16, 17, 18, 19, 12])\n"
     ]
    }
   ],
   "source": [
    "a.append(12)\n",
    "print(a)"
   ]
  },
  {
   "cell_type": "code",
   "execution_count": 55,
   "metadata": {},
   "outputs": [
    {
     "name": "stdout",
     "output_type": "stream",
     "text": [
      "deque([1, 2, 3, 4, 5, 6, 7, 8, 9, 10, 11, 12, 13, 14, 15, 16, 17, 18])\n"
     ]
    }
   ],
   "source": [
    "a.pop()\n",
    "a.popleft()\n",
    "print(a)"
   ]
  },
  {
   "cell_type": "code",
   "execution_count": 57,
   "metadata": {},
   "outputs": [
    {
     "data": {
      "text/plain": [
       "1"
      ]
     },
     "execution_count": 57,
     "metadata": {},
     "output_type": "execute_result"
    }
   ],
   "source": [
    "a.count(2)"
   ]
  },
  {
   "cell_type": "code",
   "execution_count": 60,
   "metadata": {},
   "outputs": [
    {
     "name": "stdout",
     "output_type": "stream",
     "text": [
      "deque([])\n"
     ]
    }
   ],
   "source": [
    "a.clear()\n",
    "print(a)"
   ]
  },
  {
   "cell_type": "code",
   "execution_count": 71,
   "metadata": {},
   "outputs": [
    {
     "name": "stdout",
     "output_type": "stream",
     "text": [
      "Counter({2: 5, 3: 5, 5: 5, 4: 4, 1: 3, 6: 3, 7: 3, 9: 2, 8: 1})\n"
     ]
    }
   ],
   "source": [
    "#4.Counter\n",
    "'''\n",
    "count hashable\n",
    "1.elements()\n",
    "2.most_commons()\n",
    "3.subtract()\n",
    "4.udate()\n",
    "'''\n",
    "C=c.Counter([1,2,3,4,5,6,3,4,2,3,1,1,3,4,5,6,5,7,7,5,4,2,2,3,2,5,6,7,8,9,9])\n",
    "print(C)"
   ]
  },
  {
   "cell_type": "code",
   "execution_count": 73,
   "metadata": {},
   "outputs": [
    {
     "name": "stdout",
     "output_type": "stream",
     "text": [
      "[1, 1, 1, 2, 2, 2, 2, 2, 3, 3, 3, 3, 3, 4, 4, 4, 4, 5, 5, 5, 5, 5, 6, 6, 6, 7, 7, 7, 8, 9, 9]\n"
     ]
    }
   ],
   "source": [
    "print(list(C.elements()))"
   ]
  },
  {
   "cell_type": "code",
   "execution_count": 76,
   "metadata": {},
   "outputs": [
    {
     "name": "stdout",
     "output_type": "stream",
     "text": [
      "[(2, 5), (3, 5), (5, 5), (4, 4), (1, 3), (6, 3), (7, 3), (9, 2), (8, 1)]\n"
     ]
    }
   ],
   "source": [
    "print(C.most_common())"
   ]
  },
  {
   "cell_type": "code",
   "execution_count": 78,
   "metadata": {},
   "outputs": [
    {
     "name": "stdout",
     "output_type": "stream",
     "text": [
      "[(2, 5), (3, 5)]\n"
     ]
    }
   ],
   "source": [
    "print(C.most_common(2))"
   ]
  },
  {
   "cell_type": "code",
   "execution_count": 79,
   "metadata": {},
   "outputs": [
    {
     "name": "stdout",
     "output_type": "stream",
     "text": [
      "[(5, 5), (3, 4), (4, 4), (1, 3), (2, 3), (6, 3), (7, 3), (9, 2), (8, 0)]\n"
     ]
    }
   ],
   "source": [
    "l={2:2,3:1,8:1}\n",
    "C.subtract(l)\n",
    "print(C.most_common())"
   ]
  },
  {
   "cell_type": "code",
   "execution_count": 80,
   "metadata": {},
   "outputs": [
    {
     "name": "stdout",
     "output_type": "stream",
     "text": [
      "[(2, 5), (3, 5), (5, 5), (4, 4), (1, 3), (6, 3), (7, 3), (9, 2), (8, 1)]\n"
     ]
    }
   ],
   "source": [
    "l={2:2,3:1,8:1}\n",
    "C.update(l)\n",
    "print(C.most_common())"
   ]
  },
  {
   "cell_type": "code",
   "execution_count": 92,
   "metadata": {},
   "outputs": [
    {
     "name": "stdout",
     "output_type": "stream",
     "text": [
      "OrderedDict([(1, 'k'), (2, 'e'), (3, 's'), (4, 'h'), (5, 'a'), (6, 'v')])\n"
     ]
    }
   ],
   "source": [
    "#5 OrderedDict()\n",
    "'''\n",
    "1.keys()\n",
    " list(d)\n",
    "2.values()\n",
    "3.items()\n",
    "4.upade-->d[3]='r'\n",
    "5.clear()\n",
    "'''\n",
    "d=c.OrderedDict()\n",
    "d[1]='k'\n",
    "d[2]='e'\n",
    "d[3]='s'\n",
    "d[4]='h'\n",
    "d[5]='a'\n",
    "d[6]='v'\n",
    "print(d)"
   ]
  },
  {
   "cell_type": "code",
   "execution_count": 87,
   "metadata": {},
   "outputs": [
    {
     "name": "stdout",
     "output_type": "stream",
     "text": [
      "[1, 2, 3, 4, 5, 6]\n"
     ]
    }
   ],
   "source": [
    "print(list(d))"
   ]
  },
  {
   "cell_type": "code",
   "execution_count": 88,
   "metadata": {},
   "outputs": [
    {
     "name": "stdout",
     "output_type": "stream",
     "text": [
      "odict_keys([1, 2, 3, 4, 5, 6])\n"
     ]
    }
   ],
   "source": [
    "print(d.keys())"
   ]
  },
  {
   "cell_type": "code",
   "execution_count": 89,
   "metadata": {},
   "outputs": [
    {
     "name": "stdout",
     "output_type": "stream",
     "text": [
      "odict_values(['k', 'e', 's', 'h', 'a', 'v'])\n"
     ]
    }
   ],
   "source": [
    "print(d.values())"
   ]
  },
  {
   "cell_type": "code",
   "execution_count": 93,
   "metadata": {},
   "outputs": [
    {
     "name": "stdout",
     "output_type": "stream",
     "text": [
      "odict_items([(1, 'k'), (2, 'e'), (3, 's'), (4, 'h'), (5, 'a'), (6, 'v')])\n"
     ]
    }
   ],
   "source": [
    "print(d.items())"
   ]
  },
  {
   "cell_type": "code",
   "execution_count": 95,
   "metadata": {},
   "outputs": [
    {
     "name": "stdout",
     "output_type": "stream",
     "text": [
      "OrderedDict([(1, 'K'), (2, 'e'), (3, 's'), (4, 'h'), (5, 'a'), (6, 'v')])\n"
     ]
    }
   ],
   "source": [
    "d[1]='K'\n",
    "print(d)"
   ]
  },
  {
   "cell_type": "code",
   "execution_count": 96,
   "metadata": {},
   "outputs": [
    {
     "name": "stdout",
     "output_type": "stream",
     "text": [
      "OrderedDict([(1, 'K'), (2, 'e'), (3, 's'), (4, 'h'), (5, 'a'), (6, 'v'), (78, 'K')])\n"
     ]
    }
   ],
   "source": [
    "'missing key value not generate error'\n",
    "d[78]='K'\n",
    "print(d)"
   ]
  },
  {
   "cell_type": "code",
   "execution_count": 98,
   "metadata": {},
   "outputs": [
    {
     "ename": "KeyError",
     "evalue": "98",
     "output_type": "error",
     "traceback": [
      "\u001b[0;31m---------------------------------------------------------------------------\u001b[0m",
      "\u001b[0;31mKeyError\u001b[0m                                  Traceback (most recent call last)",
      "\u001b[0;32m<ipython-input-98-94133d6de331>\u001b[0m in \u001b[0;36m<module>\u001b[0;34m()\u001b[0m\n\u001b[0;32m----> 1\u001b[0;31m \u001b[0mprint\u001b[0m\u001b[0;34m(\u001b[0m\u001b[0md\u001b[0m\u001b[0;34m[\u001b[0m\u001b[0;36m98\u001b[0m\u001b[0;34m]\u001b[0m\u001b[0;34m)\u001b[0m\u001b[0;34m\u001b[0m\u001b[0;34m\u001b[0m\u001b[0m\n\u001b[0m",
      "\u001b[0;31mKeyError\u001b[0m: 98"
     ]
    }
   ],
   "source": [
    "'give error'\n",
    "print(d[98])"
   ]
  },
  {
   "cell_type": "code",
   "execution_count": 90,
   "metadata": {},
   "outputs": [
    {
     "name": "stdout",
     "output_type": "stream",
     "text": [
      "None\n"
     ]
    }
   ],
   "source": [
    "print(d.clear())"
   ]
  },
  {
   "cell_type": "code",
   "execution_count": 91,
   "metadata": {},
   "outputs": [
    {
     "name": "stdout",
     "output_type": "stream",
     "text": [
      "OrderedDict()\n"
     ]
    }
   ],
   "source": [
    "print(d)"
   ]
  },
  {
   "cell_type": "code",
   "execution_count": 100,
   "metadata": {},
   "outputs": [
    {
     "name": "stdout",
     "output_type": "stream",
     "text": [
      "defaultdict(<class 'int'>, {1: 'w', 2: 'a', 3: 'p'})\n"
     ]
    }
   ],
   "source": [
    "# 6.defaultDict\n",
    "'''\n",
    "1.update--> de[5]='A'\n",
    "'''\n",
    "de=c.defaultdict(int)\n",
    "de[1]='w'\n",
    "de[2]='a'\n",
    "de[3]='p'\n",
    "print(de)"
   ]
  },
  {
   "cell_type": "code",
   "execution_count": 101,
   "metadata": {},
   "outputs": [
    {
     "name": "stdout",
     "output_type": "stream",
     "text": [
      "p\n"
     ]
    }
   ],
   "source": [
    "print(de[3])"
   ]
  },
  {
   "cell_type": "code",
   "execution_count": 102,
   "metadata": {},
   "outputs": [
    {
     "name": "stdout",
     "output_type": "stream",
     "text": [
      "0\n"
     ]
    }
   ],
   "source": [
    "'no error and update with 0 values'\n",
    "print(de[4])"
   ]
  },
  {
   "cell_type": "code",
   "execution_count": 105,
   "metadata": {},
   "outputs": [
    {
     "name": "stdout",
     "output_type": "stream",
     "text": [
      "defaultdict(<class 'int'>, {1: 'w', 2: 'a', 3: 'p', 4: 0, 5: 'A', 7: 'A'})\n"
     ]
    }
   ],
   "source": [
    "de[5]='A'\n",
    "de[7]='A'\n",
    "print(de)"
   ]
  },
  {
   "cell_type": "code",
   "execution_count": 106,
   "metadata": {},
   "outputs": [
    {
     "name": "stdout",
     "output_type": "stream",
     "text": [
      "defaultdict(<class 'int'>, {1: 'w', 2: 'a', 3: 'p', 4: 0, 5: 'A', 7: {1: 'python', 2: 'data science'}})\n"
     ]
    }
   ],
   "source": [
    "de[7]={1:'python',2:'data science'}\n",
    "print(de)"
   ]
  },
  {
   "cell_type": "code",
   "execution_count": null,
   "metadata": {},
   "outputs": [],
   "source": []
  }
 ],
 "metadata": {
  "kernelspec": {
   "display_name": "Python 3",
   "language": "python",
   "name": "python3"
  },
  "language_info": {
   "codemirror_mode": {
    "name": "ipython",
    "version": 3
   },
   "file_extension": ".py",
   "mimetype": "text/x-python",
   "name": "python",
   "nbconvert_exporter": "python",
   "pygments_lexer": "ipython3",
   "version": "3.6.8"
  }
 },
 "nbformat": 4,
 "nbformat_minor": 2
}
